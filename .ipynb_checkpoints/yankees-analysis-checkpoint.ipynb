{
 "cells": [
  {
   "cell_type": "markdown",
   "metadata": {},
   "source": [
    "# Analyzing Baseball Fan Sentiment with Twitter Data (Yankees) #"
   ]
  },
  {
   "cell_type": "markdown",
   "metadata": {},
   "source": [
    "This notebook is analogous to `Redsox Analysis`. Please see that notebook for a more detailed explanation of project goals and more fully-fleshed out methods."
   ]
  },
  {
   "cell_type": "code",
   "execution_count": 105,
   "metadata": {
    "collapsed": true
   },
   "outputs": [],
   "source": [
    "import glob\n",
    "import pandas as pd\n",
    "import numpy as np\n",
    "\n",
    "# For working with JSON data.\n",
    "try:\n",
    "    import json\n",
    "except ImportError:\n",
    "    import simplejson as json\n",
    "    \n",
    "# For maps.\n",
    "from mpl_toolkits.basemap import Basemap\n",
    "import geocoder\n",
    "import matplotlib.pyplot as plt\n",
    "%matplotlib inline\n",
    "\n",
    "#import warnings\n",
    "#warnings.simplefilter(action = \"ignore\", category = FutureWarning)"
   ]
  },
  {
   "cell_type": "code",
   "execution_count": 106,
   "metadata": {
    "collapsed": false
   },
   "outputs": [],
   "source": [
    "df_yankees = pd.read_csv('df_yankees.csv')"
   ]
  },
  {
   "cell_type": "code",
   "execution_count": 107,
   "metadata": {
    "collapsed": false
   },
   "outputs": [
    {
     "data": {
      "text/html": [
       "<div>\n",
       "<table border=\"1\" class=\"dataframe\">\n",
       "  <thead>\n",
       "    <tr style=\"text-align: right;\">\n",
       "      <th></th>\n",
       "      <th>Unnamed: 0</th>\n",
       "      <th>text</th>\n",
       "      <th>created_at</th>\n",
       "      <th>location</th>\n",
       "      <th>retweet_count</th>\n",
       "      <th>favorite_count</th>\n",
       "      <th>latitude</th>\n",
       "      <th>longitude</th>\n",
       "      <th>dates</th>\n",
       "      <th>sentiment</th>\n",
       "      <th>hav_distance</th>\n",
       "    </tr>\n",
       "  </thead>\n",
       "  <tbody>\n",
       "    <tr>\n",
       "      <th>0</th>\n",
       "      <td>0</td>\n",
       "      <td>RT @RapSheet: Goodbye to one of the greatest t...</td>\n",
       "      <td>Sun Aug 07 23:59:49 +0000 2016</td>\n",
       "      <td>Ohio</td>\n",
       "      <td>235.0</td>\n",
       "      <td>0.0</td>\n",
       "      <td>40.250338</td>\n",
       "      <td>-83.000177</td>\n",
       "      <td>2016-08-07</td>\n",
       "      <td>0.000000</td>\n",
       "      <td>7.621020e+05</td>\n",
       "    </tr>\n",
       "    <tr>\n",
       "      <th>1</th>\n",
       "      <td>1</td>\n",
       "      <td>Might be the dumbest thing I’ve ever read. Exp...</td>\n",
       "      <td>Sun Aug 07 23:59:45 +0000 2016</td>\n",
       "      <td>ÜT: 41.271945,-73.737193</td>\n",
       "      <td>0.0</td>\n",
       "      <td>2.0</td>\n",
       "      <td>NaN</td>\n",
       "      <td>NaN</td>\n",
       "      <td>2016-08-07</td>\n",
       "      <td>-0.131944</td>\n",
       "      <td>NaN</td>\n",
       "    </tr>\n",
       "    <tr>\n",
       "      <th>2</th>\n",
       "      <td>2</td>\n",
       "      <td>Quick Take: New York #Yankees defeat Cleveland...</td>\n",
       "      <td>Sun Aug 07 23:59:38 +0000 2016</td>\n",
       "      <td>SF &amp; LA</td>\n",
       "      <td>0.0</td>\n",
       "      <td>1.0</td>\n",
       "      <td>14.133328</td>\n",
       "      <td>-89.816667</td>\n",
       "      <td>2016-08-07</td>\n",
       "      <td>0.234848</td>\n",
       "      <td>3.329860e+06</td>\n",
       "    </tr>\n",
       "    <tr>\n",
       "      <th>3</th>\n",
       "      <td>3</td>\n",
       "      <td>RT @MikeyAdams420: Kiss yourself goodbye @AROD...</td>\n",
       "      <td>Sun Aug 07 23:59:35 +0000 2016</td>\n",
       "      <td>NaN</td>\n",
       "      <td>16.0</td>\n",
       "      <td>0.0</td>\n",
       "      <td>NaN</td>\n",
       "      <td>NaN</td>\n",
       "      <td>2016-08-07</td>\n",
       "      <td>0.700000</td>\n",
       "      <td>NaN</td>\n",
       "    </tr>\n",
       "    <tr>\n",
       "      <th>4</th>\n",
       "      <td>4</td>\n",
       "      <td>Congratulations Ichiro #Ichiro3000 #Mariners #...</td>\n",
       "      <td>Sun Aug 07 23:59:32 +0000 2016</td>\n",
       "      <td>Northern Virginia, USA</td>\n",
       "      <td>0.0</td>\n",
       "      <td>1.0</td>\n",
       "      <td>38.757069</td>\n",
       "      <td>-77.538489</td>\n",
       "      <td>2016-08-07</td>\n",
       "      <td>0.000000</td>\n",
       "      <td>3.722443e+05</td>\n",
       "    </tr>\n",
       "  </tbody>\n",
       "</table>\n",
       "</div>"
      ],
      "text/plain": [
       "   Unnamed: 0                                               text  \\\n",
       "0           0  RT @RapSheet: Goodbye to one of the greatest t...   \n",
       "1           1  Might be the dumbest thing I’ve ever read. Exp...   \n",
       "2           2  Quick Take: New York #Yankees defeat Cleveland...   \n",
       "3           3  RT @MikeyAdams420: Kiss yourself goodbye @AROD...   \n",
       "4           4  Congratulations Ichiro #Ichiro3000 #Mariners #...   \n",
       "\n",
       "                       created_at                  location  retweet_count  \\\n",
       "0  Sun Aug 07 23:59:49 +0000 2016                      Ohio          235.0   \n",
       "1  Sun Aug 07 23:59:45 +0000 2016  ÜT: 41.271945,-73.737193            0.0   \n",
       "2  Sun Aug 07 23:59:38 +0000 2016                   SF & LA            0.0   \n",
       "3  Sun Aug 07 23:59:35 +0000 2016                       NaN           16.0   \n",
       "4  Sun Aug 07 23:59:32 +0000 2016    Northern Virginia, USA            0.0   \n",
       "\n",
       "   favorite_count   latitude  longitude       dates  sentiment  hav_distance  \n",
       "0             0.0  40.250338 -83.000177  2016-08-07   0.000000  7.621020e+05  \n",
       "1             2.0        NaN        NaN  2016-08-07  -0.131944           NaN  \n",
       "2             1.0  14.133328 -89.816667  2016-08-07   0.234848  3.329860e+06  \n",
       "3             0.0        NaN        NaN  2016-08-07   0.700000           NaN  \n",
       "4             1.0  38.757069 -77.538489  2016-08-07   0.000000  3.722443e+05  "
      ]
     },
     "execution_count": 107,
     "metadata": {},
     "output_type": "execute_result"
    }
   ],
   "source": [
    "df_yankees.head()"
   ]
  },
  {
   "cell_type": "code",
   "execution_count": 108,
   "metadata": {
    "collapsed": false
   },
   "outputs": [],
   "source": [
    "df_yankees = df_yankees.drop('Unnamed: 0', axis=1)"
   ]
  },
  {
   "cell_type": "code",
   "execution_count": 109,
   "metadata": {
    "collapsed": false
   },
   "outputs": [
    {
     "data": {
      "text/html": [
       "<div>\n",
       "<table border=\"1\" class=\"dataframe\">\n",
       "  <thead>\n",
       "    <tr style=\"text-align: right;\">\n",
       "      <th></th>\n",
       "      <th>text</th>\n",
       "      <th>created_at</th>\n",
       "      <th>location</th>\n",
       "      <th>retweet_count</th>\n",
       "      <th>favorite_count</th>\n",
       "      <th>latitude</th>\n",
       "      <th>longitude</th>\n",
       "      <th>dates</th>\n",
       "      <th>sentiment</th>\n",
       "      <th>hav_distance</th>\n",
       "    </tr>\n",
       "  </thead>\n",
       "  <tbody>\n",
       "    <tr>\n",
       "      <th>0</th>\n",
       "      <td>RT @RapSheet: Goodbye to one of the greatest t...</td>\n",
       "      <td>Sun Aug 07 23:59:49 +0000 2016</td>\n",
       "      <td>Ohio</td>\n",
       "      <td>235.0</td>\n",
       "      <td>0.0</td>\n",
       "      <td>40.250338</td>\n",
       "      <td>-83.000177</td>\n",
       "      <td>2016-08-07</td>\n",
       "      <td>0.000000</td>\n",
       "      <td>7.621020e+05</td>\n",
       "    </tr>\n",
       "    <tr>\n",
       "      <th>1</th>\n",
       "      <td>Might be the dumbest thing I’ve ever read. Exp...</td>\n",
       "      <td>Sun Aug 07 23:59:45 +0000 2016</td>\n",
       "      <td>ÜT: 41.271945,-73.737193</td>\n",
       "      <td>0.0</td>\n",
       "      <td>2.0</td>\n",
       "      <td>NaN</td>\n",
       "      <td>NaN</td>\n",
       "      <td>2016-08-07</td>\n",
       "      <td>-0.131944</td>\n",
       "      <td>NaN</td>\n",
       "    </tr>\n",
       "    <tr>\n",
       "      <th>2</th>\n",
       "      <td>Quick Take: New York #Yankees defeat Cleveland...</td>\n",
       "      <td>Sun Aug 07 23:59:38 +0000 2016</td>\n",
       "      <td>SF &amp; LA</td>\n",
       "      <td>0.0</td>\n",
       "      <td>1.0</td>\n",
       "      <td>14.133328</td>\n",
       "      <td>-89.816667</td>\n",
       "      <td>2016-08-07</td>\n",
       "      <td>0.234848</td>\n",
       "      <td>3.329860e+06</td>\n",
       "    </tr>\n",
       "    <tr>\n",
       "      <th>3</th>\n",
       "      <td>RT @MikeyAdams420: Kiss yourself goodbye @AROD...</td>\n",
       "      <td>Sun Aug 07 23:59:35 +0000 2016</td>\n",
       "      <td>NaN</td>\n",
       "      <td>16.0</td>\n",
       "      <td>0.0</td>\n",
       "      <td>NaN</td>\n",
       "      <td>NaN</td>\n",
       "      <td>2016-08-07</td>\n",
       "      <td>0.700000</td>\n",
       "      <td>NaN</td>\n",
       "    </tr>\n",
       "    <tr>\n",
       "      <th>4</th>\n",
       "      <td>Congratulations Ichiro #Ichiro3000 #Mariners #...</td>\n",
       "      <td>Sun Aug 07 23:59:32 +0000 2016</td>\n",
       "      <td>Northern Virginia, USA</td>\n",
       "      <td>0.0</td>\n",
       "      <td>1.0</td>\n",
       "      <td>38.757069</td>\n",
       "      <td>-77.538489</td>\n",
       "      <td>2016-08-07</td>\n",
       "      <td>0.000000</td>\n",
       "      <td>3.722443e+05</td>\n",
       "    </tr>\n",
       "  </tbody>\n",
       "</table>\n",
       "</div>"
      ],
      "text/plain": [
       "                                                text  \\\n",
       "0  RT @RapSheet: Goodbye to one of the greatest t...   \n",
       "1  Might be the dumbest thing I’ve ever read. Exp...   \n",
       "2  Quick Take: New York #Yankees defeat Cleveland...   \n",
       "3  RT @MikeyAdams420: Kiss yourself goodbye @AROD...   \n",
       "4  Congratulations Ichiro #Ichiro3000 #Mariners #...   \n",
       "\n",
       "                       created_at                  location  retweet_count  \\\n",
       "0  Sun Aug 07 23:59:49 +0000 2016                      Ohio          235.0   \n",
       "1  Sun Aug 07 23:59:45 +0000 2016  ÜT: 41.271945,-73.737193            0.0   \n",
       "2  Sun Aug 07 23:59:38 +0000 2016                   SF & LA            0.0   \n",
       "3  Sun Aug 07 23:59:35 +0000 2016                       NaN           16.0   \n",
       "4  Sun Aug 07 23:59:32 +0000 2016    Northern Virginia, USA            0.0   \n",
       "\n",
       "   favorite_count   latitude  longitude       dates  sentiment  hav_distance  \n",
       "0             0.0  40.250338 -83.000177  2016-08-07   0.000000  7.621020e+05  \n",
       "1             2.0        NaN        NaN  2016-08-07  -0.131944           NaN  \n",
       "2             1.0  14.133328 -89.816667  2016-08-07   0.234848  3.329860e+06  \n",
       "3             0.0        NaN        NaN  2016-08-07   0.700000           NaN  \n",
       "4             1.0  38.757069 -77.538489  2016-08-07   0.000000  3.722443e+05  "
      ]
     },
     "execution_count": 109,
     "metadata": {},
     "output_type": "execute_result"
    }
   ],
   "source": [
    "df_yankees.head()"
   ]
  },
  {
   "cell_type": "code",
   "execution_count": 110,
   "metadata": {
    "collapsed": false
   },
   "outputs": [
    {
     "data": {
      "text/plain": [
       "(10000, 10)"
      ]
     },
     "execution_count": 110,
     "metadata": {},
     "output_type": "execute_result"
    }
   ],
   "source": [
    "df_yankees.shape"
   ]
  },
  {
   "cell_type": "code",
   "execution_count": 111,
   "metadata": {
    "collapsed": false
   },
   "outputs": [],
   "source": [
    "df_yankees['dates'] = pd.to_datetime(df_yankees['dates'], format='%Y-%m-%d')"
   ]
  },
  {
   "cell_type": "code",
   "execution_count": 112,
   "metadata": {
    "collapsed": false
   },
   "outputs": [
    {
     "data": {
      "text/plain": [
       "dtype('<M8[ns]')"
      ]
     },
     "execution_count": 112,
     "metadata": {},
     "output_type": "execute_result"
    }
   ],
   "source": [
    "df_yankees['dates'].dtypes"
   ]
  },
  {
   "cell_type": "code",
   "execution_count": 113,
   "metadata": {
    "collapsed": false
   },
   "outputs": [],
   "source": [
    "outcome_by_date = {\n",
    "    '2016-08-07 00:00:00': 'Win',\n",
    "    '2016-08-08 00:00:00': 'No Game',\n",
    "    '2016-08-09 00:00:00': 'Loss',\n",
    "    '2016-08-10 00:00:00': 'Win',\n",
    "    '2016-08-11 00:00:00': 'Win',\n",
    "    '2016-08-12 00:00:00': 'Win',\n",
    "    '2016-08-13 00:00:00': 'Win',\n",
    "    '2016-08-14 00:00:00': 'Loss',\n",
    "    '2016-08-15 00:00:00': 'Win',\n",
    "    '2016-08-16 00:00:00': 'Loss'\n",
    "}"
   ]
  },
  {
   "cell_type": "code",
   "execution_count": 114,
   "metadata": {
    "collapsed": false
   },
   "outputs": [
    {
     "data": {
      "text/html": [
       "<div>\n",
       "<table border=\"1\" class=\"dataframe\">\n",
       "  <thead>\n",
       "    <tr style=\"text-align: right;\">\n",
       "      <th></th>\n",
       "      <th>text</th>\n",
       "      <th>created_at</th>\n",
       "      <th>location</th>\n",
       "      <th>retweet_count</th>\n",
       "      <th>favorite_count</th>\n",
       "      <th>latitude</th>\n",
       "      <th>longitude</th>\n",
       "      <th>dates</th>\n",
       "      <th>sentiment</th>\n",
       "      <th>hav_distance</th>\n",
       "    </tr>\n",
       "  </thead>\n",
       "  <tbody>\n",
       "    <tr>\n",
       "      <th>0</th>\n",
       "      <td>RT @RapSheet: Goodbye to one of the greatest t...</td>\n",
       "      <td>Sun Aug 07 23:59:49 +0000 2016</td>\n",
       "      <td>Ohio</td>\n",
       "      <td>235.0</td>\n",
       "      <td>0.0</td>\n",
       "      <td>40.250338</td>\n",
       "      <td>-83.000177</td>\n",
       "      <td>2016-08-07</td>\n",
       "      <td>0.000000</td>\n",
       "      <td>7.621020e+05</td>\n",
       "    </tr>\n",
       "    <tr>\n",
       "      <th>1</th>\n",
       "      <td>Might be the dumbest thing I’ve ever read. Exp...</td>\n",
       "      <td>Sun Aug 07 23:59:45 +0000 2016</td>\n",
       "      <td>ÜT: 41.271945,-73.737193</td>\n",
       "      <td>0.0</td>\n",
       "      <td>2.0</td>\n",
       "      <td>NaN</td>\n",
       "      <td>NaN</td>\n",
       "      <td>2016-08-07</td>\n",
       "      <td>-0.131944</td>\n",
       "      <td>NaN</td>\n",
       "    </tr>\n",
       "    <tr>\n",
       "      <th>2</th>\n",
       "      <td>Quick Take: New York #Yankees defeat Cleveland...</td>\n",
       "      <td>Sun Aug 07 23:59:38 +0000 2016</td>\n",
       "      <td>SF &amp; LA</td>\n",
       "      <td>0.0</td>\n",
       "      <td>1.0</td>\n",
       "      <td>14.133328</td>\n",
       "      <td>-89.816667</td>\n",
       "      <td>2016-08-07</td>\n",
       "      <td>0.234848</td>\n",
       "      <td>3.329860e+06</td>\n",
       "    </tr>\n",
       "    <tr>\n",
       "      <th>3</th>\n",
       "      <td>RT @MikeyAdams420: Kiss yourself goodbye @AROD...</td>\n",
       "      <td>Sun Aug 07 23:59:35 +0000 2016</td>\n",
       "      <td>NaN</td>\n",
       "      <td>16.0</td>\n",
       "      <td>0.0</td>\n",
       "      <td>NaN</td>\n",
       "      <td>NaN</td>\n",
       "      <td>2016-08-07</td>\n",
       "      <td>0.700000</td>\n",
       "      <td>NaN</td>\n",
       "    </tr>\n",
       "    <tr>\n",
       "      <th>4</th>\n",
       "      <td>Congratulations Ichiro #Ichiro3000 #Mariners #...</td>\n",
       "      <td>Sun Aug 07 23:59:32 +0000 2016</td>\n",
       "      <td>Northern Virginia, USA</td>\n",
       "      <td>0.0</td>\n",
       "      <td>1.0</td>\n",
       "      <td>38.757069</td>\n",
       "      <td>-77.538489</td>\n",
       "      <td>2016-08-07</td>\n",
       "      <td>0.000000</td>\n",
       "      <td>3.722443e+05</td>\n",
       "    </tr>\n",
       "  </tbody>\n",
       "</table>\n",
       "</div>"
      ],
      "text/plain": [
       "                                                text  \\\n",
       "0  RT @RapSheet: Goodbye to one of the greatest t...   \n",
       "1  Might be the dumbest thing I’ve ever read. Exp...   \n",
       "2  Quick Take: New York #Yankees defeat Cleveland...   \n",
       "3  RT @MikeyAdams420: Kiss yourself goodbye @AROD...   \n",
       "4  Congratulations Ichiro #Ichiro3000 #Mariners #...   \n",
       "\n",
       "                       created_at                  location  retweet_count  \\\n",
       "0  Sun Aug 07 23:59:49 +0000 2016                      Ohio          235.0   \n",
       "1  Sun Aug 07 23:59:45 +0000 2016  ÜT: 41.271945,-73.737193            0.0   \n",
       "2  Sun Aug 07 23:59:38 +0000 2016                   SF & LA            0.0   \n",
       "3  Sun Aug 07 23:59:35 +0000 2016                       NaN           16.0   \n",
       "4  Sun Aug 07 23:59:32 +0000 2016    Northern Virginia, USA            0.0   \n",
       "\n",
       "   favorite_count   latitude  longitude      dates  sentiment  hav_distance  \n",
       "0             0.0  40.250338 -83.000177 2016-08-07   0.000000  7.621020e+05  \n",
       "1             2.0        NaN        NaN 2016-08-07  -0.131944           NaN  \n",
       "2             1.0  14.133328 -89.816667 2016-08-07   0.234848  3.329860e+06  \n",
       "3             0.0        NaN        NaN 2016-08-07   0.700000           NaN  \n",
       "4             1.0  38.757069 -77.538489 2016-08-07   0.000000  3.722443e+05  "
      ]
     },
     "execution_count": 114,
     "metadata": {},
     "output_type": "execute_result"
    }
   ],
   "source": [
    "df_yankees.head()"
   ]
  },
  {
   "cell_type": "code",
   "execution_count": 115,
   "metadata": {
    "collapsed": true
   },
   "outputs": [],
   "source": [
    "# Apply outcome values to new column.\n",
    "df_yankees['outcome'] = df_yankees['dates'].apply(lambda x: outcome_by_date[str(x)])"
   ]
  },
  {
   "cell_type": "code",
   "execution_count": 116,
   "metadata": {
    "collapsed": false
   },
   "outputs": [
    {
     "data": {
      "text/html": [
       "<div>\n",
       "<table border=\"1\" class=\"dataframe\">\n",
       "  <thead>\n",
       "    <tr style=\"text-align: right;\">\n",
       "      <th></th>\n",
       "      <th>text</th>\n",
       "      <th>created_at</th>\n",
       "      <th>location</th>\n",
       "      <th>retweet_count</th>\n",
       "      <th>favorite_count</th>\n",
       "      <th>latitude</th>\n",
       "      <th>longitude</th>\n",
       "      <th>dates</th>\n",
       "      <th>sentiment</th>\n",
       "      <th>hav_distance</th>\n",
       "      <th>outcome</th>\n",
       "    </tr>\n",
       "  </thead>\n",
       "  <tbody>\n",
       "    <tr>\n",
       "      <th>0</th>\n",
       "      <td>RT @RapSheet: Goodbye to one of the greatest t...</td>\n",
       "      <td>Sun Aug 07 23:59:49 +0000 2016</td>\n",
       "      <td>Ohio</td>\n",
       "      <td>235.0</td>\n",
       "      <td>0.0</td>\n",
       "      <td>40.250338</td>\n",
       "      <td>-83.000177</td>\n",
       "      <td>2016-08-07</td>\n",
       "      <td>0.000000</td>\n",
       "      <td>7.621020e+05</td>\n",
       "      <td>Win</td>\n",
       "    </tr>\n",
       "    <tr>\n",
       "      <th>1</th>\n",
       "      <td>Might be the dumbest thing I’ve ever read. Exp...</td>\n",
       "      <td>Sun Aug 07 23:59:45 +0000 2016</td>\n",
       "      <td>ÜT: 41.271945,-73.737193</td>\n",
       "      <td>0.0</td>\n",
       "      <td>2.0</td>\n",
       "      <td>NaN</td>\n",
       "      <td>NaN</td>\n",
       "      <td>2016-08-07</td>\n",
       "      <td>-0.131944</td>\n",
       "      <td>NaN</td>\n",
       "      <td>Win</td>\n",
       "    </tr>\n",
       "    <tr>\n",
       "      <th>2</th>\n",
       "      <td>Quick Take: New York #Yankees defeat Cleveland...</td>\n",
       "      <td>Sun Aug 07 23:59:38 +0000 2016</td>\n",
       "      <td>SF &amp; LA</td>\n",
       "      <td>0.0</td>\n",
       "      <td>1.0</td>\n",
       "      <td>14.133328</td>\n",
       "      <td>-89.816667</td>\n",
       "      <td>2016-08-07</td>\n",
       "      <td>0.234848</td>\n",
       "      <td>3.329860e+06</td>\n",
       "      <td>Win</td>\n",
       "    </tr>\n",
       "    <tr>\n",
       "      <th>3</th>\n",
       "      <td>RT @MikeyAdams420: Kiss yourself goodbye @AROD...</td>\n",
       "      <td>Sun Aug 07 23:59:35 +0000 2016</td>\n",
       "      <td>NaN</td>\n",
       "      <td>16.0</td>\n",
       "      <td>0.0</td>\n",
       "      <td>NaN</td>\n",
       "      <td>NaN</td>\n",
       "      <td>2016-08-07</td>\n",
       "      <td>0.700000</td>\n",
       "      <td>NaN</td>\n",
       "      <td>Win</td>\n",
       "    </tr>\n",
       "    <tr>\n",
       "      <th>4</th>\n",
       "      <td>Congratulations Ichiro #Ichiro3000 #Mariners #...</td>\n",
       "      <td>Sun Aug 07 23:59:32 +0000 2016</td>\n",
       "      <td>Northern Virginia, USA</td>\n",
       "      <td>0.0</td>\n",
       "      <td>1.0</td>\n",
       "      <td>38.757069</td>\n",
       "      <td>-77.538489</td>\n",
       "      <td>2016-08-07</td>\n",
       "      <td>0.000000</td>\n",
       "      <td>3.722443e+05</td>\n",
       "      <td>Win</td>\n",
       "    </tr>\n",
       "  </tbody>\n",
       "</table>\n",
       "</div>"
      ],
      "text/plain": [
       "                                                text  \\\n",
       "0  RT @RapSheet: Goodbye to one of the greatest t...   \n",
       "1  Might be the dumbest thing I’ve ever read. Exp...   \n",
       "2  Quick Take: New York #Yankees defeat Cleveland...   \n",
       "3  RT @MikeyAdams420: Kiss yourself goodbye @AROD...   \n",
       "4  Congratulations Ichiro #Ichiro3000 #Mariners #...   \n",
       "\n",
       "                       created_at                  location  retweet_count  \\\n",
       "0  Sun Aug 07 23:59:49 +0000 2016                      Ohio          235.0   \n",
       "1  Sun Aug 07 23:59:45 +0000 2016  ÜT: 41.271945,-73.737193            0.0   \n",
       "2  Sun Aug 07 23:59:38 +0000 2016                   SF & LA            0.0   \n",
       "3  Sun Aug 07 23:59:35 +0000 2016                       NaN           16.0   \n",
       "4  Sun Aug 07 23:59:32 +0000 2016    Northern Virginia, USA            0.0   \n",
       "\n",
       "   favorite_count   latitude  longitude      dates  sentiment  hav_distance  \\\n",
       "0             0.0  40.250338 -83.000177 2016-08-07   0.000000  7.621020e+05   \n",
       "1             2.0        NaN        NaN 2016-08-07  -0.131944           NaN   \n",
       "2             1.0  14.133328 -89.816667 2016-08-07   0.234848  3.329860e+06   \n",
       "3             0.0        NaN        NaN 2016-08-07   0.700000           NaN   \n",
       "4             1.0  38.757069 -77.538489 2016-08-07   0.000000  3.722443e+05   \n",
       "\n",
       "  outcome  \n",
       "0     Win  \n",
       "1     Win  \n",
       "2     Win  \n",
       "3     Win  \n",
       "4     Win  "
      ]
     },
     "execution_count": 116,
     "metadata": {},
     "output_type": "execute_result"
    }
   ],
   "source": [
    "df_yankees.head()"
   ]
  },
  {
   "cell_type": "code",
   "execution_count": 117,
   "metadata": {
    "collapsed": true
   },
   "outputs": [],
   "source": [
    "df_yankees.to_csv('df_yankees.csv')"
   ]
  },
  {
   "cell_type": "code",
   "execution_count": 118,
   "metadata": {
    "collapsed": false
   },
   "outputs": [],
   "source": [
    "df_yankees.rename(columns={'hav_distance': 'hav_distance_ny'}, inplace=True)"
   ]
  },
  {
   "cell_type": "code",
   "execution_count": 119,
   "metadata": {
    "collapsed": false
   },
   "outputs": [
    {
     "name": "stdout",
     "output_type": "stream",
     "text": [
      "42.35842800500046 -71.05976636899965\n"
     ]
    }
   ],
   "source": [
    "# Calculate distance from rival team.\n",
    "g = geocoder.arcgis('Boston, MA')\n",
    "boston_lat = g.latlng[0]\n",
    "boston_long = g.latlng[1]\n",
    "print(boston_lat, boston_long)"
   ]
  },
  {
   "cell_type": "code",
   "execution_count": 121,
   "metadata": {
    "collapsed": true
   },
   "outputs": [],
   "source": [
    "import gpxpy.geo\n",
    "import math\n",
    "haversine_distances = []\n",
    "for i in range(df_yankees.shape[0]):\n",
    "#dist = gpxpy.geo.haversine_distance(52.2296756, 21.0122287, 52.406374, 16.9251681)\n",
    "#print(dist)\n",
    "    if math.isnan(df_yankees.iloc[i]['latitude']):\n",
    "        haversine_distances.append(np.nan)\n",
    "    else:\n",
    "        distance = gpxpy.geo.haversine_distance(boston_lat, boston_long, df_yankees.iloc[i]['latitude'], df_yankees.iloc[i]['longitude'])\n",
    "        haversine_distances.append(distance)"
   ]
  },
  {
   "cell_type": "code",
   "execution_count": 123,
   "metadata": {
    "collapsed": false
   },
   "outputs": [
    {
     "data": {
      "text/plain": [
       "0.0"
      ]
     },
     "execution_count": 123,
     "metadata": {},
     "output_type": "execute_result"
    }
   ],
   "source": [
    "# Make sure these variables are for New York.\n",
    "gpxpy.geo.haversine_distance(boston_lat, boston_long, 42.35842800500046, -71.05976636899965)"
   ]
  },
  {
   "cell_type": "code",
   "execution_count": 124,
   "metadata": {
    "collapsed": false
   },
   "outputs": [
    {
     "data": {
      "text/plain": [
       "10000"
      ]
     },
     "execution_count": 124,
     "metadata": {},
     "output_type": "execute_result"
    }
   ],
   "source": [
    "len(haversine_distances)"
   ]
  },
  {
   "cell_type": "code",
   "execution_count": 125,
   "metadata": {
    "collapsed": true
   },
   "outputs": [],
   "source": [
    "df_yankees['hav_distance_boston'] = pd.Series(haversine_distances)"
   ]
  },
  {
   "cell_type": "code",
   "execution_count": 126,
   "metadata": {
    "collapsed": false
   },
   "outputs": [
    {
     "data": {
      "text/html": [
       "<div>\n",
       "<table border=\"1\" class=\"dataframe\">\n",
       "  <thead>\n",
       "    <tr style=\"text-align: right;\">\n",
       "      <th></th>\n",
       "      <th>text</th>\n",
       "      <th>created_at</th>\n",
       "      <th>location</th>\n",
       "      <th>retweet_count</th>\n",
       "      <th>favorite_count</th>\n",
       "      <th>latitude</th>\n",
       "      <th>longitude</th>\n",
       "      <th>dates</th>\n",
       "      <th>sentiment</th>\n",
       "      <th>hav_distance_ny</th>\n",
       "      <th>outcome</th>\n",
       "      <th>hav_distance_boston</th>\n",
       "    </tr>\n",
       "  </thead>\n",
       "  <tbody>\n",
       "    <tr>\n",
       "      <th>0</th>\n",
       "      <td>RT @RapSheet: Goodbye to one of the greatest t...</td>\n",
       "      <td>Sun Aug 07 23:59:49 +0000 2016</td>\n",
       "      <td>Ohio</td>\n",
       "      <td>235.0</td>\n",
       "      <td>0.0</td>\n",
       "      <td>40.250338</td>\n",
       "      <td>-83.000177</td>\n",
       "      <td>2016-08-07</td>\n",
       "      <td>0.000000</td>\n",
       "      <td>7.621020e+05</td>\n",
       "      <td>Win</td>\n",
       "      <td>1.023622e+06</td>\n",
       "    </tr>\n",
       "    <tr>\n",
       "      <th>1</th>\n",
       "      <td>Might be the dumbest thing I’ve ever read. Exp...</td>\n",
       "      <td>Sun Aug 07 23:59:45 +0000 2016</td>\n",
       "      <td>ÜT: 41.271945,-73.737193</td>\n",
       "      <td>0.0</td>\n",
       "      <td>2.0</td>\n",
       "      <td>NaN</td>\n",
       "      <td>NaN</td>\n",
       "      <td>2016-08-07</td>\n",
       "      <td>-0.131944</td>\n",
       "      <td>NaN</td>\n",
       "      <td>Win</td>\n",
       "      <td>NaN</td>\n",
       "    </tr>\n",
       "    <tr>\n",
       "      <th>2</th>\n",
       "      <td>Quick Take: New York #Yankees defeat Cleveland...</td>\n",
       "      <td>Sun Aug 07 23:59:38 +0000 2016</td>\n",
       "      <td>SF &amp; LA</td>\n",
       "      <td>0.0</td>\n",
       "      <td>1.0</td>\n",
       "      <td>14.133328</td>\n",
       "      <td>-89.816667</td>\n",
       "      <td>2016-08-07</td>\n",
       "      <td>0.234848</td>\n",
       "      <td>3.329860e+06</td>\n",
       "      <td>Win</td>\n",
       "      <td>3.618000e+06</td>\n",
       "    </tr>\n",
       "    <tr>\n",
       "      <th>3</th>\n",
       "      <td>RT @MikeyAdams420: Kiss yourself goodbye @AROD...</td>\n",
       "      <td>Sun Aug 07 23:59:35 +0000 2016</td>\n",
       "      <td>NaN</td>\n",
       "      <td>16.0</td>\n",
       "      <td>0.0</td>\n",
       "      <td>NaN</td>\n",
       "      <td>NaN</td>\n",
       "      <td>2016-08-07</td>\n",
       "      <td>0.700000</td>\n",
       "      <td>NaN</td>\n",
       "      <td>Win</td>\n",
       "      <td>NaN</td>\n",
       "    </tr>\n",
       "    <tr>\n",
       "      <th>4</th>\n",
       "      <td>Congratulations Ichiro #Ichiro3000 #Mariners #...</td>\n",
       "      <td>Sun Aug 07 23:59:32 +0000 2016</td>\n",
       "      <td>Northern Virginia, USA</td>\n",
       "      <td>0.0</td>\n",
       "      <td>1.0</td>\n",
       "      <td>38.757069</td>\n",
       "      <td>-77.538489</td>\n",
       "      <td>2016-08-07</td>\n",
       "      <td>0.000000</td>\n",
       "      <td>3.722443e+05</td>\n",
       "      <td>Win</td>\n",
       "      <td>6.778475e+05</td>\n",
       "    </tr>\n",
       "  </tbody>\n",
       "</table>\n",
       "</div>"
      ],
      "text/plain": [
       "                                                text  \\\n",
       "0  RT @RapSheet: Goodbye to one of the greatest t...   \n",
       "1  Might be the dumbest thing I’ve ever read. Exp...   \n",
       "2  Quick Take: New York #Yankees defeat Cleveland...   \n",
       "3  RT @MikeyAdams420: Kiss yourself goodbye @AROD...   \n",
       "4  Congratulations Ichiro #Ichiro3000 #Mariners #...   \n",
       "\n",
       "                       created_at                  location  retweet_count  \\\n",
       "0  Sun Aug 07 23:59:49 +0000 2016                      Ohio          235.0   \n",
       "1  Sun Aug 07 23:59:45 +0000 2016  ÜT: 41.271945,-73.737193            0.0   \n",
       "2  Sun Aug 07 23:59:38 +0000 2016                   SF & LA            0.0   \n",
       "3  Sun Aug 07 23:59:35 +0000 2016                       NaN           16.0   \n",
       "4  Sun Aug 07 23:59:32 +0000 2016    Northern Virginia, USA            0.0   \n",
       "\n",
       "   favorite_count   latitude  longitude      dates  sentiment  \\\n",
       "0             0.0  40.250338 -83.000177 2016-08-07   0.000000   \n",
       "1             2.0        NaN        NaN 2016-08-07  -0.131944   \n",
       "2             1.0  14.133328 -89.816667 2016-08-07   0.234848   \n",
       "3             0.0        NaN        NaN 2016-08-07   0.700000   \n",
       "4             1.0  38.757069 -77.538489 2016-08-07   0.000000   \n",
       "\n",
       "   hav_distance_ny outcome  hav_distance_boston  \n",
       "0     7.621020e+05     Win         1.023622e+06  \n",
       "1              NaN     Win                  NaN  \n",
       "2     3.329860e+06     Win         3.618000e+06  \n",
       "3              NaN     Win                  NaN  \n",
       "4     3.722443e+05     Win         6.778475e+05  "
      ]
     },
     "execution_count": 126,
     "metadata": {},
     "output_type": "execute_result"
    }
   ],
   "source": [
    "df_yankees.head()"
   ]
  },
  {
   "cell_type": "code",
   "execution_count": 149,
   "metadata": {
    "collapsed": true
   },
   "outputs": [],
   "source": [
    "df_yankees_wins = df_yankees[df_yankees['outcome'] == 'Win']\n",
    "df_yankees_losses = df_yankees[df_yankees['outcome'] == 'Loss']\n",
    "df_yankees_no_games = df_yankees[df_yankees['outcome'] == 'No Game']\n",
    "df_yankees_wins.to_csv('df_yankees_wins.csv')\n",
    "df_yankees_losses.to_csv('df_yankees_losses.csv')\n",
    "df_yankees_no_games.to_csv('df_yankees_no_games.csv')"
   ]
  },
  {
   "cell_type": "code",
   "execution_count": 128,
   "metadata": {
    "collapsed": false
   },
   "outputs": [
    {
     "name": "stdout",
     "output_type": "stream",
     "text": [
      "(6000, 12)\n",
      "(3000, 12)\n",
      "(1000, 12)\n"
     ]
    }
   ],
   "source": [
    "print(df_yankees_wins.shape)\n",
    "print(df_yankees_losses.shape)\n",
    "print(df_yankees_no_games.shape)"
   ]
  },
  {
   "cell_type": "code",
   "execution_count": 153,
   "metadata": {
    "collapsed": false
   },
   "outputs": [
    {
     "data": {
      "image/png": "[encoded data removed]",
      "text/plain": [
       "<matplotlib.figure.Figure at 0x11b38ba20>"
      ]
     },
     "metadata": {},
     "output_type": "display_data"
    }
   ],
   "source": [
    "import seaborn as sns;\n",
    "sns.set(color_codes=True)\n",
    "ax = sns.regplot(x=\"hav_distance_ny\", y=\"sentiment\", data=df_yankees_wins)"
   ]
  },
  {
   "cell_type": "code",
   "execution_count": 154,
   "metadata": {
    "collapsed": false
   },
   "outputs": [
    {
     "data": {
      "image/png": "[encoded data removed]",
      "text/plain": [
       "<matplotlib.figure.Figure at 0x11c4e39b0>"
      ]
     },
     "metadata": {},
     "output_type": "display_data"
    }
   ],
   "source": [
    "# Can see a slight upward trend.\n",
    "import seaborn as sns;\n",
    "sns.set(color_codes=True)\n",
    "ax = sns.regplot(x=\"hav_distance_ny\", y=\"sentiment\", data=df_yankees_losses)"
   ]
  },
  {
   "cell_type": "code",
   "execution_count": 131,
   "metadata": {
    "collapsed": false
   },
   "outputs": [],
   "source": [
    "#g = geocoder.arcgis('Staten Island, NY')\n",
    "#st_lat = g.latlng[0]\n",
    "#st_long = g.latlng[1]\n",
    "#print(st_lat, st_long)"
   ]
  },
  {
   "cell_type": "code",
   "execution_count": 132,
   "metadata": {
    "collapsed": false
   },
   "outputs": [],
   "source": [
    "#g = geocoder.arcgis('New Rochelle, NY')\n",
    "#nr_lat = g.latlng[0]\n",
    "#nr_long = g.latlng[1]\n",
    "#print(nr_lat, nr_long)"
   ]
  },
  {
   "cell_type": "code",
   "execution_count": 133,
   "metadata": {
    "collapsed": false
   },
   "outputs": [],
   "source": [
    "#gpxpy.geo.haversine_distance(st_lat, st_long, nr_lat, nr_long)"
   ]
  },
  {
   "cell_type": "code",
   "execution_count": 134,
   "metadata": {
    "collapsed": false
   },
   "outputs": [
    {
     "data": {
      "text/plain": [
       "(74, 12)"
      ]
     },
     "execution_count": 134,
     "metadata": {},
     "output_type": "execute_result"
    }
   ],
   "source": [
    "# Define radius for Boston. (Roughly 35-40 miles). We used hav distance = 50000m for the redsox dataset.\n",
    "near_boston_yanks = df_yankees[df_yankees['hav_distance_boston'] <= 50000]\n",
    "near_boston_yanks.shape"
   ]
  },
  {
   "cell_type": "code",
   "execution_count": 135,
   "metadata": {
    "collapsed": false
   },
   "outputs": [
    {
     "data": {
      "text/plain": [
       "(1077, 12)"
      ]
     },
     "execution_count": 135,
     "metadata": {},
     "output_type": "execute_result"
    }
   ],
   "source": [
    "near_ny_yanks = df_yankees[df_yankees['hav_distance_ny'] <= 50000]\n",
    "near_ny_yanks.shape"
   ]
  },
  {
   "cell_type": "code",
   "execution_count": 136,
   "metadata": {
    "collapsed": false
   },
   "outputs": [],
   "source": [
    "sentiment_by_date = df_yankees.groupby('dates').mean()\n",
    "sentiment_by_date_near_boston = near_boston_yanks.groupby('dates').mean()\n",
    "sentiment_by_date_near_ny = near_ny_yanks.groupby('dates').mean()"
   ]
  },
  {
   "cell_type": "code",
   "execution_count": 137,
   "metadata": {
    "collapsed": false
   },
   "outputs": [
    {
     "data": {
      "text/html": [
       "<div>\n",
       "<table border=\"1\" class=\"dataframe\">\n",
       "  <thead>\n",
       "    <tr style=\"text-align: right;\">\n",
       "      <th></th>\n",
       "      <th>retweet_count</th>\n",
       "      <th>favorite_count</th>\n",
       "      <th>latitude</th>\n",
       "      <th>longitude</th>\n",
       "      <th>sentiment</th>\n",
       "      <th>hav_distance_ny</th>\n",
       "      <th>hav_distance_boston</th>\n",
       "    </tr>\n",
       "    <tr>\n",
       "      <th>dates</th>\n",
       "      <th></th>\n",
       "      <th></th>\n",
       "      <th></th>\n",
       "      <th></th>\n",
       "      <th></th>\n",
       "      <th></th>\n",
       "      <th></th>\n",
       "    </tr>\n",
       "  </thead>\n",
       "  <tbody>\n",
       "    <tr>\n",
       "      <th>2016-08-07</th>\n",
       "      <td>832.592</td>\n",
       "      <td>1.063</td>\n",
       "      <td>37.838495</td>\n",
       "      <td>-74.710160</td>\n",
       "      <td>0.053476</td>\n",
       "      <td>1.771531e+06</td>\n",
       "      <td>1.956093e+06</td>\n",
       "    </tr>\n",
       "    <tr>\n",
       "      <th>2016-08-08</th>\n",
       "      <td>102.331</td>\n",
       "      <td>1.022</td>\n",
       "      <td>41.082598</td>\n",
       "      <td>-77.602859</td>\n",
       "      <td>0.098985</td>\n",
       "      <td>4.502280e+05</td>\n",
       "      <td>6.728263e+05</td>\n",
       "    </tr>\n",
       "    <tr>\n",
       "      <th>2016-08-09</th>\n",
       "      <td>40.360</td>\n",
       "      <td>1.476</td>\n",
       "      <td>39.385424</td>\n",
       "      <td>-78.968484</td>\n",
       "      <td>0.025569</td>\n",
       "      <td>8.040920e+05</td>\n",
       "      <td>9.848108e+05</td>\n",
       "    </tr>\n",
       "    <tr>\n",
       "      <th>2016-08-10</th>\n",
       "      <td>20.358</td>\n",
       "      <td>1.275</td>\n",
       "      <td>39.129375</td>\n",
       "      <td>-74.736159</td>\n",
       "      <td>0.045456</td>\n",
       "      <td>5.389066e+05</td>\n",
       "      <td>7.533479e+05</td>\n",
       "    </tr>\n",
       "    <tr>\n",
       "      <th>2016-08-11</th>\n",
       "      <td>29.425</td>\n",
       "      <td>1.482</td>\n",
       "      <td>39.903432</td>\n",
       "      <td>-78.015174</td>\n",
       "      <td>0.015579</td>\n",
       "      <td>5.299843e+05</td>\n",
       "      <td>7.205638e+05</td>\n",
       "    </tr>\n",
       "    <tr>\n",
       "      <th>2016-08-12</th>\n",
       "      <td>14.399</td>\n",
       "      <td>0.949</td>\n",
       "      <td>39.939879</td>\n",
       "      <td>-79.598073</td>\n",
       "      <td>-0.024878</td>\n",
       "      <td>5.736574e+05</td>\n",
       "      <td>8.284688e+05</td>\n",
       "    </tr>\n",
       "    <tr>\n",
       "      <th>2016-08-13</th>\n",
       "      <td>404.875</td>\n",
       "      <td>1.518</td>\n",
       "      <td>36.870017</td>\n",
       "      <td>-63.047333</td>\n",
       "      <td>0.135960</td>\n",
       "      <td>2.549340e+06</td>\n",
       "      <td>2.718170e+06</td>\n",
       "    </tr>\n",
       "    <tr>\n",
       "      <th>2016-08-14</th>\n",
       "      <td>0.000</td>\n",
       "      <td>0.000</td>\n",
       "      <td>37.809467</td>\n",
       "      <td>-66.552226</td>\n",
       "      <td>0.087096</td>\n",
       "      <td>2.500363e+06</td>\n",
       "      <td>2.635444e+06</td>\n",
       "    </tr>\n",
       "    <tr>\n",
       "      <th>2016-08-15</th>\n",
       "      <td>111.629</td>\n",
       "      <td>0.922</td>\n",
       "      <td>39.558580</td>\n",
       "      <td>-74.970778</td>\n",
       "      <td>0.034580</td>\n",
       "      <td>1.863765e+06</td>\n",
       "      <td>2.018398e+06</td>\n",
       "    </tr>\n",
       "    <tr>\n",
       "      <th>2016-08-16</th>\n",
       "      <td>106.056</td>\n",
       "      <td>1.380</td>\n",
       "      <td>38.492683</td>\n",
       "      <td>-67.891619</td>\n",
       "      <td>0.215597</td>\n",
       "      <td>2.081223e+06</td>\n",
       "      <td>2.248623e+06</td>\n",
       "    </tr>\n",
       "  </tbody>\n",
       "</table>\n",
       "</div>"
      ],
      "text/plain": [
       "            retweet_count  favorite_count   latitude  longitude  sentiment  \\\n",
       "dates                                                                        \n",
       "2016-08-07        832.592           1.063  37.838495 -74.710160   0.053476   \n",
       "2016-08-08        102.331           1.022  41.082598 -77.602859   0.098985   \n",
       "2016-08-09         40.360           1.476  39.385424 -78.968484   0.025569   \n",
       "2016-08-10         20.358           1.275  39.129375 -74.736159   0.045456   \n",
       "2016-08-11         29.425           1.482  39.903432 -78.015174   0.015579   \n",
       "2016-08-12         14.399           0.949  39.939879 -79.598073  -0.024878   \n",
       "2016-08-13        404.875           1.518  36.870017 -63.047333   0.135960   \n",
       "2016-08-14          0.000           0.000  37.809467 -66.552226   0.087096   \n",
       "2016-08-15        111.629           0.922  39.558580 -74.970778   0.034580   \n",
       "2016-08-16        106.056           1.380  38.492683 -67.891619   0.215597   \n",
       "\n",
       "            hav_distance_ny  hav_distance_boston  \n",
       "dates                                             \n",
       "2016-08-07     1.771531e+06         1.956093e+06  \n",
       "2016-08-08     4.502280e+05         6.728263e+05  \n",
       "2016-08-09     8.040920e+05         9.848108e+05  \n",
       "2016-08-10     5.389066e+05         7.533479e+05  \n",
       "2016-08-11     5.299843e+05         7.205638e+05  \n",
       "2016-08-12     5.736574e+05         8.284688e+05  \n",
       "2016-08-13     2.549340e+06         2.718170e+06  \n",
       "2016-08-14     2.500363e+06         2.635444e+06  \n",
       "2016-08-15     1.863765e+06         2.018398e+06  \n",
       "2016-08-16     2.081223e+06         2.248623e+06  "
      ]
     },
     "execution_count": 137,
     "metadata": {},
     "output_type": "execute_result"
    }
   ],
   "source": [
    "sentiment_by_date"
   ]
  },
  {
   "cell_type": "code",
   "execution_count": 146,
   "metadata": {
    "collapsed": false
   },
   "outputs": [],
   "source": [
    "outcomes = [\n",
    "    '8/7 (W)',\n",
    "    '8/8 (No Game)',\n",
    "    '8/9 (L—@ Redsox)',\n",
    "    '8/10 (W—@ Redsox)',\n",
    "    '8/11 (W—@ Redsox)',\n",
    "    '8/12 (W)',\n",
    "    '8/13 (W)',\n",
    "    '8/14 (L)',\n",
    "    '8/15 (W)',\n",
    "    '8/16 (L)'\n",
    "]"
   ]
  },
  {
   "cell_type": "code",
   "execution_count": 156,
   "metadata": {
    "collapsed": false
   },
   "outputs": [
    {
     "data": {
      "image/png": "[encoded data removed]",
      "text/plain": [
       "<matplotlib.figure.Figure at 0x11b4669e8>"
      ]
     },
     "metadata": {},
     "output_type": "display_data"
    }
   ],
   "source": [
    "fig = plt.figure(figsize=(18,8))\n",
    "ax = fig.add_subplot(111)\n",
    "ax2 = fig.add_subplot(111)\n",
    "ax3 = fig.add_subplot(111)\n",
    "ax.plot(sentiment_by_date['sentiment'], linewidth=6, alpha=0.7)\n",
    "ax2.plot(sentiment_by_date_near_boston['sentiment'], linewidth=6, alpha=0.7)\n",
    "ax3.plot(sentiment_by_date_near_ny['sentiment'], linewidth=6, alpha=0.7)\n",
    "ax.legend(['Global Avg. Sentiment', 'Avg. Sentiment Near Boston', 'Avg. Sentiment Near New York'])\n",
    "plt.title('Mean Yankees-Related Tweet Sentiment by Date', size=14)\n",
    "ax.set_xlabel('Date and Outcome')\n",
    "ax.set_ylabel('Average Sentiment Rating')\n",
    "ax.set_xticklabels(outcomes)\n",
    "sns.set_palette('colorblind')\n",
    "plt.savefig('yanks_days.png')\n",
    "plt.show()"
   ]
  },
  {
   "cell_type": "code",
   "execution_count": 157,
   "metadata": {
    "collapsed": false
   },
   "outputs": [],
   "source": [
    "# Use same principles here as in redsox notebook."
   ]
  },
  {
   "cell_type": "code",
   "execution_count": null,
   "metadata": {
    "collapsed": true
   },
   "outputs": [],
   "source": []
  }
 ],
 "metadata": {
  "kernelspec": {
   "display_name": "Python 3",
   "language": "python",
   "name": "python3"
  },
  "language_info": {
   "codemirror_mode": {
    "name": "ipython",
    "version": 3
   },
   "file_extension": ".py",
   "mimetype": "text/x-python",
   "name": "python",
   "nbconvert_exporter": "python",
   "pygments_lexer": "ipython3",
   "version": "3.5.2"
  }
 },
 "nbformat": 4,
 "nbformat_minor": 0
}
