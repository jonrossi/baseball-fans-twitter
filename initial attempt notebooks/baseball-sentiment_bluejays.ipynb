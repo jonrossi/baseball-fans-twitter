{
 "cells": [
  {
   "cell_type": "markdown",
   "metadata": {},
   "source": [
    "**Note:** place file one level up in directory structure so it can run properly."
   ]
  },
  {
   "cell_type": "markdown",
   "metadata": {},
   "source": [
    "# Analyzing Baseball Fan Sentiment with Twitter Data (Bluejays) #"
   ]
  },
  {
   "cell_type": "code",
   "execution_count": 7,
   "metadata": {
    "collapsed": false
   },
   "outputs": [],
   "source": [
    "import glob\n",
    "import pandas as pd\n",
    "import numpy as np\n",
    "\n",
    "# For working with JSON data.\n",
    "try:\n",
    "    import json\n",
    "except ImportError:\n",
    "    import simplejson as json\n",
    "    \n",
    "# For maps.\n",
    "from mpl_toolkits.basemap import Basemap\n",
    "import geocoder\n",
    "import matplotlib.pyplot as plt\n",
    "%matplotlib inline\n",
    "\n",
    "#import warnings\n",
    "#warnings.simplefilter(action = \"ignore\", category = FutureWarning)"
   ]
  },
  {
   "cell_type": "markdown",
   "metadata": {},
   "source": [
    "## Intial Exploration (10,000 Tweets Version) ##"
   ]
  },
  {
   "cell_type": "code",
   "execution_count": 8,
   "metadata": {
    "collapsed": false
   },
   "outputs": [
    {
     "name": "stdout",
     "output_type": "stream",
     "text": [
      "data/bluejays/bluejays_search_08_07_1000.txt\n",
      "data/bluejays/bluejays_search_08_08_1000.txt\n",
      "data/bluejays/bluejays_search_08_09_1000.txt\n",
      "data/bluejays/bluejays_search_08_10_1000.txt\n",
      "data/bluejays/bluejays_search_08_11_1000.txt\n",
      "data/bluejays/bluejays_search_08_12_1000.txt\n",
      "data/bluejays/bluejays_search_08_13_1000.txt\n",
      "data/bluejays/bluejays_search_08_14_1000.txt\n",
      "data/bluejays/bluejays_search_08_15_1000.txt\n",
      "data/bluejays/bluejays_search_08_16_1000.txt\n"
     ]
    }
   ],
   "source": [
    "for filename in glob.iglob('data/bluejays/*.txt'):\n",
    "     print(filename)"
   ]
  },
  {
   "cell_type": "code",
   "execution_count": 9,
   "metadata": {
    "collapsed": true
   },
   "outputs": [],
   "source": [
    "# Read in JSON data and store in pandas DataFrame.\n",
    "tweets = []\n",
    "locations = []\n",
    "for filename in glob.iglob('data/bluejays/*.txt'):\n",
    "    tweets_filename = filename\n",
    "    tweets_file = open(tweets_filename, \"r\")\n",
    "    for line in tweets_file:\n",
    "        try:\n",
    "            # Read in each line of file, convert to JSON object. \n",
    "            tweet = json.loads(line.strip())\n",
    "            # Make sure tweet has text content.\n",
    "            if 'text' in tweet:\n",
    "                tweets.append(tweet)\n",
    "                locations.append(tweet['user']['location'])\n",
    "        except:\n",
    "            # Skip any non-JSON-formatted data that may have been captured.\n",
    "            continue"
   ]
  },
  {
   "cell_type": "code",
   "execution_count": 10,
   "metadata": {
    "collapsed": true
   },
   "outputs": [],
   "source": [
    "df_bluejays_all = pd.DataFrame(tweets)"
   ]
  },
  {
   "cell_type": "code",
   "execution_count": 11,
   "metadata": {
    "collapsed": true
   },
   "outputs": [],
   "source": [
    "df_bluejays_all['location'] = pd.Series(locations)"
   ]
  },
  {
   "cell_type": "code",
   "execution_count": 12,
   "metadata": {
    "collapsed": false
   },
   "outputs": [
    {
     "data": {
      "text/plain": [
       "(10000, 31)"
      ]
     },
     "execution_count": 12,
     "metadata": {},
     "output_type": "execute_result"
    }
   ],
   "source": [
    "df_bluejays_all.shape"
   ]
  },
  {
   "cell_type": "code",
   "execution_count": 13,
   "metadata": {
    "collapsed": false
   },
   "outputs": [
    {
     "data": {
      "text/html": [
       "<div>\n",
       "<table border=\"1\" class=\"dataframe\">\n",
       "  <thead>\n",
       "    <tr style=\"text-align: right;\">\n",
       "      <th></th>\n",
       "      <th>contributors</th>\n",
       "      <th>coordinates</th>\n",
       "      <th>created_at</th>\n",
       "      <th>entities</th>\n",
       "      <th>extended_entities</th>\n",
       "      <th>favorite_count</th>\n",
       "      <th>favorited</th>\n",
       "      <th>geo</th>\n",
       "      <th>id</th>\n",
       "      <th>id_str</th>\n",
       "      <th>...</th>\n",
       "      <th>quoted_status_id</th>\n",
       "      <th>quoted_status_id_str</th>\n",
       "      <th>retweet_count</th>\n",
       "      <th>retweeted</th>\n",
       "      <th>retweeted_status</th>\n",
       "      <th>source</th>\n",
       "      <th>text</th>\n",
       "      <th>truncated</th>\n",
       "      <th>user</th>\n",
       "      <th>location</th>\n",
       "    </tr>\n",
       "  </thead>\n",
       "  <tbody>\n",
       "    <tr>\n",
       "      <th>0</th>\n",
       "      <td>None</td>\n",
       "      <td>None</td>\n",
       "      <td>Sun Aug 07 23:59:53 +0000 2016</td>\n",
       "      <td>{'urls': [], 'hashtags': [{'indices': [88, 98]...</td>\n",
       "      <td>NaN</td>\n",
       "      <td>0</td>\n",
       "      <td>False</td>\n",
       "      <td>None</td>\n",
       "      <td>762438141730959365</td>\n",
       "      <td>762438141730959365</td>\n",
       "      <td>...</td>\n",
       "      <td>NaN</td>\n",
       "      <td>NaN</td>\n",
       "      <td>0</td>\n",
       "      <td>False</td>\n",
       "      <td>NaN</td>\n",
       "      <td>&lt;a href=\"http://twitter.com/download/iphone\" r...</td>\n",
       "      <td>@bluejays winning record on the road trip, com...</td>\n",
       "      <td>False</td>\n",
       "      <td>{'profile_use_background_image': True, 'time_z...</td>\n",
       "      <td></td>\n",
       "    </tr>\n",
       "    <tr>\n",
       "      <th>1</th>\n",
       "      <td>None</td>\n",
       "      <td>None</td>\n",
       "      <td>Sun Aug 07 23:59:37 +0000 2016</td>\n",
       "      <td>{'urls': [{'indices': [78, 101], 'display_url'...</td>\n",
       "      <td>{'media': [{'sizes': {'large': {'w': 1116, 'h'...</td>\n",
       "      <td>1</td>\n",
       "      <td>False</td>\n",
       "      <td>None</td>\n",
       "      <td>762438076480102402</td>\n",
       "      <td>762438076480102402</td>\n",
       "      <td>...</td>\n",
       "      <td>NaN</td>\n",
       "      <td>NaN</td>\n",
       "      <td>0</td>\n",
       "      <td>False</td>\n",
       "      <td>NaN</td>\n",
       "      <td>&lt;a href=\"http://dlvr.it\" rel=\"nofollow\"&gt;dlvr.i...</td>\n",
       "      <td>L #Toronto #BlueJays Toronto Blue Jays Beer St...</td>\n",
       "      <td>False</td>\n",
       "      <td>{'profile_use_background_image': True, 'time_z...</td>\n",
       "      <td></td>\n",
       "    </tr>\n",
       "    <tr>\n",
       "      <th>2</th>\n",
       "      <td>None</td>\n",
       "      <td>None</td>\n",
       "      <td>Sun Aug 07 23:59:18 +0000 2016</td>\n",
       "      <td>{'urls': [{'indices': [72, 95], 'display_url':...</td>\n",
       "      <td>{'media': [{'sizes': {'large': {'w': 400, 'h':...</td>\n",
       "      <td>0</td>\n",
       "      <td>False</td>\n",
       "      <td>None</td>\n",
       "      <td>762437995639115777</td>\n",
       "      <td>762437995639115777</td>\n",
       "      <td>...</td>\n",
       "      <td>NaN</td>\n",
       "      <td>NaN</td>\n",
       "      <td>0</td>\n",
       "      <td>False</td>\n",
       "      <td>NaN</td>\n",
       "      <td>&lt;a href=\"http://dlvr.it\" rel=\"nofollow\"&gt;dlvr.i...</td>\n",
       "      <td>#Toronto #BlueJays TORONTO BLUE JAYS 1992 WORL...</td>\n",
       "      <td>False</td>\n",
       "      <td>{'profile_use_background_image': True, 'time_z...</td>\n",
       "      <td></td>\n",
       "    </tr>\n",
       "  </tbody>\n",
       "</table>\n",
       "<p>3 rows × 31 columns</p>\n",
       "</div>"
      ],
      "text/plain": [
       "  contributors coordinates                      created_at  \\\n",
       "0         None        None  Sun Aug 07 23:59:53 +0000 2016   \n",
       "1         None        None  Sun Aug 07 23:59:37 +0000 2016   \n",
       "2         None        None  Sun Aug 07 23:59:18 +0000 2016   \n",
       "\n",
       "                                            entities  \\\n",
       "0  {'urls': [], 'hashtags': [{'indices': [88, 98]...   \n",
       "1  {'urls': [{'indices': [78, 101], 'display_url'...   \n",
       "2  {'urls': [{'indices': [72, 95], 'display_url':...   \n",
       "\n",
       "                                   extended_entities  favorite_count  \\\n",
       "0                                                NaN               0   \n",
       "1  {'media': [{'sizes': {'large': {'w': 1116, 'h'...               1   \n",
       "2  {'media': [{'sizes': {'large': {'w': 400, 'h':...               0   \n",
       "\n",
       "  favorited   geo                  id              id_str   ...     \\\n",
       "0     False  None  762438141730959365  762438141730959365   ...      \n",
       "1     False  None  762438076480102402  762438076480102402   ...      \n",
       "2     False  None  762437995639115777  762437995639115777   ...      \n",
       "\n",
       "  quoted_status_id  quoted_status_id_str retweet_count  retweeted  \\\n",
       "0              NaN                   NaN             0      False   \n",
       "1              NaN                   NaN             0      False   \n",
       "2              NaN                   NaN             0      False   \n",
       "\n",
       "  retweeted_status                                             source  \\\n",
       "0              NaN  <a href=\"http://twitter.com/download/iphone\" r...   \n",
       "1              NaN  <a href=\"http://dlvr.it\" rel=\"nofollow\">dlvr.i...   \n",
       "2              NaN  <a href=\"http://dlvr.it\" rel=\"nofollow\">dlvr.i...   \n",
       "\n",
       "                                                text truncated  \\\n",
       "0  @bluejays winning record on the road trip, com...     False   \n",
       "1  L #Toronto #BlueJays Toronto Blue Jays Beer St...     False   \n",
       "2  #Toronto #BlueJays TORONTO BLUE JAYS 1992 WORL...     False   \n",
       "\n",
       "                                                user location  \n",
       "0  {'profile_use_background_image': True, 'time_z...           \n",
       "1  {'profile_use_background_image': True, 'time_z...           \n",
       "2  {'profile_use_background_image': True, 'time_z...           \n",
       "\n",
       "[3 rows x 31 columns]"
      ]
     },
     "execution_count": 13,
     "metadata": {},
     "output_type": "execute_result"
    }
   ],
   "source": [
    "df_bluejays_all.head(3)"
   ]
  },
  {
   "cell_type": "code",
   "execution_count": 190,
   "metadata": {
    "collapsed": false
   },
   "outputs": [],
   "source": [
    "#df_redsox_all['retweet_count'].value_counts()"
   ]
  },
  {
   "cell_type": "code",
   "execution_count": 14,
   "metadata": {
    "collapsed": false
   },
   "outputs": [],
   "source": [
    "df_bluejays = df_bluejays_all[['text', 'created_at', 'location', 'retweet_count', 'favorite_count']]"
   ]
  },
  {
   "cell_type": "code",
   "execution_count": 15,
   "metadata": {
    "collapsed": false
   },
   "outputs": [
    {
     "data": {
      "text/plain": [
       "(10000, 5)"
      ]
     },
     "execution_count": 15,
     "metadata": {},
     "output_type": "execute_result"
    }
   ],
   "source": [
    "df_bluejays.shape"
   ]
  },
  {
   "cell_type": "code",
   "execution_count": 16,
   "metadata": {
    "collapsed": false
   },
   "outputs": [
    {
     "data": {
      "text/html": [
       "<div>\n",
       "<table border=\"1\" class=\"dataframe\">\n",
       "  <thead>\n",
       "    <tr style=\"text-align: right;\">\n",
       "      <th></th>\n",
       "      <th>text</th>\n",
       "      <th>created_at</th>\n",
       "      <th>location</th>\n",
       "      <th>retweet_count</th>\n",
       "      <th>favorite_count</th>\n",
       "    </tr>\n",
       "  </thead>\n",
       "  <tbody>\n",
       "    <tr>\n",
       "      <th>0</th>\n",
       "      <td>@bluejays winning record on the road trip, com...</td>\n",
       "      <td>Sun Aug 07 23:59:53 +0000 2016</td>\n",
       "      <td></td>\n",
       "      <td>0</td>\n",
       "      <td>0</td>\n",
       "    </tr>\n",
       "    <tr>\n",
       "      <th>1</th>\n",
       "      <td>L #Toronto #BlueJays Toronto Blue Jays Beer St...</td>\n",
       "      <td>Sun Aug 07 23:59:37 +0000 2016</td>\n",
       "      <td></td>\n",
       "      <td>0</td>\n",
       "      <td>1</td>\n",
       "    </tr>\n",
       "    <tr>\n",
       "      <th>2</th>\n",
       "      <td>#Toronto #BlueJays TORONTO BLUE JAYS 1992 WORL...</td>\n",
       "      <td>Sun Aug 07 23:59:18 +0000 2016</td>\n",
       "      <td></td>\n",
       "      <td>0</td>\n",
       "      <td>0</td>\n",
       "    </tr>\n",
       "    <tr>\n",
       "      <th>3</th>\n",
       "      <td>#MLB #Baseball TORONTO #BlueJays 1992 WORLD SE...</td>\n",
       "      <td>Sun Aug 07 23:59:16 +0000 2016</td>\n",
       "      <td></td>\n",
       "      <td>0</td>\n",
       "      <td>0</td>\n",
       "    </tr>\n",
       "    <tr>\n",
       "      <th>4</th>\n",
       "      <td>RT @Wilnerness590: #Bluejays 4-3 road trip end...</td>\n",
       "      <td>Sun Aug 07 23:59:01 +0000 2016</td>\n",
       "      <td></td>\n",
       "      <td>3</td>\n",
       "      <td>0</td>\n",
       "    </tr>\n",
       "    <tr>\n",
       "      <th>5</th>\n",
       "      <td>#BlueJays return home with a winning road reco...</td>\n",
       "      <td>Sun Aug 07 23:58:50 +0000 2016</td>\n",
       "      <td></td>\n",
       "      <td>15</td>\n",
       "      <td>9</td>\n",
       "    </tr>\n",
       "    <tr>\n",
       "      <th>6</th>\n",
       "      <td>RT @Sportsnet: Road trip comes to sour end for...</td>\n",
       "      <td>Sun Aug 07 23:57:39 +0000 2016</td>\n",
       "      <td>Gaming place, GAMING COUNTRY.</td>\n",
       "      <td>10</td>\n",
       "      <td>0</td>\n",
       "    </tr>\n",
       "    <tr>\n",
       "      <th>7</th>\n",
       "      <td>RT @Sportsnet: Road trip comes to sour end for...</td>\n",
       "      <td>Sun Aug 07 23:57:35 +0000 2016</td>\n",
       "      <td></td>\n",
       "      <td>10</td>\n",
       "      <td>0</td>\n",
       "    </tr>\n",
       "    <tr>\n",
       "      <th>8</th>\n",
       "      <td>RT @JoseMeowtista: Tabby said the #BlueJays ha...</td>\n",
       "      <td>Sun Aug 07 23:57:02 +0000 2016</td>\n",
       "      <td></td>\n",
       "      <td>11</td>\n",
       "      <td>0</td>\n",
       "    </tr>\n",
       "    <tr>\n",
       "      <th>9</th>\n",
       "      <td>#SS #TroyTulowitzki 50 #Card lot with no dupli...</td>\n",
       "      <td>Sun Aug 07 23:55:12 +0000 2016</td>\n",
       "      <td></td>\n",
       "      <td>0</td>\n",
       "      <td>0</td>\n",
       "    </tr>\n",
       "  </tbody>\n",
       "</table>\n",
       "</div>"
      ],
      "text/plain": [
       "                                                text  \\\n",
       "0  @bluejays winning record on the road trip, com...   \n",
       "1  L #Toronto #BlueJays Toronto Blue Jays Beer St...   \n",
       "2  #Toronto #BlueJays TORONTO BLUE JAYS 1992 WORL...   \n",
       "3  #MLB #Baseball TORONTO #BlueJays 1992 WORLD SE...   \n",
       "4  RT @Wilnerness590: #Bluejays 4-3 road trip end...   \n",
       "5  #BlueJays return home with a winning road reco...   \n",
       "6  RT @Sportsnet: Road trip comes to sour end for...   \n",
       "7  RT @Sportsnet: Road trip comes to sour end for...   \n",
       "8  RT @JoseMeowtista: Tabby said the #BlueJays ha...   \n",
       "9  #SS #TroyTulowitzki 50 #Card lot with no dupli...   \n",
       "\n",
       "                       created_at                       location  \\\n",
       "0  Sun Aug 07 23:59:53 +0000 2016                                  \n",
       "1  Sun Aug 07 23:59:37 +0000 2016                                  \n",
       "2  Sun Aug 07 23:59:18 +0000 2016                                  \n",
       "3  Sun Aug 07 23:59:16 +0000 2016                                  \n",
       "4  Sun Aug 07 23:59:01 +0000 2016                                  \n",
       "5  Sun Aug 07 23:58:50 +0000 2016                                  \n",
       "6  Sun Aug 07 23:57:39 +0000 2016  Gaming place, GAMING COUNTRY.   \n",
       "7  Sun Aug 07 23:57:35 +0000 2016                                  \n",
       "8  Sun Aug 07 23:57:02 +0000 2016                                  \n",
       "9  Sun Aug 07 23:55:12 +0000 2016                                  \n",
       "\n",
       "   retweet_count  favorite_count  \n",
       "0              0               0  \n",
       "1              0               1  \n",
       "2              0               0  \n",
       "3              0               0  \n",
       "4              3               0  \n",
       "5             15               9  \n",
       "6             10               0  \n",
       "7             10               0  \n",
       "8             11               0  \n",
       "9              0               0  "
      ]
     },
     "execution_count": 16,
     "metadata": {},
     "output_type": "execute_result"
    }
   ],
   "source": [
    "df_bluejays.head(10)"
   ]
  },
  {
   "cell_type": "code",
   "execution_count": 94,
   "metadata": {
    "collapsed": true
   },
   "outputs": [],
   "source": [
    "# DONT USE\n",
    "lats = []\n",
    "longs = []\n",
    "for location in df_redsox['location']:\n",
    "    g = geocoder.arcgis(location)\n",
    "    if g.latlng != []:\n",
    "        lats.append(g.latlng[0])\n",
    "        longs.append(g.latlng[1])\n",
    "    else:\n",
    "        lats.append(np.nan)\n",
    "        longs.append(np.nan)"
   ]
  },
  {
   "cell_type": "code",
   "execution_count": 17,
   "metadata": {
    "collapsed": true
   },
   "outputs": [],
   "source": [
    "unique_locations = df_bluejays['location'].unique()"
   ]
  },
  {
   "cell_type": "code",
   "execution_count": 18,
   "metadata": {
    "collapsed": false
   },
   "outputs": [
    {
     "data": {
      "text/plain": [
       "1682"
      ]
     },
     "execution_count": 18,
     "metadata": {},
     "output_type": "execute_result"
    }
   ],
   "source": [
    "len(unique_locations)\n",
    "#unique_locations = unique_locations[:10]\n",
    "#unique_locations"
   ]
  },
  {
   "cell_type": "code",
   "execution_count": 19,
   "metadata": {
    "collapsed": false
   },
   "outputs": [],
   "source": [
    "# USE THIS\n",
    "location_coords = {}\n",
    "for location in unique_locations:\n",
    "    location_coords[location] = geocoder.arcgis(location)"
   ]
  },
  {
   "cell_type": "code",
   "execution_count": 20,
   "metadata": {
    "collapsed": false
   },
   "outputs": [
    {
     "data": {
      "text/plain": [
       "[]"
      ]
     },
     "execution_count": 20,
     "metadata": {},
     "output_type": "execute_result"
    }
   ],
   "source": [
    "location_coords[''].latlng"
   ]
  },
  {
   "cell_type": "code",
   "execution_count": 21,
   "metadata": {
    "collapsed": false
   },
   "outputs": [],
   "source": [
    "def get_lat(x):\n",
    "    if x.latlng != []:\n",
    "        return(x.latlng[0])\n",
    "    else:\n",
    "        return(np.nan)"
   ]
  },
  {
   "cell_type": "code",
   "execution_count": 22,
   "metadata": {
    "collapsed": true
   },
   "outputs": [],
   "source": [
    "def get_long(x):\n",
    "    if x.latlng != []:\n",
    "        return(x.latlng[1])\n",
    "    else:\n",
    "        return(np.nan)"
   ]
  },
  {
   "cell_type": "code",
   "execution_count": 23,
   "metadata": {
    "collapsed": false
   },
   "outputs": [
    {
     "data": {
      "text/plain": [
       "43.7001099470005"
      ]
     },
     "execution_count": 23,
     "metadata": {},
     "output_type": "execute_result"
    }
   ],
   "source": [
    "get_lat(location_coords['Toronto, Ontario'])"
   ]
  },
  {
   "cell_type": "code",
   "execution_count": 24,
   "metadata": {
    "collapsed": false
   },
   "outputs": [
    {
     "name": "stderr",
     "output_type": "stream",
     "text": [
      "//anaconda/lib/python3.5/site-packages/ipykernel/__main__.py:1: SettingWithCopyWarning: \n",
      "A value is trying to be set on a copy of a slice from a DataFrame.\n",
      "Try using .loc[row_indexer,col_indexer] = value instead\n",
      "\n",
      "See the caveats in the documentation: http://pandas.pydata.org/pandas-docs/stable/indexing.html#indexing-view-versus-copy\n",
      "  if __name__ == '__main__':\n",
      "//anaconda/lib/python3.5/site-packages/ipykernel/__main__.py:2: SettingWithCopyWarning: \n",
      "A value is trying to be set on a copy of a slice from a DataFrame.\n",
      "Try using .loc[row_indexer,col_indexer] = value instead\n",
      "\n",
      "See the caveats in the documentation: http://pandas.pydata.org/pandas-docs/stable/indexing.html#indexing-view-versus-copy\n",
      "  from ipykernel import kernelapp as app\n"
     ]
    }
   ],
   "source": [
    "df_bluejays['latitude'] = df_bluejays['location'].apply(lambda x: get_lat(location_coords[x]))\n",
    "df_bluejays['longitude'] = df_bluejays['location'].apply(lambda x: get_long(location_coords[x]))"
   ]
  },
  {
   "cell_type": "code",
   "execution_count": 25,
   "metadata": {
    "collapsed": false
   },
   "outputs": [
    {
     "data": {
      "text/html": [
       "<div>\n",
       "<table border=\"1\" class=\"dataframe\">\n",
       "  <thead>\n",
       "    <tr style=\"text-align: right;\">\n",
       "      <th></th>\n",
       "      <th>text</th>\n",
       "      <th>created_at</th>\n",
       "      <th>location</th>\n",
       "      <th>retweet_count</th>\n",
       "      <th>favorite_count</th>\n",
       "      <th>latitude</th>\n",
       "      <th>longitude</th>\n",
       "    </tr>\n",
       "  </thead>\n",
       "  <tbody>\n",
       "    <tr>\n",
       "      <th>0</th>\n",
       "      <td>@bluejays winning record on the road trip, com...</td>\n",
       "      <td>Sun Aug 07 23:59:53 +0000 2016</td>\n",
       "      <td></td>\n",
       "      <td>0</td>\n",
       "      <td>0</td>\n",
       "      <td>NaN</td>\n",
       "      <td>NaN</td>\n",
       "    </tr>\n",
       "    <tr>\n",
       "      <th>1</th>\n",
       "      <td>L #Toronto #BlueJays Toronto Blue Jays Beer St...</td>\n",
       "      <td>Sun Aug 07 23:59:37 +0000 2016</td>\n",
       "      <td></td>\n",
       "      <td>0</td>\n",
       "      <td>1</td>\n",
       "      <td>NaN</td>\n",
       "      <td>NaN</td>\n",
       "    </tr>\n",
       "    <tr>\n",
       "      <th>2</th>\n",
       "      <td>#Toronto #BlueJays TORONTO BLUE JAYS 1992 WORL...</td>\n",
       "      <td>Sun Aug 07 23:59:18 +0000 2016</td>\n",
       "      <td></td>\n",
       "      <td>0</td>\n",
       "      <td>0</td>\n",
       "      <td>NaN</td>\n",
       "      <td>NaN</td>\n",
       "    </tr>\n",
       "    <tr>\n",
       "      <th>3</th>\n",
       "      <td>#MLB #Baseball TORONTO #BlueJays 1992 WORLD SE...</td>\n",
       "      <td>Sun Aug 07 23:59:16 +0000 2016</td>\n",
       "      <td></td>\n",
       "      <td>0</td>\n",
       "      <td>0</td>\n",
       "      <td>NaN</td>\n",
       "      <td>NaN</td>\n",
       "    </tr>\n",
       "    <tr>\n",
       "      <th>4</th>\n",
       "      <td>RT @Wilnerness590: #Bluejays 4-3 road trip end...</td>\n",
       "      <td>Sun Aug 07 23:59:01 +0000 2016</td>\n",
       "      <td></td>\n",
       "      <td>3</td>\n",
       "      <td>0</td>\n",
       "      <td>NaN</td>\n",
       "      <td>NaN</td>\n",
       "    </tr>\n",
       "    <tr>\n",
       "      <th>5</th>\n",
       "      <td>#BlueJays return home with a winning road reco...</td>\n",
       "      <td>Sun Aug 07 23:58:50 +0000 2016</td>\n",
       "      <td></td>\n",
       "      <td>15</td>\n",
       "      <td>9</td>\n",
       "      <td>NaN</td>\n",
       "      <td>NaN</td>\n",
       "    </tr>\n",
       "    <tr>\n",
       "      <th>6</th>\n",
       "      <td>RT @Sportsnet: Road trip comes to sour end for...</td>\n",
       "      <td>Sun Aug 07 23:57:39 +0000 2016</td>\n",
       "      <td>Gaming place, GAMING COUNTRY.</td>\n",
       "      <td>10</td>\n",
       "      <td>0</td>\n",
       "      <td>NaN</td>\n",
       "      <td>NaN</td>\n",
       "    </tr>\n",
       "    <tr>\n",
       "      <th>7</th>\n",
       "      <td>RT @Sportsnet: Road trip comes to sour end for...</td>\n",
       "      <td>Sun Aug 07 23:57:35 +0000 2016</td>\n",
       "      <td></td>\n",
       "      <td>10</td>\n",
       "      <td>0</td>\n",
       "      <td>NaN</td>\n",
       "      <td>NaN</td>\n",
       "    </tr>\n",
       "    <tr>\n",
       "      <th>8</th>\n",
       "      <td>RT @JoseMeowtista: Tabby said the #BlueJays ha...</td>\n",
       "      <td>Sun Aug 07 23:57:02 +0000 2016</td>\n",
       "      <td></td>\n",
       "      <td>11</td>\n",
       "      <td>0</td>\n",
       "      <td>NaN</td>\n",
       "      <td>NaN</td>\n",
       "    </tr>\n",
       "    <tr>\n",
       "      <th>9</th>\n",
       "      <td>#SS #TroyTulowitzki 50 #Card lot with no dupli...</td>\n",
       "      <td>Sun Aug 07 23:55:12 +0000 2016</td>\n",
       "      <td></td>\n",
       "      <td>0</td>\n",
       "      <td>0</td>\n",
       "      <td>NaN</td>\n",
       "      <td>NaN</td>\n",
       "    </tr>\n",
       "    <tr>\n",
       "      <th>10</th>\n",
       "      <td>RT @Sportsnet: Road trip comes to sour end for...</td>\n",
       "      <td>Sun Aug 07 23:54:50 +0000 2016</td>\n",
       "      <td>Toronto</td>\n",
       "      <td>10</td>\n",
       "      <td>0</td>\n",
       "      <td>43.700110</td>\n",
       "      <td>-79.416299</td>\n",
       "    </tr>\n",
       "    <tr>\n",
       "      <th>11</th>\n",
       "      <td>RT @BlueJays: RECAP: @BlueJays drop series fin...</td>\n",
       "      <td>Sun Aug 07 23:54:15 +0000 2016</td>\n",
       "      <td></td>\n",
       "      <td>68</td>\n",
       "      <td>0</td>\n",
       "      <td>NaN</td>\n",
       "      <td>NaN</td>\n",
       "    </tr>\n",
       "    <tr>\n",
       "      <th>12</th>\n",
       "      <td>RT @FAN590: #BlueJays #Royals talk next on #Sp...</td>\n",
       "      <td>Sun Aug 07 23:53:35 +0000 2016</td>\n",
       "      <td>Toronto, Ontario</td>\n",
       "      <td>1</td>\n",
       "      <td>0</td>\n",
       "      <td>43.700110</td>\n",
       "      <td>-79.416299</td>\n",
       "    </tr>\n",
       "    <tr>\n",
       "      <th>13</th>\n",
       "      <td>#BlueJays #Royals talk next on #SportsnetTonig...</td>\n",
       "      <td>Sun Aug 07 23:53:19 +0000 2016</td>\n",
       "      <td>ÜT: 43.6640565,-79.3769148</td>\n",
       "      <td>1</td>\n",
       "      <td>4</td>\n",
       "      <td>NaN</td>\n",
       "      <td>NaN</td>\n",
       "    </tr>\n",
       "    <tr>\n",
       "      <th>14</th>\n",
       "      <td>#Healthy #Weightloss Increase Fat Burning By L...</td>\n",
       "      <td>Sun Aug 07 23:53:12 +0000 2016</td>\n",
       "      <td></td>\n",
       "      <td>0</td>\n",
       "      <td>0</td>\n",
       "      <td>NaN</td>\n",
       "      <td>NaN</td>\n",
       "    </tr>\n",
       "    <tr>\n",
       "      <th>15</th>\n",
       "      <td>WTF apparent experts are thinking?!\\n#BlueJays...</td>\n",
       "      <td>Sun Aug 07 23:52:54 +0000 2016</td>\n",
       "      <td>Edmonton AB, Canada</td>\n",
       "      <td>0</td>\n",
       "      <td>1</td>\n",
       "      <td>53.550136</td>\n",
       "      <td>-113.468706</td>\n",
       "    </tr>\n",
       "    <tr>\n",
       "      <th>16</th>\n",
       "      <td>I know my @BlueJays lil devil @shano_heather a...</td>\n",
       "      <td>Sun Aug 07 23:52:27 +0000 2016</td>\n",
       "      <td></td>\n",
       "      <td>0</td>\n",
       "      <td>2</td>\n",
       "      <td>NaN</td>\n",
       "      <td>NaN</td>\n",
       "    </tr>\n",
       "    <tr>\n",
       "      <th>17</th>\n",
       "      <td>RT @BlueJays: RECAP: @BlueJays drop series fin...</td>\n",
       "      <td>Sun Aug 07 23:52:12 +0000 2016</td>\n",
       "      <td></td>\n",
       "      <td>68</td>\n",
       "      <td>0</td>\n",
       "      <td>NaN</td>\n",
       "      <td>NaN</td>\n",
       "    </tr>\n",
       "    <tr>\n",
       "      <th>18</th>\n",
       "      <td>RT @BlueJays: RECAP: @BlueJays drop series fin...</td>\n",
       "      <td>Sun Aug 07 23:51:42 +0000 2016</td>\n",
       "      <td>Toronto Ontario Canada</td>\n",
       "      <td>68</td>\n",
       "      <td>0</td>\n",
       "      <td>43.700110</td>\n",
       "      <td>-79.416299</td>\n",
       "    </tr>\n",
       "    <tr>\n",
       "      <th>19</th>\n",
       "      <td>RT @_rallycap: But seriously the #BlueJays hav...</td>\n",
       "      <td>Sun Aug 07 23:51:06 +0000 2016</td>\n",
       "      <td>Tillsonburg</td>\n",
       "      <td>61</td>\n",
       "      <td>0</td>\n",
       "      <td>42.859859</td>\n",
       "      <td>-80.726169</td>\n",
       "    </tr>\n",
       "  </tbody>\n",
       "</table>\n",
       "</div>"
      ],
      "text/plain": [
       "                                                 text  \\\n",
       "0   @bluejays winning record on the road trip, com...   \n",
       "1   L #Toronto #BlueJays Toronto Blue Jays Beer St...   \n",
       "2   #Toronto #BlueJays TORONTO BLUE JAYS 1992 WORL...   \n",
       "3   #MLB #Baseball TORONTO #BlueJays 1992 WORLD SE...   \n",
       "4   RT @Wilnerness590: #Bluejays 4-3 road trip end...   \n",
       "5   #BlueJays return home with a winning road reco...   \n",
       "6   RT @Sportsnet: Road trip comes to sour end for...   \n",
       "7   RT @Sportsnet: Road trip comes to sour end for...   \n",
       "8   RT @JoseMeowtista: Tabby said the #BlueJays ha...   \n",
       "9   #SS #TroyTulowitzki 50 #Card lot with no dupli...   \n",
       "10  RT @Sportsnet: Road trip comes to sour end for...   \n",
       "11  RT @BlueJays: RECAP: @BlueJays drop series fin...   \n",
       "12  RT @FAN590: #BlueJays #Royals talk next on #Sp...   \n",
       "13  #BlueJays #Royals talk next on #SportsnetTonig...   \n",
       "14  #Healthy #Weightloss Increase Fat Burning By L...   \n",
       "15  WTF apparent experts are thinking?!\\n#BlueJays...   \n",
       "16  I know my @BlueJays lil devil @shano_heather a...   \n",
       "17  RT @BlueJays: RECAP: @BlueJays drop series fin...   \n",
       "18  RT @BlueJays: RECAP: @BlueJays drop series fin...   \n",
       "19  RT @_rallycap: But seriously the #BlueJays hav...   \n",
       "\n",
       "                        created_at                       location  \\\n",
       "0   Sun Aug 07 23:59:53 +0000 2016                                  \n",
       "1   Sun Aug 07 23:59:37 +0000 2016                                  \n",
       "2   Sun Aug 07 23:59:18 +0000 2016                                  \n",
       "3   Sun Aug 07 23:59:16 +0000 2016                                  \n",
       "4   Sun Aug 07 23:59:01 +0000 2016                                  \n",
       "5   Sun Aug 07 23:58:50 +0000 2016                                  \n",
       "6   Sun Aug 07 23:57:39 +0000 2016  Gaming place, GAMING COUNTRY.   \n",
       "7   Sun Aug 07 23:57:35 +0000 2016                                  \n",
       "8   Sun Aug 07 23:57:02 +0000 2016                                  \n",
       "9   Sun Aug 07 23:55:12 +0000 2016                                  \n",
       "10  Sun Aug 07 23:54:50 +0000 2016                        Toronto   \n",
       "11  Sun Aug 07 23:54:15 +0000 2016                                  \n",
       "12  Sun Aug 07 23:53:35 +0000 2016               Toronto, Ontario   \n",
       "13  Sun Aug 07 23:53:19 +0000 2016     ÜT: 43.6640565,-79.3769148   \n",
       "14  Sun Aug 07 23:53:12 +0000 2016                                  \n",
       "15  Sun Aug 07 23:52:54 +0000 2016            Edmonton AB, Canada   \n",
       "16  Sun Aug 07 23:52:27 +0000 2016                                  \n",
       "17  Sun Aug 07 23:52:12 +0000 2016                                  \n",
       "18  Sun Aug 07 23:51:42 +0000 2016         Toronto Ontario Canada   \n",
       "19  Sun Aug 07 23:51:06 +0000 2016                    Tillsonburg   \n",
       "\n",
       "    retweet_count  favorite_count   latitude   longitude  \n",
       "0               0               0        NaN         NaN  \n",
       "1               0               1        NaN         NaN  \n",
       "2               0               0        NaN         NaN  \n",
       "3               0               0        NaN         NaN  \n",
       "4               3               0        NaN         NaN  \n",
       "5              15               9        NaN         NaN  \n",
       "6              10               0        NaN         NaN  \n",
       "7              10               0        NaN         NaN  \n",
       "8              11               0        NaN         NaN  \n",
       "9               0               0        NaN         NaN  \n",
       "10             10               0  43.700110  -79.416299  \n",
       "11             68               0        NaN         NaN  \n",
       "12              1               0  43.700110  -79.416299  \n",
       "13              1               4        NaN         NaN  \n",
       "14              0               0        NaN         NaN  \n",
       "15              0               1  53.550136 -113.468706  \n",
       "16              0               2        NaN         NaN  \n",
       "17             68               0        NaN         NaN  \n",
       "18             68               0  43.700110  -79.416299  \n",
       "19             61               0  42.859859  -80.726169  "
      ]
     },
     "execution_count": 25,
     "metadata": {},
     "output_type": "execute_result"
    }
   ],
   "source": [
    "df_bluejays.head(20)"
   ]
  },
  {
   "cell_type": "code",
   "execution_count": 30,
   "metadata": {
    "collapsed": false
   },
   "outputs": [],
   "source": [
    "#g = geocoder.arcgis(df_redsox['location'][3])\n",
    "#g.latlng"
   ]
  },
  {
   "cell_type": "code",
   "execution_count": 31,
   "metadata": {
    "collapsed": false
   },
   "outputs": [],
   "source": [
    "#df_redsox['location'][:10].apply(geocoder.arcgis)"
   ]
  },
  {
   "cell_type": "code",
   "execution_count": 32,
   "metadata": {
    "collapsed": false
   },
   "outputs": [],
   "source": [
    "#print(len(lats))\n",
    "#print(len(longs))"
   ]
  },
  {
   "cell_type": "code",
   "execution_count": 33,
   "metadata": {
    "collapsed": false
   },
   "outputs": [],
   "source": [
    "#df_redsox['latitude'] = pd.Series(lats)\n",
    "#df_redsox['longitude'] = pd.Series(longs)"
   ]
  },
  {
   "cell_type": "code",
   "execution_count": 26,
   "metadata": {
    "collapsed": false
   },
   "outputs": [
    {
     "data": {
      "text/plain": [
       "dtype('O')"
      ]
     },
     "execution_count": 26,
     "metadata": {},
     "output_type": "execute_result"
    }
   ],
   "source": [
    "df_bluejays['created_at'].dtypes"
   ]
  },
  {
   "cell_type": "code",
   "execution_count": 27,
   "metadata": {
    "collapsed": false
   },
   "outputs": [
    {
     "data": {
      "text/plain": [
       "0    Sun Aug 07 23:59:53 +0000 2016\n",
       "1    Sun Aug 07 23:59:37 +0000 2016\n",
       "2    Sun Aug 07 23:59:18 +0000 2016\n",
       "3    Sun Aug 07 23:59:16 +0000 2016\n",
       "4    Sun Aug 07 23:59:01 +0000 2016\n",
       "Name: created_at, dtype: object"
      ]
     },
     "execution_count": 27,
     "metadata": {},
     "output_type": "execute_result"
    }
   ],
   "source": [
    "df_bluejays['created_at'].head()"
   ]
  },
  {
   "cell_type": "code",
   "execution_count": 28,
   "metadata": {
    "collapsed": false
   },
   "outputs": [
    {
     "name": "stderr",
     "output_type": "stream",
     "text": [
      "//anaconda/lib/python3.5/site-packages/ipykernel/__main__.py:2: SettingWithCopyWarning: \n",
      "A value is trying to be set on a copy of a slice from a DataFrame.\n",
      "Try using .loc[row_indexer,col_indexer] = value instead\n",
      "\n",
      "See the caveats in the documentation: http://pandas.pydata.org/pandas-docs/stable/indexing.html#indexing-view-versus-copy\n",
      "  from ipykernel import kernelapp as app\n",
      "//anaconda/lib/python3.5/site-packages/ipykernel/__main__.py:3: SettingWithCopyWarning: \n",
      "A value is trying to be set on a copy of a slice from a DataFrame.\n",
      "Try using .loc[row_indexer,col_indexer] = value instead\n",
      "\n",
      "See the caveats in the documentation: http://pandas.pydata.org/pandas-docs/stable/indexing.html#indexing-view-versus-copy\n",
      "  app.launch_new_instance()\n"
     ]
    }
   ],
   "source": [
    "# First, parse to datetime, then get YYYY-MM-DD format.\n",
    "df_bluejays['time'] = pd.to_datetime(df_bluejays['created_at'], format='%a %b %d %H:%M:%S +0000 %Y')\n",
    "df_bluejays['time'] = pd.to_datetime(df_bluejays['time'].dt.date, format='%Y-%m-%d')\n",
    "#date = datetime.strptime('Thu Apr 23 13:38:19 +0000 2009','%a %b %d %H:%M:%S +0000 %Y')\n",
    "#date = datetime.strftime(date, '%Y %d %m')\n",
    "#type(date)\n",
    "#df_redsox['time'].dtypes"
   ]
  },
  {
   "cell_type": "code",
   "execution_count": 29,
   "metadata": {
    "collapsed": false
   },
   "outputs": [
    {
     "data": {
      "text/html": [
       "<div>\n",
       "<table border=\"1\" class=\"dataframe\">\n",
       "  <thead>\n",
       "    <tr style=\"text-align: right;\">\n",
       "      <th></th>\n",
       "      <th>text</th>\n",
       "      <th>created_at</th>\n",
       "      <th>location</th>\n",
       "      <th>retweet_count</th>\n",
       "      <th>favorite_count</th>\n",
       "      <th>latitude</th>\n",
       "      <th>longitude</th>\n",
       "      <th>time</th>\n",
       "    </tr>\n",
       "  </thead>\n",
       "  <tbody>\n",
       "    <tr>\n",
       "      <th>0</th>\n",
       "      <td>@bluejays winning record on the road trip, com...</td>\n",
       "      <td>Sun Aug 07 23:59:53 +0000 2016</td>\n",
       "      <td></td>\n",
       "      <td>0</td>\n",
       "      <td>0</td>\n",
       "      <td>NaN</td>\n",
       "      <td>NaN</td>\n",
       "      <td>2016-08-07</td>\n",
       "    </tr>\n",
       "    <tr>\n",
       "      <th>1</th>\n",
       "      <td>L #Toronto #BlueJays Toronto Blue Jays Beer St...</td>\n",
       "      <td>Sun Aug 07 23:59:37 +0000 2016</td>\n",
       "      <td></td>\n",
       "      <td>0</td>\n",
       "      <td>1</td>\n",
       "      <td>NaN</td>\n",
       "      <td>NaN</td>\n",
       "      <td>2016-08-07</td>\n",
       "    </tr>\n",
       "    <tr>\n",
       "      <th>2</th>\n",
       "      <td>#Toronto #BlueJays TORONTO BLUE JAYS 1992 WORL...</td>\n",
       "      <td>Sun Aug 07 23:59:18 +0000 2016</td>\n",
       "      <td></td>\n",
       "      <td>0</td>\n",
       "      <td>0</td>\n",
       "      <td>NaN</td>\n",
       "      <td>NaN</td>\n",
       "      <td>2016-08-07</td>\n",
       "    </tr>\n",
       "    <tr>\n",
       "      <th>3</th>\n",
       "      <td>#MLB #Baseball TORONTO #BlueJays 1992 WORLD SE...</td>\n",
       "      <td>Sun Aug 07 23:59:16 +0000 2016</td>\n",
       "      <td></td>\n",
       "      <td>0</td>\n",
       "      <td>0</td>\n",
       "      <td>NaN</td>\n",
       "      <td>NaN</td>\n",
       "      <td>2016-08-07</td>\n",
       "    </tr>\n",
       "    <tr>\n",
       "      <th>4</th>\n",
       "      <td>RT @Wilnerness590: #Bluejays 4-3 road trip end...</td>\n",
       "      <td>Sun Aug 07 23:59:01 +0000 2016</td>\n",
       "      <td></td>\n",
       "      <td>3</td>\n",
       "      <td>0</td>\n",
       "      <td>NaN</td>\n",
       "      <td>NaN</td>\n",
       "      <td>2016-08-07</td>\n",
       "    </tr>\n",
       "    <tr>\n",
       "      <th>5</th>\n",
       "      <td>#BlueJays return home with a winning road reco...</td>\n",
       "      <td>Sun Aug 07 23:58:50 +0000 2016</td>\n",
       "      <td></td>\n",
       "      <td>15</td>\n",
       "      <td>9</td>\n",
       "      <td>NaN</td>\n",
       "      <td>NaN</td>\n",
       "      <td>2016-08-07</td>\n",
       "    </tr>\n",
       "    <tr>\n",
       "      <th>6</th>\n",
       "      <td>RT @Sportsnet: Road trip comes to sour end for...</td>\n",
       "      <td>Sun Aug 07 23:57:39 +0000 2016</td>\n",
       "      <td>Gaming place, GAMING COUNTRY.</td>\n",
       "      <td>10</td>\n",
       "      <td>0</td>\n",
       "      <td>NaN</td>\n",
       "      <td>NaN</td>\n",
       "      <td>2016-08-07</td>\n",
       "    </tr>\n",
       "    <tr>\n",
       "      <th>7</th>\n",
       "      <td>RT @Sportsnet: Road trip comes to sour end for...</td>\n",
       "      <td>Sun Aug 07 23:57:35 +0000 2016</td>\n",
       "      <td></td>\n",
       "      <td>10</td>\n",
       "      <td>0</td>\n",
       "      <td>NaN</td>\n",
       "      <td>NaN</td>\n",
       "      <td>2016-08-07</td>\n",
       "    </tr>\n",
       "    <tr>\n",
       "      <th>8</th>\n",
       "      <td>RT @JoseMeowtista: Tabby said the #BlueJays ha...</td>\n",
       "      <td>Sun Aug 07 23:57:02 +0000 2016</td>\n",
       "      <td></td>\n",
       "      <td>11</td>\n",
       "      <td>0</td>\n",
       "      <td>NaN</td>\n",
       "      <td>NaN</td>\n",
       "      <td>2016-08-07</td>\n",
       "    </tr>\n",
       "    <tr>\n",
       "      <th>9</th>\n",
       "      <td>#SS #TroyTulowitzki 50 #Card lot with no dupli...</td>\n",
       "      <td>Sun Aug 07 23:55:12 +0000 2016</td>\n",
       "      <td></td>\n",
       "      <td>0</td>\n",
       "      <td>0</td>\n",
       "      <td>NaN</td>\n",
       "      <td>NaN</td>\n",
       "      <td>2016-08-07</td>\n",
       "    </tr>\n",
       "  </tbody>\n",
       "</table>\n",
       "</div>"
      ],
      "text/plain": [
       "                                                text  \\\n",
       "0  @bluejays winning record on the road trip, com...   \n",
       "1  L #Toronto #BlueJays Toronto Blue Jays Beer St...   \n",
       "2  #Toronto #BlueJays TORONTO BLUE JAYS 1992 WORL...   \n",
       "3  #MLB #Baseball TORONTO #BlueJays 1992 WORLD SE...   \n",
       "4  RT @Wilnerness590: #Bluejays 4-3 road trip end...   \n",
       "5  #BlueJays return home with a winning road reco...   \n",
       "6  RT @Sportsnet: Road trip comes to sour end for...   \n",
       "7  RT @Sportsnet: Road trip comes to sour end for...   \n",
       "8  RT @JoseMeowtista: Tabby said the #BlueJays ha...   \n",
       "9  #SS #TroyTulowitzki 50 #Card lot with no dupli...   \n",
       "\n",
       "                       created_at                       location  \\\n",
       "0  Sun Aug 07 23:59:53 +0000 2016                                  \n",
       "1  Sun Aug 07 23:59:37 +0000 2016                                  \n",
       "2  Sun Aug 07 23:59:18 +0000 2016                                  \n",
       "3  Sun Aug 07 23:59:16 +0000 2016                                  \n",
       "4  Sun Aug 07 23:59:01 +0000 2016                                  \n",
       "5  Sun Aug 07 23:58:50 +0000 2016                                  \n",
       "6  Sun Aug 07 23:57:39 +0000 2016  Gaming place, GAMING COUNTRY.   \n",
       "7  Sun Aug 07 23:57:35 +0000 2016                                  \n",
       "8  Sun Aug 07 23:57:02 +0000 2016                                  \n",
       "9  Sun Aug 07 23:55:12 +0000 2016                                  \n",
       "\n",
       "   retweet_count  favorite_count  latitude  longitude       time  \n",
       "0              0               0       NaN        NaN 2016-08-07  \n",
       "1              0               1       NaN        NaN 2016-08-07  \n",
       "2              0               0       NaN        NaN 2016-08-07  \n",
       "3              0               0       NaN        NaN 2016-08-07  \n",
       "4              3               0       NaN        NaN 2016-08-07  \n",
       "5             15               9       NaN        NaN 2016-08-07  \n",
       "6             10               0       NaN        NaN 2016-08-07  \n",
       "7             10               0       NaN        NaN 2016-08-07  \n",
       "8             11               0       NaN        NaN 2016-08-07  \n",
       "9              0               0       NaN        NaN 2016-08-07  "
      ]
     },
     "execution_count": 29,
     "metadata": {},
     "output_type": "execute_result"
    }
   ],
   "source": [
    "df_bluejays.head(10)"
   ]
  },
  {
   "cell_type": "markdown",
   "metadata": {},
   "source": [
    "## Sentiment Analysis ##"
   ]
  },
  {
   "cell_type": "code",
   "execution_count": 30,
   "metadata": {
    "collapsed": false
   },
   "outputs": [
    {
     "data": {
      "text/html": [
       "<div>\n",
       "<table border=\"1\" class=\"dataframe\">\n",
       "  <thead>\n",
       "    <tr style=\"text-align: right;\">\n",
       "      <th></th>\n",
       "      <th>text</th>\n",
       "      <th>created_at</th>\n",
       "      <th>location</th>\n",
       "      <th>retweet_count</th>\n",
       "      <th>favorite_count</th>\n",
       "      <th>latitude</th>\n",
       "      <th>longitude</th>\n",
       "      <th>time</th>\n",
       "    </tr>\n",
       "  </thead>\n",
       "  <tbody>\n",
       "    <tr>\n",
       "      <th>0</th>\n",
       "      <td>@bluejays winning record on the road trip, com...</td>\n",
       "      <td>Sun Aug 07 23:59:53 +0000 2016</td>\n",
       "      <td></td>\n",
       "      <td>0</td>\n",
       "      <td>0</td>\n",
       "      <td>NaN</td>\n",
       "      <td>NaN</td>\n",
       "      <td>2016-08-07</td>\n",
       "    </tr>\n",
       "    <tr>\n",
       "      <th>1</th>\n",
       "      <td>L #Toronto #BlueJays Toronto Blue Jays Beer St...</td>\n",
       "      <td>Sun Aug 07 23:59:37 +0000 2016</td>\n",
       "      <td></td>\n",
       "      <td>0</td>\n",
       "      <td>1</td>\n",
       "      <td>NaN</td>\n",
       "      <td>NaN</td>\n",
       "      <td>2016-08-07</td>\n",
       "    </tr>\n",
       "    <tr>\n",
       "      <th>2</th>\n",
       "      <td>#Toronto #BlueJays TORONTO BLUE JAYS 1992 WORL...</td>\n",
       "      <td>Sun Aug 07 23:59:18 +0000 2016</td>\n",
       "      <td></td>\n",
       "      <td>0</td>\n",
       "      <td>0</td>\n",
       "      <td>NaN</td>\n",
       "      <td>NaN</td>\n",
       "      <td>2016-08-07</td>\n",
       "    </tr>\n",
       "    <tr>\n",
       "      <th>3</th>\n",
       "      <td>#MLB #Baseball TORONTO #BlueJays 1992 WORLD SE...</td>\n",
       "      <td>Sun Aug 07 23:59:16 +0000 2016</td>\n",
       "      <td></td>\n",
       "      <td>0</td>\n",
       "      <td>0</td>\n",
       "      <td>NaN</td>\n",
       "      <td>NaN</td>\n",
       "      <td>2016-08-07</td>\n",
       "    </tr>\n",
       "    <tr>\n",
       "      <th>4</th>\n",
       "      <td>RT @Wilnerness590: #Bluejays 4-3 road trip end...</td>\n",
       "      <td>Sun Aug 07 23:59:01 +0000 2016</td>\n",
       "      <td></td>\n",
       "      <td>3</td>\n",
       "      <td>0</td>\n",
       "      <td>NaN</td>\n",
       "      <td>NaN</td>\n",
       "      <td>2016-08-07</td>\n",
       "    </tr>\n",
       "  </tbody>\n",
       "</table>\n",
       "</div>"
      ],
      "text/plain": [
       "                                                text  \\\n",
       "0  @bluejays winning record on the road trip, com...   \n",
       "1  L #Toronto #BlueJays Toronto Blue Jays Beer St...   \n",
       "2  #Toronto #BlueJays TORONTO BLUE JAYS 1992 WORL...   \n",
       "3  #MLB #Baseball TORONTO #BlueJays 1992 WORLD SE...   \n",
       "4  RT @Wilnerness590: #Bluejays 4-3 road trip end...   \n",
       "\n",
       "                       created_at location  retweet_count  favorite_count  \\\n",
       "0  Sun Aug 07 23:59:53 +0000 2016                       0               0   \n",
       "1  Sun Aug 07 23:59:37 +0000 2016                       0               1   \n",
       "2  Sun Aug 07 23:59:18 +0000 2016                       0               0   \n",
       "3  Sun Aug 07 23:59:16 +0000 2016                       0               0   \n",
       "4  Sun Aug 07 23:59:01 +0000 2016                       3               0   \n",
       "\n",
       "   latitude  longitude       time  \n",
       "0       NaN        NaN 2016-08-07  \n",
       "1       NaN        NaN 2016-08-07  \n",
       "2       NaN        NaN 2016-08-07  \n",
       "3       NaN        NaN 2016-08-07  \n",
       "4       NaN        NaN 2016-08-07  "
      ]
     },
     "execution_count": 30,
     "metadata": {},
     "output_type": "execute_result"
    }
   ],
   "source": [
    "df_bluejays.head()"
   ]
  },
  {
   "cell_type": "code",
   "execution_count": 31,
   "metadata": {
    "collapsed": true
   },
   "outputs": [],
   "source": [
    "from textblob import TextBlob"
   ]
  },
  {
   "cell_type": "code",
   "execution_count": 32,
   "metadata": {
    "collapsed": false
   },
   "outputs": [],
   "source": [
    "tweets = df_bluejays['text']\n",
    "sentiments = []\n",
    "for tweet in tweets:\n",
    "    wiki = TextBlob(tweet)\n",
    "    sentiments.append(wiki.sentiment.polarity)"
   ]
  },
  {
   "cell_type": "code",
   "execution_count": 33,
   "metadata": {
    "collapsed": false
   },
   "outputs": [
    {
     "name": "stderr",
     "output_type": "stream",
     "text": [
      "//anaconda/lib/python3.5/site-packages/ipykernel/__main__.py:1: SettingWithCopyWarning: \n",
      "A value is trying to be set on a copy of a slice from a DataFrame.\n",
      "Try using .loc[row_indexer,col_indexer] = value instead\n",
      "\n",
      "See the caveats in the documentation: http://pandas.pydata.org/pandas-docs/stable/indexing.html#indexing-view-versus-copy\n",
      "  if __name__ == '__main__':\n"
     ]
    }
   ],
   "source": [
    "df_bluejays['sentiment'] = pd.Series(sentiments)"
   ]
  },
  {
   "cell_type": "code",
   "execution_count": 34,
   "metadata": {
    "collapsed": false
   },
   "outputs": [
    {
     "data": {
      "text/html": [
       "<div>\n",
       "<table border=\"1\" class=\"dataframe\">\n",
       "  <thead>\n",
       "    <tr style=\"text-align: right;\">\n",
       "      <th></th>\n",
       "      <th>text</th>\n",
       "      <th>created_at</th>\n",
       "      <th>location</th>\n",
       "      <th>retweet_count</th>\n",
       "      <th>favorite_count</th>\n",
       "      <th>latitude</th>\n",
       "      <th>longitude</th>\n",
       "      <th>time</th>\n",
       "      <th>sentiment</th>\n",
       "    </tr>\n",
       "  </thead>\n",
       "  <tbody>\n",
       "    <tr>\n",
       "      <th>0</th>\n",
       "      <td>@bluejays winning record on the road trip, com...</td>\n",
       "      <td>Sun Aug 07 23:59:53 +0000 2016</td>\n",
       "      <td></td>\n",
       "      <td>0</td>\n",
       "      <td>0</td>\n",
       "      <td>NaN</td>\n",
       "      <td>NaN</td>\n",
       "      <td>2016-08-07</td>\n",
       "      <td>0.500000</td>\n",
       "    </tr>\n",
       "    <tr>\n",
       "      <th>1</th>\n",
       "      <td>L #Toronto #BlueJays Toronto Blue Jays Beer St...</td>\n",
       "      <td>Sun Aug 07 23:59:37 +0000 2016</td>\n",
       "      <td></td>\n",
       "      <td>0</td>\n",
       "      <td>1</td>\n",
       "      <td>NaN</td>\n",
       "      <td>NaN</td>\n",
       "      <td>2016-08-07</td>\n",
       "      <td>-0.121212</td>\n",
       "    </tr>\n",
       "    <tr>\n",
       "      <th>2</th>\n",
       "      <td>#Toronto #BlueJays TORONTO BLUE JAYS 1992 WORL...</td>\n",
       "      <td>Sun Aug 07 23:59:18 +0000 2016</td>\n",
       "      <td></td>\n",
       "      <td>0</td>\n",
       "      <td>0</td>\n",
       "      <td>NaN</td>\n",
       "      <td>NaN</td>\n",
       "      <td>2016-08-07</td>\n",
       "      <td>-0.250000</td>\n",
       "    </tr>\n",
       "    <tr>\n",
       "      <th>3</th>\n",
       "      <td>#MLB #Baseball TORONTO #BlueJays 1992 WORLD SE...</td>\n",
       "      <td>Sun Aug 07 23:59:16 +0000 2016</td>\n",
       "      <td></td>\n",
       "      <td>0</td>\n",
       "      <td>0</td>\n",
       "      <td>NaN</td>\n",
       "      <td>NaN</td>\n",
       "      <td>2016-08-07</td>\n",
       "      <td>0.000000</td>\n",
       "    </tr>\n",
       "    <tr>\n",
       "      <th>4</th>\n",
       "      <td>RT @Wilnerness590: #Bluejays 4-3 road trip end...</td>\n",
       "      <td>Sun Aug 07 23:59:01 +0000 2016</td>\n",
       "      <td></td>\n",
       "      <td>3</td>\n",
       "      <td>0</td>\n",
       "      <td>NaN</td>\n",
       "      <td>NaN</td>\n",
       "      <td>2016-08-07</td>\n",
       "      <td>0.300000</td>\n",
       "    </tr>\n",
       "    <tr>\n",
       "      <th>5</th>\n",
       "      <td>#BlueJays return home with a winning road reco...</td>\n",
       "      <td>Sun Aug 07 23:58:50 +0000 2016</td>\n",
       "      <td></td>\n",
       "      <td>15</td>\n",
       "      <td>9</td>\n",
       "      <td>NaN</td>\n",
       "      <td>NaN</td>\n",
       "      <td>2016-08-07</td>\n",
       "      <td>0.500000</td>\n",
       "    </tr>\n",
       "    <tr>\n",
       "      <th>6</th>\n",
       "      <td>RT @Sportsnet: Road trip comes to sour end for...</td>\n",
       "      <td>Sun Aug 07 23:57:39 +0000 2016</td>\n",
       "      <td>Gaming place, GAMING COUNTRY.</td>\n",
       "      <td>10</td>\n",
       "      <td>0</td>\n",
       "      <td>NaN</td>\n",
       "      <td>NaN</td>\n",
       "      <td>2016-08-07</td>\n",
       "      <td>-0.150000</td>\n",
       "    </tr>\n",
       "    <tr>\n",
       "      <th>7</th>\n",
       "      <td>RT @Sportsnet: Road trip comes to sour end for...</td>\n",
       "      <td>Sun Aug 07 23:57:35 +0000 2016</td>\n",
       "      <td></td>\n",
       "      <td>10</td>\n",
       "      <td>0</td>\n",
       "      <td>NaN</td>\n",
       "      <td>NaN</td>\n",
       "      <td>2016-08-07</td>\n",
       "      <td>-0.150000</td>\n",
       "    </tr>\n",
       "    <tr>\n",
       "      <th>8</th>\n",
       "      <td>RT @JoseMeowtista: Tabby said the #BlueJays ha...</td>\n",
       "      <td>Sun Aug 07 23:57:02 +0000 2016</td>\n",
       "      <td></td>\n",
       "      <td>11</td>\n",
       "      <td>0</td>\n",
       "      <td>NaN</td>\n",
       "      <td>NaN</td>\n",
       "      <td>2016-08-07</td>\n",
       "      <td>-0.225000</td>\n",
       "    </tr>\n",
       "    <tr>\n",
       "      <th>9</th>\n",
       "      <td>#SS #TroyTulowitzki 50 #Card lot with no dupli...</td>\n",
       "      <td>Sun Aug 07 23:55:12 +0000 2016</td>\n",
       "      <td></td>\n",
       "      <td>0</td>\n",
       "      <td>0</td>\n",
       "      <td>NaN</td>\n",
       "      <td>NaN</td>\n",
       "      <td>2016-08-07</td>\n",
       "      <td>0.000000</td>\n",
       "    </tr>\n",
       "  </tbody>\n",
       "</table>\n",
       "</div>"
      ],
      "text/plain": [
       "                                                text  \\\n",
       "0  @bluejays winning record on the road trip, com...   \n",
       "1  L #Toronto #BlueJays Toronto Blue Jays Beer St...   \n",
       "2  #Toronto #BlueJays TORONTO BLUE JAYS 1992 WORL...   \n",
       "3  #MLB #Baseball TORONTO #BlueJays 1992 WORLD SE...   \n",
       "4  RT @Wilnerness590: #Bluejays 4-3 road trip end...   \n",
       "5  #BlueJays return home with a winning road reco...   \n",
       "6  RT @Sportsnet: Road trip comes to sour end for...   \n",
       "7  RT @Sportsnet: Road trip comes to sour end for...   \n",
       "8  RT @JoseMeowtista: Tabby said the #BlueJays ha...   \n",
       "9  #SS #TroyTulowitzki 50 #Card lot with no dupli...   \n",
       "\n",
       "                       created_at                       location  \\\n",
       "0  Sun Aug 07 23:59:53 +0000 2016                                  \n",
       "1  Sun Aug 07 23:59:37 +0000 2016                                  \n",
       "2  Sun Aug 07 23:59:18 +0000 2016                                  \n",
       "3  Sun Aug 07 23:59:16 +0000 2016                                  \n",
       "4  Sun Aug 07 23:59:01 +0000 2016                                  \n",
       "5  Sun Aug 07 23:58:50 +0000 2016                                  \n",
       "6  Sun Aug 07 23:57:39 +0000 2016  Gaming place, GAMING COUNTRY.   \n",
       "7  Sun Aug 07 23:57:35 +0000 2016                                  \n",
       "8  Sun Aug 07 23:57:02 +0000 2016                                  \n",
       "9  Sun Aug 07 23:55:12 +0000 2016                                  \n",
       "\n",
       "   retweet_count  favorite_count  latitude  longitude       time  sentiment  \n",
       "0              0               0       NaN        NaN 2016-08-07   0.500000  \n",
       "1              0               1       NaN        NaN 2016-08-07  -0.121212  \n",
       "2              0               0       NaN        NaN 2016-08-07  -0.250000  \n",
       "3              0               0       NaN        NaN 2016-08-07   0.000000  \n",
       "4              3               0       NaN        NaN 2016-08-07   0.300000  \n",
       "5             15               9       NaN        NaN 2016-08-07   0.500000  \n",
       "6             10               0       NaN        NaN 2016-08-07  -0.150000  \n",
       "7             10               0       NaN        NaN 2016-08-07  -0.150000  \n",
       "8             11               0       NaN        NaN 2016-08-07  -0.225000  \n",
       "9              0               0       NaN        NaN 2016-08-07   0.000000  "
      ]
     },
     "execution_count": 34,
     "metadata": {},
     "output_type": "execute_result"
    }
   ],
   "source": [
    "df_bluejays.head(10)"
   ]
  },
  {
   "cell_type": "code",
   "execution_count": 223,
   "metadata": {
    "collapsed": true
   },
   "outputs": [],
   "source": [
    "#df_redsox.to_csv('df_redsox.csv')"
   ]
  },
  {
   "cell_type": "code",
   "execution_count": 35,
   "metadata": {
    "collapsed": false
   },
   "outputs": [
    {
     "name": "stdout",
     "output_type": "stream",
     "text": [
      "43.7001099470005 -79.41629882799964\n"
     ]
    }
   ],
   "source": [
    "g = geocoder.arcgis('Toronto, Ontario')\n",
    "toronto_lat = g.latlng[0]\n",
    "toronto_long = g.latlng[1]\n",
    "print(toronto_lat, toronto_long)"
   ]
  },
  {
   "cell_type": "code",
   "execution_count": 37,
   "metadata": {
    "collapsed": false
   },
   "outputs": [],
   "source": [
    "import gpxpy.geo\n",
    "import math\n",
    "haversine_distances = []\n",
    "for i in range(df_bluejays.shape[0]):\n",
    "#dist = gpxpy.geo.haversine_distance(52.2296756, 21.0122287, 52.406374, 16.9251681)\n",
    "#print(dist)\n",
    "    if math.isnan(df_bluejays.iloc[i]['latitude']):\n",
    "        haversine_distances.append(np.nan)\n",
    "    else:\n",
    "        distance = gpxpy.geo.haversine_distance(toronto_lat, toronto_long, df_bluejays.iloc[i]['latitude'], df_bluejays.iloc[i]['longitude'])\n",
    "        haversine_distances.append(distance)"
   ]
  },
  {
   "cell_type": "code",
   "execution_count": 38,
   "metadata": {
    "collapsed": false
   },
   "outputs": [
    {
     "data": {
      "text/plain": [
       "10000"
      ]
     },
     "execution_count": 38,
     "metadata": {},
     "output_type": "execute_result"
    }
   ],
   "source": [
    "len(haversine_distances)"
   ]
  },
  {
   "cell_type": "code",
   "execution_count": 39,
   "metadata": {
    "collapsed": false
   },
   "outputs": [
    {
     "name": "stderr",
     "output_type": "stream",
     "text": [
      "//anaconda/lib/python3.5/site-packages/ipykernel/__main__.py:1: SettingWithCopyWarning: \n",
      "A value is trying to be set on a copy of a slice from a DataFrame.\n",
      "Try using .loc[row_indexer,col_indexer] = value instead\n",
      "\n",
      "See the caveats in the documentation: http://pandas.pydata.org/pandas-docs/stable/indexing.html#indexing-view-versus-copy\n",
      "  if __name__ == '__main__':\n"
     ]
    }
   ],
   "source": [
    "df_bluejays['hav_distance'] = pd.Series(haversine_distances)"
   ]
  },
  {
   "cell_type": "code",
   "execution_count": 43,
   "metadata": {
    "collapsed": false
   },
   "outputs": [
    {
     "data": {
      "text/html": [
       "<div>\n",
       "<table border=\"1\" class=\"dataframe\">\n",
       "  <thead>\n",
       "    <tr style=\"text-align: right;\">\n",
       "      <th></th>\n",
       "      <th>text</th>\n",
       "      <th>created_at</th>\n",
       "      <th>location</th>\n",
       "      <th>retweet_count</th>\n",
       "      <th>favorite_count</th>\n",
       "      <th>latitude</th>\n",
       "      <th>longitude</th>\n",
       "      <th>time</th>\n",
       "      <th>sentiment</th>\n",
       "      <th>hav_distance</th>\n",
       "    </tr>\n",
       "  </thead>\n",
       "  <tbody>\n",
       "    <tr>\n",
       "      <th>0</th>\n",
       "      <td>@bluejays winning record on the road trip, com...</td>\n",
       "      <td>Sun Aug 07 23:59:53 +0000 2016</td>\n",
       "      <td></td>\n",
       "      <td>0</td>\n",
       "      <td>0</td>\n",
       "      <td>NaN</td>\n",
       "      <td>NaN</td>\n",
       "      <td>2016-08-07</td>\n",
       "      <td>0.500000</td>\n",
       "      <td>NaN</td>\n",
       "    </tr>\n",
       "    <tr>\n",
       "      <th>1</th>\n",
       "      <td>L #Toronto #BlueJays Toronto Blue Jays Beer St...</td>\n",
       "      <td>Sun Aug 07 23:59:37 +0000 2016</td>\n",
       "      <td></td>\n",
       "      <td>0</td>\n",
       "      <td>1</td>\n",
       "      <td>NaN</td>\n",
       "      <td>NaN</td>\n",
       "      <td>2016-08-07</td>\n",
       "      <td>-0.121212</td>\n",
       "      <td>NaN</td>\n",
       "    </tr>\n",
       "    <tr>\n",
       "      <th>2</th>\n",
       "      <td>#Toronto #BlueJays TORONTO BLUE JAYS 1992 WORL...</td>\n",
       "      <td>Sun Aug 07 23:59:18 +0000 2016</td>\n",
       "      <td></td>\n",
       "      <td>0</td>\n",
       "      <td>0</td>\n",
       "      <td>NaN</td>\n",
       "      <td>NaN</td>\n",
       "      <td>2016-08-07</td>\n",
       "      <td>-0.250000</td>\n",
       "      <td>NaN</td>\n",
       "    </tr>\n",
       "    <tr>\n",
       "      <th>3</th>\n",
       "      <td>#MLB #Baseball TORONTO #BlueJays 1992 WORLD SE...</td>\n",
       "      <td>Sun Aug 07 23:59:16 +0000 2016</td>\n",
       "      <td></td>\n",
       "      <td>0</td>\n",
       "      <td>0</td>\n",
       "      <td>NaN</td>\n",
       "      <td>NaN</td>\n",
       "      <td>2016-08-07</td>\n",
       "      <td>0.000000</td>\n",
       "      <td>NaN</td>\n",
       "    </tr>\n",
       "    <tr>\n",
       "      <th>4</th>\n",
       "      <td>RT @Wilnerness590: #Bluejays 4-3 road trip end...</td>\n",
       "      <td>Sun Aug 07 23:59:01 +0000 2016</td>\n",
       "      <td></td>\n",
       "      <td>3</td>\n",
       "      <td>0</td>\n",
       "      <td>NaN</td>\n",
       "      <td>NaN</td>\n",
       "      <td>2016-08-07</td>\n",
       "      <td>0.300000</td>\n",
       "      <td>NaN</td>\n",
       "    </tr>\n",
       "    <tr>\n",
       "      <th>5</th>\n",
       "      <td>#BlueJays return home with a winning road reco...</td>\n",
       "      <td>Sun Aug 07 23:58:50 +0000 2016</td>\n",
       "      <td></td>\n",
       "      <td>15</td>\n",
       "      <td>9</td>\n",
       "      <td>NaN</td>\n",
       "      <td>NaN</td>\n",
       "      <td>2016-08-07</td>\n",
       "      <td>0.500000</td>\n",
       "      <td>NaN</td>\n",
       "    </tr>\n",
       "    <tr>\n",
       "      <th>6</th>\n",
       "      <td>RT @Sportsnet: Road trip comes to sour end for...</td>\n",
       "      <td>Sun Aug 07 23:57:39 +0000 2016</td>\n",
       "      <td>Gaming place, GAMING COUNTRY.</td>\n",
       "      <td>10</td>\n",
       "      <td>0</td>\n",
       "      <td>NaN</td>\n",
       "      <td>NaN</td>\n",
       "      <td>2016-08-07</td>\n",
       "      <td>-0.150000</td>\n",
       "      <td>NaN</td>\n",
       "    </tr>\n",
       "    <tr>\n",
       "      <th>7</th>\n",
       "      <td>RT @Sportsnet: Road trip comes to sour end for...</td>\n",
       "      <td>Sun Aug 07 23:57:35 +0000 2016</td>\n",
       "      <td></td>\n",
       "      <td>10</td>\n",
       "      <td>0</td>\n",
       "      <td>NaN</td>\n",
       "      <td>NaN</td>\n",
       "      <td>2016-08-07</td>\n",
       "      <td>-0.150000</td>\n",
       "      <td>NaN</td>\n",
       "    </tr>\n",
       "    <tr>\n",
       "      <th>8</th>\n",
       "      <td>RT @JoseMeowtista: Tabby said the #BlueJays ha...</td>\n",
       "      <td>Sun Aug 07 23:57:02 +0000 2016</td>\n",
       "      <td></td>\n",
       "      <td>11</td>\n",
       "      <td>0</td>\n",
       "      <td>NaN</td>\n",
       "      <td>NaN</td>\n",
       "      <td>2016-08-07</td>\n",
       "      <td>-0.225000</td>\n",
       "      <td>NaN</td>\n",
       "    </tr>\n",
       "    <tr>\n",
       "      <th>9</th>\n",
       "      <td>#SS #TroyTulowitzki 50 #Card lot with no dupli...</td>\n",
       "      <td>Sun Aug 07 23:55:12 +0000 2016</td>\n",
       "      <td></td>\n",
       "      <td>0</td>\n",
       "      <td>0</td>\n",
       "      <td>NaN</td>\n",
       "      <td>NaN</td>\n",
       "      <td>2016-08-07</td>\n",
       "      <td>0.000000</td>\n",
       "      <td>NaN</td>\n",
       "    </tr>\n",
       "    <tr>\n",
       "      <th>10</th>\n",
       "      <td>RT @Sportsnet: Road trip comes to sour end for...</td>\n",
       "      <td>Sun Aug 07 23:54:50 +0000 2016</td>\n",
       "      <td>Toronto</td>\n",
       "      <td>10</td>\n",
       "      <td>0</td>\n",
       "      <td>43.700110</td>\n",
       "      <td>-79.416299</td>\n",
       "      <td>2016-08-07</td>\n",
       "      <td>-0.150000</td>\n",
       "      <td>0.000000e+00</td>\n",
       "    </tr>\n",
       "    <tr>\n",
       "      <th>11</th>\n",
       "      <td>RT @BlueJays: RECAP: @BlueJays drop series fin...</td>\n",
       "      <td>Sun Aug 07 23:54:15 +0000 2016</td>\n",
       "      <td></td>\n",
       "      <td>68</td>\n",
       "      <td>0</td>\n",
       "      <td>NaN</td>\n",
       "      <td>NaN</td>\n",
       "      <td>2016-08-07</td>\n",
       "      <td>0.000000</td>\n",
       "      <td>NaN</td>\n",
       "    </tr>\n",
       "    <tr>\n",
       "      <th>12</th>\n",
       "      <td>RT @FAN590: #BlueJays #Royals talk next on #Sp...</td>\n",
       "      <td>Sun Aug 07 23:53:35 +0000 2016</td>\n",
       "      <td>Toronto, Ontario</td>\n",
       "      <td>1</td>\n",
       "      <td>0</td>\n",
       "      <td>43.700110</td>\n",
       "      <td>-79.416299</td>\n",
       "      <td>2016-08-07</td>\n",
       "      <td>0.250000</td>\n",
       "      <td>0.000000e+00</td>\n",
       "    </tr>\n",
       "    <tr>\n",
       "      <th>13</th>\n",
       "      <td>#BlueJays #Royals talk next on #SportsnetTonig...</td>\n",
       "      <td>Sun Aug 07 23:53:19 +0000 2016</td>\n",
       "      <td>ÜT: 43.6640565,-79.3769148</td>\n",
       "      <td>1</td>\n",
       "      <td>4</td>\n",
       "      <td>NaN</td>\n",
       "      <td>NaN</td>\n",
       "      <td>2016-08-07</td>\n",
       "      <td>0.250000</td>\n",
       "      <td>NaN</td>\n",
       "    </tr>\n",
       "    <tr>\n",
       "      <th>14</th>\n",
       "      <td>#Healthy #Weightloss Increase Fat Burning By L...</td>\n",
       "      <td>Sun Aug 07 23:53:12 +0000 2016</td>\n",
       "      <td></td>\n",
       "      <td>0</td>\n",
       "      <td>0</td>\n",
       "      <td>NaN</td>\n",
       "      <td>NaN</td>\n",
       "      <td>2016-08-07</td>\n",
       "      <td>0.450000</td>\n",
       "      <td>NaN</td>\n",
       "    </tr>\n",
       "    <tr>\n",
       "      <th>15</th>\n",
       "      <td>WTF apparent experts are thinking?!\\n#BlueJays...</td>\n",
       "      <td>Sun Aug 07 23:52:54 +0000 2016</td>\n",
       "      <td>Edmonton AB, Canada</td>\n",
       "      <td>0</td>\n",
       "      <td>1</td>\n",
       "      <td>53.550136</td>\n",
       "      <td>-113.468706</td>\n",
       "      <td>2016-08-07</td>\n",
       "      <td>-0.218750</td>\n",
       "      <td>2.698897e+06</td>\n",
       "    </tr>\n",
       "    <tr>\n",
       "      <th>16</th>\n",
       "      <td>I know my @BlueJays lil devil @shano_heather a...</td>\n",
       "      <td>Sun Aug 07 23:52:27 +0000 2016</td>\n",
       "      <td></td>\n",
       "      <td>0</td>\n",
       "      <td>2</td>\n",
       "      <td>NaN</td>\n",
       "      <td>NaN</td>\n",
       "      <td>2016-08-07</td>\n",
       "      <td>1.000000</td>\n",
       "      <td>NaN</td>\n",
       "    </tr>\n",
       "    <tr>\n",
       "      <th>17</th>\n",
       "      <td>RT @BlueJays: RECAP: @BlueJays drop series fin...</td>\n",
       "      <td>Sun Aug 07 23:52:12 +0000 2016</td>\n",
       "      <td></td>\n",
       "      <td>68</td>\n",
       "      <td>0</td>\n",
       "      <td>NaN</td>\n",
       "      <td>NaN</td>\n",
       "      <td>2016-08-07</td>\n",
       "      <td>0.000000</td>\n",
       "      <td>NaN</td>\n",
       "    </tr>\n",
       "    <tr>\n",
       "      <th>18</th>\n",
       "      <td>RT @BlueJays: RECAP: @BlueJays drop series fin...</td>\n",
       "      <td>Sun Aug 07 23:51:42 +0000 2016</td>\n",
       "      <td>Toronto Ontario Canada</td>\n",
       "      <td>68</td>\n",
       "      <td>0</td>\n",
       "      <td>43.700110</td>\n",
       "      <td>-79.416299</td>\n",
       "      <td>2016-08-07</td>\n",
       "      <td>0.000000</td>\n",
       "      <td>0.000000e+00</td>\n",
       "    </tr>\n",
       "    <tr>\n",
       "      <th>19</th>\n",
       "      <td>RT @_rallycap: But seriously the #BlueJays hav...</td>\n",
       "      <td>Sun Aug 07 23:51:06 +0000 2016</td>\n",
       "      <td>Tillsonburg</td>\n",
       "      <td>61</td>\n",
       "      <td>0</td>\n",
       "      <td>42.859859</td>\n",
       "      <td>-80.726169</td>\n",
       "      <td>2016-08-07</td>\n",
       "      <td>0.093333</td>\n",
       "      <td>1.413225e+05</td>\n",
       "    </tr>\n",
       "  </tbody>\n",
       "</table>\n",
       "</div>"
      ],
      "text/plain": [
       "                                                 text  \\\n",
       "0   @bluejays winning record on the road trip, com...   \n",
       "1   L #Toronto #BlueJays Toronto Blue Jays Beer St...   \n",
       "2   #Toronto #BlueJays TORONTO BLUE JAYS 1992 WORL...   \n",
       "3   #MLB #Baseball TORONTO #BlueJays 1992 WORLD SE...   \n",
       "4   RT @Wilnerness590: #Bluejays 4-3 road trip end...   \n",
       "5   #BlueJays return home with a winning road reco...   \n",
       "6   RT @Sportsnet: Road trip comes to sour end for...   \n",
       "7   RT @Sportsnet: Road trip comes to sour end for...   \n",
       "8   RT @JoseMeowtista: Tabby said the #BlueJays ha...   \n",
       "9   #SS #TroyTulowitzki 50 #Card lot with no dupli...   \n",
       "10  RT @Sportsnet: Road trip comes to sour end for...   \n",
       "11  RT @BlueJays: RECAP: @BlueJays drop series fin...   \n",
       "12  RT @FAN590: #BlueJays #Royals talk next on #Sp...   \n",
       "13  #BlueJays #Royals talk next on #SportsnetTonig...   \n",
       "14  #Healthy #Weightloss Increase Fat Burning By L...   \n",
       "15  WTF apparent experts are thinking?!\\n#BlueJays...   \n",
       "16  I know my @BlueJays lil devil @shano_heather a...   \n",
       "17  RT @BlueJays: RECAP: @BlueJays drop series fin...   \n",
       "18  RT @BlueJays: RECAP: @BlueJays drop series fin...   \n",
       "19  RT @_rallycap: But seriously the #BlueJays hav...   \n",
       "\n",
       "                        created_at                       location  \\\n",
       "0   Sun Aug 07 23:59:53 +0000 2016                                  \n",
       "1   Sun Aug 07 23:59:37 +0000 2016                                  \n",
       "2   Sun Aug 07 23:59:18 +0000 2016                                  \n",
       "3   Sun Aug 07 23:59:16 +0000 2016                                  \n",
       "4   Sun Aug 07 23:59:01 +0000 2016                                  \n",
       "5   Sun Aug 07 23:58:50 +0000 2016                                  \n",
       "6   Sun Aug 07 23:57:39 +0000 2016  Gaming place, GAMING COUNTRY.   \n",
       "7   Sun Aug 07 23:57:35 +0000 2016                                  \n",
       "8   Sun Aug 07 23:57:02 +0000 2016                                  \n",
       "9   Sun Aug 07 23:55:12 +0000 2016                                  \n",
       "10  Sun Aug 07 23:54:50 +0000 2016                        Toronto   \n",
       "11  Sun Aug 07 23:54:15 +0000 2016                                  \n",
       "12  Sun Aug 07 23:53:35 +0000 2016               Toronto, Ontario   \n",
       "13  Sun Aug 07 23:53:19 +0000 2016     ÜT: 43.6640565,-79.3769148   \n",
       "14  Sun Aug 07 23:53:12 +0000 2016                                  \n",
       "15  Sun Aug 07 23:52:54 +0000 2016            Edmonton AB, Canada   \n",
       "16  Sun Aug 07 23:52:27 +0000 2016                                  \n",
       "17  Sun Aug 07 23:52:12 +0000 2016                                  \n",
       "18  Sun Aug 07 23:51:42 +0000 2016         Toronto Ontario Canada   \n",
       "19  Sun Aug 07 23:51:06 +0000 2016                    Tillsonburg   \n",
       "\n",
       "    retweet_count  favorite_count   latitude   longitude       time  \\\n",
       "0               0               0        NaN         NaN 2016-08-07   \n",
       "1               0               1        NaN         NaN 2016-08-07   \n",
       "2               0               0        NaN         NaN 2016-08-07   \n",
       "3               0               0        NaN         NaN 2016-08-07   \n",
       "4               3               0        NaN         NaN 2016-08-07   \n",
       "5              15               9        NaN         NaN 2016-08-07   \n",
       "6              10               0        NaN         NaN 2016-08-07   \n",
       "7              10               0        NaN         NaN 2016-08-07   \n",
       "8              11               0        NaN         NaN 2016-08-07   \n",
       "9               0               0        NaN         NaN 2016-08-07   \n",
       "10             10               0  43.700110  -79.416299 2016-08-07   \n",
       "11             68               0        NaN         NaN 2016-08-07   \n",
       "12              1               0  43.700110  -79.416299 2016-08-07   \n",
       "13              1               4        NaN         NaN 2016-08-07   \n",
       "14              0               0        NaN         NaN 2016-08-07   \n",
       "15              0               1  53.550136 -113.468706 2016-08-07   \n",
       "16              0               2        NaN         NaN 2016-08-07   \n",
       "17             68               0        NaN         NaN 2016-08-07   \n",
       "18             68               0  43.700110  -79.416299 2016-08-07   \n",
       "19             61               0  42.859859  -80.726169 2016-08-07   \n",
       "\n",
       "    sentiment  hav_distance  \n",
       "0    0.500000           NaN  \n",
       "1   -0.121212           NaN  \n",
       "2   -0.250000           NaN  \n",
       "3    0.000000           NaN  \n",
       "4    0.300000           NaN  \n",
       "5    0.500000           NaN  \n",
       "6   -0.150000           NaN  \n",
       "7   -0.150000           NaN  \n",
       "8   -0.225000           NaN  \n",
       "9    0.000000           NaN  \n",
       "10  -0.150000  0.000000e+00  \n",
       "11   0.000000           NaN  \n",
       "12   0.250000  0.000000e+00  \n",
       "13   0.250000           NaN  \n",
       "14   0.450000           NaN  \n",
       "15  -0.218750  2.698897e+06  \n",
       "16   1.000000           NaN  \n",
       "17   0.000000           NaN  \n",
       "18   0.000000  0.000000e+00  \n",
       "19   0.093333  1.413225e+05  "
      ]
     },
     "execution_count": 43,
     "metadata": {},
     "output_type": "execute_result"
    }
   ],
   "source": [
    "df_bluejays.head(20)"
   ]
  },
  {
   "cell_type": "code",
   "execution_count": 44,
   "metadata": {
    "collapsed": false
   },
   "outputs": [
    {
     "name": "stderr",
     "output_type": "stream",
     "text": [
      "//anaconda/lib/python3.5/site-packages/pandas/core/frame.py:2748: SettingWithCopyWarning: \n",
      "A value is trying to be set on a copy of a slice from a DataFrame\n",
      "\n",
      "See the caveats in the documentation: http://pandas.pydata.org/pandas-docs/stable/indexing.html#indexing-view-versus-copy\n",
      "  **kwargs)\n"
     ]
    }
   ],
   "source": [
    "df_bluejays.rename(columns={'time': 'dates'}, inplace=True)"
   ]
  },
  {
   "cell_type": "code",
   "execution_count": 45,
   "metadata": {
    "collapsed": false
   },
   "outputs": [
    {
     "data": {
      "text/html": [
       "<div>\n",
       "<table border=\"1\" class=\"dataframe\">\n",
       "  <thead>\n",
       "    <tr style=\"text-align: right;\">\n",
       "      <th></th>\n",
       "      <th>text</th>\n",
       "      <th>created_at</th>\n",
       "      <th>location</th>\n",
       "      <th>retweet_count</th>\n",
       "      <th>favorite_count</th>\n",
       "      <th>latitude</th>\n",
       "      <th>longitude</th>\n",
       "      <th>dates</th>\n",
       "      <th>sentiment</th>\n",
       "      <th>hav_distance</th>\n",
       "    </tr>\n",
       "  </thead>\n",
       "  <tbody>\n",
       "    <tr>\n",
       "      <th>0</th>\n",
       "      <td>@bluejays winning record on the road trip, com...</td>\n",
       "      <td>Sun Aug 07 23:59:53 +0000 2016</td>\n",
       "      <td></td>\n",
       "      <td>0</td>\n",
       "      <td>0</td>\n",
       "      <td>NaN</td>\n",
       "      <td>NaN</td>\n",
       "      <td>2016-08-07</td>\n",
       "      <td>0.500000</td>\n",
       "      <td>NaN</td>\n",
       "    </tr>\n",
       "    <tr>\n",
       "      <th>1</th>\n",
       "      <td>L #Toronto #BlueJays Toronto Blue Jays Beer St...</td>\n",
       "      <td>Sun Aug 07 23:59:37 +0000 2016</td>\n",
       "      <td></td>\n",
       "      <td>0</td>\n",
       "      <td>1</td>\n",
       "      <td>NaN</td>\n",
       "      <td>NaN</td>\n",
       "      <td>2016-08-07</td>\n",
       "      <td>-0.121212</td>\n",
       "      <td>NaN</td>\n",
       "    </tr>\n",
       "    <tr>\n",
       "      <th>2</th>\n",
       "      <td>#Toronto #BlueJays TORONTO BLUE JAYS 1992 WORL...</td>\n",
       "      <td>Sun Aug 07 23:59:18 +0000 2016</td>\n",
       "      <td></td>\n",
       "      <td>0</td>\n",
       "      <td>0</td>\n",
       "      <td>NaN</td>\n",
       "      <td>NaN</td>\n",
       "      <td>2016-08-07</td>\n",
       "      <td>-0.250000</td>\n",
       "      <td>NaN</td>\n",
       "    </tr>\n",
       "    <tr>\n",
       "      <th>3</th>\n",
       "      <td>#MLB #Baseball TORONTO #BlueJays 1992 WORLD SE...</td>\n",
       "      <td>Sun Aug 07 23:59:16 +0000 2016</td>\n",
       "      <td></td>\n",
       "      <td>0</td>\n",
       "      <td>0</td>\n",
       "      <td>NaN</td>\n",
       "      <td>NaN</td>\n",
       "      <td>2016-08-07</td>\n",
       "      <td>0.000000</td>\n",
       "      <td>NaN</td>\n",
       "    </tr>\n",
       "    <tr>\n",
       "      <th>4</th>\n",
       "      <td>RT @Wilnerness590: #Bluejays 4-3 road trip end...</td>\n",
       "      <td>Sun Aug 07 23:59:01 +0000 2016</td>\n",
       "      <td></td>\n",
       "      <td>3</td>\n",
       "      <td>0</td>\n",
       "      <td>NaN</td>\n",
       "      <td>NaN</td>\n",
       "      <td>2016-08-07</td>\n",
       "      <td>0.300000</td>\n",
       "      <td>NaN</td>\n",
       "    </tr>\n",
       "  </tbody>\n",
       "</table>\n",
       "</div>"
      ],
      "text/plain": [
       "                                                text  \\\n",
       "0  @bluejays winning record on the road trip, com...   \n",
       "1  L #Toronto #BlueJays Toronto Blue Jays Beer St...   \n",
       "2  #Toronto #BlueJays TORONTO BLUE JAYS 1992 WORL...   \n",
       "3  #MLB #Baseball TORONTO #BlueJays 1992 WORLD SE...   \n",
       "4  RT @Wilnerness590: #Bluejays 4-3 road trip end...   \n",
       "\n",
       "                       created_at location  retweet_count  favorite_count  \\\n",
       "0  Sun Aug 07 23:59:53 +0000 2016                       0               0   \n",
       "1  Sun Aug 07 23:59:37 +0000 2016                       0               1   \n",
       "2  Sun Aug 07 23:59:18 +0000 2016                       0               0   \n",
       "3  Sun Aug 07 23:59:16 +0000 2016                       0               0   \n",
       "4  Sun Aug 07 23:59:01 +0000 2016                       3               0   \n",
       "\n",
       "   latitude  longitude      dates  sentiment  hav_distance  \n",
       "0       NaN        NaN 2016-08-07   0.500000           NaN  \n",
       "1       NaN        NaN 2016-08-07  -0.121212           NaN  \n",
       "2       NaN        NaN 2016-08-07  -0.250000           NaN  \n",
       "3       NaN        NaN 2016-08-07   0.000000           NaN  \n",
       "4       NaN        NaN 2016-08-07   0.300000           NaN  "
      ]
     },
     "execution_count": 45,
     "metadata": {},
     "output_type": "execute_result"
    }
   ],
   "source": [
    "df_bluejays.head()"
   ]
  },
  {
   "cell_type": "code",
   "execution_count": 250,
   "metadata": {
    "collapsed": true
   },
   "outputs": [],
   "source": [
    "#df_mariners.to_csv('df_mariners.csv')"
   ]
  },
  {
   "cell_type": "code",
   "execution_count": 46,
   "metadata": {
    "collapsed": false
   },
   "outputs": [],
   "source": [
    "outcome_by_date = {\n",
    "    '2016-08-07 00:00:00': 'Loss',\n",
    "    '2016-08-08 00:00:00': 'Win',\n",
    "    '2016-08-09 00:00:00': 'Loss',\n",
    "    '2016-08-10 00:00:00': 'Win',\n",
    "    '2016-08-11 00:00:00': 'No Game',\n",
    "    '2016-08-12 00:00:00': 'Loss',\n",
    "    '2016-08-13 00:00:00': 'Win',\n",
    "    '2016-08-14 00:00:00': 'Win',\n",
    "    '2016-08-15 00:00:00': 'Loss',\n",
    "    '2016-08-16 00:00:00': 'Win'\n",
    "}"
   ]
  },
  {
   "cell_type": "code",
   "execution_count": 47,
   "metadata": {
    "collapsed": false
   },
   "outputs": [
    {
     "name": "stderr",
     "output_type": "stream",
     "text": [
      "//anaconda/lib/python3.5/site-packages/ipykernel/__main__.py:2: SettingWithCopyWarning: \n",
      "A value is trying to be set on a copy of a slice from a DataFrame.\n",
      "Try using .loc[row_indexer,col_indexer] = value instead\n",
      "\n",
      "See the caveats in the documentation: http://pandas.pydata.org/pandas-docs/stable/indexing.html#indexing-view-versus-copy\n",
      "  from ipykernel import kernelapp as app\n"
     ]
    }
   ],
   "source": [
    "# Apply outcome values to new column.\n",
    "df_bluejays['outcome'] = df_bluejays['dates'].apply(lambda x: outcome_by_date[str(x)])"
   ]
  },
  {
   "cell_type": "code",
   "execution_count": 48,
   "metadata": {
    "collapsed": false
   },
   "outputs": [
    {
     "data": {
      "text/html": [
       "<div>\n",
       "<table border=\"1\" class=\"dataframe\">\n",
       "  <thead>\n",
       "    <tr style=\"text-align: right;\">\n",
       "      <th></th>\n",
       "      <th>text</th>\n",
       "      <th>created_at</th>\n",
       "      <th>location</th>\n",
       "      <th>retweet_count</th>\n",
       "      <th>favorite_count</th>\n",
       "      <th>latitude</th>\n",
       "      <th>longitude</th>\n",
       "      <th>dates</th>\n",
       "      <th>sentiment</th>\n",
       "      <th>hav_distance</th>\n",
       "      <th>outcome</th>\n",
       "    </tr>\n",
       "  </thead>\n",
       "  <tbody>\n",
       "    <tr>\n",
       "      <th>0</th>\n",
       "      <td>@bluejays winning record on the road trip, com...</td>\n",
       "      <td>Sun Aug 07 23:59:53 +0000 2016</td>\n",
       "      <td></td>\n",
       "      <td>0</td>\n",
       "      <td>0</td>\n",
       "      <td>NaN</td>\n",
       "      <td>NaN</td>\n",
       "      <td>2016-08-07</td>\n",
       "      <td>0.500000</td>\n",
       "      <td>NaN</td>\n",
       "      <td>Loss</td>\n",
       "    </tr>\n",
       "    <tr>\n",
       "      <th>1</th>\n",
       "      <td>L #Toronto #BlueJays Toronto Blue Jays Beer St...</td>\n",
       "      <td>Sun Aug 07 23:59:37 +0000 2016</td>\n",
       "      <td></td>\n",
       "      <td>0</td>\n",
       "      <td>1</td>\n",
       "      <td>NaN</td>\n",
       "      <td>NaN</td>\n",
       "      <td>2016-08-07</td>\n",
       "      <td>-0.121212</td>\n",
       "      <td>NaN</td>\n",
       "      <td>Loss</td>\n",
       "    </tr>\n",
       "    <tr>\n",
       "      <th>2</th>\n",
       "      <td>#Toronto #BlueJays TORONTO BLUE JAYS 1992 WORL...</td>\n",
       "      <td>Sun Aug 07 23:59:18 +0000 2016</td>\n",
       "      <td></td>\n",
       "      <td>0</td>\n",
       "      <td>0</td>\n",
       "      <td>NaN</td>\n",
       "      <td>NaN</td>\n",
       "      <td>2016-08-07</td>\n",
       "      <td>-0.250000</td>\n",
       "      <td>NaN</td>\n",
       "      <td>Loss</td>\n",
       "    </tr>\n",
       "    <tr>\n",
       "      <th>3</th>\n",
       "      <td>#MLB #Baseball TORONTO #BlueJays 1992 WORLD SE...</td>\n",
       "      <td>Sun Aug 07 23:59:16 +0000 2016</td>\n",
       "      <td></td>\n",
       "      <td>0</td>\n",
       "      <td>0</td>\n",
       "      <td>NaN</td>\n",
       "      <td>NaN</td>\n",
       "      <td>2016-08-07</td>\n",
       "      <td>0.000000</td>\n",
       "      <td>NaN</td>\n",
       "      <td>Loss</td>\n",
       "    </tr>\n",
       "    <tr>\n",
       "      <th>4</th>\n",
       "      <td>RT @Wilnerness590: #Bluejays 4-3 road trip end...</td>\n",
       "      <td>Sun Aug 07 23:59:01 +0000 2016</td>\n",
       "      <td></td>\n",
       "      <td>3</td>\n",
       "      <td>0</td>\n",
       "      <td>NaN</td>\n",
       "      <td>NaN</td>\n",
       "      <td>2016-08-07</td>\n",
       "      <td>0.300000</td>\n",
       "      <td>NaN</td>\n",
       "      <td>Loss</td>\n",
       "    </tr>\n",
       "  </tbody>\n",
       "</table>\n",
       "</div>"
      ],
      "text/plain": [
       "                                                text  \\\n",
       "0  @bluejays winning record on the road trip, com...   \n",
       "1  L #Toronto #BlueJays Toronto Blue Jays Beer St...   \n",
       "2  #Toronto #BlueJays TORONTO BLUE JAYS 1992 WORL...   \n",
       "3  #MLB #Baseball TORONTO #BlueJays 1992 WORLD SE...   \n",
       "4  RT @Wilnerness590: #Bluejays 4-3 road trip end...   \n",
       "\n",
       "                       created_at location  retweet_count  favorite_count  \\\n",
       "0  Sun Aug 07 23:59:53 +0000 2016                       0               0   \n",
       "1  Sun Aug 07 23:59:37 +0000 2016                       0               1   \n",
       "2  Sun Aug 07 23:59:18 +0000 2016                       0               0   \n",
       "3  Sun Aug 07 23:59:16 +0000 2016                       0               0   \n",
       "4  Sun Aug 07 23:59:01 +0000 2016                       3               0   \n",
       "\n",
       "   latitude  longitude      dates  sentiment  hav_distance outcome  \n",
       "0       NaN        NaN 2016-08-07   0.500000           NaN    Loss  \n",
       "1       NaN        NaN 2016-08-07  -0.121212           NaN    Loss  \n",
       "2       NaN        NaN 2016-08-07  -0.250000           NaN    Loss  \n",
       "3       NaN        NaN 2016-08-07   0.000000           NaN    Loss  \n",
       "4       NaN        NaN 2016-08-07   0.300000           NaN    Loss  "
      ]
     },
     "execution_count": 48,
     "metadata": {},
     "output_type": "execute_result"
    }
   ],
   "source": [
    "df_bluejays.head()"
   ]
  },
  {
   "cell_type": "code",
   "execution_count": 49,
   "metadata": {
    "collapsed": true
   },
   "outputs": [],
   "source": [
    "df_bluejays.to_csv('df_bluejays.csv')"
   ]
  },
  {
   "cell_type": "code",
   "execution_count": null,
   "metadata": {
    "collapsed": true
   },
   "outputs": [],
   "source": []
  }
 ],
 "metadata": {
  "kernelspec": {
   "display_name": "Python 3",
   "language": "python",
   "name": "python3"
  },
  "language_info": {
   "codemirror_mode": {
    "name": "ipython",
    "version": 3
   },
   "file_extension": ".py",
   "mimetype": "text/x-python",
   "name": "python",
   "nbconvert_exporter": "python",
   "pygments_lexer": "ipython3",
   "version": "3.5.2"
  }
 },
 "nbformat": 4,
 "nbformat_minor": 0
}
