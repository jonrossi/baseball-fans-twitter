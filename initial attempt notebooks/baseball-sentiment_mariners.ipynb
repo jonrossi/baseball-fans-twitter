{
 "cells": [
  {
   "cell_type": "markdown",
   "metadata": {},
   "source": [
    "**Note:** place file one level up in directory structure so it can run properly."
   ]
  },
  {
   "cell_type": "markdown",
   "metadata": {},
   "source": [
    "# Analyzing Baseball Fan Sentiment with Twitter Data (Mariners) #"
   ]
  },
  {
   "cell_type": "code",
   "execution_count": 1,
   "metadata": {
    "collapsed": false
   },
   "outputs": [],
   "source": [
    "import glob\n",
    "import pandas as pd\n",
    "import numpy as np\n",
    "\n",
    "# For working with JSON data.\n",
    "try:\n",
    "    import json\n",
    "except ImportError:\n",
    "    import simplejson as json\n",
    "    \n",
    "# For maps.\n",
    "from mpl_toolkits.basemap import Basemap\n",
    "import geocoder\n",
    "import matplotlib.pyplot as plt\n",
    "%matplotlib inline\n",
    "\n",
    "#import warnings\n",
    "#warnings.simplefilter(action = \"ignore\", category = FutureWarning)"
   ]
  },
  {
   "cell_type": "markdown",
   "metadata": {},
   "source": [
    "## Intial Exploration (10,000 Tweets Version) ##"
   ]
  },
  {
   "cell_type": "code",
   "execution_count": 2,
   "metadata": {
    "collapsed": false
   },
   "outputs": [
    {
     "name": "stdout",
     "output_type": "stream",
     "text": [
      "data/mariners/mariners_search_08_06_1000.txt\n",
      "data/mariners/mariners_search_08_07_1000.txt\n",
      "data/mariners/mariners_search_08_08_1000.txt\n",
      "data/mariners/mariners_search_08_09_1000.txt\n",
      "data/mariners/mariners_search_08_10_1000.txt\n",
      "data/mariners/mariners_search_08_11_1000.txt\n",
      "data/mariners/mariners_search_08_12_1000.txt\n",
      "data/mariners/mariners_search_08_13_1000.txt\n",
      "data/mariners/mariners_search_08_16_1000.txt\n",
      "data/mariners/mariners_stream_08_14_1000.txt\n",
      "data/mariners/mariners_stream_08_15_1000.txt\n"
     ]
    }
   ],
   "source": [
    "for filename in glob.iglob('data/mariners/*.txt'):\n",
    "     print(filename)"
   ]
  },
  {
   "cell_type": "code",
   "execution_count": 3,
   "metadata": {
    "collapsed": true
   },
   "outputs": [],
   "source": [
    "# Read in JSON data and store in pandas DataFrame.\n",
    "tweets = []\n",
    "locations = []\n",
    "for filename in glob.iglob('data/mariners/*.txt'):\n",
    "    tweets_filename = filename\n",
    "    tweets_file = open(tweets_filename, \"r\")\n",
    "    for line in tweets_file:\n",
    "        try:\n",
    "            # Read in each line of file, convert to JSON object. \n",
    "            tweet = json.loads(line.strip())\n",
    "            # Make sure tweet has text content.\n",
    "            if 'text' in tweet:\n",
    "                tweets.append(tweet)\n",
    "                locations.append(tweet['user']['location'])\n",
    "        except:\n",
    "            # Skip any non-JSON-formatted data that may have been captured.\n",
    "            continue"
   ]
  },
  {
   "cell_type": "code",
   "execution_count": 4,
   "metadata": {
    "collapsed": true
   },
   "outputs": [],
   "source": [
    "df_mariners_all = pd.DataFrame(tweets)"
   ]
  },
  {
   "cell_type": "code",
   "execution_count": 5,
   "metadata": {
    "collapsed": true
   },
   "outputs": [],
   "source": [
    "df_mariners_all['location'] = pd.Series(locations)"
   ]
  },
  {
   "cell_type": "code",
   "execution_count": 6,
   "metadata": {
    "collapsed": false
   },
   "outputs": [
    {
     "data": {
      "text/plain": [
       "(11000, 33)"
      ]
     },
     "execution_count": 6,
     "metadata": {},
     "output_type": "execute_result"
    }
   ],
   "source": [
    "df_mariners_all.shape"
   ]
  },
  {
   "cell_type": "code",
   "execution_count": 7,
   "metadata": {
    "collapsed": false
   },
   "outputs": [
    {
     "data": {
      "text/html": [
       "<div>\n",
       "<table border=\"1\" class=\"dataframe\">\n",
       "  <thead>\n",
       "    <tr style=\"text-align: right;\">\n",
       "      <th></th>\n",
       "      <th>contributors</th>\n",
       "      <th>coordinates</th>\n",
       "      <th>created_at</th>\n",
       "      <th>entities</th>\n",
       "      <th>extended_entities</th>\n",
       "      <th>favorite_count</th>\n",
       "      <th>favorited</th>\n",
       "      <th>filter_level</th>\n",
       "      <th>geo</th>\n",
       "      <th>id</th>\n",
       "      <th>...</th>\n",
       "      <th>quoted_status_id_str</th>\n",
       "      <th>retweet_count</th>\n",
       "      <th>retweeted</th>\n",
       "      <th>retweeted_status</th>\n",
       "      <th>source</th>\n",
       "      <th>text</th>\n",
       "      <th>timestamp_ms</th>\n",
       "      <th>truncated</th>\n",
       "      <th>user</th>\n",
       "      <th>location</th>\n",
       "    </tr>\n",
       "  </thead>\n",
       "  <tbody>\n",
       "    <tr>\n",
       "      <th>0</th>\n",
       "      <td>None</td>\n",
       "      <td>None</td>\n",
       "      <td>Sat Aug 06 23:59:58 +0000 2016</td>\n",
       "      <td>{'media': [{'indices': [126, 140], 'id': 76205...</td>\n",
       "      <td>{'media': [{'indices': [126, 140], 'id': 76205...</td>\n",
       "      <td>0</td>\n",
       "      <td>False</td>\n",
       "      <td>NaN</td>\n",
       "      <td>None</td>\n",
       "      <td>762075777093382144</td>\n",
       "      <td>...</td>\n",
       "      <td>NaN</td>\n",
       "      <td>1039</td>\n",
       "      <td>False</td>\n",
       "      <td>{'in_reply_to_status_id_str': None, 'contribut...</td>\n",
       "      <td>&lt;a href=\"http://twitter.com/download/android\" ...</td>\n",
       "      <td>RT @Mariners: Batting practice today is the ve...</td>\n",
       "      <td>NaN</td>\n",
       "      <td>False</td>\n",
       "      <td>{'favourites_count': 17788, 'geo_enabled': Tru...</td>\n",
       "      <td>Provo, UT</td>\n",
       "    </tr>\n",
       "    <tr>\n",
       "      <th>1</th>\n",
       "      <td>None</td>\n",
       "      <td>None</td>\n",
       "      <td>Sat Aug 06 23:59:51 +0000 2016</td>\n",
       "      <td>{'media': [{'indices': [126, 140], 'id': 76205...</td>\n",
       "      <td>{'media': [{'indices': [126, 140], 'id': 76205...</td>\n",
       "      <td>0</td>\n",
       "      <td>False</td>\n",
       "      <td>NaN</td>\n",
       "      <td>None</td>\n",
       "      <td>762075745506111488</td>\n",
       "      <td>...</td>\n",
       "      <td>NaN</td>\n",
       "      <td>1039</td>\n",
       "      <td>False</td>\n",
       "      <td>{'in_reply_to_status_id_str': None, 'contribut...</td>\n",
       "      <td>&lt;a href=\"http://twitter.com/download/iphone\" r...</td>\n",
       "      <td>RT @Mariners: Batting practice today is the ve...</td>\n",
       "      <td>NaN</td>\n",
       "      <td>False</td>\n",
       "      <td>{'favourites_count': 60394, 'geo_enabled': Tru...</td>\n",
       "      <td>そこらへん</td>\n",
       "    </tr>\n",
       "    <tr>\n",
       "      <th>2</th>\n",
       "      <td>None</td>\n",
       "      <td>None</td>\n",
       "      <td>Sat Aug 06 23:59:40 +0000 2016</td>\n",
       "      <td>{'media': [{'media_url_https': 'https://pbs.tw...</td>\n",
       "      <td>{'media': [{'media_url_https': 'https://pbs.tw...</td>\n",
       "      <td>0</td>\n",
       "      <td>False</td>\n",
       "      <td>NaN</td>\n",
       "      <td>None</td>\n",
       "      <td>762075699955978240</td>\n",
       "      <td>...</td>\n",
       "      <td>NaN</td>\n",
       "      <td>0</td>\n",
       "      <td>False</td>\n",
       "      <td>NaN</td>\n",
       "      <td>&lt;a href=\"http://dlvr.it\" rel=\"nofollow\"&gt;dlvr.i...</td>\n",
       "      <td>Tim Lincecum designated for… https://t.co/NwUU...</td>\n",
       "      <td>NaN</td>\n",
       "      <td>False</td>\n",
       "      <td>{'favourites_count': 0, 'geo_enabled': False, ...</td>\n",
       "      <td>All Round The World</td>\n",
       "    </tr>\n",
       "  </tbody>\n",
       "</table>\n",
       "<p>3 rows × 33 columns</p>\n",
       "</div>"
      ],
      "text/plain": [
       "  contributors coordinates                      created_at  \\\n",
       "0         None        None  Sat Aug 06 23:59:58 +0000 2016   \n",
       "1         None        None  Sat Aug 06 23:59:51 +0000 2016   \n",
       "2         None        None  Sat Aug 06 23:59:40 +0000 2016   \n",
       "\n",
       "                                            entities  \\\n",
       "0  {'media': [{'indices': [126, 140], 'id': 76205...   \n",
       "1  {'media': [{'indices': [126, 140], 'id': 76205...   \n",
       "2  {'media': [{'media_url_https': 'https://pbs.tw...   \n",
       "\n",
       "                                   extended_entities  favorite_count  \\\n",
       "0  {'media': [{'indices': [126, 140], 'id': 76205...               0   \n",
       "1  {'media': [{'indices': [126, 140], 'id': 76205...               0   \n",
       "2  {'media': [{'media_url_https': 'https://pbs.tw...               0   \n",
       "\n",
       "  favorited filter_level   geo                  id         ...           \\\n",
       "0     False          NaN  None  762075777093382144         ...            \n",
       "1     False          NaN  None  762075745506111488         ...            \n",
       "2     False          NaN  None  762075699955978240         ...            \n",
       "\n",
       "  quoted_status_id_str retweet_count  retweeted  \\\n",
       "0                  NaN          1039      False   \n",
       "1                  NaN          1039      False   \n",
       "2                  NaN             0      False   \n",
       "\n",
       "                                    retweeted_status  \\\n",
       "0  {'in_reply_to_status_id_str': None, 'contribut...   \n",
       "1  {'in_reply_to_status_id_str': None, 'contribut...   \n",
       "2                                                NaN   \n",
       "\n",
       "                                              source  \\\n",
       "0  <a href=\"http://twitter.com/download/android\" ...   \n",
       "1  <a href=\"http://twitter.com/download/iphone\" r...   \n",
       "2  <a href=\"http://dlvr.it\" rel=\"nofollow\">dlvr.i...   \n",
       "\n",
       "                                                text timestamp_ms truncated  \\\n",
       "0  RT @Mariners: Batting practice today is the ve...          NaN     False   \n",
       "1  RT @Mariners: Batting practice today is the ve...          NaN     False   \n",
       "2  Tim Lincecum designated for… https://t.co/NwUU...          NaN     False   \n",
       "\n",
       "                                                user             location  \n",
       "0  {'favourites_count': 17788, 'geo_enabled': Tru...            Provo, UT  \n",
       "1  {'favourites_count': 60394, 'geo_enabled': Tru...                そこらへん  \n",
       "2  {'favourites_count': 0, 'geo_enabled': False, ...  All Round The World  \n",
       "\n",
       "[3 rows x 33 columns]"
      ]
     },
     "execution_count": 7,
     "metadata": {},
     "output_type": "execute_result"
    }
   ],
   "source": [
    "df_mariners_all.head(3)"
   ]
  },
  {
   "cell_type": "code",
   "execution_count": 190,
   "metadata": {
    "collapsed": false
   },
   "outputs": [],
   "source": [
    "#df_redsox_all['retweet_count'].value_counts()"
   ]
  },
  {
   "cell_type": "code",
   "execution_count": 8,
   "metadata": {
    "collapsed": false
   },
   "outputs": [],
   "source": [
    "df_mariners = df_mariners_all[['text', 'created_at', 'location', 'retweet_count', 'favorite_count']]"
   ]
  },
  {
   "cell_type": "code",
   "execution_count": 9,
   "metadata": {
    "collapsed": false
   },
   "outputs": [
    {
     "data": {
      "text/plain": [
       "(11000, 5)"
      ]
     },
     "execution_count": 9,
     "metadata": {},
     "output_type": "execute_result"
    }
   ],
   "source": [
    "df_mariners.shape"
   ]
  },
  {
   "cell_type": "code",
   "execution_count": 10,
   "metadata": {
    "collapsed": false
   },
   "outputs": [
    {
     "data": {
      "text/html": [
       "<div>\n",
       "<table border=\"1\" class=\"dataframe\">\n",
       "  <thead>\n",
       "    <tr style=\"text-align: right;\">\n",
       "      <th></th>\n",
       "      <th>text</th>\n",
       "      <th>created_at</th>\n",
       "      <th>location</th>\n",
       "      <th>retweet_count</th>\n",
       "      <th>favorite_count</th>\n",
       "    </tr>\n",
       "  </thead>\n",
       "  <tbody>\n",
       "    <tr>\n",
       "      <th>0</th>\n",
       "      <td>RT @Mariners: Batting practice today is the ve...</td>\n",
       "      <td>Sat Aug 06 23:59:58 +0000 2016</td>\n",
       "      <td>Provo, UT</td>\n",
       "      <td>1039</td>\n",
       "      <td>0</td>\n",
       "    </tr>\n",
       "    <tr>\n",
       "      <th>1</th>\n",
       "      <td>RT @Mariners: Batting practice today is the ve...</td>\n",
       "      <td>Sat Aug 06 23:59:51 +0000 2016</td>\n",
       "      <td>そこらへん</td>\n",
       "      <td>1039</td>\n",
       "      <td>0</td>\n",
       "    </tr>\n",
       "    <tr>\n",
       "      <th>2</th>\n",
       "      <td>Tim Lincecum designated for… https://t.co/NwUU...</td>\n",
       "      <td>Sat Aug 06 23:59:40 +0000 2016</td>\n",
       "      <td>All Round The World</td>\n",
       "      <td>0</td>\n",
       "      <td>0</td>\n",
       "    </tr>\n",
       "    <tr>\n",
       "      <th>3</th>\n",
       "      <td>RT @Mariners: Batting practice today is the ve...</td>\n",
       "      <td>Sat Aug 06 23:59:35 +0000 2016</td>\n",
       "      <td>Cincinnati</td>\n",
       "      <td>1039</td>\n",
       "      <td>0</td>\n",
       "    </tr>\n",
       "    <tr>\n",
       "      <th>4</th>\n",
       "      <td>RT @710ESPNSeattle: Tonight's the night.\\n#24E...</td>\n",
       "      <td>Sat Aug 06 23:59:30 +0000 2016</td>\n",
       "      <td>Bothell, WA</td>\n",
       "      <td>21</td>\n",
       "      <td>0</td>\n",
       "    </tr>\n",
       "    <tr>\n",
       "      <th>5</th>\n",
       "      <td>Ken Griffey, Jr.'s number flies high above #Se...</td>\n",
       "      <td>Sat Aug 06 23:59:22 +0000 2016</td>\n",
       "      <td>Seattle, WA</td>\n",
       "      <td>5</td>\n",
       "      <td>15</td>\n",
       "    </tr>\n",
       "    <tr>\n",
       "      <th>6</th>\n",
       "      <td>I flew home just in time to watch my hometown ...</td>\n",
       "      <td>Sat Aug 06 23:59:20 +0000 2016</td>\n",
       "      <td></td>\n",
       "      <td>0</td>\n",
       "      <td>7</td>\n",
       "    </tr>\n",
       "    <tr>\n",
       "      <th>7</th>\n",
       "      <td>Safeco looking like not even a playoff atmosph...</td>\n",
       "      <td>Sat Aug 06 23:59:20 +0000 2016</td>\n",
       "      <td>RP</td>\n",
       "      <td>0</td>\n",
       "      <td>0</td>\n",
       "    </tr>\n",
       "    <tr>\n",
       "      <th>8</th>\n",
       "      <td>MLB: *FREE* RISK $300 MARLINS -ML +116\\n\\n$1,0...</td>\n",
       "      <td>Sat Aug 06 23:59:16 +0000 2016</td>\n",
       "      <td>Incarceratedbob@Gmail.com</td>\n",
       "      <td>3</td>\n",
       "      <td>1</td>\n",
       "    </tr>\n",
       "    <tr>\n",
       "      <th>9</th>\n",
       "      <td>Family night at the #mariners! #24ever #baseba...</td>\n",
       "      <td>Sat Aug 06 23:59:13 +0000 2016</td>\n",
       "      <td></td>\n",
       "      <td>0</td>\n",
       "      <td>0</td>\n",
       "    </tr>\n",
       "  </tbody>\n",
       "</table>\n",
       "</div>"
      ],
      "text/plain": [
       "                                                text  \\\n",
       "0  RT @Mariners: Batting practice today is the ve...   \n",
       "1  RT @Mariners: Batting practice today is the ve...   \n",
       "2  Tim Lincecum designated for… https://t.co/NwUU...   \n",
       "3  RT @Mariners: Batting practice today is the ve...   \n",
       "4  RT @710ESPNSeattle: Tonight's the night.\\n#24E...   \n",
       "5  Ken Griffey, Jr.'s number flies high above #Se...   \n",
       "6  I flew home just in time to watch my hometown ...   \n",
       "7  Safeco looking like not even a playoff atmosph...   \n",
       "8  MLB: *FREE* RISK $300 MARLINS -ML +116\\n\\n$1,0...   \n",
       "9  Family night at the #mariners! #24ever #baseba...   \n",
       "\n",
       "                       created_at                   location  retweet_count  \\\n",
       "0  Sat Aug 06 23:59:58 +0000 2016                  Provo, UT           1039   \n",
       "1  Sat Aug 06 23:59:51 +0000 2016                      そこらへん           1039   \n",
       "2  Sat Aug 06 23:59:40 +0000 2016        All Round The World              0   \n",
       "3  Sat Aug 06 23:59:35 +0000 2016                 Cincinnati           1039   \n",
       "4  Sat Aug 06 23:59:30 +0000 2016                Bothell, WA             21   \n",
       "5  Sat Aug 06 23:59:22 +0000 2016                Seattle, WA              5   \n",
       "6  Sat Aug 06 23:59:20 +0000 2016                                         0   \n",
       "7  Sat Aug 06 23:59:20 +0000 2016                        RP               0   \n",
       "8  Sat Aug 06 23:59:16 +0000 2016  Incarceratedbob@Gmail.com              3   \n",
       "9  Sat Aug 06 23:59:13 +0000 2016                                         0   \n",
       "\n",
       "   favorite_count  \n",
       "0               0  \n",
       "1               0  \n",
       "2               0  \n",
       "3               0  \n",
       "4               0  \n",
       "5              15  \n",
       "6               7  \n",
       "7               0  \n",
       "8               1  \n",
       "9               0  "
      ]
     },
     "execution_count": 10,
     "metadata": {},
     "output_type": "execute_result"
    }
   ],
   "source": [
    "df_mariners.head(10)"
   ]
  },
  {
   "cell_type": "code",
   "execution_count": 94,
   "metadata": {
    "collapsed": true
   },
   "outputs": [],
   "source": [
    "# DONT USE\n",
    "lats = []\n",
    "longs = []\n",
    "for location in df_redsox['location']:\n",
    "    g = geocoder.arcgis(location)\n",
    "    if g.latlng != []:\n",
    "        lats.append(g.latlng[0])\n",
    "        longs.append(g.latlng[1])\n",
    "    else:\n",
    "        lats.append(np.nan)\n",
    "        longs.append(np.nan)"
   ]
  },
  {
   "cell_type": "code",
   "execution_count": 11,
   "metadata": {
    "collapsed": true
   },
   "outputs": [],
   "source": [
    "unique_locations = df_mariners['location'].unique()"
   ]
  },
  {
   "cell_type": "code",
   "execution_count": 12,
   "metadata": {
    "collapsed": false
   },
   "outputs": [
    {
     "data": {
      "text/plain": [
       "2459"
      ]
     },
     "execution_count": 12,
     "metadata": {},
     "output_type": "execute_result"
    }
   ],
   "source": [
    "len(unique_locations)\n",
    "#unique_locations = unique_locations[:10]\n",
    "#unique_locations"
   ]
  },
  {
   "cell_type": "code",
   "execution_count": 13,
   "metadata": {
    "collapsed": false
   },
   "outputs": [],
   "source": [
    "# USE THIS\n",
    "location_coords = {}\n",
    "for location in unique_locations:\n",
    "    location_coords[location] = geocoder.arcgis(location)"
   ]
  },
  {
   "cell_type": "code",
   "execution_count": 14,
   "metadata": {
    "collapsed": false
   },
   "outputs": [
    {
     "data": {
      "text/plain": [
       "[]"
      ]
     },
     "execution_count": 14,
     "metadata": {},
     "output_type": "execute_result"
    }
   ],
   "source": [
    "location_coords[''].latlng"
   ]
  },
  {
   "cell_type": "code",
   "execution_count": 15,
   "metadata": {
    "collapsed": false
   },
   "outputs": [],
   "source": [
    "def get_lat(x):\n",
    "    if x.latlng != []:\n",
    "        return(x.latlng[0])\n",
    "    else:\n",
    "        return(np.nan)"
   ]
  },
  {
   "cell_type": "code",
   "execution_count": 16,
   "metadata": {
    "collapsed": true
   },
   "outputs": [],
   "source": [
    "def get_long(x):\n",
    "    if x.latlng != []:\n",
    "        return(x.latlng[1])\n",
    "    else:\n",
    "        return(np.nan)"
   ]
  },
  {
   "cell_type": "code",
   "execution_count": 17,
   "metadata": {
    "collapsed": false
   },
   "outputs": [
    {
     "data": {
      "text/plain": [
       "47.60620882800049"
      ]
     },
     "execution_count": 17,
     "metadata": {},
     "output_type": "execute_result"
    }
   ],
   "source": [
    "get_lat(location_coords['Seattle, WA'])"
   ]
  },
  {
   "cell_type": "code",
   "execution_count": 18,
   "metadata": {
    "collapsed": false
   },
   "outputs": [
    {
     "name": "stderr",
     "output_type": "stream",
     "text": [
      "//anaconda/lib/python3.5/site-packages/ipykernel/__main__.py:1: SettingWithCopyWarning: \n",
      "A value is trying to be set on a copy of a slice from a DataFrame.\n",
      "Try using .loc[row_indexer,col_indexer] = value instead\n",
      "\n",
      "See the caveats in the documentation: http://pandas.pydata.org/pandas-docs/stable/indexing.html#indexing-view-versus-copy\n",
      "  if __name__ == '__main__':\n",
      "//anaconda/lib/python3.5/site-packages/ipykernel/__main__.py:2: SettingWithCopyWarning: \n",
      "A value is trying to be set on a copy of a slice from a DataFrame.\n",
      "Try using .loc[row_indexer,col_indexer] = value instead\n",
      "\n",
      "See the caveats in the documentation: http://pandas.pydata.org/pandas-docs/stable/indexing.html#indexing-view-versus-copy\n",
      "  from ipykernel import kernelapp as app\n"
     ]
    }
   ],
   "source": [
    "df_mariners['latitude'] = df_mariners['location'].apply(lambda x: get_lat(location_coords[x]))\n",
    "df_mariners['longitude'] = df_mariners['location'].apply(lambda x: get_long(location_coords[x]))"
   ]
  },
  {
   "cell_type": "code",
   "execution_count": 19,
   "metadata": {
    "collapsed": false
   },
   "outputs": [
    {
     "data": {
      "text/html": [
       "<div>\n",
       "<table border=\"1\" class=\"dataframe\">\n",
       "  <thead>\n",
       "    <tr style=\"text-align: right;\">\n",
       "      <th></th>\n",
       "      <th>text</th>\n",
       "      <th>created_at</th>\n",
       "      <th>location</th>\n",
       "      <th>retweet_count</th>\n",
       "      <th>favorite_count</th>\n",
       "      <th>latitude</th>\n",
       "      <th>longitude</th>\n",
       "    </tr>\n",
       "  </thead>\n",
       "  <tbody>\n",
       "    <tr>\n",
       "      <th>0</th>\n",
       "      <td>RT @Mariners: Batting practice today is the ve...</td>\n",
       "      <td>Sat Aug 06 23:59:58 +0000 2016</td>\n",
       "      <td>Provo, UT</td>\n",
       "      <td>1039</td>\n",
       "      <td>0</td>\n",
       "      <td>40.233838</td>\n",
       "      <td>-111.658530</td>\n",
       "    </tr>\n",
       "    <tr>\n",
       "      <th>1</th>\n",
       "      <td>RT @Mariners: Batting practice today is the ve...</td>\n",
       "      <td>Sat Aug 06 23:59:51 +0000 2016</td>\n",
       "      <td>そこらへん</td>\n",
       "      <td>1039</td>\n",
       "      <td>0</td>\n",
       "      <td>NaN</td>\n",
       "      <td>NaN</td>\n",
       "    </tr>\n",
       "    <tr>\n",
       "      <th>2</th>\n",
       "      <td>Tim Lincecum designated for… https://t.co/NwUU...</td>\n",
       "      <td>Sat Aug 06 23:59:40 +0000 2016</td>\n",
       "      <td>All Round The World</td>\n",
       "      <td>0</td>\n",
       "      <td>0</td>\n",
       "      <td>NaN</td>\n",
       "      <td>NaN</td>\n",
       "    </tr>\n",
       "    <tr>\n",
       "      <th>3</th>\n",
       "      <td>RT @Mariners: Batting practice today is the ve...</td>\n",
       "      <td>Sat Aug 06 23:59:35 +0000 2016</td>\n",
       "      <td>Cincinnati</td>\n",
       "      <td>1039</td>\n",
       "      <td>0</td>\n",
       "      <td>39.161997</td>\n",
       "      <td>-84.456887</td>\n",
       "    </tr>\n",
       "    <tr>\n",
       "      <th>4</th>\n",
       "      <td>RT @710ESPNSeattle: Tonight's the night.\\n#24E...</td>\n",
       "      <td>Sat Aug 06 23:59:30 +0000 2016</td>\n",
       "      <td>Bothell, WA</td>\n",
       "      <td>21</td>\n",
       "      <td>0</td>\n",
       "      <td>47.762318</td>\n",
       "      <td>-122.205396</td>\n",
       "    </tr>\n",
       "    <tr>\n",
       "      <th>5</th>\n",
       "      <td>Ken Griffey, Jr.'s number flies high above #Se...</td>\n",
       "      <td>Sat Aug 06 23:59:22 +0000 2016</td>\n",
       "      <td>Seattle, WA</td>\n",
       "      <td>5</td>\n",
       "      <td>15</td>\n",
       "      <td>47.606209</td>\n",
       "      <td>-122.332069</td>\n",
       "    </tr>\n",
       "    <tr>\n",
       "      <th>6</th>\n",
       "      <td>I flew home just in time to watch my hometown ...</td>\n",
       "      <td>Sat Aug 06 23:59:20 +0000 2016</td>\n",
       "      <td></td>\n",
       "      <td>0</td>\n",
       "      <td>7</td>\n",
       "      <td>NaN</td>\n",
       "      <td>NaN</td>\n",
       "    </tr>\n",
       "    <tr>\n",
       "      <th>7</th>\n",
       "      <td>Safeco looking like not even a playoff atmosph...</td>\n",
       "      <td>Sat Aug 06 23:59:20 +0000 2016</td>\n",
       "      <td>RP</td>\n",
       "      <td>0</td>\n",
       "      <td>0</td>\n",
       "      <td>10.065077</td>\n",
       "      <td>-69.338678</td>\n",
       "    </tr>\n",
       "    <tr>\n",
       "      <th>8</th>\n",
       "      <td>MLB: *FREE* RISK $300 MARLINS -ML +116\\n\\n$1,0...</td>\n",
       "      <td>Sat Aug 06 23:59:16 +0000 2016</td>\n",
       "      <td>Incarceratedbob@Gmail.com</td>\n",
       "      <td>3</td>\n",
       "      <td>1</td>\n",
       "      <td>NaN</td>\n",
       "      <td>NaN</td>\n",
       "    </tr>\n",
       "    <tr>\n",
       "      <th>9</th>\n",
       "      <td>Family night at the #mariners! #24ever #baseba...</td>\n",
       "      <td>Sat Aug 06 23:59:13 +0000 2016</td>\n",
       "      <td></td>\n",
       "      <td>0</td>\n",
       "      <td>0</td>\n",
       "      <td>NaN</td>\n",
       "      <td>NaN</td>\n",
       "    </tr>\n",
       "    <tr>\n",
       "      <th>10</th>\n",
       "      <td>It's a great day.  Happy 60th to dad and congr...</td>\n",
       "      <td>Sat Aug 06 23:59:10 +0000 2016</td>\n",
       "      <td></td>\n",
       "      <td>0</td>\n",
       "      <td>0</td>\n",
       "      <td>NaN</td>\n",
       "      <td>NaN</td>\n",
       "    </tr>\n",
       "    <tr>\n",
       "      <th>11</th>\n",
       "      <td>RT @Mariners: Batting practice today is the ve...</td>\n",
       "      <td>Sat Aug 06 23:59:09 +0000 2016</td>\n",
       "      <td>Hoboken / NYC / Baltimore</td>\n",
       "      <td>1039</td>\n",
       "      <td>0</td>\n",
       "      <td>NaN</td>\n",
       "      <td>NaN</td>\n",
       "    </tr>\n",
       "    <tr>\n",
       "      <th>12</th>\n",
       "      <td>@Mariners any word on the availability of the ...</td>\n",
       "      <td>Sat Aug 06 23:59:08 +0000 2016</td>\n",
       "      <td></td>\n",
       "      <td>0</td>\n",
       "      <td>1</td>\n",
       "      <td>NaN</td>\n",
       "      <td>NaN</td>\n",
       "    </tr>\n",
       "    <tr>\n",
       "      <th>13</th>\n",
       "      <td>RT @FelixForever34: If someone follows me alre...</td>\n",
       "      <td>Sat Aug 06 23:59:03 +0000 2016</td>\n",
       "      <td>Rocklin, CA</td>\n",
       "      <td>2</td>\n",
       "      <td>0</td>\n",
       "      <td>38.790726</td>\n",
       "      <td>-121.235777</td>\n",
       "    </tr>\n",
       "    <tr>\n",
       "      <th>14</th>\n",
       "      <td>Mariners weekend 2/3 !!! 💙💛#whereiroot #24ever...</td>\n",
       "      <td>Sat Aug 06 23:59:03 +0000 2016</td>\n",
       "      <td>Portland, Oregon</td>\n",
       "      <td>0</td>\n",
       "      <td>8</td>\n",
       "      <td>45.523447</td>\n",
       "      <td>-122.676207</td>\n",
       "    </tr>\n",
       "    <tr>\n",
       "      <th>15</th>\n",
       "      <td>At the Mariners Game. Loved watching Griffey p...</td>\n",
       "      <td>Sat Aug 06 23:58:59 +0000 2016</td>\n",
       "      <td>Everett Washington</td>\n",
       "      <td>0</td>\n",
       "      <td>0</td>\n",
       "      <td>47.978978</td>\n",
       "      <td>-122.202080</td>\n",
       "    </tr>\n",
       "    <tr>\n",
       "      <th>16</th>\n",
       "      <td>RT @ByTimBooth: The last time No. 24 will be w...</td>\n",
       "      <td>Sat Aug 06 23:58:58 +0000 2016</td>\n",
       "      <td>Seattle</td>\n",
       "      <td>18</td>\n",
       "      <td>0</td>\n",
       "      <td>47.606209</td>\n",
       "      <td>-122.332069</td>\n",
       "    </tr>\n",
       "    <tr>\n",
       "      <th>17</th>\n",
       "      <td>Somebody in Seattle gotta hook me up with one ...</td>\n",
       "      <td>Sat Aug 06 23:58:58 +0000 2016</td>\n",
       "      <td>Orlando, FL</td>\n",
       "      <td>0</td>\n",
       "      <td>6</td>\n",
       "      <td>28.538336</td>\n",
       "      <td>-81.379236</td>\n",
       "    </tr>\n",
       "    <tr>\n",
       "      <th>18</th>\n",
       "      <td>RT @ByTimBooth: . @11EdgarMartinez wearing Jun...</td>\n",
       "      <td>Sat Aug 06 23:58:54 +0000 2016</td>\n",
       "      <td>Seattle</td>\n",
       "      <td>42</td>\n",
       "      <td>0</td>\n",
       "      <td>47.606209</td>\n",
       "      <td>-122.332069</td>\n",
       "    </tr>\n",
       "    <tr>\n",
       "      <th>19</th>\n",
       "      <td>RT @Mariners: Batting practice today is the ve...</td>\n",
       "      <td>Sat Aug 06 23:58:48 +0000 2016</td>\n",
       "      <td>Seattle</td>\n",
       "      <td>1039</td>\n",
       "      <td>0</td>\n",
       "      <td>47.606209</td>\n",
       "      <td>-122.332069</td>\n",
       "    </tr>\n",
       "  </tbody>\n",
       "</table>\n",
       "</div>"
      ],
      "text/plain": [
       "                                                 text  \\\n",
       "0   RT @Mariners: Batting practice today is the ve...   \n",
       "1   RT @Mariners: Batting practice today is the ve...   \n",
       "2   Tim Lincecum designated for… https://t.co/NwUU...   \n",
       "3   RT @Mariners: Batting practice today is the ve...   \n",
       "4   RT @710ESPNSeattle: Tonight's the night.\\n#24E...   \n",
       "5   Ken Griffey, Jr.'s number flies high above #Se...   \n",
       "6   I flew home just in time to watch my hometown ...   \n",
       "7   Safeco looking like not even a playoff atmosph...   \n",
       "8   MLB: *FREE* RISK $300 MARLINS -ML +116\\n\\n$1,0...   \n",
       "9   Family night at the #mariners! #24ever #baseba...   \n",
       "10  It's a great day.  Happy 60th to dad and congr...   \n",
       "11  RT @Mariners: Batting practice today is the ve...   \n",
       "12  @Mariners any word on the availability of the ...   \n",
       "13  RT @FelixForever34: If someone follows me alre...   \n",
       "14  Mariners weekend 2/3 !!! 💙💛#whereiroot #24ever...   \n",
       "15  At the Mariners Game. Loved watching Griffey p...   \n",
       "16  RT @ByTimBooth: The last time No. 24 will be w...   \n",
       "17  Somebody in Seattle gotta hook me up with one ...   \n",
       "18  RT @ByTimBooth: . @11EdgarMartinez wearing Jun...   \n",
       "19  RT @Mariners: Batting practice today is the ve...   \n",
       "\n",
       "                        created_at                   location  retweet_count  \\\n",
       "0   Sat Aug 06 23:59:58 +0000 2016                  Provo, UT           1039   \n",
       "1   Sat Aug 06 23:59:51 +0000 2016                      そこらへん           1039   \n",
       "2   Sat Aug 06 23:59:40 +0000 2016        All Round The World              0   \n",
       "3   Sat Aug 06 23:59:35 +0000 2016                 Cincinnati           1039   \n",
       "4   Sat Aug 06 23:59:30 +0000 2016                Bothell, WA             21   \n",
       "5   Sat Aug 06 23:59:22 +0000 2016                Seattle, WA              5   \n",
       "6   Sat Aug 06 23:59:20 +0000 2016                                         0   \n",
       "7   Sat Aug 06 23:59:20 +0000 2016                        RP               0   \n",
       "8   Sat Aug 06 23:59:16 +0000 2016  Incarceratedbob@Gmail.com              3   \n",
       "9   Sat Aug 06 23:59:13 +0000 2016                                         0   \n",
       "10  Sat Aug 06 23:59:10 +0000 2016                                         0   \n",
       "11  Sat Aug 06 23:59:09 +0000 2016  Hoboken / NYC / Baltimore           1039   \n",
       "12  Sat Aug 06 23:59:08 +0000 2016                                         0   \n",
       "13  Sat Aug 06 23:59:03 +0000 2016                Rocklin, CA              2   \n",
       "14  Sat Aug 06 23:59:03 +0000 2016           Portland, Oregon              0   \n",
       "15  Sat Aug 06 23:58:59 +0000 2016         Everett Washington              0   \n",
       "16  Sat Aug 06 23:58:58 +0000 2016                    Seattle             18   \n",
       "17  Sat Aug 06 23:58:58 +0000 2016                Orlando, FL              0   \n",
       "18  Sat Aug 06 23:58:54 +0000 2016                    Seattle             42   \n",
       "19  Sat Aug 06 23:58:48 +0000 2016                    Seattle           1039   \n",
       "\n",
       "    favorite_count   latitude   longitude  \n",
       "0                0  40.233838 -111.658530  \n",
       "1                0        NaN         NaN  \n",
       "2                0        NaN         NaN  \n",
       "3                0  39.161997  -84.456887  \n",
       "4                0  47.762318 -122.205396  \n",
       "5               15  47.606209 -122.332069  \n",
       "6                7        NaN         NaN  \n",
       "7                0  10.065077  -69.338678  \n",
       "8                1        NaN         NaN  \n",
       "9                0        NaN         NaN  \n",
       "10               0        NaN         NaN  \n",
       "11               0        NaN         NaN  \n",
       "12               1        NaN         NaN  \n",
       "13               0  38.790726 -121.235777  \n",
       "14               8  45.523447 -122.676207  \n",
       "15               0  47.978978 -122.202080  \n",
       "16               0  47.606209 -122.332069  \n",
       "17               6  28.538336  -81.379236  \n",
       "18               0  47.606209 -122.332069  \n",
       "19               0  47.606209 -122.332069  "
      ]
     },
     "execution_count": 19,
     "metadata": {},
     "output_type": "execute_result"
    }
   ],
   "source": [
    "df_mariners.head(20)"
   ]
  },
  {
   "cell_type": "code",
   "execution_count": 30,
   "metadata": {
    "collapsed": false
   },
   "outputs": [],
   "source": [
    "#g = geocoder.arcgis(df_redsox['location'][3])\n",
    "#g.latlng"
   ]
  },
  {
   "cell_type": "code",
   "execution_count": 31,
   "metadata": {
    "collapsed": false
   },
   "outputs": [],
   "source": [
    "#df_redsox['location'][:10].apply(geocoder.arcgis)"
   ]
  },
  {
   "cell_type": "code",
   "execution_count": 32,
   "metadata": {
    "collapsed": false
   },
   "outputs": [],
   "source": [
    "#print(len(lats))\n",
    "#print(len(longs))"
   ]
  },
  {
   "cell_type": "code",
   "execution_count": 33,
   "metadata": {
    "collapsed": false
   },
   "outputs": [],
   "source": [
    "#df_redsox['latitude'] = pd.Series(lats)\n",
    "#df_redsox['longitude'] = pd.Series(longs)"
   ]
  },
  {
   "cell_type": "code",
   "execution_count": 20,
   "metadata": {
    "collapsed": false
   },
   "outputs": [
    {
     "data": {
      "text/plain": [
       "dtype('O')"
      ]
     },
     "execution_count": 20,
     "metadata": {},
     "output_type": "execute_result"
    }
   ],
   "source": [
    "df_mariners['created_at'].dtypes"
   ]
  },
  {
   "cell_type": "code",
   "execution_count": 21,
   "metadata": {
    "collapsed": false
   },
   "outputs": [
    {
     "data": {
      "text/plain": [
       "0    Sat Aug 06 23:59:58 +0000 2016\n",
       "1    Sat Aug 06 23:59:51 +0000 2016\n",
       "2    Sat Aug 06 23:59:40 +0000 2016\n",
       "3    Sat Aug 06 23:59:35 +0000 2016\n",
       "4    Sat Aug 06 23:59:30 +0000 2016\n",
       "Name: created_at, dtype: object"
      ]
     },
     "execution_count": 21,
     "metadata": {},
     "output_type": "execute_result"
    }
   ],
   "source": [
    "df_mariners['created_at'].head()"
   ]
  },
  {
   "cell_type": "code",
   "execution_count": 22,
   "metadata": {
    "collapsed": false
   },
   "outputs": [
    {
     "name": "stderr",
     "output_type": "stream",
     "text": [
      "//anaconda/lib/python3.5/site-packages/ipykernel/__main__.py:2: SettingWithCopyWarning: \n",
      "A value is trying to be set on a copy of a slice from a DataFrame.\n",
      "Try using .loc[row_indexer,col_indexer] = value instead\n",
      "\n",
      "See the caveats in the documentation: http://pandas.pydata.org/pandas-docs/stable/indexing.html#indexing-view-versus-copy\n",
      "  from ipykernel import kernelapp as app\n",
      "//anaconda/lib/python3.5/site-packages/ipykernel/__main__.py:3: SettingWithCopyWarning: \n",
      "A value is trying to be set on a copy of a slice from a DataFrame.\n",
      "Try using .loc[row_indexer,col_indexer] = value instead\n",
      "\n",
      "See the caveats in the documentation: http://pandas.pydata.org/pandas-docs/stable/indexing.html#indexing-view-versus-copy\n",
      "  app.launch_new_instance()\n"
     ]
    }
   ],
   "source": [
    "# First, parse to datetime, then get YYYY-MM-DD format.\n",
    "df_mariners['time'] = pd.to_datetime(df_mariners['created_at'], format='%a %b %d %H:%M:%S +0000 %Y')\n",
    "df_mariners['time'] = pd.to_datetime(df_mariners['time'].dt.date, format='%Y-%m-%d')\n",
    "#date = datetime.strptime('Thu Apr 23 13:38:19 +0000 2009','%a %b %d %H:%M:%S +0000 %Y')\n",
    "#date = datetime.strftime(date, '%Y %d %m')\n",
    "#type(date)\n",
    "#df_redsox['time'].dtypes"
   ]
  },
  {
   "cell_type": "code",
   "execution_count": 23,
   "metadata": {
    "collapsed": false
   },
   "outputs": [
    {
     "data": {
      "text/html": [
       "<div>\n",
       "<table border=\"1\" class=\"dataframe\">\n",
       "  <thead>\n",
       "    <tr style=\"text-align: right;\">\n",
       "      <th></th>\n",
       "      <th>text</th>\n",
       "      <th>created_at</th>\n",
       "      <th>location</th>\n",
       "      <th>retweet_count</th>\n",
       "      <th>favorite_count</th>\n",
       "      <th>latitude</th>\n",
       "      <th>longitude</th>\n",
       "      <th>time</th>\n",
       "    </tr>\n",
       "  </thead>\n",
       "  <tbody>\n",
       "    <tr>\n",
       "      <th>0</th>\n",
       "      <td>RT @Mariners: Batting practice today is the ve...</td>\n",
       "      <td>Sat Aug 06 23:59:58 +0000 2016</td>\n",
       "      <td>Provo, UT</td>\n",
       "      <td>1039</td>\n",
       "      <td>0</td>\n",
       "      <td>40.233838</td>\n",
       "      <td>-111.658530</td>\n",
       "      <td>2016-08-06</td>\n",
       "    </tr>\n",
       "    <tr>\n",
       "      <th>1</th>\n",
       "      <td>RT @Mariners: Batting practice today is the ve...</td>\n",
       "      <td>Sat Aug 06 23:59:51 +0000 2016</td>\n",
       "      <td>そこらへん</td>\n",
       "      <td>1039</td>\n",
       "      <td>0</td>\n",
       "      <td>NaN</td>\n",
       "      <td>NaN</td>\n",
       "      <td>2016-08-06</td>\n",
       "    </tr>\n",
       "    <tr>\n",
       "      <th>2</th>\n",
       "      <td>Tim Lincecum designated for… https://t.co/NwUU...</td>\n",
       "      <td>Sat Aug 06 23:59:40 +0000 2016</td>\n",
       "      <td>All Round The World</td>\n",
       "      <td>0</td>\n",
       "      <td>0</td>\n",
       "      <td>NaN</td>\n",
       "      <td>NaN</td>\n",
       "      <td>2016-08-06</td>\n",
       "    </tr>\n",
       "    <tr>\n",
       "      <th>3</th>\n",
       "      <td>RT @Mariners: Batting practice today is the ve...</td>\n",
       "      <td>Sat Aug 06 23:59:35 +0000 2016</td>\n",
       "      <td>Cincinnati</td>\n",
       "      <td>1039</td>\n",
       "      <td>0</td>\n",
       "      <td>39.161997</td>\n",
       "      <td>-84.456887</td>\n",
       "      <td>2016-08-06</td>\n",
       "    </tr>\n",
       "    <tr>\n",
       "      <th>4</th>\n",
       "      <td>RT @710ESPNSeattle: Tonight's the night.\\n#24E...</td>\n",
       "      <td>Sat Aug 06 23:59:30 +0000 2016</td>\n",
       "      <td>Bothell, WA</td>\n",
       "      <td>21</td>\n",
       "      <td>0</td>\n",
       "      <td>47.762318</td>\n",
       "      <td>-122.205396</td>\n",
       "      <td>2016-08-06</td>\n",
       "    </tr>\n",
       "    <tr>\n",
       "      <th>5</th>\n",
       "      <td>Ken Griffey, Jr.'s number flies high above #Se...</td>\n",
       "      <td>Sat Aug 06 23:59:22 +0000 2016</td>\n",
       "      <td>Seattle, WA</td>\n",
       "      <td>5</td>\n",
       "      <td>15</td>\n",
       "      <td>47.606209</td>\n",
       "      <td>-122.332069</td>\n",
       "      <td>2016-08-06</td>\n",
       "    </tr>\n",
       "    <tr>\n",
       "      <th>6</th>\n",
       "      <td>I flew home just in time to watch my hometown ...</td>\n",
       "      <td>Sat Aug 06 23:59:20 +0000 2016</td>\n",
       "      <td></td>\n",
       "      <td>0</td>\n",
       "      <td>7</td>\n",
       "      <td>NaN</td>\n",
       "      <td>NaN</td>\n",
       "      <td>2016-08-06</td>\n",
       "    </tr>\n",
       "    <tr>\n",
       "      <th>7</th>\n",
       "      <td>Safeco looking like not even a playoff atmosph...</td>\n",
       "      <td>Sat Aug 06 23:59:20 +0000 2016</td>\n",
       "      <td>RP</td>\n",
       "      <td>0</td>\n",
       "      <td>0</td>\n",
       "      <td>10.065077</td>\n",
       "      <td>-69.338678</td>\n",
       "      <td>2016-08-06</td>\n",
       "    </tr>\n",
       "    <tr>\n",
       "      <th>8</th>\n",
       "      <td>MLB: *FREE* RISK $300 MARLINS -ML +116\\n\\n$1,0...</td>\n",
       "      <td>Sat Aug 06 23:59:16 +0000 2016</td>\n",
       "      <td>Incarceratedbob@Gmail.com</td>\n",
       "      <td>3</td>\n",
       "      <td>1</td>\n",
       "      <td>NaN</td>\n",
       "      <td>NaN</td>\n",
       "      <td>2016-08-06</td>\n",
       "    </tr>\n",
       "    <tr>\n",
       "      <th>9</th>\n",
       "      <td>Family night at the #mariners! #24ever #baseba...</td>\n",
       "      <td>Sat Aug 06 23:59:13 +0000 2016</td>\n",
       "      <td></td>\n",
       "      <td>0</td>\n",
       "      <td>0</td>\n",
       "      <td>NaN</td>\n",
       "      <td>NaN</td>\n",
       "      <td>2016-08-06</td>\n",
       "    </tr>\n",
       "  </tbody>\n",
       "</table>\n",
       "</div>"
      ],
      "text/plain": [
       "                                                text  \\\n",
       "0  RT @Mariners: Batting practice today is the ve...   \n",
       "1  RT @Mariners: Batting practice today is the ve...   \n",
       "2  Tim Lincecum designated for… https://t.co/NwUU...   \n",
       "3  RT @Mariners: Batting practice today is the ve...   \n",
       "4  RT @710ESPNSeattle: Tonight's the night.\\n#24E...   \n",
       "5  Ken Griffey, Jr.'s number flies high above #Se...   \n",
       "6  I flew home just in time to watch my hometown ...   \n",
       "7  Safeco looking like not even a playoff atmosph...   \n",
       "8  MLB: *FREE* RISK $300 MARLINS -ML +116\\n\\n$1,0...   \n",
       "9  Family night at the #mariners! #24ever #baseba...   \n",
       "\n",
       "                       created_at                   location  retweet_count  \\\n",
       "0  Sat Aug 06 23:59:58 +0000 2016                  Provo, UT           1039   \n",
       "1  Sat Aug 06 23:59:51 +0000 2016                      そこらへん           1039   \n",
       "2  Sat Aug 06 23:59:40 +0000 2016        All Round The World              0   \n",
       "3  Sat Aug 06 23:59:35 +0000 2016                 Cincinnati           1039   \n",
       "4  Sat Aug 06 23:59:30 +0000 2016                Bothell, WA             21   \n",
       "5  Sat Aug 06 23:59:22 +0000 2016                Seattle, WA              5   \n",
       "6  Sat Aug 06 23:59:20 +0000 2016                                         0   \n",
       "7  Sat Aug 06 23:59:20 +0000 2016                        RP               0   \n",
       "8  Sat Aug 06 23:59:16 +0000 2016  Incarceratedbob@Gmail.com              3   \n",
       "9  Sat Aug 06 23:59:13 +0000 2016                                         0   \n",
       "\n",
       "   favorite_count   latitude   longitude       time  \n",
       "0               0  40.233838 -111.658530 2016-08-06  \n",
       "1               0        NaN         NaN 2016-08-06  \n",
       "2               0        NaN         NaN 2016-08-06  \n",
       "3               0  39.161997  -84.456887 2016-08-06  \n",
       "4               0  47.762318 -122.205396 2016-08-06  \n",
       "5              15  47.606209 -122.332069 2016-08-06  \n",
       "6               7        NaN         NaN 2016-08-06  \n",
       "7               0  10.065077  -69.338678 2016-08-06  \n",
       "8               1        NaN         NaN 2016-08-06  \n",
       "9               0        NaN         NaN 2016-08-06  "
      ]
     },
     "execution_count": 23,
     "metadata": {},
     "output_type": "execute_result"
    }
   ],
   "source": [
    "df_mariners.head(10)"
   ]
  },
  {
   "cell_type": "markdown",
   "metadata": {},
   "source": [
    "## Sentiment Analysis ##"
   ]
  },
  {
   "cell_type": "code",
   "execution_count": 24,
   "metadata": {
    "collapsed": false
   },
   "outputs": [
    {
     "data": {
      "text/html": [
       "<div>\n",
       "<table border=\"1\" class=\"dataframe\">\n",
       "  <thead>\n",
       "    <tr style=\"text-align: right;\">\n",
       "      <th></th>\n",
       "      <th>text</th>\n",
       "      <th>created_at</th>\n",
       "      <th>location</th>\n",
       "      <th>retweet_count</th>\n",
       "      <th>favorite_count</th>\n",
       "      <th>latitude</th>\n",
       "      <th>longitude</th>\n",
       "      <th>time</th>\n",
       "    </tr>\n",
       "  </thead>\n",
       "  <tbody>\n",
       "    <tr>\n",
       "      <th>0</th>\n",
       "      <td>RT @Mariners: Batting practice today is the ve...</td>\n",
       "      <td>Sat Aug 06 23:59:58 +0000 2016</td>\n",
       "      <td>Provo, UT</td>\n",
       "      <td>1039</td>\n",
       "      <td>0</td>\n",
       "      <td>40.233838</td>\n",
       "      <td>-111.658530</td>\n",
       "      <td>2016-08-06</td>\n",
       "    </tr>\n",
       "    <tr>\n",
       "      <th>1</th>\n",
       "      <td>RT @Mariners: Batting practice today is the ve...</td>\n",
       "      <td>Sat Aug 06 23:59:51 +0000 2016</td>\n",
       "      <td>そこらへん</td>\n",
       "      <td>1039</td>\n",
       "      <td>0</td>\n",
       "      <td>NaN</td>\n",
       "      <td>NaN</td>\n",
       "      <td>2016-08-06</td>\n",
       "    </tr>\n",
       "    <tr>\n",
       "      <th>2</th>\n",
       "      <td>Tim Lincecum designated for… https://t.co/NwUU...</td>\n",
       "      <td>Sat Aug 06 23:59:40 +0000 2016</td>\n",
       "      <td>All Round The World</td>\n",
       "      <td>0</td>\n",
       "      <td>0</td>\n",
       "      <td>NaN</td>\n",
       "      <td>NaN</td>\n",
       "      <td>2016-08-06</td>\n",
       "    </tr>\n",
       "    <tr>\n",
       "      <th>3</th>\n",
       "      <td>RT @Mariners: Batting practice today is the ve...</td>\n",
       "      <td>Sat Aug 06 23:59:35 +0000 2016</td>\n",
       "      <td>Cincinnati</td>\n",
       "      <td>1039</td>\n",
       "      <td>0</td>\n",
       "      <td>39.161997</td>\n",
       "      <td>-84.456887</td>\n",
       "      <td>2016-08-06</td>\n",
       "    </tr>\n",
       "    <tr>\n",
       "      <th>4</th>\n",
       "      <td>RT @710ESPNSeattle: Tonight's the night.\\n#24E...</td>\n",
       "      <td>Sat Aug 06 23:59:30 +0000 2016</td>\n",
       "      <td>Bothell, WA</td>\n",
       "      <td>21</td>\n",
       "      <td>0</td>\n",
       "      <td>47.762318</td>\n",
       "      <td>-122.205396</td>\n",
       "      <td>2016-08-06</td>\n",
       "    </tr>\n",
       "  </tbody>\n",
       "</table>\n",
       "</div>"
      ],
      "text/plain": [
       "                                                text  \\\n",
       "0  RT @Mariners: Batting practice today is the ve...   \n",
       "1  RT @Mariners: Batting practice today is the ve...   \n",
       "2  Tim Lincecum designated for… https://t.co/NwUU...   \n",
       "3  RT @Mariners: Batting practice today is the ve...   \n",
       "4  RT @710ESPNSeattle: Tonight's the night.\\n#24E...   \n",
       "\n",
       "                       created_at             location  retweet_count  \\\n",
       "0  Sat Aug 06 23:59:58 +0000 2016            Provo, UT           1039   \n",
       "1  Sat Aug 06 23:59:51 +0000 2016                そこらへん           1039   \n",
       "2  Sat Aug 06 23:59:40 +0000 2016  All Round The World              0   \n",
       "3  Sat Aug 06 23:59:35 +0000 2016           Cincinnati           1039   \n",
       "4  Sat Aug 06 23:59:30 +0000 2016          Bothell, WA             21   \n",
       "\n",
       "   favorite_count   latitude   longitude       time  \n",
       "0               0  40.233838 -111.658530 2016-08-06  \n",
       "1               0        NaN         NaN 2016-08-06  \n",
       "2               0        NaN         NaN 2016-08-06  \n",
       "3               0  39.161997  -84.456887 2016-08-06  \n",
       "4               0  47.762318 -122.205396 2016-08-06  "
      ]
     },
     "execution_count": 24,
     "metadata": {},
     "output_type": "execute_result"
    }
   ],
   "source": [
    "df_mariners.head()"
   ]
  },
  {
   "cell_type": "code",
   "execution_count": 25,
   "metadata": {
    "collapsed": true
   },
   "outputs": [],
   "source": [
    "from textblob import TextBlob"
   ]
  },
  {
   "cell_type": "code",
   "execution_count": 26,
   "metadata": {
    "collapsed": false
   },
   "outputs": [],
   "source": [
    "tweets = df_mariners['text']\n",
    "sentiments = []\n",
    "for tweet in tweets:\n",
    "    wiki = TextBlob(tweet)\n",
    "    sentiments.append(wiki.sentiment.polarity)"
   ]
  },
  {
   "cell_type": "code",
   "execution_count": 27,
   "metadata": {
    "collapsed": false
   },
   "outputs": [
    {
     "name": "stderr",
     "output_type": "stream",
     "text": [
      "//anaconda/lib/python3.5/site-packages/ipykernel/__main__.py:1: SettingWithCopyWarning: \n",
      "A value is trying to be set on a copy of a slice from a DataFrame.\n",
      "Try using .loc[row_indexer,col_indexer] = value instead\n",
      "\n",
      "See the caveats in the documentation: http://pandas.pydata.org/pandas-docs/stable/indexing.html#indexing-view-versus-copy\n",
      "  if __name__ == '__main__':\n"
     ]
    }
   ],
   "source": [
    "df_mariners['sentiment'] = pd.Series(sentiments)"
   ]
  },
  {
   "cell_type": "code",
   "execution_count": 31,
   "metadata": {
    "collapsed": false
   },
   "outputs": [
    {
     "data": {
      "text/html": [
       "<div>\n",
       "<table border=\"1\" class=\"dataframe\">\n",
       "  <thead>\n",
       "    <tr style=\"text-align: right;\">\n",
       "      <th></th>\n",
       "      <th>text</th>\n",
       "      <th>created_at</th>\n",
       "      <th>location</th>\n",
       "      <th>retweet_count</th>\n",
       "      <th>favorite_count</th>\n",
       "      <th>latitude</th>\n",
       "      <th>longitude</th>\n",
       "      <th>time</th>\n",
       "      <th>sentiment</th>\n",
       "    </tr>\n",
       "  </thead>\n",
       "  <tbody>\n",
       "    <tr>\n",
       "      <th>0</th>\n",
       "      <td>RT @Mariners: Batting practice today is the ve...</td>\n",
       "      <td>Sat Aug 06 23:59:58 +0000 2016</td>\n",
       "      <td>Provo, UT</td>\n",
       "      <td>1039</td>\n",
       "      <td>0</td>\n",
       "      <td>40.233838</td>\n",
       "      <td>-111.658530</td>\n",
       "      <td>2016-08-06</td>\n",
       "      <td>0.000000</td>\n",
       "    </tr>\n",
       "    <tr>\n",
       "      <th>1</th>\n",
       "      <td>RT @Mariners: Batting practice today is the ve...</td>\n",
       "      <td>Sat Aug 06 23:59:51 +0000 2016</td>\n",
       "      <td>そこらへん</td>\n",
       "      <td>1039</td>\n",
       "      <td>0</td>\n",
       "      <td>NaN</td>\n",
       "      <td>NaN</td>\n",
       "      <td>2016-08-06</td>\n",
       "      <td>0.000000</td>\n",
       "    </tr>\n",
       "    <tr>\n",
       "      <th>2</th>\n",
       "      <td>Tim Lincecum designated for… https://t.co/NwUU...</td>\n",
       "      <td>Sat Aug 06 23:59:40 +0000 2016</td>\n",
       "      <td>All Round The World</td>\n",
       "      <td>0</td>\n",
       "      <td>0</td>\n",
       "      <td>NaN</td>\n",
       "      <td>NaN</td>\n",
       "      <td>2016-08-06</td>\n",
       "      <td>0.000000</td>\n",
       "    </tr>\n",
       "    <tr>\n",
       "      <th>3</th>\n",
       "      <td>RT @Mariners: Batting practice today is the ve...</td>\n",
       "      <td>Sat Aug 06 23:59:35 +0000 2016</td>\n",
       "      <td>Cincinnati</td>\n",
       "      <td>1039</td>\n",
       "      <td>0</td>\n",
       "      <td>39.161997</td>\n",
       "      <td>-84.456887</td>\n",
       "      <td>2016-08-06</td>\n",
       "      <td>0.000000</td>\n",
       "    </tr>\n",
       "    <tr>\n",
       "      <th>4</th>\n",
       "      <td>RT @710ESPNSeattle: Tonight's the night.\\n#24E...</td>\n",
       "      <td>Sat Aug 06 23:59:30 +0000 2016</td>\n",
       "      <td>Bothell, WA</td>\n",
       "      <td>21</td>\n",
       "      <td>0</td>\n",
       "      <td>47.762318</td>\n",
       "      <td>-122.205396</td>\n",
       "      <td>2016-08-06</td>\n",
       "      <td>0.000000</td>\n",
       "    </tr>\n",
       "    <tr>\n",
       "      <th>5</th>\n",
       "      <td>Ken Griffey, Jr.'s number flies high above #Se...</td>\n",
       "      <td>Sat Aug 06 23:59:22 +0000 2016</td>\n",
       "      <td>Seattle, WA</td>\n",
       "      <td>5</td>\n",
       "      <td>15</td>\n",
       "      <td>47.606209</td>\n",
       "      <td>-122.332069</td>\n",
       "      <td>2016-08-06</td>\n",
       "      <td>0.053333</td>\n",
       "    </tr>\n",
       "    <tr>\n",
       "      <th>6</th>\n",
       "      <td>I flew home just in time to watch my hometown ...</td>\n",
       "      <td>Sat Aug 06 23:59:20 +0000 2016</td>\n",
       "      <td></td>\n",
       "      <td>0</td>\n",
       "      <td>7</td>\n",
       "      <td>NaN</td>\n",
       "      <td>NaN</td>\n",
       "      <td>2016-08-06</td>\n",
       "      <td>0.000000</td>\n",
       "    </tr>\n",
       "    <tr>\n",
       "      <th>7</th>\n",
       "      <td>Safeco looking like not even a playoff atmosph...</td>\n",
       "      <td>Sat Aug 06 23:59:20 +0000 2016</td>\n",
       "      <td>RP</td>\n",
       "      <td>0</td>\n",
       "      <td>0</td>\n",
       "      <td>10.065077</td>\n",
       "      <td>-69.338678</td>\n",
       "      <td>2016-08-06</td>\n",
       "      <td>0.000000</td>\n",
       "    </tr>\n",
       "    <tr>\n",
       "      <th>8</th>\n",
       "      <td>MLB: *FREE* RISK $300 MARLINS -ML +116\\n\\n$1,0...</td>\n",
       "      <td>Sat Aug 06 23:59:16 +0000 2016</td>\n",
       "      <td>Incarceratedbob@Gmail.com</td>\n",
       "      <td>3</td>\n",
       "      <td>1</td>\n",
       "      <td>NaN</td>\n",
       "      <td>NaN</td>\n",
       "      <td>2016-08-06</td>\n",
       "      <td>0.366667</td>\n",
       "    </tr>\n",
       "    <tr>\n",
       "      <th>9</th>\n",
       "      <td>Family night at the #mariners! #24ever #baseba...</td>\n",
       "      <td>Sat Aug 06 23:59:13 +0000 2016</td>\n",
       "      <td></td>\n",
       "      <td>0</td>\n",
       "      <td>0</td>\n",
       "      <td>NaN</td>\n",
       "      <td>NaN</td>\n",
       "      <td>2016-08-06</td>\n",
       "      <td>0.000000</td>\n",
       "    </tr>\n",
       "  </tbody>\n",
       "</table>\n",
       "</div>"
      ],
      "text/plain": [
       "                                                text  \\\n",
       "0  RT @Mariners: Batting practice today is the ve...   \n",
       "1  RT @Mariners: Batting practice today is the ve...   \n",
       "2  Tim Lincecum designated for… https://t.co/NwUU...   \n",
       "3  RT @Mariners: Batting practice today is the ve...   \n",
       "4  RT @710ESPNSeattle: Tonight's the night.\\n#24E...   \n",
       "5  Ken Griffey, Jr.'s number flies high above #Se...   \n",
       "6  I flew home just in time to watch my hometown ...   \n",
       "7  Safeco looking like not even a playoff atmosph...   \n",
       "8  MLB: *FREE* RISK $300 MARLINS -ML +116\\n\\n$1,0...   \n",
       "9  Family night at the #mariners! #24ever #baseba...   \n",
       "\n",
       "                       created_at                   location  retweet_count  \\\n",
       "0  Sat Aug 06 23:59:58 +0000 2016                  Provo, UT           1039   \n",
       "1  Sat Aug 06 23:59:51 +0000 2016                      そこらへん           1039   \n",
       "2  Sat Aug 06 23:59:40 +0000 2016        All Round The World              0   \n",
       "3  Sat Aug 06 23:59:35 +0000 2016                 Cincinnati           1039   \n",
       "4  Sat Aug 06 23:59:30 +0000 2016                Bothell, WA             21   \n",
       "5  Sat Aug 06 23:59:22 +0000 2016                Seattle, WA              5   \n",
       "6  Sat Aug 06 23:59:20 +0000 2016                                         0   \n",
       "7  Sat Aug 06 23:59:20 +0000 2016                        RP               0   \n",
       "8  Sat Aug 06 23:59:16 +0000 2016  Incarceratedbob@Gmail.com              3   \n",
       "9  Sat Aug 06 23:59:13 +0000 2016                                         0   \n",
       "\n",
       "   favorite_count   latitude   longitude       time  sentiment  \n",
       "0               0  40.233838 -111.658530 2016-08-06   0.000000  \n",
       "1               0        NaN         NaN 2016-08-06   0.000000  \n",
       "2               0        NaN         NaN 2016-08-06   0.000000  \n",
       "3               0  39.161997  -84.456887 2016-08-06   0.000000  \n",
       "4               0  47.762318 -122.205396 2016-08-06   0.000000  \n",
       "5              15  47.606209 -122.332069 2016-08-06   0.053333  \n",
       "6               7        NaN         NaN 2016-08-06   0.000000  \n",
       "7               0  10.065077  -69.338678 2016-08-06   0.000000  \n",
       "8               1        NaN         NaN 2016-08-06   0.366667  \n",
       "9               0        NaN         NaN 2016-08-06   0.000000  "
      ]
     },
     "execution_count": 31,
     "metadata": {},
     "output_type": "execute_result"
    }
   ],
   "source": [
    "df_mariners.head(10)"
   ]
  },
  {
   "cell_type": "code",
   "execution_count": 223,
   "metadata": {
    "collapsed": true
   },
   "outputs": [],
   "source": [
    "#df_redsox.to_csv('df_redsox.csv')"
   ]
  },
  {
   "cell_type": "code",
   "execution_count": 32,
   "metadata": {
    "collapsed": false
   },
   "outputs": [
    {
     "name": "stdout",
     "output_type": "stream",
     "text": [
      "47.60620882800049 -122.33206857399972\n"
     ]
    }
   ],
   "source": [
    "g = geocoder.arcgis('Seattle, WA')\n",
    "seattle_lat = g.latlng[0]\n",
    "seattle_long = g.latlng[1]\n",
    "print(seattle_lat, seattle_long)"
   ]
  },
  {
   "cell_type": "code",
   "execution_count": 33,
   "metadata": {
    "collapsed": false
   },
   "outputs": [],
   "source": [
    "import gpxpy.geo\n",
    "import math\n",
    "haversine_distances = []\n",
    "for i in range(df_mariners.shape[0]):\n",
    "#dist = gpxpy.geo.haversine_distance(52.2296756, 21.0122287, 52.406374, 16.9251681)\n",
    "#print(dist)\n",
    "    if math.isnan(df_mariners.iloc[i]['latitude']):\n",
    "        haversine_distances.append(np.nan)\n",
    "    else:\n",
    "        distance = gpxpy.geo.haversine_distance(seattle_lat, seattle_long, df_mariners.iloc[i]['latitude'], df_mariners.iloc[i]['longitude'])\n",
    "        haversine_distances.append(distance)"
   ]
  },
  {
   "cell_type": "code",
   "execution_count": 34,
   "metadata": {
    "collapsed": false
   },
   "outputs": [
    {
     "data": {
      "text/plain": [
       "11000"
      ]
     },
     "execution_count": 34,
     "metadata": {},
     "output_type": "execute_result"
    }
   ],
   "source": [
    "len(haversine_distances)"
   ]
  },
  {
   "cell_type": "code",
   "execution_count": 35,
   "metadata": {
    "collapsed": false
   },
   "outputs": [
    {
     "name": "stderr",
     "output_type": "stream",
     "text": [
      "//anaconda/lib/python3.5/site-packages/ipykernel/__main__.py:1: SettingWithCopyWarning: \n",
      "A value is trying to be set on a copy of a slice from a DataFrame.\n",
      "Try using .loc[row_indexer,col_indexer] = value instead\n",
      "\n",
      "See the caveats in the documentation: http://pandas.pydata.org/pandas-docs/stable/indexing.html#indexing-view-versus-copy\n",
      "  if __name__ == '__main__':\n"
     ]
    }
   ],
   "source": [
    "df_mariners['hav_distance'] = pd.Series(haversine_distances)"
   ]
  },
  {
   "cell_type": "code",
   "execution_count": 36,
   "metadata": {
    "collapsed": false
   },
   "outputs": [
    {
     "data": {
      "text/html": [
       "<div>\n",
       "<table border=\"1\" class=\"dataframe\">\n",
       "  <thead>\n",
       "    <tr style=\"text-align: right;\">\n",
       "      <th></th>\n",
       "      <th>text</th>\n",
       "      <th>created_at</th>\n",
       "      <th>location</th>\n",
       "      <th>retweet_count</th>\n",
       "      <th>favorite_count</th>\n",
       "      <th>latitude</th>\n",
       "      <th>longitude</th>\n",
       "      <th>time</th>\n",
       "      <th>sentiment</th>\n",
       "      <th>hav_distance</th>\n",
       "    </tr>\n",
       "  </thead>\n",
       "  <tbody>\n",
       "    <tr>\n",
       "      <th>0</th>\n",
       "      <td>RT @Mariners: Batting practice today is the ve...</td>\n",
       "      <td>Sat Aug 06 23:59:58 +0000 2016</td>\n",
       "      <td>Provo, UT</td>\n",
       "      <td>1039</td>\n",
       "      <td>0</td>\n",
       "      <td>40.233838</td>\n",
       "      <td>-111.658530</td>\n",
       "      <td>2016-08-06</td>\n",
       "      <td>0.0</td>\n",
       "      <td>1.182384e+06</td>\n",
       "    </tr>\n",
       "    <tr>\n",
       "      <th>1</th>\n",
       "      <td>RT @Mariners: Batting practice today is the ve...</td>\n",
       "      <td>Sat Aug 06 23:59:51 +0000 2016</td>\n",
       "      <td>そこらへん</td>\n",
       "      <td>1039</td>\n",
       "      <td>0</td>\n",
       "      <td>NaN</td>\n",
       "      <td>NaN</td>\n",
       "      <td>2016-08-06</td>\n",
       "      <td>0.0</td>\n",
       "      <td>NaN</td>\n",
       "    </tr>\n",
       "    <tr>\n",
       "      <th>2</th>\n",
       "      <td>Tim Lincecum designated for… https://t.co/NwUU...</td>\n",
       "      <td>Sat Aug 06 23:59:40 +0000 2016</td>\n",
       "      <td>All Round The World</td>\n",
       "      <td>0</td>\n",
       "      <td>0</td>\n",
       "      <td>NaN</td>\n",
       "      <td>NaN</td>\n",
       "      <td>2016-08-06</td>\n",
       "      <td>0.0</td>\n",
       "      <td>NaN</td>\n",
       "    </tr>\n",
       "    <tr>\n",
       "      <th>3</th>\n",
       "      <td>RT @Mariners: Batting practice today is the ve...</td>\n",
       "      <td>Sat Aug 06 23:59:35 +0000 2016</td>\n",
       "      <td>Cincinnati</td>\n",
       "      <td>1039</td>\n",
       "      <td>0</td>\n",
       "      <td>39.161997</td>\n",
       "      <td>-84.456887</td>\n",
       "      <td>2016-08-06</td>\n",
       "      <td>0.0</td>\n",
       "      <td>3.166099e+06</td>\n",
       "    </tr>\n",
       "    <tr>\n",
       "      <th>4</th>\n",
       "      <td>RT @710ESPNSeattle: Tonight's the night.\\n#24E...</td>\n",
       "      <td>Sat Aug 06 23:59:30 +0000 2016</td>\n",
       "      <td>Bothell, WA</td>\n",
       "      <td>21</td>\n",
       "      <td>0</td>\n",
       "      <td>47.762318</td>\n",
       "      <td>-122.205396</td>\n",
       "      <td>2016-08-06</td>\n",
       "      <td>0.0</td>\n",
       "      <td>1.977970e+04</td>\n",
       "    </tr>\n",
       "  </tbody>\n",
       "</table>\n",
       "</div>"
      ],
      "text/plain": [
       "                                                text  \\\n",
       "0  RT @Mariners: Batting practice today is the ve...   \n",
       "1  RT @Mariners: Batting practice today is the ve...   \n",
       "2  Tim Lincecum designated for… https://t.co/NwUU...   \n",
       "3  RT @Mariners: Batting practice today is the ve...   \n",
       "4  RT @710ESPNSeattle: Tonight's the night.\\n#24E...   \n",
       "\n",
       "                       created_at             location  retweet_count  \\\n",
       "0  Sat Aug 06 23:59:58 +0000 2016            Provo, UT           1039   \n",
       "1  Sat Aug 06 23:59:51 +0000 2016                そこらへん           1039   \n",
       "2  Sat Aug 06 23:59:40 +0000 2016  All Round The World              0   \n",
       "3  Sat Aug 06 23:59:35 +0000 2016           Cincinnati           1039   \n",
       "4  Sat Aug 06 23:59:30 +0000 2016          Bothell, WA             21   \n",
       "\n",
       "   favorite_count   latitude   longitude       time  sentiment  hav_distance  \n",
       "0               0  40.233838 -111.658530 2016-08-06        0.0  1.182384e+06  \n",
       "1               0        NaN         NaN 2016-08-06        0.0           NaN  \n",
       "2               0        NaN         NaN 2016-08-06        0.0           NaN  \n",
       "3               0  39.161997  -84.456887 2016-08-06        0.0  3.166099e+06  \n",
       "4               0  47.762318 -122.205396 2016-08-06        0.0  1.977970e+04  "
      ]
     },
     "execution_count": 36,
     "metadata": {},
     "output_type": "execute_result"
    }
   ],
   "source": [
    "df_mariners.head()"
   ]
  },
  {
   "cell_type": "code",
   "execution_count": 37,
   "metadata": {
    "collapsed": false
   },
   "outputs": [
    {
     "name": "stderr",
     "output_type": "stream",
     "text": [
      "//anaconda/lib/python3.5/site-packages/pandas/core/frame.py:2748: SettingWithCopyWarning: \n",
      "A value is trying to be set on a copy of a slice from a DataFrame\n",
      "\n",
      "See the caveats in the documentation: http://pandas.pydata.org/pandas-docs/stable/indexing.html#indexing-view-versus-copy\n",
      "  **kwargs)\n"
     ]
    }
   ],
   "source": [
    "df_mariners.rename(columns={'time': 'dates'}, inplace=True)"
   ]
  },
  {
   "cell_type": "code",
   "execution_count": 38,
   "metadata": {
    "collapsed": false
   },
   "outputs": [
    {
     "data": {
      "text/html": [
       "<div>\n",
       "<table border=\"1\" class=\"dataframe\">\n",
       "  <thead>\n",
       "    <tr style=\"text-align: right;\">\n",
       "      <th></th>\n",
       "      <th>text</th>\n",
       "      <th>created_at</th>\n",
       "      <th>location</th>\n",
       "      <th>retweet_count</th>\n",
       "      <th>favorite_count</th>\n",
       "      <th>latitude</th>\n",
       "      <th>longitude</th>\n",
       "      <th>dates</th>\n",
       "      <th>sentiment</th>\n",
       "      <th>hav_distance</th>\n",
       "    </tr>\n",
       "  </thead>\n",
       "  <tbody>\n",
       "    <tr>\n",
       "      <th>0</th>\n",
       "      <td>RT @Mariners: Batting practice today is the ve...</td>\n",
       "      <td>Sat Aug 06 23:59:58 +0000 2016</td>\n",
       "      <td>Provo, UT</td>\n",
       "      <td>1039</td>\n",
       "      <td>0</td>\n",
       "      <td>40.233838</td>\n",
       "      <td>-111.658530</td>\n",
       "      <td>2016-08-06</td>\n",
       "      <td>0.0</td>\n",
       "      <td>1.182384e+06</td>\n",
       "    </tr>\n",
       "    <tr>\n",
       "      <th>1</th>\n",
       "      <td>RT @Mariners: Batting practice today is the ve...</td>\n",
       "      <td>Sat Aug 06 23:59:51 +0000 2016</td>\n",
       "      <td>そこらへん</td>\n",
       "      <td>1039</td>\n",
       "      <td>0</td>\n",
       "      <td>NaN</td>\n",
       "      <td>NaN</td>\n",
       "      <td>2016-08-06</td>\n",
       "      <td>0.0</td>\n",
       "      <td>NaN</td>\n",
       "    </tr>\n",
       "    <tr>\n",
       "      <th>2</th>\n",
       "      <td>Tim Lincecum designated for… https://t.co/NwUU...</td>\n",
       "      <td>Sat Aug 06 23:59:40 +0000 2016</td>\n",
       "      <td>All Round The World</td>\n",
       "      <td>0</td>\n",
       "      <td>0</td>\n",
       "      <td>NaN</td>\n",
       "      <td>NaN</td>\n",
       "      <td>2016-08-06</td>\n",
       "      <td>0.0</td>\n",
       "      <td>NaN</td>\n",
       "    </tr>\n",
       "    <tr>\n",
       "      <th>3</th>\n",
       "      <td>RT @Mariners: Batting practice today is the ve...</td>\n",
       "      <td>Sat Aug 06 23:59:35 +0000 2016</td>\n",
       "      <td>Cincinnati</td>\n",
       "      <td>1039</td>\n",
       "      <td>0</td>\n",
       "      <td>39.161997</td>\n",
       "      <td>-84.456887</td>\n",
       "      <td>2016-08-06</td>\n",
       "      <td>0.0</td>\n",
       "      <td>3.166099e+06</td>\n",
       "    </tr>\n",
       "    <tr>\n",
       "      <th>4</th>\n",
       "      <td>RT @710ESPNSeattle: Tonight's the night.\\n#24E...</td>\n",
       "      <td>Sat Aug 06 23:59:30 +0000 2016</td>\n",
       "      <td>Bothell, WA</td>\n",
       "      <td>21</td>\n",
       "      <td>0</td>\n",
       "      <td>47.762318</td>\n",
       "      <td>-122.205396</td>\n",
       "      <td>2016-08-06</td>\n",
       "      <td>0.0</td>\n",
       "      <td>1.977970e+04</td>\n",
       "    </tr>\n",
       "  </tbody>\n",
       "</table>\n",
       "</div>"
      ],
      "text/plain": [
       "                                                text  \\\n",
       "0  RT @Mariners: Batting practice today is the ve...   \n",
       "1  RT @Mariners: Batting practice today is the ve...   \n",
       "2  Tim Lincecum designated for… https://t.co/NwUU...   \n",
       "3  RT @Mariners: Batting practice today is the ve...   \n",
       "4  RT @710ESPNSeattle: Tonight's the night.\\n#24E...   \n",
       "\n",
       "                       created_at             location  retweet_count  \\\n",
       "0  Sat Aug 06 23:59:58 +0000 2016            Provo, UT           1039   \n",
       "1  Sat Aug 06 23:59:51 +0000 2016                そこらへん           1039   \n",
       "2  Sat Aug 06 23:59:40 +0000 2016  All Round The World              0   \n",
       "3  Sat Aug 06 23:59:35 +0000 2016           Cincinnati           1039   \n",
       "4  Sat Aug 06 23:59:30 +0000 2016          Bothell, WA             21   \n",
       "\n",
       "   favorite_count   latitude   longitude      dates  sentiment  hav_distance  \n",
       "0               0  40.233838 -111.658530 2016-08-06        0.0  1.182384e+06  \n",
       "1               0        NaN         NaN 2016-08-06        0.0           NaN  \n",
       "2               0        NaN         NaN 2016-08-06        0.0           NaN  \n",
       "3               0  39.161997  -84.456887 2016-08-06        0.0  3.166099e+06  \n",
       "4               0  47.762318 -122.205396 2016-08-06        0.0  1.977970e+04  "
      ]
     },
     "execution_count": 38,
     "metadata": {},
     "output_type": "execute_result"
    }
   ],
   "source": [
    "df_mariners.head()"
   ]
  },
  {
   "cell_type": "code",
   "execution_count": 250,
   "metadata": {
    "collapsed": true
   },
   "outputs": [],
   "source": [
    "#df_mariners.to_csv('df_mariners.csv')"
   ]
  },
  {
   "cell_type": "code",
   "execution_count": 40,
   "metadata": {
    "collapsed": false
   },
   "outputs": [],
   "source": [
    "outcome_by_date = {\n",
    "    '2016-08-06 00:00:00': 'Win',\n",
    "    '2016-08-07 00:00:00': 'Win',\n",
    "    '2016-08-08 00:00:00': 'Win',\n",
    "    '2016-08-09 00:00:00': 'Win',\n",
    "    '2016-08-10 00:00:00': 'Win',\n",
    "    '2016-08-11 00:00:00': 'No Game',\n",
    "    '2016-08-12 00:00:00': 'Loss',\n",
    "    '2016-08-13 00:00:00': 'Win',\n",
    "    '2016-08-14 00:00:00': 'Win',\n",
    "    '2016-08-15 00:00:00': 'Win',\n",
    "    '2016-08-16 00:00:00': 'Loss'\n",
    "}"
   ]
  },
  {
   "cell_type": "code",
   "execution_count": 41,
   "metadata": {
    "collapsed": false
   },
   "outputs": [
    {
     "name": "stderr",
     "output_type": "stream",
     "text": [
      "//anaconda/lib/python3.5/site-packages/ipykernel/__main__.py:2: SettingWithCopyWarning: \n",
      "A value is trying to be set on a copy of a slice from a DataFrame.\n",
      "Try using .loc[row_indexer,col_indexer] = value instead\n",
      "\n",
      "See the caveats in the documentation: http://pandas.pydata.org/pandas-docs/stable/indexing.html#indexing-view-versus-copy\n",
      "  from ipykernel import kernelapp as app\n"
     ]
    }
   ],
   "source": [
    "# Apply outcome values to new column.\n",
    "df_mariners['outcome'] = df_mariners['dates'].apply(lambda x: outcome_by_date[str(x)])"
   ]
  },
  {
   "cell_type": "code",
   "execution_count": 42,
   "metadata": {
    "collapsed": false
   },
   "outputs": [
    {
     "data": {
      "text/html": [
       "<div>\n",
       "<table border=\"1\" class=\"dataframe\">\n",
       "  <thead>\n",
       "    <tr style=\"text-align: right;\">\n",
       "      <th></th>\n",
       "      <th>text</th>\n",
       "      <th>created_at</th>\n",
       "      <th>location</th>\n",
       "      <th>retweet_count</th>\n",
       "      <th>favorite_count</th>\n",
       "      <th>latitude</th>\n",
       "      <th>longitude</th>\n",
       "      <th>dates</th>\n",
       "      <th>sentiment</th>\n",
       "      <th>hav_distance</th>\n",
       "      <th>outcome</th>\n",
       "    </tr>\n",
       "  </thead>\n",
       "  <tbody>\n",
       "    <tr>\n",
       "      <th>0</th>\n",
       "      <td>RT @Mariners: Batting practice today is the ve...</td>\n",
       "      <td>Sat Aug 06 23:59:58 +0000 2016</td>\n",
       "      <td>Provo, UT</td>\n",
       "      <td>1039</td>\n",
       "      <td>0</td>\n",
       "      <td>40.233838</td>\n",
       "      <td>-111.658530</td>\n",
       "      <td>2016-08-06</td>\n",
       "      <td>0.0</td>\n",
       "      <td>1.182384e+06</td>\n",
       "      <td>Win</td>\n",
       "    </tr>\n",
       "    <tr>\n",
       "      <th>1</th>\n",
       "      <td>RT @Mariners: Batting practice today is the ve...</td>\n",
       "      <td>Sat Aug 06 23:59:51 +0000 2016</td>\n",
       "      <td>そこらへん</td>\n",
       "      <td>1039</td>\n",
       "      <td>0</td>\n",
       "      <td>NaN</td>\n",
       "      <td>NaN</td>\n",
       "      <td>2016-08-06</td>\n",
       "      <td>0.0</td>\n",
       "      <td>NaN</td>\n",
       "      <td>Win</td>\n",
       "    </tr>\n",
       "    <tr>\n",
       "      <th>2</th>\n",
       "      <td>Tim Lincecum designated for… https://t.co/NwUU...</td>\n",
       "      <td>Sat Aug 06 23:59:40 +0000 2016</td>\n",
       "      <td>All Round The World</td>\n",
       "      <td>0</td>\n",
       "      <td>0</td>\n",
       "      <td>NaN</td>\n",
       "      <td>NaN</td>\n",
       "      <td>2016-08-06</td>\n",
       "      <td>0.0</td>\n",
       "      <td>NaN</td>\n",
       "      <td>Win</td>\n",
       "    </tr>\n",
       "    <tr>\n",
       "      <th>3</th>\n",
       "      <td>RT @Mariners: Batting practice today is the ve...</td>\n",
       "      <td>Sat Aug 06 23:59:35 +0000 2016</td>\n",
       "      <td>Cincinnati</td>\n",
       "      <td>1039</td>\n",
       "      <td>0</td>\n",
       "      <td>39.161997</td>\n",
       "      <td>-84.456887</td>\n",
       "      <td>2016-08-06</td>\n",
       "      <td>0.0</td>\n",
       "      <td>3.166099e+06</td>\n",
       "      <td>Win</td>\n",
       "    </tr>\n",
       "    <tr>\n",
       "      <th>4</th>\n",
       "      <td>RT @710ESPNSeattle: Tonight's the night.\\n#24E...</td>\n",
       "      <td>Sat Aug 06 23:59:30 +0000 2016</td>\n",
       "      <td>Bothell, WA</td>\n",
       "      <td>21</td>\n",
       "      <td>0</td>\n",
       "      <td>47.762318</td>\n",
       "      <td>-122.205396</td>\n",
       "      <td>2016-08-06</td>\n",
       "      <td>0.0</td>\n",
       "      <td>1.977970e+04</td>\n",
       "      <td>Win</td>\n",
       "    </tr>\n",
       "  </tbody>\n",
       "</table>\n",
       "</div>"
      ],
      "text/plain": [
       "                                                text  \\\n",
       "0  RT @Mariners: Batting practice today is the ve...   \n",
       "1  RT @Mariners: Batting practice today is the ve...   \n",
       "2  Tim Lincecum designated for… https://t.co/NwUU...   \n",
       "3  RT @Mariners: Batting practice today is the ve...   \n",
       "4  RT @710ESPNSeattle: Tonight's the night.\\n#24E...   \n",
       "\n",
       "                       created_at             location  retweet_count  \\\n",
       "0  Sat Aug 06 23:59:58 +0000 2016            Provo, UT           1039   \n",
       "1  Sat Aug 06 23:59:51 +0000 2016                そこらへん           1039   \n",
       "2  Sat Aug 06 23:59:40 +0000 2016  All Round The World              0   \n",
       "3  Sat Aug 06 23:59:35 +0000 2016           Cincinnati           1039   \n",
       "4  Sat Aug 06 23:59:30 +0000 2016          Bothell, WA             21   \n",
       "\n",
       "   favorite_count   latitude   longitude      dates  sentiment  hav_distance  \\\n",
       "0               0  40.233838 -111.658530 2016-08-06        0.0  1.182384e+06   \n",
       "1               0        NaN         NaN 2016-08-06        0.0           NaN   \n",
       "2               0        NaN         NaN 2016-08-06        0.0           NaN   \n",
       "3               0  39.161997  -84.456887 2016-08-06        0.0  3.166099e+06   \n",
       "4               0  47.762318 -122.205396 2016-08-06        0.0  1.977970e+04   \n",
       "\n",
       "  outcome  \n",
       "0     Win  \n",
       "1     Win  \n",
       "2     Win  \n",
       "3     Win  \n",
       "4     Win  "
      ]
     },
     "execution_count": 42,
     "metadata": {},
     "output_type": "execute_result"
    }
   ],
   "source": [
    "df_mariners.head()"
   ]
  },
  {
   "cell_type": "code",
   "execution_count": 43,
   "metadata": {
    "collapsed": true
   },
   "outputs": [],
   "source": [
    "df_mariners.to_csv('df_mariners.csv')"
   ]
  },
  {
   "cell_type": "code",
   "execution_count": null,
   "metadata": {
    "collapsed": true
   },
   "outputs": [],
   "source": []
  }
 ],
 "metadata": {
  "kernelspec": {
   "display_name": "Python 3",
   "language": "python",
   "name": "python3"
  },
  "language_info": {
   "codemirror_mode": {
    "name": "ipython",
    "version": 3
   },
   "file_extension": ".py",
   "mimetype": "text/x-python",
   "name": "python",
   "nbconvert_exporter": "python",
   "pygments_lexer": "ipython3",
   "version": "3.5.2"
  }
 },
 "nbformat": 4,
 "nbformat_minor": 0
}
