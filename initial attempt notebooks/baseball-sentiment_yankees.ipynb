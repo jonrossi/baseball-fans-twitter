{
 "cells": [
  {
   "cell_type": "markdown",
   "metadata": {},
   "source": [
    "**Note:** place file one level up in directory structure so it can run properly."
   ]
  },
  {
   "cell_type": "markdown",
   "metadata": {},
   "source": [
    "# Analyzing Baseball Fan Sentiment with Twitter Data (Yankees) #"
   ]
  },
  {
   "cell_type": "code",
   "execution_count": 82,
   "metadata": {
    "collapsed": false
   },
   "outputs": [],
   "source": [
    "import glob\n",
    "import pandas as pd\n",
    "import numpy as np\n",
    "\n",
    "# For working with JSON data.\n",
    "try:\n",
    "    import json\n",
    "except ImportError:\n",
    "    import simplejson as json\n",
    "    \n",
    "# For maps.\n",
    "from mpl_toolkits.basemap import Basemap\n",
    "import geocoder\n",
    "import matplotlib.pyplot as plt\n",
    "%matplotlib inline\n",
    "\n",
    "#import warnings\n",
    "#warnings.simplefilter(action = \"ignore\", category = FutureWarning)"
   ]
  },
  {
   "cell_type": "markdown",
   "metadata": {},
   "source": [
    "## Intial Exploration (10,000 Tweets Version) ##"
   ]
  },
  {
   "cell_type": "code",
   "execution_count": 83,
   "metadata": {
    "collapsed": false
   },
   "outputs": [
    {
     "name": "stdout",
     "output_type": "stream",
     "text": [
      "data/yankees/yankees_search_08_07_1000.txt\n",
      "data/yankees/yankees_search_08_08_1000.txt\n",
      "data/yankees/yankees_search_08_09_1000.txt\n",
      "data/yankees/yankees_search_08_10_1000.txt\n",
      "data/yankees/yankees_search_08_11_1000.txt\n",
      "data/yankees/yankees_search_08_12_1000.txt\n",
      "data/yankees/yankees_search_08_13_1000.txt\n",
      "data/yankees/yankees_search_08_15_1000.txt\n",
      "data/yankees/yankees_search_08_16_1000.txt\n",
      "data/yankees/yankees_stream_08_14_1000.txt\n"
     ]
    }
   ],
   "source": [
    "for filename in glob.iglob('data/yankees/*.txt'):\n",
    "     print(filename)"
   ]
  },
  {
   "cell_type": "code",
   "execution_count": 84,
   "metadata": {
    "collapsed": true
   },
   "outputs": [],
   "source": [
    "# Read in JSON data and store in pandas DataFrame.\n",
    "tweets = []\n",
    "locations = []\n",
    "for filename in glob.iglob('data/yankees/*.txt'):\n",
    "    tweets_filename = filename\n",
    "    tweets_file = open(tweets_filename, \"r\")\n",
    "    for line in tweets_file:\n",
    "        try:\n",
    "            # Read in each line of file, convert to JSON object. \n",
    "            tweet = json.loads(line.strip())\n",
    "            # Make sure tweet has text content.\n",
    "            if 'text' in tweet:\n",
    "                tweets.append(tweet)\n",
    "                locations.append(tweet['user']['location'])\n",
    "        except:\n",
    "            # Skip any non-JSON-formatted data that may have been captured.\n",
    "            continue"
   ]
  },
  {
   "cell_type": "code",
   "execution_count": 85,
   "metadata": {
    "collapsed": true
   },
   "outputs": [],
   "source": [
    "df_yankees_all = pd.DataFrame(tweets)"
   ]
  },
  {
   "cell_type": "code",
   "execution_count": 86,
   "metadata": {
    "collapsed": true
   },
   "outputs": [],
   "source": [
    "df_yankees_all['location'] = pd.Series(locations)"
   ]
  },
  {
   "cell_type": "code",
   "execution_count": 87,
   "metadata": {
    "collapsed": false
   },
   "outputs": [
    {
     "data": {
      "text/plain": [
       "(10000, 33)"
      ]
     },
     "execution_count": 87,
     "metadata": {},
     "output_type": "execute_result"
    }
   ],
   "source": [
    "df_yankees_all.shape"
   ]
  },
  {
   "cell_type": "code",
   "execution_count": 88,
   "metadata": {
    "collapsed": false
   },
   "outputs": [
    {
     "data": {
      "text/html": [
       "<div>\n",
       "<table border=\"1\" class=\"dataframe\">\n",
       "  <thead>\n",
       "    <tr style=\"text-align: right;\">\n",
       "      <th></th>\n",
       "      <th>contributors</th>\n",
       "      <th>coordinates</th>\n",
       "      <th>created_at</th>\n",
       "      <th>entities</th>\n",
       "      <th>extended_entities</th>\n",
       "      <th>favorite_count</th>\n",
       "      <th>favorited</th>\n",
       "      <th>filter_level</th>\n",
       "      <th>geo</th>\n",
       "      <th>id</th>\n",
       "      <th>...</th>\n",
       "      <th>quoted_status_id_str</th>\n",
       "      <th>retweet_count</th>\n",
       "      <th>retweeted</th>\n",
       "      <th>retweeted_status</th>\n",
       "      <th>source</th>\n",
       "      <th>text</th>\n",
       "      <th>timestamp_ms</th>\n",
       "      <th>truncated</th>\n",
       "      <th>user</th>\n",
       "      <th>location</th>\n",
       "    </tr>\n",
       "  </thead>\n",
       "  <tbody>\n",
       "    <tr>\n",
       "      <th>0</th>\n",
       "      <td>None</td>\n",
       "      <td>None</td>\n",
       "      <td>Sun Aug 07 23:59:49 +0000 2016</td>\n",
       "      <td>{'user_mentions': [{'name': 'Ian Rapoport', 's...</td>\n",
       "      <td>NaN</td>\n",
       "      <td>0</td>\n",
       "      <td>False</td>\n",
       "      <td>NaN</td>\n",
       "      <td>None</td>\n",
       "      <td>762438126497259520</td>\n",
       "      <td>...</td>\n",
       "      <td>762304316887687169</td>\n",
       "      <td>235</td>\n",
       "      <td>False</td>\n",
       "      <td>{'in_reply_to_status_id': None, 'truncated': F...</td>\n",
       "      <td>&lt;a href=\"http://twitter.com/download/iphone\" r...</td>\n",
       "      <td>RT @RapSheet: Goodbye to one of the greatest t...</td>\n",
       "      <td>NaN</td>\n",
       "      <td>False</td>\n",
       "      <td>{'verified': False, 'follow_request_sent': Fal...</td>\n",
       "      <td>Ohio</td>\n",
       "    </tr>\n",
       "    <tr>\n",
       "      <th>1</th>\n",
       "      <td>None</td>\n",
       "      <td>None</td>\n",
       "      <td>Sun Aug 07 23:59:45 +0000 2016</td>\n",
       "      <td>{'user_mentions': [], 'symbols': [], 'hashtags...</td>\n",
       "      <td>NaN</td>\n",
       "      <td>2</td>\n",
       "      <td>False</td>\n",
       "      <td>NaN</td>\n",
       "      <td>None</td>\n",
       "      <td>762438110500093952</td>\n",
       "      <td>...</td>\n",
       "      <td>762437593233444865</td>\n",
       "      <td>0</td>\n",
       "      <td>False</td>\n",
       "      <td>NaN</td>\n",
       "      <td>&lt;a href=\"https://about.twitter.com/products/tw...</td>\n",
       "      <td>Might be the dumbest thing I’ve ever read. Exp...</td>\n",
       "      <td>NaN</td>\n",
       "      <td>False</td>\n",
       "      <td>{'verified': False, 'follow_request_sent': Fal...</td>\n",
       "      <td>ÜT: 41.271945,-73.737193</td>\n",
       "    </tr>\n",
       "    <tr>\n",
       "      <th>2</th>\n",
       "      <td>None</td>\n",
       "      <td>None</td>\n",
       "      <td>Sun Aug 07 23:59:38 +0000 2016</td>\n",
       "      <td>{'media': [{'indices': [114, 137], 'url': 'htt...</td>\n",
       "      <td>{'media': [{'indices': [114, 137], 'expanded_u...</td>\n",
       "      <td>1</td>\n",
       "      <td>False</td>\n",
       "      <td>NaN</td>\n",
       "      <td>None</td>\n",
       "      <td>762438082087915520</td>\n",
       "      <td>...</td>\n",
       "      <td>NaN</td>\n",
       "      <td>0</td>\n",
       "      <td>False</td>\n",
       "      <td>NaN</td>\n",
       "      <td>&lt;a href=\"www.zeroslant.com\" rel=\"nofollow\"&gt;Zer...</td>\n",
       "      <td>Quick Take: New York #Yankees defeat Cleveland...</td>\n",
       "      <td>NaN</td>\n",
       "      <td>False</td>\n",
       "      <td>{'verified': False, 'follow_request_sent': Fal...</td>\n",
       "      <td>SF &amp; LA</td>\n",
       "    </tr>\n",
       "  </tbody>\n",
       "</table>\n",
       "<p>3 rows × 33 columns</p>\n",
       "</div>"
      ],
      "text/plain": [
       "  contributors coordinates                      created_at  \\\n",
       "0         None        None  Sun Aug 07 23:59:49 +0000 2016   \n",
       "1         None        None  Sun Aug 07 23:59:45 +0000 2016   \n",
       "2         None        None  Sun Aug 07 23:59:38 +0000 2016   \n",
       "\n",
       "                                            entities  \\\n",
       "0  {'user_mentions': [{'name': 'Ian Rapoport', 's...   \n",
       "1  {'user_mentions': [], 'symbols': [], 'hashtags...   \n",
       "2  {'media': [{'indices': [114, 137], 'url': 'htt...   \n",
       "\n",
       "                                   extended_entities  favorite_count  \\\n",
       "0                                                NaN               0   \n",
       "1                                                NaN               2   \n",
       "2  {'media': [{'indices': [114, 137], 'expanded_u...               1   \n",
       "\n",
       "  favorited filter_level   geo                  id            ...             \\\n",
       "0     False          NaN  None  762438126497259520            ...              \n",
       "1     False          NaN  None  762438110500093952            ...              \n",
       "2     False          NaN  None  762438082087915520            ...              \n",
       "\n",
       "  quoted_status_id_str retweet_count  retweeted  \\\n",
       "0   762304316887687169           235      False   \n",
       "1   762437593233444865             0      False   \n",
       "2                  NaN             0      False   \n",
       "\n",
       "                                    retweeted_status  \\\n",
       "0  {'in_reply_to_status_id': None, 'truncated': F...   \n",
       "1                                                NaN   \n",
       "2                                                NaN   \n",
       "\n",
       "                                              source  \\\n",
       "0  <a href=\"http://twitter.com/download/iphone\" r...   \n",
       "1  <a href=\"https://about.twitter.com/products/tw...   \n",
       "2  <a href=\"www.zeroslant.com\" rel=\"nofollow\">Zer...   \n",
       "\n",
       "                                                text timestamp_ms truncated  \\\n",
       "0  RT @RapSheet: Goodbye to one of the greatest t...          NaN     False   \n",
       "1  Might be the dumbest thing I’ve ever read. Exp...          NaN     False   \n",
       "2  Quick Take: New York #Yankees defeat Cleveland...          NaN     False   \n",
       "\n",
       "                                                user                  location  \n",
       "0  {'verified': False, 'follow_request_sent': Fal...                      Ohio  \n",
       "1  {'verified': False, 'follow_request_sent': Fal...  ÜT: 41.271945,-73.737193  \n",
       "2  {'verified': False, 'follow_request_sent': Fal...                   SF & LA  \n",
       "\n",
       "[3 rows x 33 columns]"
      ]
     },
     "execution_count": 88,
     "metadata": {},
     "output_type": "execute_result"
    }
   ],
   "source": [
    "df_yankees_all.head(3)"
   ]
  },
  {
   "cell_type": "code",
   "execution_count": 89,
   "metadata": {
    "collapsed": false
   },
   "outputs": [],
   "source": [
    "#df_redsox_all['retweet_count'].value_counts()"
   ]
  },
  {
   "cell_type": "code",
   "execution_count": 90,
   "metadata": {
    "collapsed": false
   },
   "outputs": [],
   "source": [
    "df_yankees = df_yankees_all[['text', 'created_at', 'location', 'retweet_count', 'favorite_count']]"
   ]
  },
  {
   "cell_type": "code",
   "execution_count": 91,
   "metadata": {
    "collapsed": false
   },
   "outputs": [
    {
     "data": {
      "text/plain": [
       "(10000, 5)"
      ]
     },
     "execution_count": 91,
     "metadata": {},
     "output_type": "execute_result"
    }
   ],
   "source": [
    "df_yankees.shape"
   ]
  },
  {
   "cell_type": "code",
   "execution_count": 92,
   "metadata": {
    "collapsed": false
   },
   "outputs": [
    {
     "data": {
      "text/html": [
       "<div>\n",
       "<table border=\"1\" class=\"dataframe\">\n",
       "  <thead>\n",
       "    <tr style=\"text-align: right;\">\n",
       "      <th></th>\n",
       "      <th>text</th>\n",
       "      <th>created_at</th>\n",
       "      <th>location</th>\n",
       "      <th>retweet_count</th>\n",
       "      <th>favorite_count</th>\n",
       "    </tr>\n",
       "  </thead>\n",
       "  <tbody>\n",
       "    <tr>\n",
       "      <th>0</th>\n",
       "      <td>RT @RapSheet: Goodbye to one of the greatest t...</td>\n",
       "      <td>Sun Aug 07 23:59:49 +0000 2016</td>\n",
       "      <td>Ohio</td>\n",
       "      <td>235</td>\n",
       "      <td>0</td>\n",
       "    </tr>\n",
       "    <tr>\n",
       "      <th>1</th>\n",
       "      <td>Might be the dumbest thing I’ve ever read. Exp...</td>\n",
       "      <td>Sun Aug 07 23:59:45 +0000 2016</td>\n",
       "      <td>ÜT: 41.271945,-73.737193</td>\n",
       "      <td>0</td>\n",
       "      <td>2</td>\n",
       "    </tr>\n",
       "    <tr>\n",
       "      <th>2</th>\n",
       "      <td>Quick Take: New York #Yankees defeat Cleveland...</td>\n",
       "      <td>Sun Aug 07 23:59:38 +0000 2016</td>\n",
       "      <td>SF &amp; LA</td>\n",
       "      <td>0</td>\n",
       "      <td>1</td>\n",
       "    </tr>\n",
       "    <tr>\n",
       "      <th>3</th>\n",
       "      <td>RT @MikeyAdams420: Kiss yourself goodbye @AROD...</td>\n",
       "      <td>Sun Aug 07 23:59:35 +0000 2016</td>\n",
       "      <td></td>\n",
       "      <td>16</td>\n",
       "      <td>0</td>\n",
       "    </tr>\n",
       "    <tr>\n",
       "      <th>4</th>\n",
       "      <td>Congratulations Ichiro #Ichiro3000 #Mariners #...</td>\n",
       "      <td>Sun Aug 07 23:59:32 +0000 2016</td>\n",
       "      <td>Northern Virginia, USA</td>\n",
       "      <td>0</td>\n",
       "      <td>1</td>\n",
       "    </tr>\n",
       "    <tr>\n",
       "      <th>5</th>\n",
       "      <td>RT @JeopardySports: \"Who is: Alex Rodriguez?\"\\...</td>\n",
       "      <td>Sun Aug 07 23:59:31 +0000 2016</td>\n",
       "      <td></td>\n",
       "      <td>250</td>\n",
       "      <td>0</td>\n",
       "    </tr>\n",
       "    <tr>\n",
       "      <th>6</th>\n",
       "      <td>RT: *Mature Audiences Only!*\\n#WWE #IronSheik ...</td>\n",
       "      <td>Sun Aug 07 23:59:26 +0000 2016</td>\n",
       "      <td>Boston, MA</td>\n",
       "      <td>1</td>\n",
       "      <td>0</td>\n",
       "    </tr>\n",
       "    <tr>\n",
       "      <th>7</th>\n",
       "      <td>TIX https://t.co/xvncbRb1y0 2x New York #Yanke...</td>\n",
       "      <td>Sun Aug 07 23:59:19 +0000 2016</td>\n",
       "      <td></td>\n",
       "      <td>0</td>\n",
       "      <td>0</td>\n",
       "    </tr>\n",
       "    <tr>\n",
       "      <th>8</th>\n",
       "      <td>TIX https://t.co/xvncbRb1y0 L L L NEW YORK #Ya...</td>\n",
       "      <td>Sun Aug 07 23:59:18 +0000 2016</td>\n",
       "      <td></td>\n",
       "      <td>0</td>\n",
       "      <td>0</td>\n",
       "    </tr>\n",
       "    <tr>\n",
       "      <th>9</th>\n",
       "      <td>RT @JeopardySports: \"Who is: Alex Rodriguez?\"\\...</td>\n",
       "      <td>Sun Aug 07 23:59:09 +0000 2016</td>\n",
       "      <td>Hamilton,Ontario</td>\n",
       "      <td>250</td>\n",
       "      <td>0</td>\n",
       "    </tr>\n",
       "  </tbody>\n",
       "</table>\n",
       "</div>"
      ],
      "text/plain": [
       "                                                text  \\\n",
       "0  RT @RapSheet: Goodbye to one of the greatest t...   \n",
       "1  Might be the dumbest thing I’ve ever read. Exp...   \n",
       "2  Quick Take: New York #Yankees defeat Cleveland...   \n",
       "3  RT @MikeyAdams420: Kiss yourself goodbye @AROD...   \n",
       "4  Congratulations Ichiro #Ichiro3000 #Mariners #...   \n",
       "5  RT @JeopardySports: \"Who is: Alex Rodriguez?\"\\...   \n",
       "6  RT: *Mature Audiences Only!*\\n#WWE #IronSheik ...   \n",
       "7  TIX https://t.co/xvncbRb1y0 2x New York #Yanke...   \n",
       "8  TIX https://t.co/xvncbRb1y0 L L L NEW YORK #Ya...   \n",
       "9  RT @JeopardySports: \"Who is: Alex Rodriguez?\"\\...   \n",
       "\n",
       "                       created_at                  location  retweet_count  \\\n",
       "0  Sun Aug 07 23:59:49 +0000 2016                      Ohio            235   \n",
       "1  Sun Aug 07 23:59:45 +0000 2016  ÜT: 41.271945,-73.737193              0   \n",
       "2  Sun Aug 07 23:59:38 +0000 2016                   SF & LA              0   \n",
       "3  Sun Aug 07 23:59:35 +0000 2016                                       16   \n",
       "4  Sun Aug 07 23:59:32 +0000 2016    Northern Virginia, USA              0   \n",
       "5  Sun Aug 07 23:59:31 +0000 2016                                      250   \n",
       "6  Sun Aug 07 23:59:26 +0000 2016                Boston, MA              1   \n",
       "7  Sun Aug 07 23:59:19 +0000 2016                                        0   \n",
       "8  Sun Aug 07 23:59:18 +0000 2016                                        0   \n",
       "9  Sun Aug 07 23:59:09 +0000 2016          Hamilton,Ontario            250   \n",
       "\n",
       "   favorite_count  \n",
       "0               0  \n",
       "1               2  \n",
       "2               1  \n",
       "3               0  \n",
       "4               1  \n",
       "5               0  \n",
       "6               0  \n",
       "7               0  \n",
       "8               0  \n",
       "9               0  "
      ]
     },
     "execution_count": 92,
     "metadata": {},
     "output_type": "execute_result"
    }
   ],
   "source": [
    "df_yankees.head(10)"
   ]
  },
  {
   "cell_type": "code",
   "execution_count": 94,
   "metadata": {
    "collapsed": true
   },
   "outputs": [],
   "source": [
    "# DONT USE\n",
    "lats = []\n",
    "longs = []\n",
    "for location in df_redsox['location']:\n",
    "    g = geocoder.arcgis(location)\n",
    "    if g.latlng != []:\n",
    "        lats.append(g.latlng[0])\n",
    "        longs.append(g.latlng[1])\n",
    "    else:\n",
    "        lats.append(np.nan)\n",
    "        longs.append(np.nan)"
   ]
  },
  {
   "cell_type": "code",
   "execution_count": 93,
   "metadata": {
    "collapsed": true
   },
   "outputs": [],
   "source": [
    "unique_locations = df_yankees['location'].unique()"
   ]
  },
  {
   "cell_type": "code",
   "execution_count": 94,
   "metadata": {
    "collapsed": false
   },
   "outputs": [
    {
     "data": {
      "text/plain": [
       "2955"
      ]
     },
     "execution_count": 94,
     "metadata": {},
     "output_type": "execute_result"
    }
   ],
   "source": [
    "len(unique_locations)\n",
    "#unique_locations = unique_locations[:10]\n",
    "#unique_locations"
   ]
  },
  {
   "cell_type": "code",
   "execution_count": 38,
   "metadata": {
    "collapsed": false
   },
   "outputs": [],
   "source": [
    "# USE THIS\n",
    "location_coords = {}\n",
    "for location in unique_locations:\n",
    "    location_coords[location] = geocoder.arcgis(location)"
   ]
  },
  {
   "cell_type": "code",
   "execution_count": 95,
   "metadata": {
    "collapsed": false
   },
   "outputs": [
    {
     "data": {
      "text/plain": [
       "[]"
      ]
     },
     "execution_count": 95,
     "metadata": {},
     "output_type": "execute_result"
    }
   ],
   "source": [
    "location_coords[''].latlng"
   ]
  },
  {
   "cell_type": "code",
   "execution_count": 96,
   "metadata": {
    "collapsed": false
   },
   "outputs": [],
   "source": [
    "def get_lat(x):\n",
    "    if x.latlng != []:\n",
    "        return(x.latlng[0])\n",
    "    else:\n",
    "        return(np.nan)"
   ]
  },
  {
   "cell_type": "code",
   "execution_count": 97,
   "metadata": {
    "collapsed": true
   },
   "outputs": [],
   "source": [
    "def get_long(x):\n",
    "    if x.latlng != []:\n",
    "        return(x.latlng[1])\n",
    "    else:\n",
    "        return(np.nan)"
   ]
  },
  {
   "cell_type": "code",
   "execution_count": 98,
   "metadata": {
    "collapsed": false
   },
   "outputs": [
    {
     "data": {
      "text/plain": [
       "40.71426940400045"
      ]
     },
     "execution_count": 98,
     "metadata": {},
     "output_type": "execute_result"
    }
   ],
   "source": [
    "get_lat(location_coords['New York, NY'])"
   ]
  },
  {
   "cell_type": "code",
   "execution_count": 99,
   "metadata": {
    "collapsed": false
   },
   "outputs": [
    {
     "name": "stderr",
     "output_type": "stream",
     "text": [
      "//anaconda/lib/python3.5/site-packages/ipykernel/__main__.py:1: SettingWithCopyWarning: \n",
      "A value is trying to be set on a copy of a slice from a DataFrame.\n",
      "Try using .loc[row_indexer,col_indexer] = value instead\n",
      "\n",
      "See the caveats in the documentation: http://pandas.pydata.org/pandas-docs/stable/indexing.html#indexing-view-versus-copy\n",
      "  if __name__ == '__main__':\n",
      "//anaconda/lib/python3.5/site-packages/ipykernel/__main__.py:2: SettingWithCopyWarning: \n",
      "A value is trying to be set on a copy of a slice from a DataFrame.\n",
      "Try using .loc[row_indexer,col_indexer] = value instead\n",
      "\n",
      "See the caveats in the documentation: http://pandas.pydata.org/pandas-docs/stable/indexing.html#indexing-view-versus-copy\n",
      "  from ipykernel import kernelapp as app\n"
     ]
    }
   ],
   "source": [
    "df_yankees['latitude'] = df_yankees['location'].apply(lambda x: get_lat(location_coords[x]))\n",
    "df_yankees['longitude'] = df_yankees['location'].apply(lambda x: get_long(location_coords[x]))"
   ]
  },
  {
   "cell_type": "code",
   "execution_count": 100,
   "metadata": {
    "collapsed": false
   },
   "outputs": [
    {
     "data": {
      "text/html": [
       "<div>\n",
       "<table border=\"1\" class=\"dataframe\">\n",
       "  <thead>\n",
       "    <tr style=\"text-align: right;\">\n",
       "      <th></th>\n",
       "      <th>text</th>\n",
       "      <th>created_at</th>\n",
       "      <th>location</th>\n",
       "      <th>retweet_count</th>\n",
       "      <th>favorite_count</th>\n",
       "      <th>latitude</th>\n",
       "      <th>longitude</th>\n",
       "    </tr>\n",
       "  </thead>\n",
       "  <tbody>\n",
       "    <tr>\n",
       "      <th>0</th>\n",
       "      <td>RT @RapSheet: Goodbye to one of the greatest t...</td>\n",
       "      <td>Sun Aug 07 23:59:49 +0000 2016</td>\n",
       "      <td>Ohio</td>\n",
       "      <td>235</td>\n",
       "      <td>0</td>\n",
       "      <td>40.250338</td>\n",
       "      <td>-83.000177</td>\n",
       "    </tr>\n",
       "    <tr>\n",
       "      <th>1</th>\n",
       "      <td>Might be the dumbest thing I’ve ever read. Exp...</td>\n",
       "      <td>Sun Aug 07 23:59:45 +0000 2016</td>\n",
       "      <td>ÜT: 41.271945,-73.737193</td>\n",
       "      <td>0</td>\n",
       "      <td>2</td>\n",
       "      <td>NaN</td>\n",
       "      <td>NaN</td>\n",
       "    </tr>\n",
       "    <tr>\n",
       "      <th>2</th>\n",
       "      <td>Quick Take: New York #Yankees defeat Cleveland...</td>\n",
       "      <td>Sun Aug 07 23:59:38 +0000 2016</td>\n",
       "      <td>SF &amp; LA</td>\n",
       "      <td>0</td>\n",
       "      <td>1</td>\n",
       "      <td>14.133328</td>\n",
       "      <td>-89.816667</td>\n",
       "    </tr>\n",
       "    <tr>\n",
       "      <th>3</th>\n",
       "      <td>RT @MikeyAdams420: Kiss yourself goodbye @AROD...</td>\n",
       "      <td>Sun Aug 07 23:59:35 +0000 2016</td>\n",
       "      <td></td>\n",
       "      <td>16</td>\n",
       "      <td>0</td>\n",
       "      <td>NaN</td>\n",
       "      <td>NaN</td>\n",
       "    </tr>\n",
       "    <tr>\n",
       "      <th>4</th>\n",
       "      <td>Congratulations Ichiro #Ichiro3000 #Mariners #...</td>\n",
       "      <td>Sun Aug 07 23:59:32 +0000 2016</td>\n",
       "      <td>Northern Virginia, USA</td>\n",
       "      <td>0</td>\n",
       "      <td>1</td>\n",
       "      <td>38.757069</td>\n",
       "      <td>-77.538489</td>\n",
       "    </tr>\n",
       "    <tr>\n",
       "      <th>5</th>\n",
       "      <td>RT @JeopardySports: \"Who is: Alex Rodriguez?\"\\...</td>\n",
       "      <td>Sun Aug 07 23:59:31 +0000 2016</td>\n",
       "      <td></td>\n",
       "      <td>250</td>\n",
       "      <td>0</td>\n",
       "      <td>NaN</td>\n",
       "      <td>NaN</td>\n",
       "    </tr>\n",
       "    <tr>\n",
       "      <th>6</th>\n",
       "      <td>RT: *Mature Audiences Only!*\\n#WWE #IronSheik ...</td>\n",
       "      <td>Sun Aug 07 23:59:26 +0000 2016</td>\n",
       "      <td>Boston, MA</td>\n",
       "      <td>1</td>\n",
       "      <td>0</td>\n",
       "      <td>42.358428</td>\n",
       "      <td>-71.059766</td>\n",
       "    </tr>\n",
       "    <tr>\n",
       "      <th>7</th>\n",
       "      <td>TIX https://t.co/xvncbRb1y0 2x New York #Yanke...</td>\n",
       "      <td>Sun Aug 07 23:59:19 +0000 2016</td>\n",
       "      <td></td>\n",
       "      <td>0</td>\n",
       "      <td>0</td>\n",
       "      <td>NaN</td>\n",
       "      <td>NaN</td>\n",
       "    </tr>\n",
       "    <tr>\n",
       "      <th>8</th>\n",
       "      <td>TIX https://t.co/xvncbRb1y0 L L L NEW YORK #Ya...</td>\n",
       "      <td>Sun Aug 07 23:59:18 +0000 2016</td>\n",
       "      <td></td>\n",
       "      <td>0</td>\n",
       "      <td>0</td>\n",
       "      <td>NaN</td>\n",
       "      <td>NaN</td>\n",
       "    </tr>\n",
       "    <tr>\n",
       "      <th>9</th>\n",
       "      <td>RT @JeopardySports: \"Who is: Alex Rodriguez?\"\\...</td>\n",
       "      <td>Sun Aug 07 23:59:09 +0000 2016</td>\n",
       "      <td>Hamilton,Ontario</td>\n",
       "      <td>250</td>\n",
       "      <td>0</td>\n",
       "      <td>43.233407</td>\n",
       "      <td>-79.949637</td>\n",
       "    </tr>\n",
       "    <tr>\n",
       "      <th>10</th>\n",
       "      <td>#yankees #baseball Derek Jeter New York Yankee...</td>\n",
       "      <td>Sun Aug 07 23:59:07 +0000 2016</td>\n",
       "      <td>New York, USA</td>\n",
       "      <td>0</td>\n",
       "      <td>0</td>\n",
       "      <td>40.714269</td>\n",
       "      <td>-74.005970</td>\n",
       "    </tr>\n",
       "    <tr>\n",
       "      <th>11</th>\n",
       "      <td>[New York Post] Love him or hate him, fans agr...</td>\n",
       "      <td>Sun Aug 07 23:58:41 +0000 2016</td>\n",
       "      <td>Troy, NY</td>\n",
       "      <td>0</td>\n",
       "      <td>0</td>\n",
       "      <td>42.728408</td>\n",
       "      <td>-73.691790</td>\n",
       "    </tr>\n",
       "    <tr>\n",
       "      <th>12</th>\n",
       "      <td>[https://t.co/gADU9FUbg0] Derek Jeter congratu...</td>\n",
       "      <td>Sun Aug 07 23:58:41 +0000 2016</td>\n",
       "      <td>Troy, NY</td>\n",
       "      <td>0</td>\n",
       "      <td>0</td>\n",
       "      <td>42.728408</td>\n",
       "      <td>-73.691790</td>\n",
       "    </tr>\n",
       "    <tr>\n",
       "      <th>13</th>\n",
       "      <td>I am not longer a @Yankees fan, effective imme...</td>\n",
       "      <td>Sun Aug 07 23:58:31 +0000 2016</td>\n",
       "      <td>Baltimore, MD</td>\n",
       "      <td>0</td>\n",
       "      <td>2</td>\n",
       "      <td>39.290380</td>\n",
       "      <td>-76.612188</td>\n",
       "    </tr>\n",
       "    <tr>\n",
       "      <th>14</th>\n",
       "      <td>RT @mlbtraderumors: Brian McCann has cleared w...</td>\n",
       "      <td>Sun Aug 07 23:58:16 +0000 2016</td>\n",
       "      <td>Pittsburgh, PA</td>\n",
       "      <td>43</td>\n",
       "      <td>0</td>\n",
       "      <td>40.440617</td>\n",
       "      <td>-79.995888</td>\n",
       "    </tr>\n",
       "    <tr>\n",
       "      <th>15</th>\n",
       "      <td>RT @RE2PECT2JETER: .@AROD will play his final ...</td>\n",
       "      <td>Sun Aug 07 23:57:56 +0000 2016</td>\n",
       "      <td></td>\n",
       "      <td>124</td>\n",
       "      <td>0</td>\n",
       "      <td>NaN</td>\n",
       "      <td>NaN</td>\n",
       "    </tr>\n",
       "    <tr>\n",
       "      <th>16</th>\n",
       "      <td>RT @JeopardySports: \"Who is: Alex Rodriguez?\"\\...</td>\n",
       "      <td>Sun Aug 07 23:57:49 +0000 2016</td>\n",
       "      <td></td>\n",
       "      <td>250</td>\n",
       "      <td>0</td>\n",
       "      <td>NaN</td>\n",
       "      <td>NaN</td>\n",
       "    </tr>\n",
       "    <tr>\n",
       "      <th>17</th>\n",
       "      <td>RT @Yankees: .@AROD will play his final Major ...</td>\n",
       "      <td>Sun Aug 07 23:57:37 +0000 2016</td>\n",
       "      <td></td>\n",
       "      <td>5796</td>\n",
       "      <td>0</td>\n",
       "      <td>NaN</td>\n",
       "      <td>NaN</td>\n",
       "    </tr>\n",
       "    <tr>\n",
       "      <th>18</th>\n",
       "      <td>RT @Yankees: .@AROD will play his final Major ...</td>\n",
       "      <td>Sun Aug 07 23:57:29 +0000 2016</td>\n",
       "      <td>Washington DC</td>\n",
       "      <td>5796</td>\n",
       "      <td>0</td>\n",
       "      <td>38.895108</td>\n",
       "      <td>-77.036366</td>\n",
       "    </tr>\n",
       "    <tr>\n",
       "      <th>19</th>\n",
       "      <td>RT @Yankees: .@AROD will play his final Major ...</td>\n",
       "      <td>Sun Aug 07 23:57:24 +0000 2016</td>\n",
       "      <td>Washington, DC</td>\n",
       "      <td>5796</td>\n",
       "      <td>0</td>\n",
       "      <td>38.895108</td>\n",
       "      <td>-77.036366</td>\n",
       "    </tr>\n",
       "  </tbody>\n",
       "</table>\n",
       "</div>"
      ],
      "text/plain": [
       "                                                 text  \\\n",
       "0   RT @RapSheet: Goodbye to one of the greatest t...   \n",
       "1   Might be the dumbest thing I’ve ever read. Exp...   \n",
       "2   Quick Take: New York #Yankees defeat Cleveland...   \n",
       "3   RT @MikeyAdams420: Kiss yourself goodbye @AROD...   \n",
       "4   Congratulations Ichiro #Ichiro3000 #Mariners #...   \n",
       "5   RT @JeopardySports: \"Who is: Alex Rodriguez?\"\\...   \n",
       "6   RT: *Mature Audiences Only!*\\n#WWE #IronSheik ...   \n",
       "7   TIX https://t.co/xvncbRb1y0 2x New York #Yanke...   \n",
       "8   TIX https://t.co/xvncbRb1y0 L L L NEW YORK #Ya...   \n",
       "9   RT @JeopardySports: \"Who is: Alex Rodriguez?\"\\...   \n",
       "10  #yankees #baseball Derek Jeter New York Yankee...   \n",
       "11  [New York Post] Love him or hate him, fans agr...   \n",
       "12  [https://t.co/gADU9FUbg0] Derek Jeter congratu...   \n",
       "13  I am not longer a @Yankees fan, effective imme...   \n",
       "14  RT @mlbtraderumors: Brian McCann has cleared w...   \n",
       "15  RT @RE2PECT2JETER: .@AROD will play his final ...   \n",
       "16  RT @JeopardySports: \"Who is: Alex Rodriguez?\"\\...   \n",
       "17  RT @Yankees: .@AROD will play his final Major ...   \n",
       "18  RT @Yankees: .@AROD will play his final Major ...   \n",
       "19  RT @Yankees: .@AROD will play his final Major ...   \n",
       "\n",
       "                        created_at                  location  retweet_count  \\\n",
       "0   Sun Aug 07 23:59:49 +0000 2016                      Ohio            235   \n",
       "1   Sun Aug 07 23:59:45 +0000 2016  ÜT: 41.271945,-73.737193              0   \n",
       "2   Sun Aug 07 23:59:38 +0000 2016                   SF & LA              0   \n",
       "3   Sun Aug 07 23:59:35 +0000 2016                                       16   \n",
       "4   Sun Aug 07 23:59:32 +0000 2016    Northern Virginia, USA              0   \n",
       "5   Sun Aug 07 23:59:31 +0000 2016                                      250   \n",
       "6   Sun Aug 07 23:59:26 +0000 2016                Boston, MA              1   \n",
       "7   Sun Aug 07 23:59:19 +0000 2016                                        0   \n",
       "8   Sun Aug 07 23:59:18 +0000 2016                                        0   \n",
       "9   Sun Aug 07 23:59:09 +0000 2016          Hamilton,Ontario            250   \n",
       "10  Sun Aug 07 23:59:07 +0000 2016             New York, USA              0   \n",
       "11  Sun Aug 07 23:58:41 +0000 2016                  Troy, NY              0   \n",
       "12  Sun Aug 07 23:58:41 +0000 2016                  Troy, NY              0   \n",
       "13  Sun Aug 07 23:58:31 +0000 2016             Baltimore, MD              0   \n",
       "14  Sun Aug 07 23:58:16 +0000 2016            Pittsburgh, PA             43   \n",
       "15  Sun Aug 07 23:57:56 +0000 2016                                      124   \n",
       "16  Sun Aug 07 23:57:49 +0000 2016                                      250   \n",
       "17  Sun Aug 07 23:57:37 +0000 2016                                     5796   \n",
       "18  Sun Aug 07 23:57:29 +0000 2016             Washington DC           5796   \n",
       "19  Sun Aug 07 23:57:24 +0000 2016            Washington, DC           5796   \n",
       "\n",
       "    favorite_count   latitude  longitude  \n",
       "0                0  40.250338 -83.000177  \n",
       "1                2        NaN        NaN  \n",
       "2                1  14.133328 -89.816667  \n",
       "3                0        NaN        NaN  \n",
       "4                1  38.757069 -77.538489  \n",
       "5                0        NaN        NaN  \n",
       "6                0  42.358428 -71.059766  \n",
       "7                0        NaN        NaN  \n",
       "8                0        NaN        NaN  \n",
       "9                0  43.233407 -79.949637  \n",
       "10               0  40.714269 -74.005970  \n",
       "11               0  42.728408 -73.691790  \n",
       "12               0  42.728408 -73.691790  \n",
       "13               2  39.290380 -76.612188  \n",
       "14               0  40.440617 -79.995888  \n",
       "15               0        NaN        NaN  \n",
       "16               0        NaN        NaN  \n",
       "17               0        NaN        NaN  \n",
       "18               0  38.895108 -77.036366  \n",
       "19               0  38.895108 -77.036366  "
      ]
     },
     "execution_count": 100,
     "metadata": {},
     "output_type": "execute_result"
    }
   ],
   "source": [
    "df_yankees.head(20)"
   ]
  },
  {
   "cell_type": "code",
   "execution_count": 30,
   "metadata": {
    "collapsed": false
   },
   "outputs": [],
   "source": [
    "#g = geocoder.arcgis(df_redsox['location'][3])\n",
    "#g.latlng"
   ]
  },
  {
   "cell_type": "code",
   "execution_count": 31,
   "metadata": {
    "collapsed": false
   },
   "outputs": [],
   "source": [
    "#df_redsox['location'][:10].apply(geocoder.arcgis)"
   ]
  },
  {
   "cell_type": "code",
   "execution_count": 32,
   "metadata": {
    "collapsed": false
   },
   "outputs": [],
   "source": [
    "#print(len(lats))\n",
    "#print(len(longs))"
   ]
  },
  {
   "cell_type": "code",
   "execution_count": 33,
   "metadata": {
    "collapsed": false
   },
   "outputs": [],
   "source": [
    "#df_redsox['latitude'] = pd.Series(lats)\n",
    "#df_redsox['longitude'] = pd.Series(longs)"
   ]
  },
  {
   "cell_type": "code",
   "execution_count": 101,
   "metadata": {
    "collapsed": false
   },
   "outputs": [
    {
     "data": {
      "text/plain": [
       "dtype('O')"
      ]
     },
     "execution_count": 101,
     "metadata": {},
     "output_type": "execute_result"
    }
   ],
   "source": [
    "df_yankees['created_at'].dtypes"
   ]
  },
  {
   "cell_type": "code",
   "execution_count": 102,
   "metadata": {
    "collapsed": false
   },
   "outputs": [
    {
     "data": {
      "text/plain": [
       "0    Sun Aug 07 23:59:49 +0000 2016\n",
       "1    Sun Aug 07 23:59:45 +0000 2016\n",
       "2    Sun Aug 07 23:59:38 +0000 2016\n",
       "3    Sun Aug 07 23:59:35 +0000 2016\n",
       "4    Sun Aug 07 23:59:32 +0000 2016\n",
       "Name: created_at, dtype: object"
      ]
     },
     "execution_count": 102,
     "metadata": {},
     "output_type": "execute_result"
    }
   ],
   "source": [
    "df_yankees['created_at'].head()"
   ]
  },
  {
   "cell_type": "code",
   "execution_count": 103,
   "metadata": {
    "collapsed": false
   },
   "outputs": [
    {
     "name": "stderr",
     "output_type": "stream",
     "text": [
      "//anaconda/lib/python3.5/site-packages/ipykernel/__main__.py:2: SettingWithCopyWarning: \n",
      "A value is trying to be set on a copy of a slice from a DataFrame.\n",
      "Try using .loc[row_indexer,col_indexer] = value instead\n",
      "\n",
      "See the caveats in the documentation: http://pandas.pydata.org/pandas-docs/stable/indexing.html#indexing-view-versus-copy\n",
      "  from ipykernel import kernelapp as app\n",
      "//anaconda/lib/python3.5/site-packages/ipykernel/__main__.py:3: SettingWithCopyWarning: \n",
      "A value is trying to be set on a copy of a slice from a DataFrame.\n",
      "Try using .loc[row_indexer,col_indexer] = value instead\n",
      "\n",
      "See the caveats in the documentation: http://pandas.pydata.org/pandas-docs/stable/indexing.html#indexing-view-versus-copy\n",
      "  app.launch_new_instance()\n"
     ]
    }
   ],
   "source": [
    "# First, parse to datetime, then get YYYY-MM-DD format.\n",
    "df_yankees['time'] = pd.to_datetime(df_yankees['created_at'], format='%a %b %d %H:%M:%S +0000 %Y')\n",
    "df_yankees['time'] = pd.to_datetime(df_yankees['time'].dt.date, format='%Y-%m-%d')\n",
    "#date = datetime.strptime('Thu Apr 23 13:38:19 +0000 2009','%a %b %d %H:%M:%S +0000 %Y')\n",
    "#date = datetime.strftime(date, '%Y %d %m')\n",
    "#type(date)\n",
    "#df_redsox['time'].dtypes"
   ]
  },
  {
   "cell_type": "code",
   "execution_count": 104,
   "metadata": {
    "collapsed": false
   },
   "outputs": [
    {
     "data": {
      "text/html": [
       "<div>\n",
       "<table border=\"1\" class=\"dataframe\">\n",
       "  <thead>\n",
       "    <tr style=\"text-align: right;\">\n",
       "      <th></th>\n",
       "      <th>text</th>\n",
       "      <th>created_at</th>\n",
       "      <th>location</th>\n",
       "      <th>retweet_count</th>\n",
       "      <th>favorite_count</th>\n",
       "      <th>latitude</th>\n",
       "      <th>longitude</th>\n",
       "      <th>time</th>\n",
       "    </tr>\n",
       "  </thead>\n",
       "  <tbody>\n",
       "    <tr>\n",
       "      <th>0</th>\n",
       "      <td>RT @RapSheet: Goodbye to one of the greatest t...</td>\n",
       "      <td>Sun Aug 07 23:59:49 +0000 2016</td>\n",
       "      <td>Ohio</td>\n",
       "      <td>235</td>\n",
       "      <td>0</td>\n",
       "      <td>40.250338</td>\n",
       "      <td>-83.000177</td>\n",
       "      <td>2016-08-07</td>\n",
       "    </tr>\n",
       "    <tr>\n",
       "      <th>1</th>\n",
       "      <td>Might be the dumbest thing I’ve ever read. Exp...</td>\n",
       "      <td>Sun Aug 07 23:59:45 +0000 2016</td>\n",
       "      <td>ÜT: 41.271945,-73.737193</td>\n",
       "      <td>0</td>\n",
       "      <td>2</td>\n",
       "      <td>NaN</td>\n",
       "      <td>NaN</td>\n",
       "      <td>2016-08-07</td>\n",
       "    </tr>\n",
       "    <tr>\n",
       "      <th>2</th>\n",
       "      <td>Quick Take: New York #Yankees defeat Cleveland...</td>\n",
       "      <td>Sun Aug 07 23:59:38 +0000 2016</td>\n",
       "      <td>SF &amp; LA</td>\n",
       "      <td>0</td>\n",
       "      <td>1</td>\n",
       "      <td>14.133328</td>\n",
       "      <td>-89.816667</td>\n",
       "      <td>2016-08-07</td>\n",
       "    </tr>\n",
       "    <tr>\n",
       "      <th>3</th>\n",
       "      <td>RT @MikeyAdams420: Kiss yourself goodbye @AROD...</td>\n",
       "      <td>Sun Aug 07 23:59:35 +0000 2016</td>\n",
       "      <td></td>\n",
       "      <td>16</td>\n",
       "      <td>0</td>\n",
       "      <td>NaN</td>\n",
       "      <td>NaN</td>\n",
       "      <td>2016-08-07</td>\n",
       "    </tr>\n",
       "    <tr>\n",
       "      <th>4</th>\n",
       "      <td>Congratulations Ichiro #Ichiro3000 #Mariners #...</td>\n",
       "      <td>Sun Aug 07 23:59:32 +0000 2016</td>\n",
       "      <td>Northern Virginia, USA</td>\n",
       "      <td>0</td>\n",
       "      <td>1</td>\n",
       "      <td>38.757069</td>\n",
       "      <td>-77.538489</td>\n",
       "      <td>2016-08-07</td>\n",
       "    </tr>\n",
       "    <tr>\n",
       "      <th>5</th>\n",
       "      <td>RT @JeopardySports: \"Who is: Alex Rodriguez?\"\\...</td>\n",
       "      <td>Sun Aug 07 23:59:31 +0000 2016</td>\n",
       "      <td></td>\n",
       "      <td>250</td>\n",
       "      <td>0</td>\n",
       "      <td>NaN</td>\n",
       "      <td>NaN</td>\n",
       "      <td>2016-08-07</td>\n",
       "    </tr>\n",
       "    <tr>\n",
       "      <th>6</th>\n",
       "      <td>RT: *Mature Audiences Only!*\\n#WWE #IronSheik ...</td>\n",
       "      <td>Sun Aug 07 23:59:26 +0000 2016</td>\n",
       "      <td>Boston, MA</td>\n",
       "      <td>1</td>\n",
       "      <td>0</td>\n",
       "      <td>42.358428</td>\n",
       "      <td>-71.059766</td>\n",
       "      <td>2016-08-07</td>\n",
       "    </tr>\n",
       "    <tr>\n",
       "      <th>7</th>\n",
       "      <td>TIX https://t.co/xvncbRb1y0 2x New York #Yanke...</td>\n",
       "      <td>Sun Aug 07 23:59:19 +0000 2016</td>\n",
       "      <td></td>\n",
       "      <td>0</td>\n",
       "      <td>0</td>\n",
       "      <td>NaN</td>\n",
       "      <td>NaN</td>\n",
       "      <td>2016-08-07</td>\n",
       "    </tr>\n",
       "    <tr>\n",
       "      <th>8</th>\n",
       "      <td>TIX https://t.co/xvncbRb1y0 L L L NEW YORK #Ya...</td>\n",
       "      <td>Sun Aug 07 23:59:18 +0000 2016</td>\n",
       "      <td></td>\n",
       "      <td>0</td>\n",
       "      <td>0</td>\n",
       "      <td>NaN</td>\n",
       "      <td>NaN</td>\n",
       "      <td>2016-08-07</td>\n",
       "    </tr>\n",
       "    <tr>\n",
       "      <th>9</th>\n",
       "      <td>RT @JeopardySports: \"Who is: Alex Rodriguez?\"\\...</td>\n",
       "      <td>Sun Aug 07 23:59:09 +0000 2016</td>\n",
       "      <td>Hamilton,Ontario</td>\n",
       "      <td>250</td>\n",
       "      <td>0</td>\n",
       "      <td>43.233407</td>\n",
       "      <td>-79.949637</td>\n",
       "      <td>2016-08-07</td>\n",
       "    </tr>\n",
       "  </tbody>\n",
       "</table>\n",
       "</div>"
      ],
      "text/plain": [
       "                                                text  \\\n",
       "0  RT @RapSheet: Goodbye to one of the greatest t...   \n",
       "1  Might be the dumbest thing I’ve ever read. Exp...   \n",
       "2  Quick Take: New York #Yankees defeat Cleveland...   \n",
       "3  RT @MikeyAdams420: Kiss yourself goodbye @AROD...   \n",
       "4  Congratulations Ichiro #Ichiro3000 #Mariners #...   \n",
       "5  RT @JeopardySports: \"Who is: Alex Rodriguez?\"\\...   \n",
       "6  RT: *Mature Audiences Only!*\\n#WWE #IronSheik ...   \n",
       "7  TIX https://t.co/xvncbRb1y0 2x New York #Yanke...   \n",
       "8  TIX https://t.co/xvncbRb1y0 L L L NEW YORK #Ya...   \n",
       "9  RT @JeopardySports: \"Who is: Alex Rodriguez?\"\\...   \n",
       "\n",
       "                       created_at                  location  retweet_count  \\\n",
       "0  Sun Aug 07 23:59:49 +0000 2016                      Ohio            235   \n",
       "1  Sun Aug 07 23:59:45 +0000 2016  ÜT: 41.271945,-73.737193              0   \n",
       "2  Sun Aug 07 23:59:38 +0000 2016                   SF & LA              0   \n",
       "3  Sun Aug 07 23:59:35 +0000 2016                                       16   \n",
       "4  Sun Aug 07 23:59:32 +0000 2016    Northern Virginia, USA              0   \n",
       "5  Sun Aug 07 23:59:31 +0000 2016                                      250   \n",
       "6  Sun Aug 07 23:59:26 +0000 2016                Boston, MA              1   \n",
       "7  Sun Aug 07 23:59:19 +0000 2016                                        0   \n",
       "8  Sun Aug 07 23:59:18 +0000 2016                                        0   \n",
       "9  Sun Aug 07 23:59:09 +0000 2016          Hamilton,Ontario            250   \n",
       "\n",
       "   favorite_count   latitude  longitude       time  \n",
       "0               0  40.250338 -83.000177 2016-08-07  \n",
       "1               2        NaN        NaN 2016-08-07  \n",
       "2               1  14.133328 -89.816667 2016-08-07  \n",
       "3               0        NaN        NaN 2016-08-07  \n",
       "4               1  38.757069 -77.538489 2016-08-07  \n",
       "5               0        NaN        NaN 2016-08-07  \n",
       "6               0  42.358428 -71.059766 2016-08-07  \n",
       "7               0        NaN        NaN 2016-08-07  \n",
       "8               0        NaN        NaN 2016-08-07  \n",
       "9               0  43.233407 -79.949637 2016-08-07  "
      ]
     },
     "execution_count": 104,
     "metadata": {},
     "output_type": "execute_result"
    }
   ],
   "source": [
    "df_yankees.head(10)"
   ]
  },
  {
   "cell_type": "code",
   "execution_count": 106,
   "metadata": {
    "collapsed": false
   },
   "outputs": [
    {
     "data": {
      "text/plain": [
       "2016-08-09    1000\n",
       "2016-08-12    1000\n",
       "2016-08-07    1000\n",
       "2016-08-15    1000\n",
       "2016-08-10    1000\n",
       "2016-08-13    1000\n",
       "2016-08-08    1000\n",
       "2016-08-16    1000\n",
       "2016-08-11    1000\n",
       "2016-08-14    1000\n",
       "Name: time, dtype: int64"
      ]
     },
     "execution_count": 106,
     "metadata": {},
     "output_type": "execute_result"
    }
   ],
   "source": [
    "df_yankees['time'].value_counts()"
   ]
  },
  {
   "cell_type": "markdown",
   "metadata": {},
   "source": [
    "## Sentiment Analysis ##"
   ]
  },
  {
   "cell_type": "code",
   "execution_count": 107,
   "metadata": {
    "collapsed": false
   },
   "outputs": [
    {
     "data": {
      "text/html": [
       "<div>\n",
       "<table border=\"1\" class=\"dataframe\">\n",
       "  <thead>\n",
       "    <tr style=\"text-align: right;\">\n",
       "      <th></th>\n",
       "      <th>text</th>\n",
       "      <th>created_at</th>\n",
       "      <th>location</th>\n",
       "      <th>retweet_count</th>\n",
       "      <th>favorite_count</th>\n",
       "      <th>latitude</th>\n",
       "      <th>longitude</th>\n",
       "      <th>time</th>\n",
       "    </tr>\n",
       "  </thead>\n",
       "  <tbody>\n",
       "    <tr>\n",
       "      <th>0</th>\n",
       "      <td>RT @RapSheet: Goodbye to one of the greatest t...</td>\n",
       "      <td>Sun Aug 07 23:59:49 +0000 2016</td>\n",
       "      <td>Ohio</td>\n",
       "      <td>235</td>\n",
       "      <td>0</td>\n",
       "      <td>40.250338</td>\n",
       "      <td>-83.000177</td>\n",
       "      <td>2016-08-07</td>\n",
       "    </tr>\n",
       "    <tr>\n",
       "      <th>1</th>\n",
       "      <td>Might be the dumbest thing I’ve ever read. Exp...</td>\n",
       "      <td>Sun Aug 07 23:59:45 +0000 2016</td>\n",
       "      <td>ÜT: 41.271945,-73.737193</td>\n",
       "      <td>0</td>\n",
       "      <td>2</td>\n",
       "      <td>NaN</td>\n",
       "      <td>NaN</td>\n",
       "      <td>2016-08-07</td>\n",
       "    </tr>\n",
       "    <tr>\n",
       "      <th>2</th>\n",
       "      <td>Quick Take: New York #Yankees defeat Cleveland...</td>\n",
       "      <td>Sun Aug 07 23:59:38 +0000 2016</td>\n",
       "      <td>SF &amp; LA</td>\n",
       "      <td>0</td>\n",
       "      <td>1</td>\n",
       "      <td>14.133328</td>\n",
       "      <td>-89.816667</td>\n",
       "      <td>2016-08-07</td>\n",
       "    </tr>\n",
       "    <tr>\n",
       "      <th>3</th>\n",
       "      <td>RT @MikeyAdams420: Kiss yourself goodbye @AROD...</td>\n",
       "      <td>Sun Aug 07 23:59:35 +0000 2016</td>\n",
       "      <td></td>\n",
       "      <td>16</td>\n",
       "      <td>0</td>\n",
       "      <td>NaN</td>\n",
       "      <td>NaN</td>\n",
       "      <td>2016-08-07</td>\n",
       "    </tr>\n",
       "    <tr>\n",
       "      <th>4</th>\n",
       "      <td>Congratulations Ichiro #Ichiro3000 #Mariners #...</td>\n",
       "      <td>Sun Aug 07 23:59:32 +0000 2016</td>\n",
       "      <td>Northern Virginia, USA</td>\n",
       "      <td>0</td>\n",
       "      <td>1</td>\n",
       "      <td>38.757069</td>\n",
       "      <td>-77.538489</td>\n",
       "      <td>2016-08-07</td>\n",
       "    </tr>\n",
       "  </tbody>\n",
       "</table>\n",
       "</div>"
      ],
      "text/plain": [
       "                                                text  \\\n",
       "0  RT @RapSheet: Goodbye to one of the greatest t...   \n",
       "1  Might be the dumbest thing I’ve ever read. Exp...   \n",
       "2  Quick Take: New York #Yankees defeat Cleveland...   \n",
       "3  RT @MikeyAdams420: Kiss yourself goodbye @AROD...   \n",
       "4  Congratulations Ichiro #Ichiro3000 #Mariners #...   \n",
       "\n",
       "                       created_at                  location  retweet_count  \\\n",
       "0  Sun Aug 07 23:59:49 +0000 2016                      Ohio            235   \n",
       "1  Sun Aug 07 23:59:45 +0000 2016  ÜT: 41.271945,-73.737193              0   \n",
       "2  Sun Aug 07 23:59:38 +0000 2016                   SF & LA              0   \n",
       "3  Sun Aug 07 23:59:35 +0000 2016                                       16   \n",
       "4  Sun Aug 07 23:59:32 +0000 2016    Northern Virginia, USA              0   \n",
       "\n",
       "   favorite_count   latitude  longitude       time  \n",
       "0               0  40.250338 -83.000177 2016-08-07  \n",
       "1               2        NaN        NaN 2016-08-07  \n",
       "2               1  14.133328 -89.816667 2016-08-07  \n",
       "3               0        NaN        NaN 2016-08-07  \n",
       "4               1  38.757069 -77.538489 2016-08-07  "
      ]
     },
     "execution_count": 107,
     "metadata": {},
     "output_type": "execute_result"
    }
   ],
   "source": [
    "df_yankees.head()"
   ]
  },
  {
   "cell_type": "code",
   "execution_count": 108,
   "metadata": {
    "collapsed": true
   },
   "outputs": [],
   "source": [
    "from textblob import TextBlob"
   ]
  },
  {
   "cell_type": "code",
   "execution_count": 109,
   "metadata": {
    "collapsed": false
   },
   "outputs": [],
   "source": [
    "tweets = df_yankees['text']\n",
    "sentiments = []\n",
    "for tweet in tweets:\n",
    "    wiki = TextBlob(tweet)\n",
    "    sentiments.append(wiki.sentiment.polarity)"
   ]
  },
  {
   "cell_type": "code",
   "execution_count": 110,
   "metadata": {
    "collapsed": false
   },
   "outputs": [
    {
     "name": "stderr",
     "output_type": "stream",
     "text": [
      "//anaconda/lib/python3.5/site-packages/ipykernel/__main__.py:1: SettingWithCopyWarning: \n",
      "A value is trying to be set on a copy of a slice from a DataFrame.\n",
      "Try using .loc[row_indexer,col_indexer] = value instead\n",
      "\n",
      "See the caveats in the documentation: http://pandas.pydata.org/pandas-docs/stable/indexing.html#indexing-view-versus-copy\n",
      "  if __name__ == '__main__':\n"
     ]
    }
   ],
   "source": [
    "df_yankees['sentiment'] = pd.Series(sentiments)"
   ]
  },
  {
   "cell_type": "code",
   "execution_count": 111,
   "metadata": {
    "collapsed": false
   },
   "outputs": [
    {
     "data": {
      "text/html": [
       "<div>\n",
       "<table border=\"1\" class=\"dataframe\">\n",
       "  <thead>\n",
       "    <tr style=\"text-align: right;\">\n",
       "      <th></th>\n",
       "      <th>text</th>\n",
       "      <th>created_at</th>\n",
       "      <th>location</th>\n",
       "      <th>retweet_count</th>\n",
       "      <th>favorite_count</th>\n",
       "      <th>latitude</th>\n",
       "      <th>longitude</th>\n",
       "      <th>time</th>\n",
       "      <th>sentiment</th>\n",
       "    </tr>\n",
       "  </thead>\n",
       "  <tbody>\n",
       "    <tr>\n",
       "      <th>0</th>\n",
       "      <td>RT @RapSheet: Goodbye to one of the greatest t...</td>\n",
       "      <td>Sun Aug 07 23:59:49 +0000 2016</td>\n",
       "      <td>Ohio</td>\n",
       "      <td>235</td>\n",
       "      <td>0</td>\n",
       "      <td>40.250338</td>\n",
       "      <td>-83.000177</td>\n",
       "      <td>2016-08-07</td>\n",
       "      <td>0.000000</td>\n",
       "    </tr>\n",
       "    <tr>\n",
       "      <th>1</th>\n",
       "      <td>Might be the dumbest thing I’ve ever read. Exp...</td>\n",
       "      <td>Sun Aug 07 23:59:45 +0000 2016</td>\n",
       "      <td>ÜT: 41.271945,-73.737193</td>\n",
       "      <td>0</td>\n",
       "      <td>2</td>\n",
       "      <td>NaN</td>\n",
       "      <td>NaN</td>\n",
       "      <td>2016-08-07</td>\n",
       "      <td>-0.131944</td>\n",
       "    </tr>\n",
       "    <tr>\n",
       "      <th>2</th>\n",
       "      <td>Quick Take: New York #Yankees defeat Cleveland...</td>\n",
       "      <td>Sun Aug 07 23:59:38 +0000 2016</td>\n",
       "      <td>SF &amp; LA</td>\n",
       "      <td>0</td>\n",
       "      <td>1</td>\n",
       "      <td>14.133328</td>\n",
       "      <td>-89.816667</td>\n",
       "      <td>2016-08-07</td>\n",
       "      <td>0.234848</td>\n",
       "    </tr>\n",
       "    <tr>\n",
       "      <th>3</th>\n",
       "      <td>RT @MikeyAdams420: Kiss yourself goodbye @AROD...</td>\n",
       "      <td>Sun Aug 07 23:59:35 +0000 2016</td>\n",
       "      <td></td>\n",
       "      <td>16</td>\n",
       "      <td>0</td>\n",
       "      <td>NaN</td>\n",
       "      <td>NaN</td>\n",
       "      <td>2016-08-07</td>\n",
       "      <td>0.700000</td>\n",
       "    </tr>\n",
       "    <tr>\n",
       "      <th>4</th>\n",
       "      <td>Congratulations Ichiro #Ichiro3000 #Mariners #...</td>\n",
       "      <td>Sun Aug 07 23:59:32 +0000 2016</td>\n",
       "      <td>Northern Virginia, USA</td>\n",
       "      <td>0</td>\n",
       "      <td>1</td>\n",
       "      <td>38.757069</td>\n",
       "      <td>-77.538489</td>\n",
       "      <td>2016-08-07</td>\n",
       "      <td>0.000000</td>\n",
       "    </tr>\n",
       "  </tbody>\n",
       "</table>\n",
       "</div>"
      ],
      "text/plain": [
       "                                                text  \\\n",
       "0  RT @RapSheet: Goodbye to one of the greatest t...   \n",
       "1  Might be the dumbest thing I’ve ever read. Exp...   \n",
       "2  Quick Take: New York #Yankees defeat Cleveland...   \n",
       "3  RT @MikeyAdams420: Kiss yourself goodbye @AROD...   \n",
       "4  Congratulations Ichiro #Ichiro3000 #Mariners #...   \n",
       "\n",
       "                       created_at                  location  retweet_count  \\\n",
       "0  Sun Aug 07 23:59:49 +0000 2016                      Ohio            235   \n",
       "1  Sun Aug 07 23:59:45 +0000 2016  ÜT: 41.271945,-73.737193              0   \n",
       "2  Sun Aug 07 23:59:38 +0000 2016                   SF & LA              0   \n",
       "3  Sun Aug 07 23:59:35 +0000 2016                                       16   \n",
       "4  Sun Aug 07 23:59:32 +0000 2016    Northern Virginia, USA              0   \n",
       "\n",
       "   favorite_count   latitude  longitude       time  sentiment  \n",
       "0               0  40.250338 -83.000177 2016-08-07   0.000000  \n",
       "1               2        NaN        NaN 2016-08-07  -0.131944  \n",
       "2               1  14.133328 -89.816667 2016-08-07   0.234848  \n",
       "3               0        NaN        NaN 2016-08-07   0.700000  \n",
       "4               1  38.757069 -77.538489 2016-08-07   0.000000  "
      ]
     },
     "execution_count": 111,
     "metadata": {},
     "output_type": "execute_result"
    }
   ],
   "source": [
    "df_yankees.head()"
   ]
  },
  {
   "cell_type": "code",
   "execution_count": 223,
   "metadata": {
    "collapsed": true
   },
   "outputs": [],
   "source": [
    "#df_redsox.to_csv('df_redsox.csv')"
   ]
  },
  {
   "cell_type": "code",
   "execution_count": 113,
   "metadata": {
    "collapsed": false
   },
   "outputs": [
    {
     "name": "stdout",
     "output_type": "stream",
     "text": [
      "40.71426940400045 -74.00596992899966\n"
     ]
    }
   ],
   "source": [
    "g = geocoder.arcgis('New York, NY')\n",
    "ny_lat = g.latlng[0]\n",
    "ny_long = g.latlng[1]\n",
    "print(ny_lat, ny_long)"
   ]
  },
  {
   "cell_type": "code",
   "execution_count": 114,
   "metadata": {
    "collapsed": false
   },
   "outputs": [],
   "source": [
    "import gpxpy.geo\n",
    "import math\n",
    "haversine_distances = []\n",
    "for i in range(df_yankees.shape[0]):\n",
    "#dist = gpxpy.geo.haversine_distance(52.2296756, 21.0122287, 52.406374, 16.9251681)\n",
    "#print(dist)\n",
    "    if math.isnan(df_yankees.iloc[i]['latitude']):\n",
    "        haversine_distances.append(np.nan)\n",
    "    else:\n",
    "        distance = gpxpy.geo.haversine_distance(ny_lat, ny_long, df_yankees.iloc[i]['latitude'], df_yankees.iloc[i]['longitude'])\n",
    "        haversine_distances.append(distance)"
   ]
  },
  {
   "cell_type": "code",
   "execution_count": 115,
   "metadata": {
    "collapsed": false
   },
   "outputs": [
    {
     "data": {
      "text/plain": [
       "10000"
      ]
     },
     "execution_count": 115,
     "metadata": {},
     "output_type": "execute_result"
    }
   ],
   "source": [
    "len(haversine_distances)"
   ]
  },
  {
   "cell_type": "code",
   "execution_count": 116,
   "metadata": {
    "collapsed": false
   },
   "outputs": [
    {
     "name": "stderr",
     "output_type": "stream",
     "text": [
      "//anaconda/lib/python3.5/site-packages/ipykernel/__main__.py:1: SettingWithCopyWarning: \n",
      "A value is trying to be set on a copy of a slice from a DataFrame.\n",
      "Try using .loc[row_indexer,col_indexer] = value instead\n",
      "\n",
      "See the caveats in the documentation: http://pandas.pydata.org/pandas-docs/stable/indexing.html#indexing-view-versus-copy\n",
      "  if __name__ == '__main__':\n"
     ]
    }
   ],
   "source": [
    "df_yankees['hav_distance'] = pd.Series(haversine_distances)"
   ]
  },
  {
   "cell_type": "code",
   "execution_count": 117,
   "metadata": {
    "collapsed": false
   },
   "outputs": [
    {
     "data": {
      "text/html": [
       "<div>\n",
       "<table border=\"1\" class=\"dataframe\">\n",
       "  <thead>\n",
       "    <tr style=\"text-align: right;\">\n",
       "      <th></th>\n",
       "      <th>text</th>\n",
       "      <th>created_at</th>\n",
       "      <th>location</th>\n",
       "      <th>retweet_count</th>\n",
       "      <th>favorite_count</th>\n",
       "      <th>latitude</th>\n",
       "      <th>longitude</th>\n",
       "      <th>time</th>\n",
       "      <th>sentiment</th>\n",
       "      <th>hav_distance</th>\n",
       "    </tr>\n",
       "  </thead>\n",
       "  <tbody>\n",
       "    <tr>\n",
       "      <th>0</th>\n",
       "      <td>RT @RapSheet: Goodbye to one of the greatest t...</td>\n",
       "      <td>Sun Aug 07 23:59:49 +0000 2016</td>\n",
       "      <td>Ohio</td>\n",
       "      <td>235</td>\n",
       "      <td>0</td>\n",
       "      <td>40.250338</td>\n",
       "      <td>-83.000177</td>\n",
       "      <td>2016-08-07</td>\n",
       "      <td>0.000000</td>\n",
       "      <td>7.621020e+05</td>\n",
       "    </tr>\n",
       "    <tr>\n",
       "      <th>1</th>\n",
       "      <td>Might be the dumbest thing I’ve ever read. Exp...</td>\n",
       "      <td>Sun Aug 07 23:59:45 +0000 2016</td>\n",
       "      <td>ÜT: 41.271945,-73.737193</td>\n",
       "      <td>0</td>\n",
       "      <td>2</td>\n",
       "      <td>NaN</td>\n",
       "      <td>NaN</td>\n",
       "      <td>2016-08-07</td>\n",
       "      <td>-0.131944</td>\n",
       "      <td>NaN</td>\n",
       "    </tr>\n",
       "    <tr>\n",
       "      <th>2</th>\n",
       "      <td>Quick Take: New York #Yankees defeat Cleveland...</td>\n",
       "      <td>Sun Aug 07 23:59:38 +0000 2016</td>\n",
       "      <td>SF &amp; LA</td>\n",
       "      <td>0</td>\n",
       "      <td>1</td>\n",
       "      <td>14.133328</td>\n",
       "      <td>-89.816667</td>\n",
       "      <td>2016-08-07</td>\n",
       "      <td>0.234848</td>\n",
       "      <td>3.329860e+06</td>\n",
       "    </tr>\n",
       "    <tr>\n",
       "      <th>3</th>\n",
       "      <td>RT @MikeyAdams420: Kiss yourself goodbye @AROD...</td>\n",
       "      <td>Sun Aug 07 23:59:35 +0000 2016</td>\n",
       "      <td></td>\n",
       "      <td>16</td>\n",
       "      <td>0</td>\n",
       "      <td>NaN</td>\n",
       "      <td>NaN</td>\n",
       "      <td>2016-08-07</td>\n",
       "      <td>0.700000</td>\n",
       "      <td>NaN</td>\n",
       "    </tr>\n",
       "    <tr>\n",
       "      <th>4</th>\n",
       "      <td>Congratulations Ichiro #Ichiro3000 #Mariners #...</td>\n",
       "      <td>Sun Aug 07 23:59:32 +0000 2016</td>\n",
       "      <td>Northern Virginia, USA</td>\n",
       "      <td>0</td>\n",
       "      <td>1</td>\n",
       "      <td>38.757069</td>\n",
       "      <td>-77.538489</td>\n",
       "      <td>2016-08-07</td>\n",
       "      <td>0.000000</td>\n",
       "      <td>3.722443e+05</td>\n",
       "    </tr>\n",
       "  </tbody>\n",
       "</table>\n",
       "</div>"
      ],
      "text/plain": [
       "                                                text  \\\n",
       "0  RT @RapSheet: Goodbye to one of the greatest t...   \n",
       "1  Might be the dumbest thing I’ve ever read. Exp...   \n",
       "2  Quick Take: New York #Yankees defeat Cleveland...   \n",
       "3  RT @MikeyAdams420: Kiss yourself goodbye @AROD...   \n",
       "4  Congratulations Ichiro #Ichiro3000 #Mariners #...   \n",
       "\n",
       "                       created_at                  location  retweet_count  \\\n",
       "0  Sun Aug 07 23:59:49 +0000 2016                      Ohio            235   \n",
       "1  Sun Aug 07 23:59:45 +0000 2016  ÜT: 41.271945,-73.737193              0   \n",
       "2  Sun Aug 07 23:59:38 +0000 2016                   SF & LA              0   \n",
       "3  Sun Aug 07 23:59:35 +0000 2016                                       16   \n",
       "4  Sun Aug 07 23:59:32 +0000 2016    Northern Virginia, USA              0   \n",
       "\n",
       "   favorite_count   latitude  longitude       time  sentiment  hav_distance  \n",
       "0               0  40.250338 -83.000177 2016-08-07   0.000000  7.621020e+05  \n",
       "1               2        NaN        NaN 2016-08-07  -0.131944           NaN  \n",
       "2               1  14.133328 -89.816667 2016-08-07   0.234848  3.329860e+06  \n",
       "3               0        NaN        NaN 2016-08-07   0.700000           NaN  \n",
       "4               1  38.757069 -77.538489 2016-08-07   0.000000  3.722443e+05  "
      ]
     },
     "execution_count": 117,
     "metadata": {},
     "output_type": "execute_result"
    }
   ],
   "source": [
    "df_yankees.head()"
   ]
  },
  {
   "cell_type": "code",
   "execution_count": 119,
   "metadata": {
    "collapsed": false
   },
   "outputs": [
    {
     "name": "stderr",
     "output_type": "stream",
     "text": [
      "//anaconda/lib/python3.5/site-packages/pandas/core/frame.py:2748: SettingWithCopyWarning: \n",
      "A value is trying to be set on a copy of a slice from a DataFrame\n",
      "\n",
      "See the caveats in the documentation: http://pandas.pydata.org/pandas-docs/stable/indexing.html#indexing-view-versus-copy\n",
      "  **kwargs)\n"
     ]
    }
   ],
   "source": [
    "df_yankees.rename(columns={'time': 'dates'}, inplace=True)"
   ]
  },
  {
   "cell_type": "code",
   "execution_count": 120,
   "metadata": {
    "collapsed": false
   },
   "outputs": [
    {
     "data": {
      "text/html": [
       "<div>\n",
       "<table border=\"1\" class=\"dataframe\">\n",
       "  <thead>\n",
       "    <tr style=\"text-align: right;\">\n",
       "      <th></th>\n",
       "      <th>text</th>\n",
       "      <th>created_at</th>\n",
       "      <th>location</th>\n",
       "      <th>retweet_count</th>\n",
       "      <th>favorite_count</th>\n",
       "      <th>latitude</th>\n",
       "      <th>longitude</th>\n",
       "      <th>dates</th>\n",
       "      <th>sentiment</th>\n",
       "      <th>hav_distance</th>\n",
       "    </tr>\n",
       "  </thead>\n",
       "  <tbody>\n",
       "    <tr>\n",
       "      <th>0</th>\n",
       "      <td>RT @RapSheet: Goodbye to one of the greatest t...</td>\n",
       "      <td>Sun Aug 07 23:59:49 +0000 2016</td>\n",
       "      <td>Ohio</td>\n",
       "      <td>235</td>\n",
       "      <td>0</td>\n",
       "      <td>40.250338</td>\n",
       "      <td>-83.000177</td>\n",
       "      <td>2016-08-07</td>\n",
       "      <td>0.000000</td>\n",
       "      <td>7.621020e+05</td>\n",
       "    </tr>\n",
       "    <tr>\n",
       "      <th>1</th>\n",
       "      <td>Might be the dumbest thing I’ve ever read. Exp...</td>\n",
       "      <td>Sun Aug 07 23:59:45 +0000 2016</td>\n",
       "      <td>ÜT: 41.271945,-73.737193</td>\n",
       "      <td>0</td>\n",
       "      <td>2</td>\n",
       "      <td>NaN</td>\n",
       "      <td>NaN</td>\n",
       "      <td>2016-08-07</td>\n",
       "      <td>-0.131944</td>\n",
       "      <td>NaN</td>\n",
       "    </tr>\n",
       "    <tr>\n",
       "      <th>2</th>\n",
       "      <td>Quick Take: New York #Yankees defeat Cleveland...</td>\n",
       "      <td>Sun Aug 07 23:59:38 +0000 2016</td>\n",
       "      <td>SF &amp; LA</td>\n",
       "      <td>0</td>\n",
       "      <td>1</td>\n",
       "      <td>14.133328</td>\n",
       "      <td>-89.816667</td>\n",
       "      <td>2016-08-07</td>\n",
       "      <td>0.234848</td>\n",
       "      <td>3.329860e+06</td>\n",
       "    </tr>\n",
       "    <tr>\n",
       "      <th>3</th>\n",
       "      <td>RT @MikeyAdams420: Kiss yourself goodbye @AROD...</td>\n",
       "      <td>Sun Aug 07 23:59:35 +0000 2016</td>\n",
       "      <td></td>\n",
       "      <td>16</td>\n",
       "      <td>0</td>\n",
       "      <td>NaN</td>\n",
       "      <td>NaN</td>\n",
       "      <td>2016-08-07</td>\n",
       "      <td>0.700000</td>\n",
       "      <td>NaN</td>\n",
       "    </tr>\n",
       "    <tr>\n",
       "      <th>4</th>\n",
       "      <td>Congratulations Ichiro #Ichiro3000 #Mariners #...</td>\n",
       "      <td>Sun Aug 07 23:59:32 +0000 2016</td>\n",
       "      <td>Northern Virginia, USA</td>\n",
       "      <td>0</td>\n",
       "      <td>1</td>\n",
       "      <td>38.757069</td>\n",
       "      <td>-77.538489</td>\n",
       "      <td>2016-08-07</td>\n",
       "      <td>0.000000</td>\n",
       "      <td>3.722443e+05</td>\n",
       "    </tr>\n",
       "  </tbody>\n",
       "</table>\n",
       "</div>"
      ],
      "text/plain": [
       "                                                text  \\\n",
       "0  RT @RapSheet: Goodbye to one of the greatest t...   \n",
       "1  Might be the dumbest thing I’ve ever read. Exp...   \n",
       "2  Quick Take: New York #Yankees defeat Cleveland...   \n",
       "3  RT @MikeyAdams420: Kiss yourself goodbye @AROD...   \n",
       "4  Congratulations Ichiro #Ichiro3000 #Mariners #...   \n",
       "\n",
       "                       created_at                  location  retweet_count  \\\n",
       "0  Sun Aug 07 23:59:49 +0000 2016                      Ohio            235   \n",
       "1  Sun Aug 07 23:59:45 +0000 2016  ÜT: 41.271945,-73.737193              0   \n",
       "2  Sun Aug 07 23:59:38 +0000 2016                   SF & LA              0   \n",
       "3  Sun Aug 07 23:59:35 +0000 2016                                       16   \n",
       "4  Sun Aug 07 23:59:32 +0000 2016    Northern Virginia, USA              0   \n",
       "\n",
       "   favorite_count   latitude  longitude      dates  sentiment  hav_distance  \n",
       "0               0  40.250338 -83.000177 2016-08-07   0.000000  7.621020e+05  \n",
       "1               2        NaN        NaN 2016-08-07  -0.131944           NaN  \n",
       "2               1  14.133328 -89.816667 2016-08-07   0.234848  3.329860e+06  \n",
       "3               0        NaN        NaN 2016-08-07   0.700000           NaN  \n",
       "4               1  38.757069 -77.538489 2016-08-07   0.000000  3.722443e+05  "
      ]
     },
     "execution_count": 120,
     "metadata": {},
     "output_type": "execute_result"
    }
   ],
   "source": [
    "df_yankees.head()"
   ]
  },
  {
   "cell_type": "code",
   "execution_count": 124,
   "metadata": {
    "collapsed": false
   },
   "outputs": [
    {
     "data": {
      "text/plain": [
       "2016-08-09    1000\n",
       "2016-08-12    1000\n",
       "2016-08-07    1000\n",
       "2016-08-15    1000\n",
       "2016-08-10    1000\n",
       "2016-08-13    1000\n",
       "2016-08-08    1000\n",
       "2016-08-16    1000\n",
       "2016-08-11    1000\n",
       "2016-08-14    1000\n",
       "Name: dates, dtype: int64"
      ]
     },
     "execution_count": 124,
     "metadata": {},
     "output_type": "execute_result"
    }
   ],
   "source": [
    "df_yankees['dates'].value_counts()"
   ]
  },
  {
   "cell_type": "code",
   "execution_count": 122,
   "metadata": {
    "collapsed": true
   },
   "outputs": [],
   "source": [
    "df_yankees.to_csv('df_yankees.csv')"
   ]
  },
  {
   "cell_type": "code",
   "execution_count": 52,
   "metadata": {
    "collapsed": true
   },
   "outputs": [],
   "source": [
    "outcome_by_date = {\n",
    "    '2016-08-07 00:00:00': 'Win',\n",
    "    '2016-08-08 00:00:00': 'No Game',\n",
    "    '2016-08-09 00:00:00': 'Loss',\n",
    "    '2016-08-10 00:00:00': 'Win',\n",
    "    '2016-08-11 00:00:00': 'Win',\n",
    "    '2016-08-12 00:00:00': 'Win',\n",
    "    '2016-08-13 00:00:00': 'Win',\n",
    "    '2016-08-14 00:00:00': 'Loss',\n",
    "    '2016-08-15 00:00:00': 'Win',\n",
    "    '2016-08-16 00:00:00': 'Loss'\n",
    "}"
   ]
  },
  {
   "cell_type": "code",
   "execution_count": 53,
   "metadata": {
    "collapsed": false
   },
   "outputs": [
    {
     "name": "stderr",
     "output_type": "stream",
     "text": [
      "//anaconda/lib/python3.5/site-packages/ipykernel/__main__.py:2: SettingWithCopyWarning: \n",
      "A value is trying to be set on a copy of a slice from a DataFrame.\n",
      "Try using .loc[row_indexer,col_indexer] = value instead\n",
      "\n",
      "See the caveats in the documentation: http://pandas.pydata.org/pandas-docs/stable/indexing.html#indexing-view-versus-copy\n",
      "  from ipykernel import kernelapp as app\n"
     ]
    }
   ],
   "source": [
    "# Apply outcome values to new column.\n",
    "df_yankees['outcome'] = df_yankees['dates'].apply(lambda x: outcome_by_date[str(x)])"
   ]
  },
  {
   "cell_type": "code",
   "execution_count": 54,
   "metadata": {
    "collapsed": false
   },
   "outputs": [
    {
     "data": {
      "text/html": [
       "<div>\n",
       "<table border=\"1\" class=\"dataframe\">\n",
       "  <thead>\n",
       "    <tr style=\"text-align: right;\">\n",
       "      <th></th>\n",
       "      <th>text</th>\n",
       "      <th>created_at</th>\n",
       "      <th>location</th>\n",
       "      <th>retweet_count</th>\n",
       "      <th>favorite_count</th>\n",
       "      <th>latitude</th>\n",
       "      <th>longitude</th>\n",
       "      <th>dates</th>\n",
       "      <th>sentiment</th>\n",
       "      <th>hav_distance</th>\n",
       "      <th>outcome</th>\n",
       "    </tr>\n",
       "  </thead>\n",
       "  <tbody>\n",
       "    <tr>\n",
       "      <th>0</th>\n",
       "      <td>RT @RapSheet: Goodbye to one of the greatest t...</td>\n",
       "      <td>Sun Aug 07 23:59:49 +0000 2016</td>\n",
       "      <td>Ohio</td>\n",
       "      <td>235</td>\n",
       "      <td>0</td>\n",
       "      <td>40.250338</td>\n",
       "      <td>-83.000177</td>\n",
       "      <td>2016-08-07</td>\n",
       "      <td>0.000000</td>\n",
       "      <td>7.621020e+05</td>\n",
       "      <td>Win</td>\n",
       "    </tr>\n",
       "    <tr>\n",
       "      <th>1</th>\n",
       "      <td>Might be the dumbest thing I’ve ever read. Exp...</td>\n",
       "      <td>Sun Aug 07 23:59:45 +0000 2016</td>\n",
       "      <td>ÜT: 41.271945,-73.737193</td>\n",
       "      <td>0</td>\n",
       "      <td>2</td>\n",
       "      <td>NaN</td>\n",
       "      <td>NaN</td>\n",
       "      <td>2016-08-07</td>\n",
       "      <td>-0.131944</td>\n",
       "      <td>NaN</td>\n",
       "      <td>Win</td>\n",
       "    </tr>\n",
       "    <tr>\n",
       "      <th>2</th>\n",
       "      <td>Quick Take: New York #Yankees defeat Cleveland...</td>\n",
       "      <td>Sun Aug 07 23:59:38 +0000 2016</td>\n",
       "      <td>SF &amp; LA</td>\n",
       "      <td>0</td>\n",
       "      <td>1</td>\n",
       "      <td>14.133328</td>\n",
       "      <td>-89.816667</td>\n",
       "      <td>2016-08-07</td>\n",
       "      <td>0.234848</td>\n",
       "      <td>3.329860e+06</td>\n",
       "      <td>Win</td>\n",
       "    </tr>\n",
       "    <tr>\n",
       "      <th>3</th>\n",
       "      <td>RT @MikeyAdams420: Kiss yourself goodbye @AROD...</td>\n",
       "      <td>Sun Aug 07 23:59:35 +0000 2016</td>\n",
       "      <td></td>\n",
       "      <td>16</td>\n",
       "      <td>0</td>\n",
       "      <td>NaN</td>\n",
       "      <td>NaN</td>\n",
       "      <td>2016-08-07</td>\n",
       "      <td>0.700000</td>\n",
       "      <td>NaN</td>\n",
       "      <td>Win</td>\n",
       "    </tr>\n",
       "    <tr>\n",
       "      <th>4</th>\n",
       "      <td>Congratulations Ichiro #Ichiro3000 #Mariners #...</td>\n",
       "      <td>Sun Aug 07 23:59:32 +0000 2016</td>\n",
       "      <td>Northern Virginia, USA</td>\n",
       "      <td>0</td>\n",
       "      <td>1</td>\n",
       "      <td>38.757069</td>\n",
       "      <td>-77.538489</td>\n",
       "      <td>2016-08-07</td>\n",
       "      <td>0.000000</td>\n",
       "      <td>3.722443e+05</td>\n",
       "      <td>Win</td>\n",
       "    </tr>\n",
       "  </tbody>\n",
       "</table>\n",
       "</div>"
      ],
      "text/plain": [
       "                                                text  \\\n",
       "0  RT @RapSheet: Goodbye to one of the greatest t...   \n",
       "1  Might be the dumbest thing I’ve ever read. Exp...   \n",
       "2  Quick Take: New York #Yankees defeat Cleveland...   \n",
       "3  RT @MikeyAdams420: Kiss yourself goodbye @AROD...   \n",
       "4  Congratulations Ichiro #Ichiro3000 #Mariners #...   \n",
       "\n",
       "                       created_at                  location  retweet_count  \\\n",
       "0  Sun Aug 07 23:59:49 +0000 2016                      Ohio            235   \n",
       "1  Sun Aug 07 23:59:45 +0000 2016  ÜT: 41.271945,-73.737193              0   \n",
       "2  Sun Aug 07 23:59:38 +0000 2016                   SF & LA              0   \n",
       "3  Sun Aug 07 23:59:35 +0000 2016                                       16   \n",
       "4  Sun Aug 07 23:59:32 +0000 2016    Northern Virginia, USA              0   \n",
       "\n",
       "   favorite_count   latitude  longitude      dates  sentiment  hav_distance  \\\n",
       "0               0  40.250338 -83.000177 2016-08-07   0.000000  7.621020e+05   \n",
       "1               2        NaN        NaN 2016-08-07  -0.131944           NaN   \n",
       "2               1  14.133328 -89.816667 2016-08-07   0.234848  3.329860e+06   \n",
       "3               0        NaN        NaN 2016-08-07   0.700000           NaN   \n",
       "4               1  38.757069 -77.538489 2016-08-07   0.000000  3.722443e+05   \n",
       "\n",
       "  outcome  \n",
       "0     Win  \n",
       "1     Win  \n",
       "2     Win  \n",
       "3     Win  \n",
       "4     Win  "
      ]
     },
     "execution_count": 54,
     "metadata": {},
     "output_type": "execute_result"
    }
   ],
   "source": [
    "df_yankees.head()"
   ]
  },
  {
   "cell_type": "code",
   "execution_count": null,
   "metadata": {
    "collapsed": true
   },
   "outputs": [],
   "source": [
    "df_yankees['dates'].value_counts()"
   ]
  },
  {
   "cell_type": "code",
   "execution_count": 55,
   "metadata": {
    "collapsed": true
   },
   "outputs": [],
   "source": [
    "df_yankees.to_csv('df_yankees.csv')"
   ]
  },
  {
   "cell_type": "code",
   "execution_count": null,
   "metadata": {
    "collapsed": true
   },
   "outputs": [],
   "source": [
    "df_yankees.rename(columns={'hav_distance': 'hav_distance_ny'}, inplace=True)"
   ]
  },
  {
   "cell_type": "code",
   "execution_count": null,
   "metadata": {
    "collapsed": true
   },
   "outputs": [],
   "source": []
  }
 ],
 "metadata": {
  "kernelspec": {
   "display_name": "Python 3",
   "language": "python",
   "name": "python3"
  },
  "language_info": {
   "codemirror_mode": {
    "name": "ipython",
    "version": 3
   },
   "file_extension": ".py",
   "mimetype": "text/x-python",
   "name": "python",
   "nbconvert_exporter": "python",
   "pygments_lexer": "ipython3",
   "version": "3.5.2"
  }
 },
 "nbformat": 4,
 "nbformat_minor": 0
}
