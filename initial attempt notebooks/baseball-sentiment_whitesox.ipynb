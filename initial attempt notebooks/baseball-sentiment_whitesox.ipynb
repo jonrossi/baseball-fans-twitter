{
 "cells": [
  {
   "cell_type": "markdown",
   "metadata": {},
   "source": [
    "**Note:** place file one level up in directory structure so it can run properly."
   ]
  },
  {
   "cell_type": "markdown",
   "metadata": {},
   "source": [
    "# Analyzing Baseball Fan Sentiment with Twitter Data (Whitesox) #"
   ]
  },
  {
   "cell_type": "code",
   "execution_count": 1,
   "metadata": {
    "collapsed": false
   },
   "outputs": [],
   "source": [
    "import glob\n",
    "import pandas as pd\n",
    "import numpy as np\n",
    "\n",
    "# For working with JSON data.\n",
    "try:\n",
    "    import json\n",
    "except ImportError:\n",
    "    import simplejson as json\n",
    "    \n",
    "# For maps.\n",
    "from mpl_toolkits.basemap import Basemap\n",
    "import geocoder\n",
    "import matplotlib.pyplot as plt\n",
    "%matplotlib inline\n",
    "\n",
    "#import warnings\n",
    "#warnings.simplefilter(action = \"ignore\", category = FutureWarning)"
   ]
  },
  {
   "cell_type": "markdown",
   "metadata": {},
   "source": [
    "## Intial Exploration (10,000 Tweets Version) ##"
   ]
  },
  {
   "cell_type": "code",
   "execution_count": 2,
   "metadata": {
    "collapsed": false
   },
   "outputs": [
    {
     "name": "stdout",
     "output_type": "stream",
     "text": [
      "data/whitesox/whitesox_search_08_07_1000.txt\n",
      "data/whitesox/whitesox_search_08_08_1000.txt\n",
      "data/whitesox/whitesox_search_08_09_1000.txt\n",
      "data/whitesox/whitesox_search_08_10_1000.txt\n",
      "data/whitesox/whitesox_search_08_11_1000.txt\n",
      "data/whitesox/whitesox_search_08_12_1000.txt\n",
      "data/whitesox/whitesox_search_08_13_1000.txt\n",
      "data/whitesox/whitesox_search_08_14_1000.txt\n",
      "data/whitesox/whitesox_search_08_15_1000.txt\n",
      "data/whitesox/whitesox_search_08_16_1000.txt\n"
     ]
    }
   ],
   "source": [
    "for filename in glob.iglob('data/whitesox/*.txt'):\n",
    "     print(filename)"
   ]
  },
  {
   "cell_type": "code",
   "execution_count": 3,
   "metadata": {
    "collapsed": true
   },
   "outputs": [],
   "source": [
    "# Read in JSON data and store in pandas DataFrame.\n",
    "tweets = []\n",
    "locations = []\n",
    "for filename in glob.iglob('data/whitesox/*.txt'):\n",
    "    tweets_filename = filename\n",
    "    tweets_file = open(tweets_filename, \"r\")\n",
    "    for line in tweets_file:\n",
    "        try:\n",
    "            # Read in each line of file, convert to JSON object. \n",
    "            tweet = json.loads(line.strip())\n",
    "            # Make sure tweet has text content.\n",
    "            if 'text' in tweet:\n",
    "                tweets.append(tweet)\n",
    "                locations.append(tweet['user']['location'])\n",
    "        except:\n",
    "            # Skip any non-JSON-formatted data that may have been captured.\n",
    "            continue"
   ]
  },
  {
   "cell_type": "code",
   "execution_count": 4,
   "metadata": {
    "collapsed": true
   },
   "outputs": [],
   "source": [
    "df_whitesox_all = pd.DataFrame(tweets)"
   ]
  },
  {
   "cell_type": "code",
   "execution_count": 5,
   "metadata": {
    "collapsed": true
   },
   "outputs": [],
   "source": [
    "df_whitesox_all['location'] = pd.Series(locations)"
   ]
  },
  {
   "cell_type": "code",
   "execution_count": 6,
   "metadata": {
    "collapsed": false
   },
   "outputs": [
    {
     "data": {
      "text/plain": [
       "(10000, 31)"
      ]
     },
     "execution_count": 6,
     "metadata": {},
     "output_type": "execute_result"
    }
   ],
   "source": [
    "df_whitesox_all.shape"
   ]
  },
  {
   "cell_type": "code",
   "execution_count": 7,
   "metadata": {
    "collapsed": false
   },
   "outputs": [
    {
     "data": {
      "text/html": [
       "<div>\n",
       "<table border=\"1\" class=\"dataframe\">\n",
       "  <thead>\n",
       "    <tr style=\"text-align: right;\">\n",
       "      <th></th>\n",
       "      <th>contributors</th>\n",
       "      <th>coordinates</th>\n",
       "      <th>created_at</th>\n",
       "      <th>entities</th>\n",
       "      <th>extended_entities</th>\n",
       "      <th>favorite_count</th>\n",
       "      <th>favorited</th>\n",
       "      <th>geo</th>\n",
       "      <th>id</th>\n",
       "      <th>id_str</th>\n",
       "      <th>...</th>\n",
       "      <th>quoted_status_id</th>\n",
       "      <th>quoted_status_id_str</th>\n",
       "      <th>retweet_count</th>\n",
       "      <th>retweeted</th>\n",
       "      <th>retweeted_status</th>\n",
       "      <th>source</th>\n",
       "      <th>text</th>\n",
       "      <th>truncated</th>\n",
       "      <th>user</th>\n",
       "      <th>location</th>\n",
       "    </tr>\n",
       "  </thead>\n",
       "  <tbody>\n",
       "    <tr>\n",
       "      <th>0</th>\n",
       "      <td>None</td>\n",
       "      <td>{'coordinates': [-87.63381504, 41.83000199], '...</td>\n",
       "      <td>Sun Aug 07 23:59:05 +0000 2016</td>\n",
       "      <td>{'urls': [{'indices': [96, 119], 'expanded_url...</td>\n",
       "      <td>NaN</td>\n",
       "      <td>1</td>\n",
       "      <td>False</td>\n",
       "      <td>{'coordinates': [41.83000199, -87.63381504], '...</td>\n",
       "      <td>762437941259939841</td>\n",
       "      <td>762437941259939841</td>\n",
       "      <td>...</td>\n",
       "      <td>NaN</td>\n",
       "      <td>NaN</td>\n",
       "      <td>0</td>\n",
       "      <td>False</td>\n",
       "      <td>NaN</td>\n",
       "      <td>&lt;a href=\"http://instagram.com\" rel=\"nofollow\"&gt;...</td>\n",
       "      <td>Last weekend Cubs game,  this weekend Sox game...</td>\n",
       "      <td>False</td>\n",
       "      <td>{'id_str': '18255890', 'url': 'https://t.co/Ig...</td>\n",
       "      <td>Chicago, IL</td>\n",
       "    </tr>\n",
       "    <tr>\n",
       "      <th>1</th>\n",
       "      <td>None</td>\n",
       "      <td>None</td>\n",
       "      <td>Sun Aug 07 23:56:26 +0000 2016</td>\n",
       "      <td>{'urls': [], 'hashtags': [], 'symbols': [], 'm...</td>\n",
       "      <td>{'media': [{'source_user_id_str': '53197137', ...</td>\n",
       "      <td>0</td>\n",
       "      <td>False</td>\n",
       "      <td>None</td>\n",
       "      <td>762437275988832256</td>\n",
       "      <td>762437275988832256</td>\n",
       "      <td>...</td>\n",
       "      <td>NaN</td>\n",
       "      <td>NaN</td>\n",
       "      <td>31</td>\n",
       "      <td>False</td>\n",
       "      <td>{'text': 'Happy birthday, Tommy Kahnle! Show t...</td>\n",
       "      <td>&lt;a href=\"http://twitter.com/download/iphone\" r...</td>\n",
       "      <td>RT @whitesox: Happy birthday, Tommy Kahnle! Sh...</td>\n",
       "      <td>False</td>\n",
       "      <td>{'id_str': '792677689', 'url': None, 'statuses...</td>\n",
       "      <td></td>\n",
       "    </tr>\n",
       "    <tr>\n",
       "      <th>2</th>\n",
       "      <td>None</td>\n",
       "      <td>None</td>\n",
       "      <td>Sun Aug 07 23:56:11 +0000 2016</td>\n",
       "      <td>{'urls': [{'indices': [71, 94], 'expanded_url'...</td>\n",
       "      <td>{'media': [{'indices': [116, 139], 'id_str': '...</td>\n",
       "      <td>0</td>\n",
       "      <td>False</td>\n",
       "      <td>None</td>\n",
       "      <td>762437211107176451</td>\n",
       "      <td>762437211107176451</td>\n",
       "      <td>...</td>\n",
       "      <td>NaN</td>\n",
       "      <td>NaN</td>\n",
       "      <td>0</td>\n",
       "      <td>False</td>\n",
       "      <td>NaN</td>\n",
       "      <td>&lt;a href=\"http://dlvr.it\" rel=\"nofollow\"&gt;dlvr.i...</td>\n",
       "      <td>#Autograph GORDON BECKHAM #SignED #Chicago #Wh...</td>\n",
       "      <td>False</td>\n",
       "      <td>{'id_str': '559496785', 'url': 'https://t.co/w...</td>\n",
       "      <td>Chicago, IL</td>\n",
       "    </tr>\n",
       "  </tbody>\n",
       "</table>\n",
       "<p>3 rows × 31 columns</p>\n",
       "</div>"
      ],
      "text/plain": [
       "  contributors                                        coordinates  \\\n",
       "0         None  {'coordinates': [-87.63381504, 41.83000199], '...   \n",
       "1         None                                               None   \n",
       "2         None                                               None   \n",
       "\n",
       "                       created_at  \\\n",
       "0  Sun Aug 07 23:59:05 +0000 2016   \n",
       "1  Sun Aug 07 23:56:26 +0000 2016   \n",
       "2  Sun Aug 07 23:56:11 +0000 2016   \n",
       "\n",
       "                                            entities  \\\n",
       "0  {'urls': [{'indices': [96, 119], 'expanded_url...   \n",
       "1  {'urls': [], 'hashtags': [], 'symbols': [], 'm...   \n",
       "2  {'urls': [{'indices': [71, 94], 'expanded_url'...   \n",
       "\n",
       "                                   extended_entities  favorite_count  \\\n",
       "0                                                NaN               1   \n",
       "1  {'media': [{'source_user_id_str': '53197137', ...               0   \n",
       "2  {'media': [{'indices': [116, 139], 'id_str': '...               0   \n",
       "\n",
       "  favorited                                                geo  \\\n",
       "0     False  {'coordinates': [41.83000199, -87.63381504], '...   \n",
       "1     False                                               None   \n",
       "2     False                                               None   \n",
       "\n",
       "                   id              id_str     ...      quoted_status_id  \\\n",
       "0  762437941259939841  762437941259939841     ...                   NaN   \n",
       "1  762437275988832256  762437275988832256     ...                   NaN   \n",
       "2  762437211107176451  762437211107176451     ...                   NaN   \n",
       "\n",
       "   quoted_status_id_str retweet_count  retweeted  \\\n",
       "0                   NaN             0      False   \n",
       "1                   NaN            31      False   \n",
       "2                   NaN             0      False   \n",
       "\n",
       "                                    retweeted_status  \\\n",
       "0                                                NaN   \n",
       "1  {'text': 'Happy birthday, Tommy Kahnle! Show t...   \n",
       "2                                                NaN   \n",
       "\n",
       "                                              source  \\\n",
       "0  <a href=\"http://instagram.com\" rel=\"nofollow\">...   \n",
       "1  <a href=\"http://twitter.com/download/iphone\" r...   \n",
       "2  <a href=\"http://dlvr.it\" rel=\"nofollow\">dlvr.i...   \n",
       "\n",
       "                                                text truncated  \\\n",
       "0  Last weekend Cubs game,  this weekend Sox game...     False   \n",
       "1  RT @whitesox: Happy birthday, Tommy Kahnle! Sh...     False   \n",
       "2  #Autograph GORDON BECKHAM #SignED #Chicago #Wh...     False   \n",
       "\n",
       "                                                user     location  \n",
       "0  {'id_str': '18255890', 'url': 'https://t.co/Ig...  Chicago, IL  \n",
       "1  {'id_str': '792677689', 'url': None, 'statuses...               \n",
       "2  {'id_str': '559496785', 'url': 'https://t.co/w...  Chicago, IL  \n",
       "\n",
       "[3 rows x 31 columns]"
      ]
     },
     "execution_count": 7,
     "metadata": {},
     "output_type": "execute_result"
    }
   ],
   "source": [
    "df_whitesox_all.head(3)"
   ]
  },
  {
   "cell_type": "code",
   "execution_count": 190,
   "metadata": {
    "collapsed": false
   },
   "outputs": [],
   "source": [
    "#df_redsox_all['retweet_count'].value_counts()"
   ]
  },
  {
   "cell_type": "code",
   "execution_count": 8,
   "metadata": {
    "collapsed": false
   },
   "outputs": [],
   "source": [
    "df_whitesox = df_whitesox_all[['text', 'created_at', 'location', 'retweet_count', 'favorite_count']]"
   ]
  },
  {
   "cell_type": "code",
   "execution_count": 9,
   "metadata": {
    "collapsed": false
   },
   "outputs": [
    {
     "data": {
      "text/plain": [
       "(10000, 5)"
      ]
     },
     "execution_count": 9,
     "metadata": {},
     "output_type": "execute_result"
    }
   ],
   "source": [
    "df_whitesox.shape"
   ]
  },
  {
   "cell_type": "code",
   "execution_count": 10,
   "metadata": {
    "collapsed": false
   },
   "outputs": [
    {
     "data": {
      "text/html": [
       "<div>\n",
       "<table border=\"1\" class=\"dataframe\">\n",
       "  <thead>\n",
       "    <tr style=\"text-align: right;\">\n",
       "      <th></th>\n",
       "      <th>text</th>\n",
       "      <th>created_at</th>\n",
       "      <th>location</th>\n",
       "      <th>retweet_count</th>\n",
       "      <th>favorite_count</th>\n",
       "    </tr>\n",
       "  </thead>\n",
       "  <tbody>\n",
       "    <tr>\n",
       "      <th>0</th>\n",
       "      <td>Last weekend Cubs game,  this weekend Sox game...</td>\n",
       "      <td>Sun Aug 07 23:59:05 +0000 2016</td>\n",
       "      <td>Chicago, IL</td>\n",
       "      <td>0</td>\n",
       "      <td>1</td>\n",
       "    </tr>\n",
       "    <tr>\n",
       "      <th>1</th>\n",
       "      <td>RT @whitesox: Happy birthday, Tommy Kahnle! Sh...</td>\n",
       "      <td>Sun Aug 07 23:56:26 +0000 2016</td>\n",
       "      <td></td>\n",
       "      <td>31</td>\n",
       "      <td>0</td>\n",
       "    </tr>\n",
       "    <tr>\n",
       "      <th>2</th>\n",
       "      <td>#Autograph GORDON BECKHAM #SignED #Chicago #Wh...</td>\n",
       "      <td>Sun Aug 07 23:56:11 +0000 2016</td>\n",
       "      <td>Chicago, IL</td>\n",
       "      <td>0</td>\n",
       "      <td>0</td>\n",
       "    </tr>\n",
       "    <tr>\n",
       "      <th>3</th>\n",
       "      <td>@socmediaisdumb @whitesox @FlavaFraz21 b/c he ...</td>\n",
       "      <td>Sun Aug 07 23:55:19 +0000 2016</td>\n",
       "      <td>Jersey..not the guido part</td>\n",
       "      <td>0</td>\n",
       "      <td>0</td>\n",
       "    </tr>\n",
       "    <tr>\n",
       "      <th>4</th>\n",
       "      <td>RT @dailyherald: Machado flashes early power a...</td>\n",
       "      <td>Sun Aug 07 23:54:26 +0000 2016</td>\n",
       "      <td></td>\n",
       "      <td>1</td>\n",
       "      <td>0</td>\n",
       "    </tr>\n",
       "    <tr>\n",
       "      <th>5</th>\n",
       "      <td>@DisgustedNYer Yes I've definitely been follow...</td>\n",
       "      <td>Sun Aug 07 23:53:48 +0000 2016</td>\n",
       "      <td></td>\n",
       "      <td>0</td>\n",
       "      <td>0</td>\n",
       "    </tr>\n",
       "    <tr>\n",
       "      <th>6</th>\n",
       "      <td>@mlbtraderumors hey @whitesox take a chance. H...</td>\n",
       "      <td>Sun Aug 07 23:53:27 +0000 2016</td>\n",
       "      <td>Metro City USA</td>\n",
       "      <td>0</td>\n",
       "      <td>2</td>\n",
       "    </tr>\n",
       "    <tr>\n",
       "      <th>7</th>\n",
       "      <td>RT @iamchrislane: Great time throwing out the ...</td>\n",
       "      <td>Sun Aug 07 23:52:45 +0000 2016</td>\n",
       "      <td>Kernersville , NC</td>\n",
       "      <td>76</td>\n",
       "      <td>0</td>\n",
       "    </tr>\n",
       "    <tr>\n",
       "      <th>8</th>\n",
       "      <td>Machado flashes early power as Orioles roll ov...</td>\n",
       "      <td>Sun Aug 07 23:52:05 +0000 2016</td>\n",
       "      <td>Chicago Suburbs</td>\n",
       "      <td>1</td>\n",
       "      <td>1</td>\n",
       "    </tr>\n",
       "    <tr>\n",
       "      <th>9</th>\n",
       "      <td>@lovepucks @whitesox @CarlosRodon16 you're dumb</td>\n",
       "      <td>Sun Aug 07 23:49:50 +0000 2016</td>\n",
       "      <td>Chiraq</td>\n",
       "      <td>0</td>\n",
       "      <td>0</td>\n",
       "    </tr>\n",
       "  </tbody>\n",
       "</table>\n",
       "</div>"
      ],
      "text/plain": [
       "                                                text  \\\n",
       "0  Last weekend Cubs game,  this weekend Sox game...   \n",
       "1  RT @whitesox: Happy birthday, Tommy Kahnle! Sh...   \n",
       "2  #Autograph GORDON BECKHAM #SignED #Chicago #Wh...   \n",
       "3  @socmediaisdumb @whitesox @FlavaFraz21 b/c he ...   \n",
       "4  RT @dailyherald: Machado flashes early power a...   \n",
       "5  @DisgustedNYer Yes I've definitely been follow...   \n",
       "6  @mlbtraderumors hey @whitesox take a chance. H...   \n",
       "7  RT @iamchrislane: Great time throwing out the ...   \n",
       "8  Machado flashes early power as Orioles roll ov...   \n",
       "9    @lovepucks @whitesox @CarlosRodon16 you're dumb   \n",
       "\n",
       "                       created_at                    location  retweet_count  \\\n",
       "0  Sun Aug 07 23:59:05 +0000 2016                 Chicago, IL              0   \n",
       "1  Sun Aug 07 23:56:26 +0000 2016                                         31   \n",
       "2  Sun Aug 07 23:56:11 +0000 2016                 Chicago, IL              0   \n",
       "3  Sun Aug 07 23:55:19 +0000 2016  Jersey..not the guido part              0   \n",
       "4  Sun Aug 07 23:54:26 +0000 2016                                          1   \n",
       "5  Sun Aug 07 23:53:48 +0000 2016                                          0   \n",
       "6  Sun Aug 07 23:53:27 +0000 2016              Metro City USA              0   \n",
       "7  Sun Aug 07 23:52:45 +0000 2016           Kernersville , NC             76   \n",
       "8  Sun Aug 07 23:52:05 +0000 2016             Chicago Suburbs              1   \n",
       "9  Sun Aug 07 23:49:50 +0000 2016                      Chiraq              0   \n",
       "\n",
       "   favorite_count  \n",
       "0               1  \n",
       "1               0  \n",
       "2               0  \n",
       "3               0  \n",
       "4               0  \n",
       "5               0  \n",
       "6               2  \n",
       "7               0  \n",
       "8               1  \n",
       "9               0  "
      ]
     },
     "execution_count": 10,
     "metadata": {},
     "output_type": "execute_result"
    }
   ],
   "source": [
    "df_whitesox.head(10)"
   ]
  },
  {
   "cell_type": "code",
   "execution_count": 94,
   "metadata": {
    "collapsed": true
   },
   "outputs": [],
   "source": [
    "# DONT USE\n",
    "lats = []\n",
    "longs = []\n",
    "for location in df_redsox['location']:\n",
    "    g = geocoder.arcgis(location)\n",
    "    if g.latlng != []:\n",
    "        lats.append(g.latlng[0])\n",
    "        longs.append(g.latlng[1])\n",
    "    else:\n",
    "        lats.append(np.nan)\n",
    "        longs.append(np.nan)"
   ]
  },
  {
   "cell_type": "code",
   "execution_count": 11,
   "metadata": {
    "collapsed": true
   },
   "outputs": [],
   "source": [
    "unique_locations = df_whitesox['location'].unique()"
   ]
  },
  {
   "cell_type": "code",
   "execution_count": 12,
   "metadata": {
    "collapsed": false
   },
   "outputs": [
    {
     "data": {
      "text/plain": [
       "1867"
      ]
     },
     "execution_count": 12,
     "metadata": {},
     "output_type": "execute_result"
    }
   ],
   "source": [
    "len(unique_locations)\n",
    "#unique_locations = unique_locations[:10]\n",
    "#unique_locations"
   ]
  },
  {
   "cell_type": "code",
   "execution_count": 13,
   "metadata": {
    "collapsed": false
   },
   "outputs": [],
   "source": [
    "# USE THIS\n",
    "location_coords = {}\n",
    "for location in unique_locations:\n",
    "    location_coords[location] = geocoder.arcgis(location)"
   ]
  },
  {
   "cell_type": "code",
   "execution_count": 14,
   "metadata": {
    "collapsed": false
   },
   "outputs": [
    {
     "data": {
      "text/plain": [
       "[]"
      ]
     },
     "execution_count": 14,
     "metadata": {},
     "output_type": "execute_result"
    }
   ],
   "source": [
    "location_coords[''].latlng"
   ]
  },
  {
   "cell_type": "code",
   "execution_count": 15,
   "metadata": {
    "collapsed": false
   },
   "outputs": [],
   "source": [
    "def get_lat(x):\n",
    "    if x.latlng != []:\n",
    "        return(x.latlng[0])\n",
    "    else:\n",
    "        return(np.nan)"
   ]
  },
  {
   "cell_type": "code",
   "execution_count": 16,
   "metadata": {
    "collapsed": true
   },
   "outputs": [],
   "source": [
    "def get_long(x):\n",
    "    if x.latlng != []:\n",
    "        return(x.latlng[1])\n",
    "    else:\n",
    "        return(np.nan)"
   ]
  },
  {
   "cell_type": "code",
   "execution_count": 17,
   "metadata": {
    "collapsed": false
   },
   "outputs": [
    {
     "data": {
      "text/plain": [
       "41.85002711900046"
      ]
     },
     "execution_count": 17,
     "metadata": {},
     "output_type": "execute_result"
    }
   ],
   "source": [
    "get_lat(location_coords['Chicago, IL'])"
   ]
  },
  {
   "cell_type": "code",
   "execution_count": 18,
   "metadata": {
    "collapsed": false
   },
   "outputs": [
    {
     "name": "stderr",
     "output_type": "stream",
     "text": [
      "//anaconda/lib/python3.5/site-packages/ipykernel/__main__.py:1: SettingWithCopyWarning: \n",
      "A value is trying to be set on a copy of a slice from a DataFrame.\n",
      "Try using .loc[row_indexer,col_indexer] = value instead\n",
      "\n",
      "See the caveats in the documentation: http://pandas.pydata.org/pandas-docs/stable/indexing.html#indexing-view-versus-copy\n",
      "  if __name__ == '__main__':\n",
      "//anaconda/lib/python3.5/site-packages/ipykernel/__main__.py:2: SettingWithCopyWarning: \n",
      "A value is trying to be set on a copy of a slice from a DataFrame.\n",
      "Try using .loc[row_indexer,col_indexer] = value instead\n",
      "\n",
      "See the caveats in the documentation: http://pandas.pydata.org/pandas-docs/stable/indexing.html#indexing-view-versus-copy\n",
      "  from ipykernel import kernelapp as app\n"
     ]
    }
   ],
   "source": [
    "df_whitesox['latitude'] = df_whitesox['location'].apply(lambda x: get_lat(location_coords[x]))\n",
    "df_whitesox['longitude'] = df_whitesox['location'].apply(lambda x: get_long(location_coords[x]))"
   ]
  },
  {
   "cell_type": "code",
   "execution_count": 19,
   "metadata": {
    "collapsed": false
   },
   "outputs": [
    {
     "data": {
      "text/html": [
       "<div>\n",
       "<table border=\"1\" class=\"dataframe\">\n",
       "  <thead>\n",
       "    <tr style=\"text-align: right;\">\n",
       "      <th></th>\n",
       "      <th>text</th>\n",
       "      <th>created_at</th>\n",
       "      <th>location</th>\n",
       "      <th>retweet_count</th>\n",
       "      <th>favorite_count</th>\n",
       "      <th>latitude</th>\n",
       "      <th>longitude</th>\n",
       "    </tr>\n",
       "  </thead>\n",
       "  <tbody>\n",
       "    <tr>\n",
       "      <th>0</th>\n",
       "      <td>Last weekend Cubs game,  this weekend Sox game...</td>\n",
       "      <td>Sun Aug 07 23:59:05 +0000 2016</td>\n",
       "      <td>Chicago, IL</td>\n",
       "      <td>0</td>\n",
       "      <td>1</td>\n",
       "      <td>41.850027</td>\n",
       "      <td>-87.650046</td>\n",
       "    </tr>\n",
       "    <tr>\n",
       "      <th>1</th>\n",
       "      <td>RT @whitesox: Happy birthday, Tommy Kahnle! Sh...</td>\n",
       "      <td>Sun Aug 07 23:56:26 +0000 2016</td>\n",
       "      <td></td>\n",
       "      <td>31</td>\n",
       "      <td>0</td>\n",
       "      <td>NaN</td>\n",
       "      <td>NaN</td>\n",
       "    </tr>\n",
       "    <tr>\n",
       "      <th>2</th>\n",
       "      <td>#Autograph GORDON BECKHAM #SignED #Chicago #Wh...</td>\n",
       "      <td>Sun Aug 07 23:56:11 +0000 2016</td>\n",
       "      <td>Chicago, IL</td>\n",
       "      <td>0</td>\n",
       "      <td>0</td>\n",
       "      <td>41.850027</td>\n",
       "      <td>-87.650046</td>\n",
       "    </tr>\n",
       "    <tr>\n",
       "      <th>3</th>\n",
       "      <td>@socmediaisdumb @whitesox @FlavaFraz21 b/c he ...</td>\n",
       "      <td>Sun Aug 07 23:55:19 +0000 2016</td>\n",
       "      <td>Jersey..not the guido part</td>\n",
       "      <td>0</td>\n",
       "      <td>0</td>\n",
       "      <td>NaN</td>\n",
       "      <td>NaN</td>\n",
       "    </tr>\n",
       "    <tr>\n",
       "      <th>4</th>\n",
       "      <td>RT @dailyherald: Machado flashes early power a...</td>\n",
       "      <td>Sun Aug 07 23:54:26 +0000 2016</td>\n",
       "      <td></td>\n",
       "      <td>1</td>\n",
       "      <td>0</td>\n",
       "      <td>NaN</td>\n",
       "      <td>NaN</td>\n",
       "    </tr>\n",
       "    <tr>\n",
       "      <th>5</th>\n",
       "      <td>@DisgustedNYer Yes I've definitely been follow...</td>\n",
       "      <td>Sun Aug 07 23:53:48 +0000 2016</td>\n",
       "      <td></td>\n",
       "      <td>0</td>\n",
       "      <td>0</td>\n",
       "      <td>NaN</td>\n",
       "      <td>NaN</td>\n",
       "    </tr>\n",
       "    <tr>\n",
       "      <th>6</th>\n",
       "      <td>@mlbtraderumors hey @whitesox take a chance. H...</td>\n",
       "      <td>Sun Aug 07 23:53:27 +0000 2016</td>\n",
       "      <td>Metro City USA</td>\n",
       "      <td>0</td>\n",
       "      <td>2</td>\n",
       "      <td>34.139390</td>\n",
       "      <td>-118.361967</td>\n",
       "    </tr>\n",
       "    <tr>\n",
       "      <th>7</th>\n",
       "      <td>RT @iamchrislane: Great time throwing out the ...</td>\n",
       "      <td>Sun Aug 07 23:52:45 +0000 2016</td>\n",
       "      <td>Kernersville , NC</td>\n",
       "      <td>76</td>\n",
       "      <td>0</td>\n",
       "      <td>36.119858</td>\n",
       "      <td>-80.073650</td>\n",
       "    </tr>\n",
       "    <tr>\n",
       "      <th>8</th>\n",
       "      <td>Machado flashes early power as Orioles roll ov...</td>\n",
       "      <td>Sun Aug 07 23:52:05 +0000 2016</td>\n",
       "      <td>Chicago Suburbs</td>\n",
       "      <td>1</td>\n",
       "      <td>1</td>\n",
       "      <td>42.096389</td>\n",
       "      <td>-87.936797</td>\n",
       "    </tr>\n",
       "    <tr>\n",
       "      <th>9</th>\n",
       "      <td>@lovepucks @whitesox @CarlosRodon16 you're dumb</td>\n",
       "      <td>Sun Aug 07 23:49:50 +0000 2016</td>\n",
       "      <td>Chiraq</td>\n",
       "      <td>0</td>\n",
       "      <td>0</td>\n",
       "      <td>30.721196</td>\n",
       "      <td>75.172519</td>\n",
       "    </tr>\n",
       "    <tr>\n",
       "      <th>10</th>\n",
       "      <td>RT @CSNHayes: #WhiteSox back within nine after...</td>\n",
       "      <td>Sun Aug 07 23:48:07 +0000 2016</td>\n",
       "      <td>Chicago, Il</td>\n",
       "      <td>5</td>\n",
       "      <td>0</td>\n",
       "      <td>41.850027</td>\n",
       "      <td>-87.650046</td>\n",
       "    </tr>\n",
       "    <tr>\n",
       "      <th>11</th>\n",
       "      <td>RT @iamchrislane: Great time throwing out the ...</td>\n",
       "      <td>Sun Aug 07 23:46:58 +0000 2016</td>\n",
       "      <td>California/Oregon</td>\n",
       "      <td>76</td>\n",
       "      <td>0</td>\n",
       "      <td>42.391766</td>\n",
       "      <td>-122.855678</td>\n",
       "    </tr>\n",
       "    <tr>\n",
       "      <th>12</th>\n",
       "      <td>#Cards #Card 1990 Fleer #Chicago #WhiteSox Tea...</td>\n",
       "      <td>Sun Aug 07 23:46:18 +0000 2016</td>\n",
       "      <td>Chicago, IL</td>\n",
       "      <td>0</td>\n",
       "      <td>0</td>\n",
       "      <td>41.850027</td>\n",
       "      <td>-87.650046</td>\n",
       "    </tr>\n",
       "    <tr>\n",
       "      <th>13</th>\n",
       "      <td>#Sports #Goods Ozzie Guillen Chicago #WhiteSox...</td>\n",
       "      <td>Sun Aug 07 23:46:16 +0000 2016</td>\n",
       "      <td>Chicago, IL</td>\n",
       "      <td>0</td>\n",
       "      <td>0</td>\n",
       "      <td>41.850027</td>\n",
       "      <td>-87.650046</td>\n",
       "    </tr>\n",
       "    <tr>\n",
       "      <th>14</th>\n",
       "      <td>#MLB #BaseBall Men's CHICAGO #WhiteSox BASBALL...</td>\n",
       "      <td>Sun Aug 07 23:46:13 +0000 2016</td>\n",
       "      <td>Chicago, IL</td>\n",
       "      <td>0</td>\n",
       "      <td>0</td>\n",
       "      <td>41.850027</td>\n",
       "      <td>-87.650046</td>\n",
       "    </tr>\n",
       "    <tr>\n",
       "      <th>15</th>\n",
       "      <td>RT @whitesox: 3A State baseball champs, Lemont...</td>\n",
       "      <td>Sun Aug 07 23:45:53 +0000 2016</td>\n",
       "      <td>L-Town</td>\n",
       "      <td>72</td>\n",
       "      <td>0</td>\n",
       "      <td>40.825009</td>\n",
       "      <td>-97.308660</td>\n",
       "    </tr>\n",
       "    <tr>\n",
       "      <th>16</th>\n",
       "      <td>[Chicago Tribune] Robin Ventura on James Shiel...</td>\n",
       "      <td>Sun Aug 07 23:45:27 +0000 2016</td>\n",
       "      <td></td>\n",
       "      <td>0</td>\n",
       "      <td>0</td>\n",
       "      <td>NaN</td>\n",
       "      <td>NaN</td>\n",
       "    </tr>\n",
       "    <tr>\n",
       "      <th>17</th>\n",
       "      <td>RT @Lemont_Baseball: Thank you @whitesox for h...</td>\n",
       "      <td>Sun Aug 07 23:45:20 +0000 2016</td>\n",
       "      <td>L-Town</td>\n",
       "      <td>6</td>\n",
       "      <td>0</td>\n",
       "      <td>40.825009</td>\n",
       "      <td>-97.308660</td>\n",
       "    </tr>\n",
       "    <tr>\n",
       "      <th>18</th>\n",
       "      <td>RT @whitesox: Happy birthday, Tommy Kahnle! Sh...</td>\n",
       "      <td>Sun Aug 07 23:43:20 +0000 2016</td>\n",
       "      <td></td>\n",
       "      <td>31</td>\n",
       "      <td>0</td>\n",
       "      <td>NaN</td>\n",
       "      <td>NaN</td>\n",
       "    </tr>\n",
       "    <tr>\n",
       "      <th>19</th>\n",
       "      <td>Robin Ventura on James Shields' outing in 10-2...</td>\n",
       "      <td>Sun Aug 07 23:41:34 +0000 2016</td>\n",
       "      <td>Chicago, IL</td>\n",
       "      <td>0</td>\n",
       "      <td>0</td>\n",
       "      <td>41.850027</td>\n",
       "      <td>-87.650046</td>\n",
       "    </tr>\n",
       "  </tbody>\n",
       "</table>\n",
       "</div>"
      ],
      "text/plain": [
       "                                                 text  \\\n",
       "0   Last weekend Cubs game,  this weekend Sox game...   \n",
       "1   RT @whitesox: Happy birthday, Tommy Kahnle! Sh...   \n",
       "2   #Autograph GORDON BECKHAM #SignED #Chicago #Wh...   \n",
       "3   @socmediaisdumb @whitesox @FlavaFraz21 b/c he ...   \n",
       "4   RT @dailyherald: Machado flashes early power a...   \n",
       "5   @DisgustedNYer Yes I've definitely been follow...   \n",
       "6   @mlbtraderumors hey @whitesox take a chance. H...   \n",
       "7   RT @iamchrislane: Great time throwing out the ...   \n",
       "8   Machado flashes early power as Orioles roll ov...   \n",
       "9     @lovepucks @whitesox @CarlosRodon16 you're dumb   \n",
       "10  RT @CSNHayes: #WhiteSox back within nine after...   \n",
       "11  RT @iamchrislane: Great time throwing out the ...   \n",
       "12  #Cards #Card 1990 Fleer #Chicago #WhiteSox Tea...   \n",
       "13  #Sports #Goods Ozzie Guillen Chicago #WhiteSox...   \n",
       "14  #MLB #BaseBall Men's CHICAGO #WhiteSox BASBALL...   \n",
       "15  RT @whitesox: 3A State baseball champs, Lemont...   \n",
       "16  [Chicago Tribune] Robin Ventura on James Shiel...   \n",
       "17  RT @Lemont_Baseball: Thank you @whitesox for h...   \n",
       "18  RT @whitesox: Happy birthday, Tommy Kahnle! Sh...   \n",
       "19  Robin Ventura on James Shields' outing in 10-2...   \n",
       "\n",
       "                        created_at                    location  retweet_count  \\\n",
       "0   Sun Aug 07 23:59:05 +0000 2016                 Chicago, IL              0   \n",
       "1   Sun Aug 07 23:56:26 +0000 2016                                         31   \n",
       "2   Sun Aug 07 23:56:11 +0000 2016                 Chicago, IL              0   \n",
       "3   Sun Aug 07 23:55:19 +0000 2016  Jersey..not the guido part              0   \n",
       "4   Sun Aug 07 23:54:26 +0000 2016                                          1   \n",
       "5   Sun Aug 07 23:53:48 +0000 2016                                          0   \n",
       "6   Sun Aug 07 23:53:27 +0000 2016              Metro City USA              0   \n",
       "7   Sun Aug 07 23:52:45 +0000 2016           Kernersville , NC             76   \n",
       "8   Sun Aug 07 23:52:05 +0000 2016             Chicago Suburbs              1   \n",
       "9   Sun Aug 07 23:49:50 +0000 2016                      Chiraq              0   \n",
       "10  Sun Aug 07 23:48:07 +0000 2016                 Chicago, Il              5   \n",
       "11  Sun Aug 07 23:46:58 +0000 2016           California/Oregon             76   \n",
       "12  Sun Aug 07 23:46:18 +0000 2016                 Chicago, IL              0   \n",
       "13  Sun Aug 07 23:46:16 +0000 2016                 Chicago, IL              0   \n",
       "14  Sun Aug 07 23:46:13 +0000 2016                 Chicago, IL              0   \n",
       "15  Sun Aug 07 23:45:53 +0000 2016                      L-Town             72   \n",
       "16  Sun Aug 07 23:45:27 +0000 2016                                          0   \n",
       "17  Sun Aug 07 23:45:20 +0000 2016                      L-Town              6   \n",
       "18  Sun Aug 07 23:43:20 +0000 2016                                         31   \n",
       "19  Sun Aug 07 23:41:34 +0000 2016                 Chicago, IL              0   \n",
       "\n",
       "    favorite_count   latitude   longitude  \n",
       "0                1  41.850027  -87.650046  \n",
       "1                0        NaN         NaN  \n",
       "2                0  41.850027  -87.650046  \n",
       "3                0        NaN         NaN  \n",
       "4                0        NaN         NaN  \n",
       "5                0        NaN         NaN  \n",
       "6                2  34.139390 -118.361967  \n",
       "7                0  36.119858  -80.073650  \n",
       "8                1  42.096389  -87.936797  \n",
       "9                0  30.721196   75.172519  \n",
       "10               0  41.850027  -87.650046  \n",
       "11               0  42.391766 -122.855678  \n",
       "12               0  41.850027  -87.650046  \n",
       "13               0  41.850027  -87.650046  \n",
       "14               0  41.850027  -87.650046  \n",
       "15               0  40.825009  -97.308660  \n",
       "16               0        NaN         NaN  \n",
       "17               0  40.825009  -97.308660  \n",
       "18               0        NaN         NaN  \n",
       "19               0  41.850027  -87.650046  "
      ]
     },
     "execution_count": 19,
     "metadata": {},
     "output_type": "execute_result"
    }
   ],
   "source": [
    "df_whitesox.head(20)"
   ]
  },
  {
   "cell_type": "code",
   "execution_count": 30,
   "metadata": {
    "collapsed": false
   },
   "outputs": [],
   "source": [
    "#g = geocoder.arcgis(df_redsox['location'][3])\n",
    "#g.latlng"
   ]
  },
  {
   "cell_type": "code",
   "execution_count": 31,
   "metadata": {
    "collapsed": false
   },
   "outputs": [],
   "source": [
    "#df_redsox['location'][:10].apply(geocoder.arcgis)"
   ]
  },
  {
   "cell_type": "code",
   "execution_count": 32,
   "metadata": {
    "collapsed": false
   },
   "outputs": [],
   "source": [
    "#print(len(lats))\n",
    "#print(len(longs))"
   ]
  },
  {
   "cell_type": "code",
   "execution_count": 33,
   "metadata": {
    "collapsed": false
   },
   "outputs": [],
   "source": [
    "#df_redsox['latitude'] = pd.Series(lats)\n",
    "#df_redsox['longitude'] = pd.Series(longs)"
   ]
  },
  {
   "cell_type": "code",
   "execution_count": 20,
   "metadata": {
    "collapsed": false
   },
   "outputs": [
    {
     "data": {
      "text/plain": [
       "dtype('O')"
      ]
     },
     "execution_count": 20,
     "metadata": {},
     "output_type": "execute_result"
    }
   ],
   "source": [
    "df_whitesox['created_at'].dtypes"
   ]
  },
  {
   "cell_type": "code",
   "execution_count": 21,
   "metadata": {
    "collapsed": false
   },
   "outputs": [
    {
     "data": {
      "text/plain": [
       "0    Sun Aug 07 23:59:05 +0000 2016\n",
       "1    Sun Aug 07 23:56:26 +0000 2016\n",
       "2    Sun Aug 07 23:56:11 +0000 2016\n",
       "3    Sun Aug 07 23:55:19 +0000 2016\n",
       "4    Sun Aug 07 23:54:26 +0000 2016\n",
       "Name: created_at, dtype: object"
      ]
     },
     "execution_count": 21,
     "metadata": {},
     "output_type": "execute_result"
    }
   ],
   "source": [
    "df_whitesox['created_at'].head()"
   ]
  },
  {
   "cell_type": "code",
   "execution_count": 22,
   "metadata": {
    "collapsed": false
   },
   "outputs": [
    {
     "name": "stderr",
     "output_type": "stream",
     "text": [
      "//anaconda/lib/python3.5/site-packages/ipykernel/__main__.py:2: SettingWithCopyWarning: \n",
      "A value is trying to be set on a copy of a slice from a DataFrame.\n",
      "Try using .loc[row_indexer,col_indexer] = value instead\n",
      "\n",
      "See the caveats in the documentation: http://pandas.pydata.org/pandas-docs/stable/indexing.html#indexing-view-versus-copy\n",
      "  from ipykernel import kernelapp as app\n",
      "//anaconda/lib/python3.5/site-packages/ipykernel/__main__.py:3: SettingWithCopyWarning: \n",
      "A value is trying to be set on a copy of a slice from a DataFrame.\n",
      "Try using .loc[row_indexer,col_indexer] = value instead\n",
      "\n",
      "See the caveats in the documentation: http://pandas.pydata.org/pandas-docs/stable/indexing.html#indexing-view-versus-copy\n",
      "  app.launch_new_instance()\n"
     ]
    }
   ],
   "source": [
    "# First, parse to datetime, then get YYYY-MM-DD format.\n",
    "df_whitesox['time'] = pd.to_datetime(df_whitesox['created_at'], format='%a %b %d %H:%M:%S +0000 %Y')\n",
    "df_whitesox['time'] = pd.to_datetime(df_whitesox['time'].dt.date, format='%Y-%m-%d')\n",
    "#date = datetime.strptime('Thu Apr 23 13:38:19 +0000 2009','%a %b %d %H:%M:%S +0000 %Y')\n",
    "#date = datetime.strftime(date, '%Y %d %m')\n",
    "#type(date)\n",
    "#df_redsox['time'].dtypes"
   ]
  },
  {
   "cell_type": "code",
   "execution_count": 23,
   "metadata": {
    "collapsed": false
   },
   "outputs": [
    {
     "data": {
      "text/html": [
       "<div>\n",
       "<table border=\"1\" class=\"dataframe\">\n",
       "  <thead>\n",
       "    <tr style=\"text-align: right;\">\n",
       "      <th></th>\n",
       "      <th>text</th>\n",
       "      <th>created_at</th>\n",
       "      <th>location</th>\n",
       "      <th>retweet_count</th>\n",
       "      <th>favorite_count</th>\n",
       "      <th>latitude</th>\n",
       "      <th>longitude</th>\n",
       "      <th>time</th>\n",
       "    </tr>\n",
       "  </thead>\n",
       "  <tbody>\n",
       "    <tr>\n",
       "      <th>0</th>\n",
       "      <td>Last weekend Cubs game,  this weekend Sox game...</td>\n",
       "      <td>Sun Aug 07 23:59:05 +0000 2016</td>\n",
       "      <td>Chicago, IL</td>\n",
       "      <td>0</td>\n",
       "      <td>1</td>\n",
       "      <td>41.850027</td>\n",
       "      <td>-87.650046</td>\n",
       "      <td>2016-08-07</td>\n",
       "    </tr>\n",
       "    <tr>\n",
       "      <th>1</th>\n",
       "      <td>RT @whitesox: Happy birthday, Tommy Kahnle! Sh...</td>\n",
       "      <td>Sun Aug 07 23:56:26 +0000 2016</td>\n",
       "      <td></td>\n",
       "      <td>31</td>\n",
       "      <td>0</td>\n",
       "      <td>NaN</td>\n",
       "      <td>NaN</td>\n",
       "      <td>2016-08-07</td>\n",
       "    </tr>\n",
       "    <tr>\n",
       "      <th>2</th>\n",
       "      <td>#Autograph GORDON BECKHAM #SignED #Chicago #Wh...</td>\n",
       "      <td>Sun Aug 07 23:56:11 +0000 2016</td>\n",
       "      <td>Chicago, IL</td>\n",
       "      <td>0</td>\n",
       "      <td>0</td>\n",
       "      <td>41.850027</td>\n",
       "      <td>-87.650046</td>\n",
       "      <td>2016-08-07</td>\n",
       "    </tr>\n",
       "    <tr>\n",
       "      <th>3</th>\n",
       "      <td>@socmediaisdumb @whitesox @FlavaFraz21 b/c he ...</td>\n",
       "      <td>Sun Aug 07 23:55:19 +0000 2016</td>\n",
       "      <td>Jersey..not the guido part</td>\n",
       "      <td>0</td>\n",
       "      <td>0</td>\n",
       "      <td>NaN</td>\n",
       "      <td>NaN</td>\n",
       "      <td>2016-08-07</td>\n",
       "    </tr>\n",
       "    <tr>\n",
       "      <th>4</th>\n",
       "      <td>RT @dailyherald: Machado flashes early power a...</td>\n",
       "      <td>Sun Aug 07 23:54:26 +0000 2016</td>\n",
       "      <td></td>\n",
       "      <td>1</td>\n",
       "      <td>0</td>\n",
       "      <td>NaN</td>\n",
       "      <td>NaN</td>\n",
       "      <td>2016-08-07</td>\n",
       "    </tr>\n",
       "    <tr>\n",
       "      <th>5</th>\n",
       "      <td>@DisgustedNYer Yes I've definitely been follow...</td>\n",
       "      <td>Sun Aug 07 23:53:48 +0000 2016</td>\n",
       "      <td></td>\n",
       "      <td>0</td>\n",
       "      <td>0</td>\n",
       "      <td>NaN</td>\n",
       "      <td>NaN</td>\n",
       "      <td>2016-08-07</td>\n",
       "    </tr>\n",
       "    <tr>\n",
       "      <th>6</th>\n",
       "      <td>@mlbtraderumors hey @whitesox take a chance. H...</td>\n",
       "      <td>Sun Aug 07 23:53:27 +0000 2016</td>\n",
       "      <td>Metro City USA</td>\n",
       "      <td>0</td>\n",
       "      <td>2</td>\n",
       "      <td>34.139390</td>\n",
       "      <td>-118.361967</td>\n",
       "      <td>2016-08-07</td>\n",
       "    </tr>\n",
       "    <tr>\n",
       "      <th>7</th>\n",
       "      <td>RT @iamchrislane: Great time throwing out the ...</td>\n",
       "      <td>Sun Aug 07 23:52:45 +0000 2016</td>\n",
       "      <td>Kernersville , NC</td>\n",
       "      <td>76</td>\n",
       "      <td>0</td>\n",
       "      <td>36.119858</td>\n",
       "      <td>-80.073650</td>\n",
       "      <td>2016-08-07</td>\n",
       "    </tr>\n",
       "    <tr>\n",
       "      <th>8</th>\n",
       "      <td>Machado flashes early power as Orioles roll ov...</td>\n",
       "      <td>Sun Aug 07 23:52:05 +0000 2016</td>\n",
       "      <td>Chicago Suburbs</td>\n",
       "      <td>1</td>\n",
       "      <td>1</td>\n",
       "      <td>42.096389</td>\n",
       "      <td>-87.936797</td>\n",
       "      <td>2016-08-07</td>\n",
       "    </tr>\n",
       "    <tr>\n",
       "      <th>9</th>\n",
       "      <td>@lovepucks @whitesox @CarlosRodon16 you're dumb</td>\n",
       "      <td>Sun Aug 07 23:49:50 +0000 2016</td>\n",
       "      <td>Chiraq</td>\n",
       "      <td>0</td>\n",
       "      <td>0</td>\n",
       "      <td>30.721196</td>\n",
       "      <td>75.172519</td>\n",
       "      <td>2016-08-07</td>\n",
       "    </tr>\n",
       "  </tbody>\n",
       "</table>\n",
       "</div>"
      ],
      "text/plain": [
       "                                                text  \\\n",
       "0  Last weekend Cubs game,  this weekend Sox game...   \n",
       "1  RT @whitesox: Happy birthday, Tommy Kahnle! Sh...   \n",
       "2  #Autograph GORDON BECKHAM #SignED #Chicago #Wh...   \n",
       "3  @socmediaisdumb @whitesox @FlavaFraz21 b/c he ...   \n",
       "4  RT @dailyherald: Machado flashes early power a...   \n",
       "5  @DisgustedNYer Yes I've definitely been follow...   \n",
       "6  @mlbtraderumors hey @whitesox take a chance. H...   \n",
       "7  RT @iamchrislane: Great time throwing out the ...   \n",
       "8  Machado flashes early power as Orioles roll ov...   \n",
       "9    @lovepucks @whitesox @CarlosRodon16 you're dumb   \n",
       "\n",
       "                       created_at                    location  retweet_count  \\\n",
       "0  Sun Aug 07 23:59:05 +0000 2016                 Chicago, IL              0   \n",
       "1  Sun Aug 07 23:56:26 +0000 2016                                         31   \n",
       "2  Sun Aug 07 23:56:11 +0000 2016                 Chicago, IL              0   \n",
       "3  Sun Aug 07 23:55:19 +0000 2016  Jersey..not the guido part              0   \n",
       "4  Sun Aug 07 23:54:26 +0000 2016                                          1   \n",
       "5  Sun Aug 07 23:53:48 +0000 2016                                          0   \n",
       "6  Sun Aug 07 23:53:27 +0000 2016              Metro City USA              0   \n",
       "7  Sun Aug 07 23:52:45 +0000 2016           Kernersville , NC             76   \n",
       "8  Sun Aug 07 23:52:05 +0000 2016             Chicago Suburbs              1   \n",
       "9  Sun Aug 07 23:49:50 +0000 2016                      Chiraq              0   \n",
       "\n",
       "   favorite_count   latitude   longitude       time  \n",
       "0               1  41.850027  -87.650046 2016-08-07  \n",
       "1               0        NaN         NaN 2016-08-07  \n",
       "2               0  41.850027  -87.650046 2016-08-07  \n",
       "3               0        NaN         NaN 2016-08-07  \n",
       "4               0        NaN         NaN 2016-08-07  \n",
       "5               0        NaN         NaN 2016-08-07  \n",
       "6               2  34.139390 -118.361967 2016-08-07  \n",
       "7               0  36.119858  -80.073650 2016-08-07  \n",
       "8               1  42.096389  -87.936797 2016-08-07  \n",
       "9               0  30.721196   75.172519 2016-08-07  "
      ]
     },
     "execution_count": 23,
     "metadata": {},
     "output_type": "execute_result"
    }
   ],
   "source": [
    "df_whitesox.head(10)"
   ]
  },
  {
   "cell_type": "markdown",
   "metadata": {},
   "source": [
    "## Sentiment Analysis ##"
   ]
  },
  {
   "cell_type": "code",
   "execution_count": 24,
   "metadata": {
    "collapsed": false
   },
   "outputs": [
    {
     "data": {
      "text/html": [
       "<div>\n",
       "<table border=\"1\" class=\"dataframe\">\n",
       "  <thead>\n",
       "    <tr style=\"text-align: right;\">\n",
       "      <th></th>\n",
       "      <th>text</th>\n",
       "      <th>created_at</th>\n",
       "      <th>location</th>\n",
       "      <th>retweet_count</th>\n",
       "      <th>favorite_count</th>\n",
       "      <th>latitude</th>\n",
       "      <th>longitude</th>\n",
       "      <th>time</th>\n",
       "    </tr>\n",
       "  </thead>\n",
       "  <tbody>\n",
       "    <tr>\n",
       "      <th>0</th>\n",
       "      <td>Last weekend Cubs game,  this weekend Sox game...</td>\n",
       "      <td>Sun Aug 07 23:59:05 +0000 2016</td>\n",
       "      <td>Chicago, IL</td>\n",
       "      <td>0</td>\n",
       "      <td>1</td>\n",
       "      <td>41.850027</td>\n",
       "      <td>-87.650046</td>\n",
       "      <td>2016-08-07</td>\n",
       "    </tr>\n",
       "    <tr>\n",
       "      <th>1</th>\n",
       "      <td>RT @whitesox: Happy birthday, Tommy Kahnle! Sh...</td>\n",
       "      <td>Sun Aug 07 23:56:26 +0000 2016</td>\n",
       "      <td></td>\n",
       "      <td>31</td>\n",
       "      <td>0</td>\n",
       "      <td>NaN</td>\n",
       "      <td>NaN</td>\n",
       "      <td>2016-08-07</td>\n",
       "    </tr>\n",
       "    <tr>\n",
       "      <th>2</th>\n",
       "      <td>#Autograph GORDON BECKHAM #SignED #Chicago #Wh...</td>\n",
       "      <td>Sun Aug 07 23:56:11 +0000 2016</td>\n",
       "      <td>Chicago, IL</td>\n",
       "      <td>0</td>\n",
       "      <td>0</td>\n",
       "      <td>41.850027</td>\n",
       "      <td>-87.650046</td>\n",
       "      <td>2016-08-07</td>\n",
       "    </tr>\n",
       "    <tr>\n",
       "      <th>3</th>\n",
       "      <td>@socmediaisdumb @whitesox @FlavaFraz21 b/c he ...</td>\n",
       "      <td>Sun Aug 07 23:55:19 +0000 2016</td>\n",
       "      <td>Jersey..not the guido part</td>\n",
       "      <td>0</td>\n",
       "      <td>0</td>\n",
       "      <td>NaN</td>\n",
       "      <td>NaN</td>\n",
       "      <td>2016-08-07</td>\n",
       "    </tr>\n",
       "    <tr>\n",
       "      <th>4</th>\n",
       "      <td>RT @dailyherald: Machado flashes early power a...</td>\n",
       "      <td>Sun Aug 07 23:54:26 +0000 2016</td>\n",
       "      <td></td>\n",
       "      <td>1</td>\n",
       "      <td>0</td>\n",
       "      <td>NaN</td>\n",
       "      <td>NaN</td>\n",
       "      <td>2016-08-07</td>\n",
       "    </tr>\n",
       "  </tbody>\n",
       "</table>\n",
       "</div>"
      ],
      "text/plain": [
       "                                                text  \\\n",
       "0  Last weekend Cubs game,  this weekend Sox game...   \n",
       "1  RT @whitesox: Happy birthday, Tommy Kahnle! Sh...   \n",
       "2  #Autograph GORDON BECKHAM #SignED #Chicago #Wh...   \n",
       "3  @socmediaisdumb @whitesox @FlavaFraz21 b/c he ...   \n",
       "4  RT @dailyherald: Machado flashes early power a...   \n",
       "\n",
       "                       created_at                    location  retweet_count  \\\n",
       "0  Sun Aug 07 23:59:05 +0000 2016                 Chicago, IL              0   \n",
       "1  Sun Aug 07 23:56:26 +0000 2016                                         31   \n",
       "2  Sun Aug 07 23:56:11 +0000 2016                 Chicago, IL              0   \n",
       "3  Sun Aug 07 23:55:19 +0000 2016  Jersey..not the guido part              0   \n",
       "4  Sun Aug 07 23:54:26 +0000 2016                                          1   \n",
       "\n",
       "   favorite_count   latitude  longitude       time  \n",
       "0               1  41.850027 -87.650046 2016-08-07  \n",
       "1               0        NaN        NaN 2016-08-07  \n",
       "2               0  41.850027 -87.650046 2016-08-07  \n",
       "3               0        NaN        NaN 2016-08-07  \n",
       "4               0        NaN        NaN 2016-08-07  "
      ]
     },
     "execution_count": 24,
     "metadata": {},
     "output_type": "execute_result"
    }
   ],
   "source": [
    "df_whitesox.head()"
   ]
  },
  {
   "cell_type": "code",
   "execution_count": 25,
   "metadata": {
    "collapsed": true
   },
   "outputs": [],
   "source": [
    "from textblob import TextBlob"
   ]
  },
  {
   "cell_type": "code",
   "execution_count": 26,
   "metadata": {
    "collapsed": false
   },
   "outputs": [],
   "source": [
    "tweets = df_whitesox['text']\n",
    "sentiments = []\n",
    "for tweet in tweets:\n",
    "    wiki = TextBlob(tweet)\n",
    "    sentiments.append(wiki.sentiment.polarity)"
   ]
  },
  {
   "cell_type": "code",
   "execution_count": 27,
   "metadata": {
    "collapsed": false
   },
   "outputs": [
    {
     "name": "stderr",
     "output_type": "stream",
     "text": [
      "//anaconda/lib/python3.5/site-packages/ipykernel/__main__.py:1: SettingWithCopyWarning: \n",
      "A value is trying to be set on a copy of a slice from a DataFrame.\n",
      "Try using .loc[row_indexer,col_indexer] = value instead\n",
      "\n",
      "See the caveats in the documentation: http://pandas.pydata.org/pandas-docs/stable/indexing.html#indexing-view-versus-copy\n",
      "  if __name__ == '__main__':\n"
     ]
    }
   ],
   "source": [
    "df_whitesox['sentiment'] = pd.Series(sentiments)"
   ]
  },
  {
   "cell_type": "code",
   "execution_count": 28,
   "metadata": {
    "collapsed": false
   },
   "outputs": [
    {
     "data": {
      "text/html": [
       "<div>\n",
       "<table border=\"1\" class=\"dataframe\">\n",
       "  <thead>\n",
       "    <tr style=\"text-align: right;\">\n",
       "      <th></th>\n",
       "      <th>text</th>\n",
       "      <th>created_at</th>\n",
       "      <th>location</th>\n",
       "      <th>retweet_count</th>\n",
       "      <th>favorite_count</th>\n",
       "      <th>latitude</th>\n",
       "      <th>longitude</th>\n",
       "      <th>time</th>\n",
       "      <th>sentiment</th>\n",
       "    </tr>\n",
       "  </thead>\n",
       "  <tbody>\n",
       "    <tr>\n",
       "      <th>0</th>\n",
       "      <td>Last weekend Cubs game,  this weekend Sox game...</td>\n",
       "      <td>Sun Aug 07 23:59:05 +0000 2016</td>\n",
       "      <td>Chicago, IL</td>\n",
       "      <td>0</td>\n",
       "      <td>1</td>\n",
       "      <td>41.850027</td>\n",
       "      <td>-87.650046</td>\n",
       "      <td>2016-08-07</td>\n",
       "      <td>-0.060</td>\n",
       "    </tr>\n",
       "    <tr>\n",
       "      <th>1</th>\n",
       "      <td>RT @whitesox: Happy birthday, Tommy Kahnle! Sh...</td>\n",
       "      <td>Sun Aug 07 23:56:26 +0000 2016</td>\n",
       "      <td></td>\n",
       "      <td>31</td>\n",
       "      <td>0</td>\n",
       "      <td>NaN</td>\n",
       "      <td>NaN</td>\n",
       "      <td>2016-08-07</td>\n",
       "      <td>0.750</td>\n",
       "    </tr>\n",
       "    <tr>\n",
       "      <th>2</th>\n",
       "      <td>#Autograph GORDON BECKHAM #SignED #Chicago #Wh...</td>\n",
       "      <td>Sun Aug 07 23:56:11 +0000 2016</td>\n",
       "      <td>Chicago, IL</td>\n",
       "      <td>0</td>\n",
       "      <td>0</td>\n",
       "      <td>41.850027</td>\n",
       "      <td>-87.650046</td>\n",
       "      <td>2016-08-07</td>\n",
       "      <td>0.375</td>\n",
       "    </tr>\n",
       "    <tr>\n",
       "      <th>3</th>\n",
       "      <td>@socmediaisdumb @whitesox @FlavaFraz21 b/c he ...</td>\n",
       "      <td>Sun Aug 07 23:55:19 +0000 2016</td>\n",
       "      <td>Jersey..not the guido part</td>\n",
       "      <td>0</td>\n",
       "      <td>0</td>\n",
       "      <td>NaN</td>\n",
       "      <td>NaN</td>\n",
       "      <td>2016-08-07</td>\n",
       "      <td>0.700</td>\n",
       "    </tr>\n",
       "    <tr>\n",
       "      <th>4</th>\n",
       "      <td>RT @dailyherald: Machado flashes early power a...</td>\n",
       "      <td>Sun Aug 07 23:54:26 +0000 2016</td>\n",
       "      <td></td>\n",
       "      <td>1</td>\n",
       "      <td>0</td>\n",
       "      <td>NaN</td>\n",
       "      <td>NaN</td>\n",
       "      <td>2016-08-07</td>\n",
       "      <td>0.100</td>\n",
       "    </tr>\n",
       "  </tbody>\n",
       "</table>\n",
       "</div>"
      ],
      "text/plain": [
       "                                                text  \\\n",
       "0  Last weekend Cubs game,  this weekend Sox game...   \n",
       "1  RT @whitesox: Happy birthday, Tommy Kahnle! Sh...   \n",
       "2  #Autograph GORDON BECKHAM #SignED #Chicago #Wh...   \n",
       "3  @socmediaisdumb @whitesox @FlavaFraz21 b/c he ...   \n",
       "4  RT @dailyherald: Machado flashes early power a...   \n",
       "\n",
       "                       created_at                    location  retweet_count  \\\n",
       "0  Sun Aug 07 23:59:05 +0000 2016                 Chicago, IL              0   \n",
       "1  Sun Aug 07 23:56:26 +0000 2016                                         31   \n",
       "2  Sun Aug 07 23:56:11 +0000 2016                 Chicago, IL              0   \n",
       "3  Sun Aug 07 23:55:19 +0000 2016  Jersey..not the guido part              0   \n",
       "4  Sun Aug 07 23:54:26 +0000 2016                                          1   \n",
       "\n",
       "   favorite_count   latitude  longitude       time  sentiment  \n",
       "0               1  41.850027 -87.650046 2016-08-07     -0.060  \n",
       "1               0        NaN        NaN 2016-08-07      0.750  \n",
       "2               0  41.850027 -87.650046 2016-08-07      0.375  \n",
       "3               0        NaN        NaN 2016-08-07      0.700  \n",
       "4               0        NaN        NaN 2016-08-07      0.100  "
      ]
     },
     "execution_count": 28,
     "metadata": {},
     "output_type": "execute_result"
    }
   ],
   "source": [
    "df_whitesox.head()"
   ]
  },
  {
   "cell_type": "code",
   "execution_count": 223,
   "metadata": {
    "collapsed": true
   },
   "outputs": [],
   "source": [
    "#df_redsox.to_csv('df_redsox.csv')"
   ]
  },
  {
   "cell_type": "code",
   "execution_count": 29,
   "metadata": {
    "collapsed": false
   },
   "outputs": [
    {
     "name": "stdout",
     "output_type": "stream",
     "text": [
      "41.85002711900046 -87.65004618299969\n"
     ]
    }
   ],
   "source": [
    "g = geocoder.arcgis('Chicago, IL')\n",
    "chicago_lat = g.latlng[0]\n",
    "chicago_long = g.latlng[1]\n",
    "print(chicago_lat, chicago_long)"
   ]
  },
  {
   "cell_type": "code",
   "execution_count": 30,
   "metadata": {
    "collapsed": false
   },
   "outputs": [],
   "source": [
    "import gpxpy.geo\n",
    "import math\n",
    "haversine_distances = []\n",
    "for i in range(df_whitesox.shape[0]):\n",
    "#dist = gpxpy.geo.haversine_distance(52.2296756, 21.0122287, 52.406374, 16.9251681)\n",
    "#print(dist)\n",
    "    if math.isnan(df_whitesox.iloc[i]['latitude']):\n",
    "        haversine_distances.append(np.nan)\n",
    "    else:\n",
    "        distance = gpxpy.geo.haversine_distance(chicago_lat, chicago_long, df_whitesox.iloc[i]['latitude'], df_whitesox.iloc[i]['longitude'])\n",
    "        haversine_distances.append(distance)"
   ]
  },
  {
   "cell_type": "code",
   "execution_count": 31,
   "metadata": {
    "collapsed": false
   },
   "outputs": [
    {
     "data": {
      "text/plain": [
       "10000"
      ]
     },
     "execution_count": 31,
     "metadata": {},
     "output_type": "execute_result"
    }
   ],
   "source": [
    "len(haversine_distances)"
   ]
  },
  {
   "cell_type": "code",
   "execution_count": 32,
   "metadata": {
    "collapsed": false
   },
   "outputs": [
    {
     "name": "stderr",
     "output_type": "stream",
     "text": [
      "//anaconda/lib/python3.5/site-packages/ipykernel/__main__.py:1: SettingWithCopyWarning: \n",
      "A value is trying to be set on a copy of a slice from a DataFrame.\n",
      "Try using .loc[row_indexer,col_indexer] = value instead\n",
      "\n",
      "See the caveats in the documentation: http://pandas.pydata.org/pandas-docs/stable/indexing.html#indexing-view-versus-copy\n",
      "  if __name__ == '__main__':\n"
     ]
    }
   ],
   "source": [
    "df_whitesox['hav_distance'] = pd.Series(haversine_distances)"
   ]
  },
  {
   "cell_type": "code",
   "execution_count": 33,
   "metadata": {
    "collapsed": false
   },
   "outputs": [
    {
     "data": {
      "text/html": [
       "<div>\n",
       "<table border=\"1\" class=\"dataframe\">\n",
       "  <thead>\n",
       "    <tr style=\"text-align: right;\">\n",
       "      <th></th>\n",
       "      <th>text</th>\n",
       "      <th>created_at</th>\n",
       "      <th>location</th>\n",
       "      <th>retweet_count</th>\n",
       "      <th>favorite_count</th>\n",
       "      <th>latitude</th>\n",
       "      <th>longitude</th>\n",
       "      <th>time</th>\n",
       "      <th>sentiment</th>\n",
       "      <th>hav_distance</th>\n",
       "    </tr>\n",
       "  </thead>\n",
       "  <tbody>\n",
       "    <tr>\n",
       "      <th>0</th>\n",
       "      <td>Last weekend Cubs game,  this weekend Sox game...</td>\n",
       "      <td>Sun Aug 07 23:59:05 +0000 2016</td>\n",
       "      <td>Chicago, IL</td>\n",
       "      <td>0</td>\n",
       "      <td>1</td>\n",
       "      <td>41.850027</td>\n",
       "      <td>-87.650046</td>\n",
       "      <td>2016-08-07</td>\n",
       "      <td>-0.060</td>\n",
       "      <td>0.0</td>\n",
       "    </tr>\n",
       "    <tr>\n",
       "      <th>1</th>\n",
       "      <td>RT @whitesox: Happy birthday, Tommy Kahnle! Sh...</td>\n",
       "      <td>Sun Aug 07 23:56:26 +0000 2016</td>\n",
       "      <td></td>\n",
       "      <td>31</td>\n",
       "      <td>0</td>\n",
       "      <td>NaN</td>\n",
       "      <td>NaN</td>\n",
       "      <td>2016-08-07</td>\n",
       "      <td>0.750</td>\n",
       "      <td>NaN</td>\n",
       "    </tr>\n",
       "    <tr>\n",
       "      <th>2</th>\n",
       "      <td>#Autograph GORDON BECKHAM #SignED #Chicago #Wh...</td>\n",
       "      <td>Sun Aug 07 23:56:11 +0000 2016</td>\n",
       "      <td>Chicago, IL</td>\n",
       "      <td>0</td>\n",
       "      <td>0</td>\n",
       "      <td>41.850027</td>\n",
       "      <td>-87.650046</td>\n",
       "      <td>2016-08-07</td>\n",
       "      <td>0.375</td>\n",
       "      <td>0.0</td>\n",
       "    </tr>\n",
       "    <tr>\n",
       "      <th>3</th>\n",
       "      <td>@socmediaisdumb @whitesox @FlavaFraz21 b/c he ...</td>\n",
       "      <td>Sun Aug 07 23:55:19 +0000 2016</td>\n",
       "      <td>Jersey..not the guido part</td>\n",
       "      <td>0</td>\n",
       "      <td>0</td>\n",
       "      <td>NaN</td>\n",
       "      <td>NaN</td>\n",
       "      <td>2016-08-07</td>\n",
       "      <td>0.700</td>\n",
       "      <td>NaN</td>\n",
       "    </tr>\n",
       "    <tr>\n",
       "      <th>4</th>\n",
       "      <td>RT @dailyherald: Machado flashes early power a...</td>\n",
       "      <td>Sun Aug 07 23:54:26 +0000 2016</td>\n",
       "      <td></td>\n",
       "      <td>1</td>\n",
       "      <td>0</td>\n",
       "      <td>NaN</td>\n",
       "      <td>NaN</td>\n",
       "      <td>2016-08-07</td>\n",
       "      <td>0.100</td>\n",
       "      <td>NaN</td>\n",
       "    </tr>\n",
       "  </tbody>\n",
       "</table>\n",
       "</div>"
      ],
      "text/plain": [
       "                                                text  \\\n",
       "0  Last weekend Cubs game,  this weekend Sox game...   \n",
       "1  RT @whitesox: Happy birthday, Tommy Kahnle! Sh...   \n",
       "2  #Autograph GORDON BECKHAM #SignED #Chicago #Wh...   \n",
       "3  @socmediaisdumb @whitesox @FlavaFraz21 b/c he ...   \n",
       "4  RT @dailyherald: Machado flashes early power a...   \n",
       "\n",
       "                       created_at                    location  retweet_count  \\\n",
       "0  Sun Aug 07 23:59:05 +0000 2016                 Chicago, IL              0   \n",
       "1  Sun Aug 07 23:56:26 +0000 2016                                         31   \n",
       "2  Sun Aug 07 23:56:11 +0000 2016                 Chicago, IL              0   \n",
       "3  Sun Aug 07 23:55:19 +0000 2016  Jersey..not the guido part              0   \n",
       "4  Sun Aug 07 23:54:26 +0000 2016                                          1   \n",
       "\n",
       "   favorite_count   latitude  longitude       time  sentiment  hav_distance  \n",
       "0               1  41.850027 -87.650046 2016-08-07     -0.060           0.0  \n",
       "1               0        NaN        NaN 2016-08-07      0.750           NaN  \n",
       "2               0  41.850027 -87.650046 2016-08-07      0.375           0.0  \n",
       "3               0        NaN        NaN 2016-08-07      0.700           NaN  \n",
       "4               0        NaN        NaN 2016-08-07      0.100           NaN  "
      ]
     },
     "execution_count": 33,
     "metadata": {},
     "output_type": "execute_result"
    }
   ],
   "source": [
    "df_whitesox.head()"
   ]
  },
  {
   "cell_type": "code",
   "execution_count": 34,
   "metadata": {
    "collapsed": false
   },
   "outputs": [
    {
     "name": "stderr",
     "output_type": "stream",
     "text": [
      "//anaconda/lib/python3.5/site-packages/pandas/core/frame.py:2748: SettingWithCopyWarning: \n",
      "A value is trying to be set on a copy of a slice from a DataFrame\n",
      "\n",
      "See the caveats in the documentation: http://pandas.pydata.org/pandas-docs/stable/indexing.html#indexing-view-versus-copy\n",
      "  **kwargs)\n"
     ]
    }
   ],
   "source": [
    "df_whitesox.rename(columns={'time': 'dates'}, inplace=True)"
   ]
  },
  {
   "cell_type": "code",
   "execution_count": 35,
   "metadata": {
    "collapsed": false
   },
   "outputs": [
    {
     "data": {
      "text/html": [
       "<div>\n",
       "<table border=\"1\" class=\"dataframe\">\n",
       "  <thead>\n",
       "    <tr style=\"text-align: right;\">\n",
       "      <th></th>\n",
       "      <th>text</th>\n",
       "      <th>created_at</th>\n",
       "      <th>location</th>\n",
       "      <th>retweet_count</th>\n",
       "      <th>favorite_count</th>\n",
       "      <th>latitude</th>\n",
       "      <th>longitude</th>\n",
       "      <th>dates</th>\n",
       "      <th>sentiment</th>\n",
       "      <th>hav_distance</th>\n",
       "    </tr>\n",
       "  </thead>\n",
       "  <tbody>\n",
       "    <tr>\n",
       "      <th>0</th>\n",
       "      <td>Last weekend Cubs game,  this weekend Sox game...</td>\n",
       "      <td>Sun Aug 07 23:59:05 +0000 2016</td>\n",
       "      <td>Chicago, IL</td>\n",
       "      <td>0</td>\n",
       "      <td>1</td>\n",
       "      <td>41.850027</td>\n",
       "      <td>-87.650046</td>\n",
       "      <td>2016-08-07</td>\n",
       "      <td>-0.060</td>\n",
       "      <td>0.0</td>\n",
       "    </tr>\n",
       "    <tr>\n",
       "      <th>1</th>\n",
       "      <td>RT @whitesox: Happy birthday, Tommy Kahnle! Sh...</td>\n",
       "      <td>Sun Aug 07 23:56:26 +0000 2016</td>\n",
       "      <td></td>\n",
       "      <td>31</td>\n",
       "      <td>0</td>\n",
       "      <td>NaN</td>\n",
       "      <td>NaN</td>\n",
       "      <td>2016-08-07</td>\n",
       "      <td>0.750</td>\n",
       "      <td>NaN</td>\n",
       "    </tr>\n",
       "    <tr>\n",
       "      <th>2</th>\n",
       "      <td>#Autograph GORDON BECKHAM #SignED #Chicago #Wh...</td>\n",
       "      <td>Sun Aug 07 23:56:11 +0000 2016</td>\n",
       "      <td>Chicago, IL</td>\n",
       "      <td>0</td>\n",
       "      <td>0</td>\n",
       "      <td>41.850027</td>\n",
       "      <td>-87.650046</td>\n",
       "      <td>2016-08-07</td>\n",
       "      <td>0.375</td>\n",
       "      <td>0.0</td>\n",
       "    </tr>\n",
       "    <tr>\n",
       "      <th>3</th>\n",
       "      <td>@socmediaisdumb @whitesox @FlavaFraz21 b/c he ...</td>\n",
       "      <td>Sun Aug 07 23:55:19 +0000 2016</td>\n",
       "      <td>Jersey..not the guido part</td>\n",
       "      <td>0</td>\n",
       "      <td>0</td>\n",
       "      <td>NaN</td>\n",
       "      <td>NaN</td>\n",
       "      <td>2016-08-07</td>\n",
       "      <td>0.700</td>\n",
       "      <td>NaN</td>\n",
       "    </tr>\n",
       "    <tr>\n",
       "      <th>4</th>\n",
       "      <td>RT @dailyherald: Machado flashes early power a...</td>\n",
       "      <td>Sun Aug 07 23:54:26 +0000 2016</td>\n",
       "      <td></td>\n",
       "      <td>1</td>\n",
       "      <td>0</td>\n",
       "      <td>NaN</td>\n",
       "      <td>NaN</td>\n",
       "      <td>2016-08-07</td>\n",
       "      <td>0.100</td>\n",
       "      <td>NaN</td>\n",
       "    </tr>\n",
       "  </tbody>\n",
       "</table>\n",
       "</div>"
      ],
      "text/plain": [
       "                                                text  \\\n",
       "0  Last weekend Cubs game,  this weekend Sox game...   \n",
       "1  RT @whitesox: Happy birthday, Tommy Kahnle! Sh...   \n",
       "2  #Autograph GORDON BECKHAM #SignED #Chicago #Wh...   \n",
       "3  @socmediaisdumb @whitesox @FlavaFraz21 b/c he ...   \n",
       "4  RT @dailyherald: Machado flashes early power a...   \n",
       "\n",
       "                       created_at                    location  retweet_count  \\\n",
       "0  Sun Aug 07 23:59:05 +0000 2016                 Chicago, IL              0   \n",
       "1  Sun Aug 07 23:56:26 +0000 2016                                         31   \n",
       "2  Sun Aug 07 23:56:11 +0000 2016                 Chicago, IL              0   \n",
       "3  Sun Aug 07 23:55:19 +0000 2016  Jersey..not the guido part              0   \n",
       "4  Sun Aug 07 23:54:26 +0000 2016                                          1   \n",
       "\n",
       "   favorite_count   latitude  longitude      dates  sentiment  hav_distance  \n",
       "0               1  41.850027 -87.650046 2016-08-07     -0.060           0.0  \n",
       "1               0        NaN        NaN 2016-08-07      0.750           NaN  \n",
       "2               0  41.850027 -87.650046 2016-08-07      0.375           0.0  \n",
       "3               0        NaN        NaN 2016-08-07      0.700           NaN  \n",
       "4               0        NaN        NaN 2016-08-07      0.100           NaN  "
      ]
     },
     "execution_count": 35,
     "metadata": {},
     "output_type": "execute_result"
    }
   ],
   "source": [
    "df_whitesox.head()"
   ]
  },
  {
   "cell_type": "code",
   "execution_count": 36,
   "metadata": {
    "collapsed": true
   },
   "outputs": [],
   "source": [
    "outcome_by_date = {\n",
    "    '2016-08-07 00:00:00': 'Loss',\n",
    "    '2016-08-08 00:00:00': 'No Game',\n",
    "    '2016-08-09 00:00:00': 'Win',\n",
    "    '2016-08-10 00:00:00': 'Loss',\n",
    "    '2016-08-11 00:00:00': 'Loss',\n",
    "    '2016-08-12 00:00:00': 'Win',\n",
    "    '2016-08-13 00:00:00': 'Win',\n",
    "    '2016-08-14 00:00:00': 'Loss',\n",
    "    '2016-08-15 00:00:00': 'No Game',\n",
    "    '2016-08-16 00:00:00': 'Loss'\n",
    "}"
   ]
  },
  {
   "cell_type": "code",
   "execution_count": 37,
   "metadata": {
    "collapsed": false
   },
   "outputs": [
    {
     "name": "stderr",
     "output_type": "stream",
     "text": [
      "//anaconda/lib/python3.5/site-packages/ipykernel/__main__.py:2: SettingWithCopyWarning: \n",
      "A value is trying to be set on a copy of a slice from a DataFrame.\n",
      "Try using .loc[row_indexer,col_indexer] = value instead\n",
      "\n",
      "See the caveats in the documentation: http://pandas.pydata.org/pandas-docs/stable/indexing.html#indexing-view-versus-copy\n",
      "  from ipykernel import kernelapp as app\n"
     ]
    }
   ],
   "source": [
    "# Apply outcome values to new column.\n",
    "df_whitesox['outcome'] = df_whitesox['dates'].apply(lambda x: outcome_by_date[str(x)])"
   ]
  },
  {
   "cell_type": "code",
   "execution_count": 38,
   "metadata": {
    "collapsed": false
   },
   "outputs": [
    {
     "data": {
      "text/html": [
       "<div>\n",
       "<table border=\"1\" class=\"dataframe\">\n",
       "  <thead>\n",
       "    <tr style=\"text-align: right;\">\n",
       "      <th></th>\n",
       "      <th>text</th>\n",
       "      <th>created_at</th>\n",
       "      <th>location</th>\n",
       "      <th>retweet_count</th>\n",
       "      <th>favorite_count</th>\n",
       "      <th>latitude</th>\n",
       "      <th>longitude</th>\n",
       "      <th>dates</th>\n",
       "      <th>sentiment</th>\n",
       "      <th>hav_distance</th>\n",
       "      <th>outcome</th>\n",
       "    </tr>\n",
       "  </thead>\n",
       "  <tbody>\n",
       "    <tr>\n",
       "      <th>0</th>\n",
       "      <td>Last weekend Cubs game,  this weekend Sox game...</td>\n",
       "      <td>Sun Aug 07 23:59:05 +0000 2016</td>\n",
       "      <td>Chicago, IL</td>\n",
       "      <td>0</td>\n",
       "      <td>1</td>\n",
       "      <td>41.850027</td>\n",
       "      <td>-87.650046</td>\n",
       "      <td>2016-08-07</td>\n",
       "      <td>-0.060</td>\n",
       "      <td>0.0</td>\n",
       "      <td>Loss</td>\n",
       "    </tr>\n",
       "    <tr>\n",
       "      <th>1</th>\n",
       "      <td>RT @whitesox: Happy birthday, Tommy Kahnle! Sh...</td>\n",
       "      <td>Sun Aug 07 23:56:26 +0000 2016</td>\n",
       "      <td></td>\n",
       "      <td>31</td>\n",
       "      <td>0</td>\n",
       "      <td>NaN</td>\n",
       "      <td>NaN</td>\n",
       "      <td>2016-08-07</td>\n",
       "      <td>0.750</td>\n",
       "      <td>NaN</td>\n",
       "      <td>Loss</td>\n",
       "    </tr>\n",
       "    <tr>\n",
       "      <th>2</th>\n",
       "      <td>#Autograph GORDON BECKHAM #SignED #Chicago #Wh...</td>\n",
       "      <td>Sun Aug 07 23:56:11 +0000 2016</td>\n",
       "      <td>Chicago, IL</td>\n",
       "      <td>0</td>\n",
       "      <td>0</td>\n",
       "      <td>41.850027</td>\n",
       "      <td>-87.650046</td>\n",
       "      <td>2016-08-07</td>\n",
       "      <td>0.375</td>\n",
       "      <td>0.0</td>\n",
       "      <td>Loss</td>\n",
       "    </tr>\n",
       "    <tr>\n",
       "      <th>3</th>\n",
       "      <td>@socmediaisdumb @whitesox @FlavaFraz21 b/c he ...</td>\n",
       "      <td>Sun Aug 07 23:55:19 +0000 2016</td>\n",
       "      <td>Jersey..not the guido part</td>\n",
       "      <td>0</td>\n",
       "      <td>0</td>\n",
       "      <td>NaN</td>\n",
       "      <td>NaN</td>\n",
       "      <td>2016-08-07</td>\n",
       "      <td>0.700</td>\n",
       "      <td>NaN</td>\n",
       "      <td>Loss</td>\n",
       "    </tr>\n",
       "    <tr>\n",
       "      <th>4</th>\n",
       "      <td>RT @dailyherald: Machado flashes early power a...</td>\n",
       "      <td>Sun Aug 07 23:54:26 +0000 2016</td>\n",
       "      <td></td>\n",
       "      <td>1</td>\n",
       "      <td>0</td>\n",
       "      <td>NaN</td>\n",
       "      <td>NaN</td>\n",
       "      <td>2016-08-07</td>\n",
       "      <td>0.100</td>\n",
       "      <td>NaN</td>\n",
       "      <td>Loss</td>\n",
       "    </tr>\n",
       "  </tbody>\n",
       "</table>\n",
       "</div>"
      ],
      "text/plain": [
       "                                                text  \\\n",
       "0  Last weekend Cubs game,  this weekend Sox game...   \n",
       "1  RT @whitesox: Happy birthday, Tommy Kahnle! Sh...   \n",
       "2  #Autograph GORDON BECKHAM #SignED #Chicago #Wh...   \n",
       "3  @socmediaisdumb @whitesox @FlavaFraz21 b/c he ...   \n",
       "4  RT @dailyherald: Machado flashes early power a...   \n",
       "\n",
       "                       created_at                    location  retweet_count  \\\n",
       "0  Sun Aug 07 23:59:05 +0000 2016                 Chicago, IL              0   \n",
       "1  Sun Aug 07 23:56:26 +0000 2016                                         31   \n",
       "2  Sun Aug 07 23:56:11 +0000 2016                 Chicago, IL              0   \n",
       "3  Sun Aug 07 23:55:19 +0000 2016  Jersey..not the guido part              0   \n",
       "4  Sun Aug 07 23:54:26 +0000 2016                                          1   \n",
       "\n",
       "   favorite_count   latitude  longitude      dates  sentiment  hav_distance  \\\n",
       "0               1  41.850027 -87.650046 2016-08-07     -0.060           0.0   \n",
       "1               0        NaN        NaN 2016-08-07      0.750           NaN   \n",
       "2               0  41.850027 -87.650046 2016-08-07      0.375           0.0   \n",
       "3               0        NaN        NaN 2016-08-07      0.700           NaN   \n",
       "4               0        NaN        NaN 2016-08-07      0.100           NaN   \n",
       "\n",
       "  outcome  \n",
       "0    Loss  \n",
       "1    Loss  \n",
       "2    Loss  \n",
       "3    Loss  \n",
       "4    Loss  "
      ]
     },
     "execution_count": 38,
     "metadata": {},
     "output_type": "execute_result"
    }
   ],
   "source": [
    "df_whitesox.head()"
   ]
  },
  {
   "cell_type": "code",
   "execution_count": 39,
   "metadata": {
    "collapsed": true
   },
   "outputs": [],
   "source": [
    "df_whitesox.to_csv('df_whitesox.csv')"
   ]
  },
  {
   "cell_type": "code",
   "execution_count": null,
   "metadata": {
    "collapsed": true
   },
   "outputs": [],
   "source": []
  },
  {
   "cell_type": "code",
   "execution_count": null,
   "metadata": {
    "collapsed": true
   },
   "outputs": [],
   "source": []
  }
 ],
 "metadata": {
  "kernelspec": {
   "display_name": "Python 3",
   "language": "python",
   "name": "python3"
  },
  "language_info": {
   "codemirror_mode": {
    "name": "ipython",
    "version": 3
   },
   "file_extension": ".py",
   "mimetype": "text/x-python",
   "name": "python",
   "nbconvert_exporter": "python",
   "pygments_lexer": "ipython3",
   "version": "3.5.2"
  }
 },
 "nbformat": 4,
 "nbformat_minor": 0
}
