{
 "cells": [
  {
   "cell_type": "markdown",
   "metadata": {},
   "source": [
    "**Note:** place file one level up in directory structure so it can run properly."
   ]
  },
  {
   "cell_type": "markdown",
   "metadata": {},
   "source": [
    "# Analyzing Baseball Fan Sentiment with Twitter Data (Red Sox) #\n",
    "\n",
    "## Full Analysis Attempt 1 ##"
   ]
  },
  {
   "cell_type": "code",
   "execution_count": 59,
   "metadata": {
    "collapsed": true
   },
   "outputs": [],
   "source": [
    "import glob\n",
    "import pandas as pd\n",
    "import numpy as np\n",
    "\n",
    "# For working with JSON data.\n",
    "try:\n",
    "    import json\n",
    "except ImportError:\n",
    "    import simplejson as json\n",
    "    \n",
    "# For maps.\n",
    "from mpl_toolkits.basemap import Basemap\n",
    "import geocoder\n",
    "import matplotlib.pyplot as plt\n",
    "%matplotlib inline\n",
    "\n",
    "#import warnings\n",
    "#warnings.simplefilter(action = \"ignore\", category = FutureWarning)"
   ]
  },
  {
   "cell_type": "code",
   "execution_count": 60,
   "metadata": {
    "collapsed": true
   },
   "outputs": [],
   "source": [
    "df_redsox = pd.read_csv('df_redsox.csv')"
   ]
  },
  {
   "cell_type": "code",
   "execution_count": 61,
   "metadata": {
    "collapsed": false
   },
   "outputs": [
    {
     "data": {
      "text/html": [
       "<div>\n",
       "<table border=\"1\" class=\"dataframe\">\n",
       "  <thead>\n",
       "    <tr style=\"text-align: right;\">\n",
       "      <th></th>\n",
       "      <th>Unnamed: 0</th>\n",
       "      <th>text</th>\n",
       "      <th>created_at</th>\n",
       "      <th>location</th>\n",
       "      <th>retweet_count</th>\n",
       "      <th>favorite_count</th>\n",
       "      <th>latitude</th>\n",
       "      <th>longitude</th>\n",
       "      <th>dates</th>\n",
       "      <th>sentiment</th>\n",
       "      <th>hav_distance</th>\n",
       "    </tr>\n",
       "  </thead>\n",
       "  <tbody>\n",
       "    <tr>\n",
       "      <th>0</th>\n",
       "      <td>0</td>\n",
       "      <td>Boston #RedSox Ladies #Shirt. Gray, Red, and B...</td>\n",
       "      <td>Sat Aug 06 23:59:36 +0000 2016</td>\n",
       "      <td>NaN</td>\n",
       "      <td>0</td>\n",
       "      <td>0</td>\n",
       "      <td>NaN</td>\n",
       "      <td>NaN</td>\n",
       "      <td>2016-08-06</td>\n",
       "      <td>0.071429</td>\n",
       "      <td>NaN</td>\n",
       "    </tr>\n",
       "    <tr>\n",
       "      <th>1</th>\n",
       "      <td>1</td>\n",
       "      <td>#MLB #BaseBall: New and rare, Boston #RedSox T...</td>\n",
       "      <td>Sat Aug 06 23:59:34 +0000 2016</td>\n",
       "      <td>NaN</td>\n",
       "      <td>0</td>\n",
       "      <td>0</td>\n",
       "      <td>NaN</td>\n",
       "      <td>NaN</td>\n",
       "      <td>2016-08-06</td>\n",
       "      <td>0.218182</td>\n",
       "      <td>NaN</td>\n",
       "    </tr>\n",
       "    <tr>\n",
       "      <th>2</th>\n",
       "      <td>2</td>\n",
       "      <td>RT @_AlexanderJean_: Honored to sing The Natio...</td>\n",
       "      <td>Sat Aug 06 23:59:27 +0000 2016</td>\n",
       "      <td>7/21/15 | 3/8/16 | 7/7/16</td>\n",
       "      <td>41</td>\n",
       "      <td>0</td>\n",
       "      <td>NaN</td>\n",
       "      <td>NaN</td>\n",
       "      <td>2016-08-06</td>\n",
       "      <td>-0.400000</td>\n",
       "      <td>NaN</td>\n",
       "    </tr>\n",
       "    <tr>\n",
       "      <th>3</th>\n",
       "      <td>3</td>\n",
       "      <td>May not have got the W but I got to see @david...</td>\n",
       "      <td>Sat Aug 06 23:59:19 +0000 2016</td>\n",
       "      <td>Los Angeles, CA</td>\n",
       "      <td>0</td>\n",
       "      <td>2</td>\n",
       "      <td>34.052228</td>\n",
       "      <td>-118.243677</td>\n",
       "      <td>2016-08-06</td>\n",
       "      <td>-0.600000</td>\n",
       "      <td>4.169543e+06</td>\n",
       "    </tr>\n",
       "    <tr>\n",
       "      <th>4</th>\n",
       "      <td>4</td>\n",
       "      <td>@aidancab @RedSox foreal 😴</td>\n",
       "      <td>Sat Aug 06 23:59:19 +0000 2016</td>\n",
       "      <td>MA</td>\n",
       "      <td>0</td>\n",
       "      <td>1</td>\n",
       "      <td>42.365650</td>\n",
       "      <td>-71.108317</td>\n",
       "      <td>2016-08-06</td>\n",
       "      <td>0.000000</td>\n",
       "      <td>4.069056e+03</td>\n",
       "    </tr>\n",
       "  </tbody>\n",
       "</table>\n",
       "</div>"
      ],
      "text/plain": [
       "   Unnamed: 0                                               text  \\\n",
       "0           0  Boston #RedSox Ladies #Shirt. Gray, Red, and B...   \n",
       "1           1  #MLB #BaseBall: New and rare, Boston #RedSox T...   \n",
       "2           2  RT @_AlexanderJean_: Honored to sing The Natio...   \n",
       "3           3  May not have got the W but I got to see @david...   \n",
       "4           4                         @aidancab @RedSox foreal 😴   \n",
       "\n",
       "                       created_at                   location  retweet_count  \\\n",
       "0  Sat Aug 06 23:59:36 +0000 2016                        NaN              0   \n",
       "1  Sat Aug 06 23:59:34 +0000 2016                        NaN              0   \n",
       "2  Sat Aug 06 23:59:27 +0000 2016  7/21/15 | 3/8/16 | 7/7/16             41   \n",
       "3  Sat Aug 06 23:59:19 +0000 2016            Los Angeles, CA              0   \n",
       "4  Sat Aug 06 23:59:19 +0000 2016                         MA              0   \n",
       "\n",
       "   favorite_count   latitude   longitude       dates  sentiment  hav_distance  \n",
       "0               0        NaN         NaN  2016-08-06   0.071429           NaN  \n",
       "1               0        NaN         NaN  2016-08-06   0.218182           NaN  \n",
       "2               0        NaN         NaN  2016-08-06  -0.400000           NaN  \n",
       "3               2  34.052228 -118.243677  2016-08-06  -0.600000  4.169543e+06  \n",
       "4               1  42.365650  -71.108317  2016-08-06   0.000000  4.069056e+03  "
      ]
     },
     "execution_count": 61,
     "metadata": {},
     "output_type": "execute_result"
    }
   ],
   "source": [
    "df_redsox.head()"
   ]
  },
  {
   "cell_type": "code",
   "execution_count": 62,
   "metadata": {
    "collapsed": false
   },
   "outputs": [],
   "source": [
    "df_redsox = df_redsox.drop('Unnamed: 0', axis=1)"
   ]
  },
  {
   "cell_type": "code",
   "execution_count": 63,
   "metadata": {
    "collapsed": false
   },
   "outputs": [
    {
     "data": {
      "text/html": [
       "<div>\n",
       "<table border=\"1\" class=\"dataframe\">\n",
       "  <thead>\n",
       "    <tr style=\"text-align: right;\">\n",
       "      <th></th>\n",
       "      <th>text</th>\n",
       "      <th>created_at</th>\n",
       "      <th>location</th>\n",
       "      <th>retweet_count</th>\n",
       "      <th>favorite_count</th>\n",
       "      <th>latitude</th>\n",
       "      <th>longitude</th>\n",
       "      <th>dates</th>\n",
       "      <th>sentiment</th>\n",
       "      <th>hav_distance</th>\n",
       "    </tr>\n",
       "  </thead>\n",
       "  <tbody>\n",
       "    <tr>\n",
       "      <th>0</th>\n",
       "      <td>Boston #RedSox Ladies #Shirt. Gray, Red, and B...</td>\n",
       "      <td>Sat Aug 06 23:59:36 +0000 2016</td>\n",
       "      <td>NaN</td>\n",
       "      <td>0</td>\n",
       "      <td>0</td>\n",
       "      <td>NaN</td>\n",
       "      <td>NaN</td>\n",
       "      <td>2016-08-06</td>\n",
       "      <td>0.071429</td>\n",
       "      <td>NaN</td>\n",
       "    </tr>\n",
       "    <tr>\n",
       "      <th>1</th>\n",
       "      <td>#MLB #BaseBall: New and rare, Boston #RedSox T...</td>\n",
       "      <td>Sat Aug 06 23:59:34 +0000 2016</td>\n",
       "      <td>NaN</td>\n",
       "      <td>0</td>\n",
       "      <td>0</td>\n",
       "      <td>NaN</td>\n",
       "      <td>NaN</td>\n",
       "      <td>2016-08-06</td>\n",
       "      <td>0.218182</td>\n",
       "      <td>NaN</td>\n",
       "    </tr>\n",
       "    <tr>\n",
       "      <th>2</th>\n",
       "      <td>RT @_AlexanderJean_: Honored to sing The Natio...</td>\n",
       "      <td>Sat Aug 06 23:59:27 +0000 2016</td>\n",
       "      <td>7/21/15 | 3/8/16 | 7/7/16</td>\n",
       "      <td>41</td>\n",
       "      <td>0</td>\n",
       "      <td>NaN</td>\n",
       "      <td>NaN</td>\n",
       "      <td>2016-08-06</td>\n",
       "      <td>-0.400000</td>\n",
       "      <td>NaN</td>\n",
       "    </tr>\n",
       "    <tr>\n",
       "      <th>3</th>\n",
       "      <td>May not have got the W but I got to see @david...</td>\n",
       "      <td>Sat Aug 06 23:59:19 +0000 2016</td>\n",
       "      <td>Los Angeles, CA</td>\n",
       "      <td>0</td>\n",
       "      <td>2</td>\n",
       "      <td>34.052228</td>\n",
       "      <td>-118.243677</td>\n",
       "      <td>2016-08-06</td>\n",
       "      <td>-0.600000</td>\n",
       "      <td>4.169543e+06</td>\n",
       "    </tr>\n",
       "    <tr>\n",
       "      <th>4</th>\n",
       "      <td>@aidancab @RedSox foreal 😴</td>\n",
       "      <td>Sat Aug 06 23:59:19 +0000 2016</td>\n",
       "      <td>MA</td>\n",
       "      <td>0</td>\n",
       "      <td>1</td>\n",
       "      <td>42.365650</td>\n",
       "      <td>-71.108317</td>\n",
       "      <td>2016-08-06</td>\n",
       "      <td>0.000000</td>\n",
       "      <td>4.069056e+03</td>\n",
       "    </tr>\n",
       "  </tbody>\n",
       "</table>\n",
       "</div>"
      ],
      "text/plain": [
       "                                                text  \\\n",
       "0  Boston #RedSox Ladies #Shirt. Gray, Red, and B...   \n",
       "1  #MLB #BaseBall: New and rare, Boston #RedSox T...   \n",
       "2  RT @_AlexanderJean_: Honored to sing The Natio...   \n",
       "3  May not have got the W but I got to see @david...   \n",
       "4                         @aidancab @RedSox foreal 😴   \n",
       "\n",
       "                       created_at                   location  retweet_count  \\\n",
       "0  Sat Aug 06 23:59:36 +0000 2016                        NaN              0   \n",
       "1  Sat Aug 06 23:59:34 +0000 2016                        NaN              0   \n",
       "2  Sat Aug 06 23:59:27 +0000 2016  7/21/15 | 3/8/16 | 7/7/16             41   \n",
       "3  Sat Aug 06 23:59:19 +0000 2016            Los Angeles, CA              0   \n",
       "4  Sat Aug 06 23:59:19 +0000 2016                         MA              0   \n",
       "\n",
       "   favorite_count   latitude   longitude       dates  sentiment  hav_distance  \n",
       "0               0        NaN         NaN  2016-08-06   0.071429           NaN  \n",
       "1               0        NaN         NaN  2016-08-06   0.218182           NaN  \n",
       "2               0        NaN         NaN  2016-08-06  -0.400000           NaN  \n",
       "3               2  34.052228 -118.243677  2016-08-06  -0.600000  4.169543e+06  \n",
       "4               1  42.365650  -71.108317  2016-08-06   0.000000  4.069056e+03  "
      ]
     },
     "execution_count": 63,
     "metadata": {},
     "output_type": "execute_result"
    }
   ],
   "source": [
    "df_redsox.head()"
   ]
  },
  {
   "cell_type": "code",
   "execution_count": 216,
   "metadata": {
    "collapsed": false
   },
   "outputs": [],
   "source": [
    "df_redsox['dates'] = pd.to_datetime(df_redsox['dates'], format='%Y-%m-%d')"
   ]
  },
  {
   "cell_type": "code",
   "execution_count": 65,
   "metadata": {
    "collapsed": false
   },
   "outputs": [
    {
     "data": {
      "text/plain": [
       "dtype('<M8[ns]')"
      ]
     },
     "execution_count": 65,
     "metadata": {},
     "output_type": "execute_result"
    }
   ],
   "source": [
    "df_redsox['dates'].dtypes"
   ]
  },
  {
   "cell_type": "code",
   "execution_count": 66,
   "metadata": {
    "collapsed": false
   },
   "outputs": [],
   "source": [
    "outcome_by_date = {\n",
    "    '2016-08-06 00:00:00': 'Loss',\n",
    "    '2016-08-07 00:00:00': 'Loss',\n",
    "    '2016-08-08 00:00:00': 'No Game',\n",
    "    '2016-08-09 00:00:00': 'Win',\n",
    "    '2016-08-10 00:00:00': 'Loss',\n",
    "    '2016-08-11 00:00:00': 'Loss',\n",
    "    '2016-08-12 00:00:00': 'Win',\n",
    "    '2016-08-13 00:00:00': 'Win',\n",
    "    '2016-08-14 00:00:00': 'Win',\n",
    "    '2016-08-15 00:00:00': 'Win',\n",
    "    '2016-08-16 00:00:00': 'Win'\n",
    "}"
   ]
  },
  {
   "cell_type": "code",
   "execution_count": 67,
   "metadata": {
    "collapsed": false
   },
   "outputs": [
    {
     "data": {
      "text/html": [
       "<div>\n",
       "<table border=\"1\" class=\"dataframe\">\n",
       "  <thead>\n",
       "    <tr style=\"text-align: right;\">\n",
       "      <th></th>\n",
       "      <th>text</th>\n",
       "      <th>created_at</th>\n",
       "      <th>location</th>\n",
       "      <th>retweet_count</th>\n",
       "      <th>favorite_count</th>\n",
       "      <th>latitude</th>\n",
       "      <th>longitude</th>\n",
       "      <th>dates</th>\n",
       "      <th>sentiment</th>\n",
       "      <th>hav_distance</th>\n",
       "    </tr>\n",
       "  </thead>\n",
       "  <tbody>\n",
       "    <tr>\n",
       "      <th>0</th>\n",
       "      <td>Boston #RedSox Ladies #Shirt. Gray, Red, and B...</td>\n",
       "      <td>Sat Aug 06 23:59:36 +0000 2016</td>\n",
       "      <td>NaN</td>\n",
       "      <td>0</td>\n",
       "      <td>0</td>\n",
       "      <td>NaN</td>\n",
       "      <td>NaN</td>\n",
       "      <td>2016-08-06</td>\n",
       "      <td>0.071429</td>\n",
       "      <td>NaN</td>\n",
       "    </tr>\n",
       "    <tr>\n",
       "      <th>1</th>\n",
       "      <td>#MLB #BaseBall: New and rare, Boston #RedSox T...</td>\n",
       "      <td>Sat Aug 06 23:59:34 +0000 2016</td>\n",
       "      <td>NaN</td>\n",
       "      <td>0</td>\n",
       "      <td>0</td>\n",
       "      <td>NaN</td>\n",
       "      <td>NaN</td>\n",
       "      <td>2016-08-06</td>\n",
       "      <td>0.218182</td>\n",
       "      <td>NaN</td>\n",
       "    </tr>\n",
       "    <tr>\n",
       "      <th>2</th>\n",
       "      <td>RT @_AlexanderJean_: Honored to sing The Natio...</td>\n",
       "      <td>Sat Aug 06 23:59:27 +0000 2016</td>\n",
       "      <td>7/21/15 | 3/8/16 | 7/7/16</td>\n",
       "      <td>41</td>\n",
       "      <td>0</td>\n",
       "      <td>NaN</td>\n",
       "      <td>NaN</td>\n",
       "      <td>2016-08-06</td>\n",
       "      <td>-0.400000</td>\n",
       "      <td>NaN</td>\n",
       "    </tr>\n",
       "    <tr>\n",
       "      <th>3</th>\n",
       "      <td>May not have got the W but I got to see @david...</td>\n",
       "      <td>Sat Aug 06 23:59:19 +0000 2016</td>\n",
       "      <td>Los Angeles, CA</td>\n",
       "      <td>0</td>\n",
       "      <td>2</td>\n",
       "      <td>34.052228</td>\n",
       "      <td>-118.243677</td>\n",
       "      <td>2016-08-06</td>\n",
       "      <td>-0.600000</td>\n",
       "      <td>4.169543e+06</td>\n",
       "    </tr>\n",
       "    <tr>\n",
       "      <th>4</th>\n",
       "      <td>@aidancab @RedSox foreal 😴</td>\n",
       "      <td>Sat Aug 06 23:59:19 +0000 2016</td>\n",
       "      <td>MA</td>\n",
       "      <td>0</td>\n",
       "      <td>1</td>\n",
       "      <td>42.365650</td>\n",
       "      <td>-71.108317</td>\n",
       "      <td>2016-08-06</td>\n",
       "      <td>0.000000</td>\n",
       "      <td>4.069056e+03</td>\n",
       "    </tr>\n",
       "  </tbody>\n",
       "</table>\n",
       "</div>"
      ],
      "text/plain": [
       "                                                text  \\\n",
       "0  Boston #RedSox Ladies #Shirt. Gray, Red, and B...   \n",
       "1  #MLB #BaseBall: New and rare, Boston #RedSox T...   \n",
       "2  RT @_AlexanderJean_: Honored to sing The Natio...   \n",
       "3  May not have got the W but I got to see @david...   \n",
       "4                         @aidancab @RedSox foreal 😴   \n",
       "\n",
       "                       created_at                   location  retweet_count  \\\n",
       "0  Sat Aug 06 23:59:36 +0000 2016                        NaN              0   \n",
       "1  Sat Aug 06 23:59:34 +0000 2016                        NaN              0   \n",
       "2  Sat Aug 06 23:59:27 +0000 2016  7/21/15 | 3/8/16 | 7/7/16             41   \n",
       "3  Sat Aug 06 23:59:19 +0000 2016            Los Angeles, CA              0   \n",
       "4  Sat Aug 06 23:59:19 +0000 2016                         MA              0   \n",
       "\n",
       "   favorite_count   latitude   longitude      dates  sentiment  hav_distance  \n",
       "0               0        NaN         NaN 2016-08-06   0.071429           NaN  \n",
       "1               0        NaN         NaN 2016-08-06   0.218182           NaN  \n",
       "2               0        NaN         NaN 2016-08-06  -0.400000           NaN  \n",
       "3               2  34.052228 -118.243677 2016-08-06  -0.600000  4.169543e+06  \n",
       "4               1  42.365650  -71.108317 2016-08-06   0.000000  4.069056e+03  "
      ]
     },
     "execution_count": 67,
     "metadata": {},
     "output_type": "execute_result"
    }
   ],
   "source": [
    "df_redsox.head()"
   ]
  },
  {
   "cell_type": "code",
   "execution_count": 68,
   "metadata": {
    "collapsed": true
   },
   "outputs": [],
   "source": [
    "# Apply outcome values to new column.\n",
    "df_redsox['outcome'] = df_redsox['dates'].apply(lambda x: outcome_by_date[str(x)])"
   ]
  },
  {
   "cell_type": "code",
   "execution_count": 69,
   "metadata": {
    "collapsed": false
   },
   "outputs": [
    {
     "data": {
      "text/html": [
       "<div>\n",
       "<table border=\"1\" class=\"dataframe\">\n",
       "  <thead>\n",
       "    <tr style=\"text-align: right;\">\n",
       "      <th></th>\n",
       "      <th>text</th>\n",
       "      <th>created_at</th>\n",
       "      <th>location</th>\n",
       "      <th>retweet_count</th>\n",
       "      <th>favorite_count</th>\n",
       "      <th>latitude</th>\n",
       "      <th>longitude</th>\n",
       "      <th>dates</th>\n",
       "      <th>sentiment</th>\n",
       "      <th>hav_distance</th>\n",
       "      <th>outcome</th>\n",
       "    </tr>\n",
       "  </thead>\n",
       "  <tbody>\n",
       "    <tr>\n",
       "      <th>0</th>\n",
       "      <td>Boston #RedSox Ladies #Shirt. Gray, Red, and B...</td>\n",
       "      <td>Sat Aug 06 23:59:36 +0000 2016</td>\n",
       "      <td>NaN</td>\n",
       "      <td>0</td>\n",
       "      <td>0</td>\n",
       "      <td>NaN</td>\n",
       "      <td>NaN</td>\n",
       "      <td>2016-08-06</td>\n",
       "      <td>0.071429</td>\n",
       "      <td>NaN</td>\n",
       "      <td>Loss</td>\n",
       "    </tr>\n",
       "    <tr>\n",
       "      <th>1</th>\n",
       "      <td>#MLB #BaseBall: New and rare, Boston #RedSox T...</td>\n",
       "      <td>Sat Aug 06 23:59:34 +0000 2016</td>\n",
       "      <td>NaN</td>\n",
       "      <td>0</td>\n",
       "      <td>0</td>\n",
       "      <td>NaN</td>\n",
       "      <td>NaN</td>\n",
       "      <td>2016-08-06</td>\n",
       "      <td>0.218182</td>\n",
       "      <td>NaN</td>\n",
       "      <td>Loss</td>\n",
       "    </tr>\n",
       "    <tr>\n",
       "      <th>2</th>\n",
       "      <td>RT @_AlexanderJean_: Honored to sing The Natio...</td>\n",
       "      <td>Sat Aug 06 23:59:27 +0000 2016</td>\n",
       "      <td>7/21/15 | 3/8/16 | 7/7/16</td>\n",
       "      <td>41</td>\n",
       "      <td>0</td>\n",
       "      <td>NaN</td>\n",
       "      <td>NaN</td>\n",
       "      <td>2016-08-06</td>\n",
       "      <td>-0.400000</td>\n",
       "      <td>NaN</td>\n",
       "      <td>Loss</td>\n",
       "    </tr>\n",
       "    <tr>\n",
       "      <th>3</th>\n",
       "      <td>May not have got the W but I got to see @david...</td>\n",
       "      <td>Sat Aug 06 23:59:19 +0000 2016</td>\n",
       "      <td>Los Angeles, CA</td>\n",
       "      <td>0</td>\n",
       "      <td>2</td>\n",
       "      <td>34.052228</td>\n",
       "      <td>-118.243677</td>\n",
       "      <td>2016-08-06</td>\n",
       "      <td>-0.600000</td>\n",
       "      <td>4.169543e+06</td>\n",
       "      <td>Loss</td>\n",
       "    </tr>\n",
       "    <tr>\n",
       "      <th>4</th>\n",
       "      <td>@aidancab @RedSox foreal 😴</td>\n",
       "      <td>Sat Aug 06 23:59:19 +0000 2016</td>\n",
       "      <td>MA</td>\n",
       "      <td>0</td>\n",
       "      <td>1</td>\n",
       "      <td>42.365650</td>\n",
       "      <td>-71.108317</td>\n",
       "      <td>2016-08-06</td>\n",
       "      <td>0.000000</td>\n",
       "      <td>4.069056e+03</td>\n",
       "      <td>Loss</td>\n",
       "    </tr>\n",
       "  </tbody>\n",
       "</table>\n",
       "</div>"
      ],
      "text/plain": [
       "                                                text  \\\n",
       "0  Boston #RedSox Ladies #Shirt. Gray, Red, and B...   \n",
       "1  #MLB #BaseBall: New and rare, Boston #RedSox T...   \n",
       "2  RT @_AlexanderJean_: Honored to sing The Natio...   \n",
       "3  May not have got the W but I got to see @david...   \n",
       "4                         @aidancab @RedSox foreal 😴   \n",
       "\n",
       "                       created_at                   location  retweet_count  \\\n",
       "0  Sat Aug 06 23:59:36 +0000 2016                        NaN              0   \n",
       "1  Sat Aug 06 23:59:34 +0000 2016                        NaN              0   \n",
       "2  Sat Aug 06 23:59:27 +0000 2016  7/21/15 | 3/8/16 | 7/7/16             41   \n",
       "3  Sat Aug 06 23:59:19 +0000 2016            Los Angeles, CA              0   \n",
       "4  Sat Aug 06 23:59:19 +0000 2016                         MA              0   \n",
       "\n",
       "   favorite_count   latitude   longitude      dates  sentiment  hav_distance  \\\n",
       "0               0        NaN         NaN 2016-08-06   0.071429           NaN   \n",
       "1               0        NaN         NaN 2016-08-06   0.218182           NaN   \n",
       "2               0        NaN         NaN 2016-08-06  -0.400000           NaN   \n",
       "3               2  34.052228 -118.243677 2016-08-06  -0.600000  4.169543e+06   \n",
       "4               1  42.365650  -71.108317 2016-08-06   0.000000  4.069056e+03   \n",
       "\n",
       "  outcome  \n",
       "0    Loss  \n",
       "1    Loss  \n",
       "2    Loss  \n",
       "3    Loss  \n",
       "4    Loss  "
      ]
     },
     "execution_count": 69,
     "metadata": {},
     "output_type": "execute_result"
    }
   ],
   "source": [
    "df_redsox.head()"
   ]
  },
  {
   "cell_type": "code",
   "execution_count": 70,
   "metadata": {
    "collapsed": true
   },
   "outputs": [],
   "source": [
    "df_redsox.to_csv('df_redsox.csv')"
   ]
  },
  {
   "cell_type": "code",
   "execution_count": 140,
   "metadata": {
    "collapsed": false
   },
   "outputs": [],
   "source": [
    "df_redsox.rename(columns={'hav_distance': 'hav_distance_boston'}, inplace=True)"
   ]
  },
  {
   "cell_type": "code",
   "execution_count": 141,
   "metadata": {
    "collapsed": false
   },
   "outputs": [
    {
     "name": "stdout",
     "output_type": "stream",
     "text": [
      "40.71426940400045 -74.00596992899966\n"
     ]
    }
   ],
   "source": [
    "# Calculate distance from rival team.\n",
    "g = geocoder.arcgis('New York, NY')\n",
    "ny_lat = g.latlng[0]\n",
    "ny_long = g.latlng[1]\n",
    "print(ny_lat, ny_long)"
   ]
  },
  {
   "cell_type": "code",
   "execution_count": 142,
   "metadata": {
    "collapsed": true
   },
   "outputs": [],
   "source": [
    "import gpxpy.geo\n",
    "import math\n",
    "haversine_distances = []\n",
    "for i in range(df_redsox.shape[0]):\n",
    "#dist = gpxpy.geo.haversine_distance(52.2296756, 21.0122287, 52.406374, 16.9251681)\n",
    "#print(dist)\n",
    "    if math.isnan(df_redsox.iloc[i]['latitude']):\n",
    "        haversine_distances.append(np.nan)\n",
    "    else:\n",
    "        distance = gpxpy.geo.haversine_distance(ny_lat, ny_long, df_redsox.iloc[i]['latitude'], df_redsox.iloc[i]['longitude'])\n",
    "        haversine_distances.append(distance)"
   ]
  },
  {
   "cell_type": "code",
   "execution_count": 151,
   "metadata": {
    "collapsed": false
   },
   "outputs": [
    {
     "data": {
      "text/plain": [
       "0.0"
      ]
     },
     "execution_count": 151,
     "metadata": {},
     "output_type": "execute_result"
    }
   ],
   "source": [
    "# Make sure these variables are for New York.\n",
    "gpxpy.geo.haversine_distance(ny_lat, ny_long, 40.71426940400045, -74.00596992899966)"
   ]
  },
  {
   "cell_type": "code",
   "execution_count": 144,
   "metadata": {
    "collapsed": false
   },
   "outputs": [
    {
     "data": {
      "text/plain": [
       "11000"
      ]
     },
     "execution_count": 144,
     "metadata": {},
     "output_type": "execute_result"
    }
   ],
   "source": [
    "len(haversine_distances)"
   ]
  },
  {
   "cell_type": "code",
   "execution_count": 145,
   "metadata": {
    "collapsed": true
   },
   "outputs": [],
   "source": [
    "df_redsox['hav_distance_ny'] = pd.Series(haversine_distances)"
   ]
  },
  {
   "cell_type": "code",
   "execution_count": 150,
   "metadata": {
    "collapsed": false
   },
   "outputs": [
    {
     "data": {
      "text/html": [
       "<div>\n",
       "<table border=\"1\" class=\"dataframe\">\n",
       "  <thead>\n",
       "    <tr style=\"text-align: right;\">\n",
       "      <th></th>\n",
       "      <th>text</th>\n",
       "      <th>created_at</th>\n",
       "      <th>location</th>\n",
       "      <th>retweet_count</th>\n",
       "      <th>favorite_count</th>\n",
       "      <th>latitude</th>\n",
       "      <th>longitude</th>\n",
       "      <th>dates</th>\n",
       "      <th>sentiment</th>\n",
       "      <th>hav_distance_boston</th>\n",
       "      <th>outcome</th>\n",
       "      <th>hav_distance_ny</th>\n",
       "    </tr>\n",
       "  </thead>\n",
       "  <tbody>\n",
       "    <tr>\n",
       "      <th>0</th>\n",
       "      <td>Boston #RedSox Ladies #Shirt. Gray, Red, and B...</td>\n",
       "      <td>Sat Aug 06 23:59:36 +0000 2016</td>\n",
       "      <td>NaN</td>\n",
       "      <td>0</td>\n",
       "      <td>0</td>\n",
       "      <td>NaN</td>\n",
       "      <td>NaN</td>\n",
       "      <td>2016-08-06</td>\n",
       "      <td>0.071429</td>\n",
       "      <td>NaN</td>\n",
       "      <td>Loss</td>\n",
       "      <td>NaN</td>\n",
       "    </tr>\n",
       "    <tr>\n",
       "      <th>1</th>\n",
       "      <td>#MLB #BaseBall: New and rare, Boston #RedSox T...</td>\n",
       "      <td>Sat Aug 06 23:59:34 +0000 2016</td>\n",
       "      <td>NaN</td>\n",
       "      <td>0</td>\n",
       "      <td>0</td>\n",
       "      <td>NaN</td>\n",
       "      <td>NaN</td>\n",
       "      <td>2016-08-06</td>\n",
       "      <td>0.218182</td>\n",
       "      <td>NaN</td>\n",
       "      <td>Loss</td>\n",
       "      <td>NaN</td>\n",
       "    </tr>\n",
       "    <tr>\n",
       "      <th>2</th>\n",
       "      <td>RT @_AlexanderJean_: Honored to sing The Natio...</td>\n",
       "      <td>Sat Aug 06 23:59:27 +0000 2016</td>\n",
       "      <td>7/21/15 | 3/8/16 | 7/7/16</td>\n",
       "      <td>41</td>\n",
       "      <td>0</td>\n",
       "      <td>NaN</td>\n",
       "      <td>NaN</td>\n",
       "      <td>2016-08-06</td>\n",
       "      <td>-0.400000</td>\n",
       "      <td>NaN</td>\n",
       "      <td>Loss</td>\n",
       "      <td>NaN</td>\n",
       "    </tr>\n",
       "    <tr>\n",
       "      <th>3</th>\n",
       "      <td>May not have got the W but I got to see @david...</td>\n",
       "      <td>Sat Aug 06 23:59:19 +0000 2016</td>\n",
       "      <td>Los Angeles, CA</td>\n",
       "      <td>0</td>\n",
       "      <td>2</td>\n",
       "      <td>34.052228</td>\n",
       "      <td>-118.243677</td>\n",
       "      <td>2016-08-06</td>\n",
       "      <td>-0.600000</td>\n",
       "      <td>4.169543e+06</td>\n",
       "      <td>Loss</td>\n",
       "      <td>3.935735e+06</td>\n",
       "    </tr>\n",
       "    <tr>\n",
       "      <th>4</th>\n",
       "      <td>@aidancab @RedSox foreal 😴</td>\n",
       "      <td>Sat Aug 06 23:59:19 +0000 2016</td>\n",
       "      <td>MA</td>\n",
       "      <td>0</td>\n",
       "      <td>1</td>\n",
       "      <td>42.365650</td>\n",
       "      <td>-71.108317</td>\n",
       "      <td>2016-08-06</td>\n",
       "      <td>0.000000</td>\n",
       "      <td>4.069056e+03</td>\n",
       "      <td>Loss</td>\n",
       "      <td>3.030860e+05</td>\n",
       "    </tr>\n",
       "  </tbody>\n",
       "</table>\n",
       "</div>"
      ],
      "text/plain": [
       "                                                text  \\\n",
       "0  Boston #RedSox Ladies #Shirt. Gray, Red, and B...   \n",
       "1  #MLB #BaseBall: New and rare, Boston #RedSox T...   \n",
       "2  RT @_AlexanderJean_: Honored to sing The Natio...   \n",
       "3  May not have got the W but I got to see @david...   \n",
       "4                         @aidancab @RedSox foreal 😴   \n",
       "\n",
       "                       created_at                   location  retweet_count  \\\n",
       "0  Sat Aug 06 23:59:36 +0000 2016                        NaN              0   \n",
       "1  Sat Aug 06 23:59:34 +0000 2016                        NaN              0   \n",
       "2  Sat Aug 06 23:59:27 +0000 2016  7/21/15 | 3/8/16 | 7/7/16             41   \n",
       "3  Sat Aug 06 23:59:19 +0000 2016            Los Angeles, CA              0   \n",
       "4  Sat Aug 06 23:59:19 +0000 2016                         MA              0   \n",
       "\n",
       "   favorite_count   latitude   longitude      dates  sentiment  \\\n",
       "0               0        NaN         NaN 2016-08-06   0.071429   \n",
       "1               0        NaN         NaN 2016-08-06   0.218182   \n",
       "2               0        NaN         NaN 2016-08-06  -0.400000   \n",
       "3               2  34.052228 -118.243677 2016-08-06  -0.600000   \n",
       "4               1  42.365650  -71.108317 2016-08-06   0.000000   \n",
       "\n",
       "   hav_distance_boston outcome  hav_distance_ny  \n",
       "0                  NaN    Loss              NaN  \n",
       "1                  NaN    Loss              NaN  \n",
       "2                  NaN    Loss              NaN  \n",
       "3         4.169543e+06    Loss     3.935735e+06  \n",
       "4         4.069056e+03    Loss     3.030860e+05  "
      ]
     },
     "execution_count": 150,
     "metadata": {},
     "output_type": "execute_result"
    }
   ],
   "source": [
    "df_redsox.head()"
   ]
  },
  {
   "cell_type": "code",
   "execution_count": 152,
   "metadata": {
    "collapsed": true
   },
   "outputs": [],
   "source": [
    "df_redsox_wins = df_redsox[df_redsox['outcome'] == 'Win']\n",
    "df_redsox_losses = df_redsox[df_redsox['outcome'] == 'Loss']\n",
    "df_redsox_no_games = df_redsox[df_redsox['outcome'] == 'No Game']"
   ]
  },
  {
   "cell_type": "code",
   "execution_count": 153,
   "metadata": {
    "collapsed": false
   },
   "outputs": [
    {
     "name": "stdout",
     "output_type": "stream",
     "text": [
      "(6000, 12)\n",
      "(4000, 12)\n",
      "(1000, 12)\n"
     ]
    }
   ],
   "source": [
    "print(df_redsox_wins.shape)\n",
    "print(df_redsox_losses.shape)\n",
    "print(df_redsox_no_games.shape)"
   ]
  },
  {
   "cell_type": "code",
   "execution_count": 155,
   "metadata": {
    "collapsed": false
   },
   "outputs": [
    {
     "data": {
      "image/png": "[encoded data removed]",
      "text/plain": [
       "<matplotlib.figure.Figure at 0x118775cc0>"
      ]
     },
     "metadata": {},
     "output_type": "display_data"
    }
   ],
   "source": [
    "import seaborn as sns;\n",
    "sns.set(color_codes=True)\n",
    "ax = sns.regplot(x=\"sentiment\", y=\"hav_distance_boston\", data=df_redsox_wins)"
   ]
  },
  {
   "cell_type": "code",
   "execution_count": 217,
   "metadata": {
    "collapsed": false
   },
   "outputs": [
    {
     "data": {
      "image/png": "[encoded data removed]",
      "text/plain": [
       "<matplotlib.figure.Figure at 0x119ab9d68>"
      ]
     },
     "metadata": {},
     "output_type": "display_data"
    }
   ],
   "source": [
    "import seaborn as sns;\n",
    "sns.set(color_codes=True)\n",
    "ax = sns.regplot(x=\"sentiment\", y=\"hav_distance_boston\", data=df_redsox_losses)"
   ]
  },
  {
   "cell_type": "code",
   "execution_count": 160,
   "metadata": {
    "collapsed": false
   },
   "outputs": [
    {
     "name": "stdout",
     "output_type": "stream",
     "text": [
      "40.562326887000495 -74.13985554899966\n"
     ]
    }
   ],
   "source": [
    "g = geocoder.arcgis('Staten Island, NY')\n",
    "st_lat = g.latlng[0]\n",
    "st_long = g.latlng[1]\n",
    "print(st_lat, st_long)"
   ]
  },
  {
   "cell_type": "code",
   "execution_count": 161,
   "metadata": {
    "collapsed": false
   },
   "outputs": [
    {
     "name": "stdout",
     "output_type": "stream",
     "text": [
      "40.91148690300048 -73.78234877299963\n"
     ]
    }
   ],
   "source": [
    "g = geocoder.arcgis('New Rochelle, NY')\n",
    "nr_lat = g.latlng[0]\n",
    "nr_long = g.latlng[1]\n",
    "print(nr_lat, nr_long)"
   ]
  },
  {
   "cell_type": "code",
   "execution_count": 162,
   "metadata": {
    "collapsed": false
   },
   "outputs": [
    {
     "data": {
      "text/plain": [
       "49139.11989752445"
      ]
     },
     "execution_count": 162,
     "metadata": {},
     "output_type": "execute_result"
    }
   ],
   "source": [
    "# Define radius for New York. (Roughly 35-40 miles). Call it 50000.\n",
    "gpxpy.geo.haversine_distance(st_lat, st_long, nr_lat, nr_long)"
   ]
  },
  {
   "cell_type": "code",
   "execution_count": 165,
   "metadata": {
    "collapsed": false
   },
   "outputs": [
    {
     "data": {
      "text/plain": [
       "(1681, 12)"
      ]
     },
     "execution_count": 165,
     "metadata": {},
     "output_type": "execute_result"
    }
   ],
   "source": [
    "near_boston_sox = df_redsox[df_redsox['hav_distance_boston'] <= 50000]\n",
    "near_boston_sox.shape"
   ]
  },
  {
   "cell_type": "code",
   "execution_count": 166,
   "metadata": {
    "collapsed": false
   },
   "outputs": [
    {
     "data": {
      "text/plain": [
       "(194, 12)"
      ]
     },
     "execution_count": 166,
     "metadata": {},
     "output_type": "execute_result"
    }
   ],
   "source": [
    "near_ny_sox = df_redsox[df_redsox['hav_distance_ny'] <= 50000]\n",
    "near_ny_sox.shape"
   ]
  },
  {
   "cell_type": "code",
   "execution_count": 173,
   "metadata": {
    "collapsed": false
   },
   "outputs": [],
   "source": [
    "sentiment_by_date = df_redsox.groupby('dates').mean()\n",
    "sentiment_by_date_near_boston = near_boston_sox.groupby('dates').mean()\n",
    "sentiment_by_date_near_ny = near_ny_sox.groupby('dates').mean()"
   ]
  },
  {
   "cell_type": "code",
   "execution_count": 168,
   "metadata": {
    "collapsed": false
   },
   "outputs": [
    {
     "data": {
      "text/html": [
       "<div>\n",
       "<table border=\"1\" class=\"dataframe\">\n",
       "  <thead>\n",
       "    <tr style=\"text-align: right;\">\n",
       "      <th></th>\n",
       "      <th>retweet_count</th>\n",
       "      <th>favorite_count</th>\n",
       "      <th>latitude</th>\n",
       "      <th>longitude</th>\n",
       "      <th>sentiment</th>\n",
       "      <th>hav_distance_boston</th>\n",
       "      <th>hav_distance_ny</th>\n",
       "    </tr>\n",
       "    <tr>\n",
       "      <th>dates</th>\n",
       "      <th></th>\n",
       "      <th></th>\n",
       "      <th></th>\n",
       "      <th></th>\n",
       "      <th></th>\n",
       "      <th></th>\n",
       "      <th></th>\n",
       "    </tr>\n",
       "  </thead>\n",
       "  <tbody>\n",
       "    <tr>\n",
       "      <th>2016-08-06</th>\n",
       "      <td>129.519</td>\n",
       "      <td>2.142</td>\n",
       "      <td>37.765879</td>\n",
       "      <td>-82.133044</td>\n",
       "      <td>0.033535</td>\n",
       "      <td>2.061121e+06</td>\n",
       "      <td>2.032066e+06</td>\n",
       "    </tr>\n",
       "    <tr>\n",
       "      <th>2016-08-07</th>\n",
       "      <td>419.222</td>\n",
       "      <td>1.321</td>\n",
       "      <td>36.789503</td>\n",
       "      <td>-82.499985</td>\n",
       "      <td>0.072724</td>\n",
       "      <td>2.142292e+06</td>\n",
       "      <td>2.081744e+06</td>\n",
       "    </tr>\n",
       "    <tr>\n",
       "      <th>2016-08-08</th>\n",
       "      <td>107.294</td>\n",
       "      <td>1.814</td>\n",
       "      <td>36.731780</td>\n",
       "      <td>-70.905613</td>\n",
       "      <td>0.093011</td>\n",
       "      <td>2.134943e+06</td>\n",
       "      <td>2.137587e+06</td>\n",
       "    </tr>\n",
       "    <tr>\n",
       "      <th>2016-08-09</th>\n",
       "      <td>36.183</td>\n",
       "      <td>1.936</td>\n",
       "      <td>38.580474</td>\n",
       "      <td>-79.123002</td>\n",
       "      <td>0.128390</td>\n",
       "      <td>1.368217e+06</td>\n",
       "      <td>1.364452e+06</td>\n",
       "    </tr>\n",
       "    <tr>\n",
       "      <th>2016-08-10</th>\n",
       "      <td>141.631</td>\n",
       "      <td>2.907</td>\n",
       "      <td>35.481714</td>\n",
       "      <td>-72.152677</td>\n",
       "      <td>0.148311</td>\n",
       "      <td>1.976626e+06</td>\n",
       "      <td>1.966678e+06</td>\n",
       "    </tr>\n",
       "    <tr>\n",
       "      <th>2016-08-11</th>\n",
       "      <td>19.347</td>\n",
       "      <td>2.136</td>\n",
       "      <td>37.939016</td>\n",
       "      <td>-71.386290</td>\n",
       "      <td>0.058885</td>\n",
       "      <td>1.789284e+06</td>\n",
       "      <td>1.816509e+06</td>\n",
       "    </tr>\n",
       "    <tr>\n",
       "      <th>2016-08-12</th>\n",
       "      <td>45.946</td>\n",
       "      <td>2.520</td>\n",
       "      <td>37.525810</td>\n",
       "      <td>-72.746949</td>\n",
       "      <td>0.069843</td>\n",
       "      <td>1.785936e+06</td>\n",
       "      <td>1.813787e+06</td>\n",
       "    </tr>\n",
       "    <tr>\n",
       "      <th>2016-08-13</th>\n",
       "      <td>322.909</td>\n",
       "      <td>1.955</td>\n",
       "      <td>37.440439</td>\n",
       "      <td>-72.018785</td>\n",
       "      <td>0.082030</td>\n",
       "      <td>1.766416e+06</td>\n",
       "      <td>1.786148e+06</td>\n",
       "    </tr>\n",
       "    <tr>\n",
       "      <th>2016-08-14</th>\n",
       "      <td>0.000</td>\n",
       "      <td>0.000</td>\n",
       "      <td>35.645460</td>\n",
       "      <td>-74.725406</td>\n",
       "      <td>0.035605</td>\n",
       "      <td>2.254737e+06</td>\n",
       "      <td>2.197758e+06</td>\n",
       "    </tr>\n",
       "    <tr>\n",
       "      <th>2016-08-15</th>\n",
       "      <td>213.424</td>\n",
       "      <td>0.890</td>\n",
       "      <td>36.533359</td>\n",
       "      <td>-72.514817</td>\n",
       "      <td>0.109541</td>\n",
       "      <td>2.366861e+06</td>\n",
       "      <td>2.321372e+06</td>\n",
       "    </tr>\n",
       "    <tr>\n",
       "      <th>2016-08-16</th>\n",
       "      <td>67.070</td>\n",
       "      <td>2.435</td>\n",
       "      <td>36.625620</td>\n",
       "      <td>-70.152045</td>\n",
       "      <td>0.031728</td>\n",
       "      <td>1.889382e+06</td>\n",
       "      <td>1.886664e+06</td>\n",
       "    </tr>\n",
       "  </tbody>\n",
       "</table>\n",
       "</div>"
      ],
      "text/plain": [
       "            retweet_count  favorite_count   latitude  longitude  sentiment  \\\n",
       "dates                                                                        \n",
       "2016-08-06        129.519           2.142  37.765879 -82.133044   0.033535   \n",
       "2016-08-07        419.222           1.321  36.789503 -82.499985   0.072724   \n",
       "2016-08-08        107.294           1.814  36.731780 -70.905613   0.093011   \n",
       "2016-08-09         36.183           1.936  38.580474 -79.123002   0.128390   \n",
       "2016-08-10        141.631           2.907  35.481714 -72.152677   0.148311   \n",
       "2016-08-11         19.347           2.136  37.939016 -71.386290   0.058885   \n",
       "2016-08-12         45.946           2.520  37.525810 -72.746949   0.069843   \n",
       "2016-08-13        322.909           1.955  37.440439 -72.018785   0.082030   \n",
       "2016-08-14          0.000           0.000  35.645460 -74.725406   0.035605   \n",
       "2016-08-15        213.424           0.890  36.533359 -72.514817   0.109541   \n",
       "2016-08-16         67.070           2.435  36.625620 -70.152045   0.031728   \n",
       "\n",
       "            hav_distance_boston  hav_distance_ny  \n",
       "dates                                             \n",
       "2016-08-06         2.061121e+06     2.032066e+06  \n",
       "2016-08-07         2.142292e+06     2.081744e+06  \n",
       "2016-08-08         2.134943e+06     2.137587e+06  \n",
       "2016-08-09         1.368217e+06     1.364452e+06  \n",
       "2016-08-10         1.976626e+06     1.966678e+06  \n",
       "2016-08-11         1.789284e+06     1.816509e+06  \n",
       "2016-08-12         1.785936e+06     1.813787e+06  \n",
       "2016-08-13         1.766416e+06     1.786148e+06  \n",
       "2016-08-14         2.254737e+06     2.197758e+06  \n",
       "2016-08-15         2.366861e+06     2.321372e+06  \n",
       "2016-08-16         1.889382e+06     1.886664e+06  "
      ]
     },
     "execution_count": 168,
     "metadata": {},
     "output_type": "execute_result"
    }
   ],
   "source": [
    "sentiment_by_date"
   ]
  },
  {
   "cell_type": "code",
   "execution_count": 214,
   "metadata": {
    "collapsed": false
   },
   "outputs": [
    {
     "data": {
      "text/plain": [
       "['8/6 (L)',\n",
       " '8/7 (L)',\n",
       " '8/8 (No Game)',\n",
       " '8/9 (W—v. Yankees)',\n",
       " '8/10 (L—v. Yankees)',\n",
       " '8/11 (L—v. Yankees)',\n",
       " '8/12 (W)',\n",
       " '8/13 (W)',\n",
       " '8/14 (W)',\n",
       " '8/15 (W)',\n",
       " '8/16 (W)']"
      ]
     },
     "execution_count": 214,
     "metadata": {},
     "output_type": "execute_result"
    }
   ],
   "source": [
    "outcomes = [\n",
    "    '8/6 (L)',\n",
    "    '8/7 (L)',\n",
    "    '8/8 (No Game)',\n",
    "    '8/9 (W—v. Yankees)',\n",
    "    '8/10 (L—v. Yankees)',\n",
    "    '8/11 (L—v. Yankees)',\n",
    "    '8/12 (W)',\n",
    "    '8/13 (W)',\n",
    "    '8/14 (W)',\n",
    "    '8/15 (W)',\n",
    "    '8/16 (W)'\n",
    "]\n",
    "outcomes"
   ]
  },
  {
   "cell_type": "code",
   "execution_count": 215,
   "metadata": {
    "collapsed": false
   },
   "outputs": [
    {
     "data": {
      "image/png": "[encoded data removed]",
      "text/plain": [
       "<matplotlib.figure.Figure at 0x119334cf8>"
      ]
     },
     "metadata": {},
     "output_type": "display_data"
    }
   ],
   "source": [
    "fig = plt.figure(figsize=(18,8))\n",
    "ax = fig.add_subplot(111)\n",
    "ax2 = fig.add_subplot(111)\n",
    "ax3 = fig.add_subplot(111)\n",
    "ax.plot(sentiment_by_date['sentiment'], linewidth=6, alpha=0.7)\n",
    "ax2.plot(sentiment_by_date_near_boston['sentiment'], linewidth=6, alpha=0.7)\n",
    "ax3.plot(sentiment_by_date_near_ny['sentiment'], linewidth=6, alpha=0.7)\n",
    "ax.legend(['Avg. Sentiment', 'Avg. Sentiment Near Boston', 'Avg. Sentiment Near New York'])\n",
    "plt.title('Mean Tweet Sentiment by Date', size=14)\n",
    "ax.set_xlabel('Fiscal Year')\n",
    "ax.set_ylabel('Number of Applications')\n",
    "ax.set_xticklabels(outcomes)\n",
    "sns.set_palette('colorblind')\n",
    "plt.show()"
   ]
  },
  {
   "cell_type": "code",
   "execution_count": null,
   "metadata": {
    "collapsed": false
   },
   "outputs": [],
   "source": []
  },
  {
   "cell_type": "code",
   "execution_count": null,
   "metadata": {
    "collapsed": true
   },
   "outputs": [],
   "source": []
  }
 ],
 "metadata": {
  "kernelspec": {
   "display_name": "Python 3",
   "language": "python",
   "name": "python3"
  },
  "language_info": {
   "codemirror_mode": {
    "name": "ipython",
    "version": 3
   },
   "file_extension": ".py",
   "mimetype": "text/x-python",
   "name": "python",
   "nbconvert_exporter": "python",
   "pygments_lexer": "ipython3",
   "version": "3.5.2"
  }
 },
 "nbformat": 4,
 "nbformat_minor": 0
}
